{
 "cells": [
  {
   "cell_type": "code",
   "execution_count": 111,
   "id": "ac607896-fb2d-4006-b5c0-3597ff9f7613",
   "metadata": {},
   "outputs": [],
   "source": [
    "import pandas as pd\n",
    "import numpy as np\n",
    "import matplotlib.pyplot as plt\n",
    "import seaborn as sns\n",
    "import warnings\n",
    "import os\n",
    "import requests\n",
    "from datetime import datetime\n",
    "import re\n",
    "from collections import Counter\n",
    "import math\n",
    "from tqdm import tqdm\n",
    "\n",
    "# setting pandas\n",
    "pd.set_option('display.max_columns', None)\n",
    "# pd.set_option('display.max_rows', None)\n",
    "\n",
    "# setting seaborn\n",
    "sns.set_palette('Spectral')\n",
    "sns.set_context('notebook', font_scale=1)\n",
    "sns.set_style('whitegrid')\n",
    "sns.set(rc={\"axes.facecolor\":\"#FFF9ED\",\"figure.facecolor\":\"#FFF9ED\"})\n",
    "\n",
    "warnings.filterwarnings('ignore')"
   ]
  },
  {
   "cell_type": "markdown",
   "id": "4296b396-b743-4b45-93e1-6da57d040e7a",
   "metadata": {},
   "source": [
    "# **Cleaning data**"
   ]
  },
  {
   "cell_type": "code",
   "execution_count": 112,
   "id": "030a153f-dd63-4c51-84f3-eebea210c464",
   "metadata": {},
   "outputs": [],
   "source": [
    "path = 'data kotor pemakaian fuel'\n",
    "files = os.listdir(path)\n",
    "try:\n",
    "    files.remove('.DS_Store')\n",
    "except:\n",
    "    None"
   ]
  },
  {
   "cell_type": "code",
   "execution_count": 113,
   "id": "2a746da6-79f9-4c69-8190-c79c8dd35220",
   "metadata": {},
   "outputs": [],
   "source": [
    "sheets_name = [\n",
    "    'REPORT unit OB',\n",
    "    'REPORT unit QUARRY',\n",
    "    'REPORT unit DEVELOP',\n",
    "    'REPORT unit ORE GETTING',\n",
    "    'REPORT unit DT HAUL'\n",
    "]"
   ]
  },
  {
   "cell_type": "code",
   "execution_count": 114,
   "id": "0f0f5b0f-2604-4ddd-b97a-abacb851d17b",
   "metadata": {},
   "outputs": [],
   "source": [
    "import pandas as pd\n",
    "\n",
    "# Daftar nama bulan dalam bahasa Indonesia\n",
    "bulan = [\"Januari\", \"Februari\", \"Maret\", \"April\", \"Mei\", \"Juni\", \"Juli\", \"Agustus\", \"September\", \"Oktober\", \"November\", \"Desember\"]\n",
    "\n",
    "# Nomor bulan\n",
    "nomor_bulan = list(range(1, 13))\n",
    "\n",
    "# Membuat DataFrame\n",
    "df_bulan = pd.DataFrame({\n",
    "    'Nomor Bulan': nomor_bulan,\n",
    "    'Nama Bulan': bulan\n",
    "})\n",
    "\n",
    "df_bulan['Nama Bulan'] = df_bulan['Nama Bulan'].apply(lambda x: str(x).lower())"
   ]
  },
  {
   "cell_type": "code",
   "execution_count": 115,
   "id": "87103fda-d5dc-4905-829a-fe8a6822f6d1",
   "metadata": {},
   "outputs": [
    {
     "data": {
      "text/plain": [
       "['06_cost production report juni SA - BDM 2023.xlsx',\n",
       " '05_cost production report mei SA - BDM 2023.xlsx',\n",
       " '02_cost production report februari SA - BDM 2023.xlsx',\n",
       " '03_cost production report maret SA - BDM 2023.xlsx',\n",
       " '03_cost production report maret SA - BDM 2024.xlsx',\n",
       " '04_cost production report april SA - BDM 2023.xlsx',\n",
       " '01_cost production report januari SA - BDM 2023.xlsx',\n",
       " '04_cost production report april SA - BDM 2024.xlsx',\n",
       " '01_cost production report januari SA - BDM 2024.xlsx',\n",
       " '07_cost production report juli SA - BDM 2023.xlsx']"
      ]
     },
     "execution_count": 115,
     "metadata": {},
     "output_type": "execute_result"
    }
   ],
   "source": [
    "files"
   ]
  },
  {
   "cell_type": "code",
   "execution_count": null,
   "id": "e0a92abe-2161-4343-8739-c7c12f23db70",
   "metadata": {},
   "outputs": [],
   "source": []
  },
  {
   "cell_type": "code",
   "execution_count": 116,
   "id": "0d3a2a4a-204a-4985-9178-b5d926ddd6f8",
   "metadata": {},
   "outputs": [],
   "source": [
    "__ = []\n",
    "for i in files:\n",
    "    i = i.split('~$')[-1]\n",
    "    path_file = './' + path + '/' + i\n",
    "    \n",
    "    company = i.split()[4]\n",
    "    if company == 'SA':\n",
    "        company = 'CV. SENTOSA ABADI'\n",
    "    elif company == 'APP':\n",
    "        company = 'CV. Adil Prima Perkasa'\n",
    "\n",
    "    month = df_bulan[df_bulan['Nama Bulan']==i.split()[3]]['Nomor Bulan'].unique().tolist()[0]\n",
    "    month = str(month)\n",
    "    year = i.split()[-1].split('.')[0]\n",
    "    date = '1/' + month + '/' + year\n",
    "\n",
    "    project = i.split()[-2]\n",
    "\n",
    "    _ = []\n",
    "    # baca data sesuai sheets masing-masing\n",
    "    for index, sheet in enumerate(sheets_name):\n",
    "            \n",
    "        if index < 4:\n",
    "            data = pd.read_excel(path_file, sheet_name=sheet).drop(columns=['Unnamed: 0','Unnamed: 1'])\n",
    "                \n",
    "            header1 = data[data.index==3]\n",
    "            header2 = data[data.index==4]\n",
    "            header3 = data[data.index==5]\n",
    "            data = data[data.index>=6]\n",
    "            \n",
    "            header1.fillna('', inplace=True)\n",
    "            header1 = header1.loc[3].tolist()\n",
    "            header2.fillna('', inplace=True)\n",
    "            header2 = header2.loc[4].tolist()\n",
    "            header3.fillna('', inplace=True)\n",
    "            header3 = header3.loc[5].tolist()\n",
    "            columns = []\n",
    "            \n",
    "            for h1, h2, h3 in zip(header1, header2, header3):\n",
    "                cols_name = h1 + '#' + h2 + '#' + h3\n",
    "                columns.append(cols_name)\n",
    "                \n",
    "            data.columns = columns\n",
    "            data = data.drop(columns='##')\n",
    "            data = data.dropna(axis=0)\n",
    "            data = data[['UNIT##','HOURS METER#HM#(hour)','FUEL CONSUMPTION#Fuel#(liter)']]\n",
    "            data.columns = ['equipment','hm','konsumsi']\n",
    "            data['retase'] = 0\n",
    "            data['produksi'] = 0\n",
    "            data['production'] = sheet\n",
    "        else:\n",
    "            data = pd.read_excel(path_file, sheet_name=sheet).drop(columns=['Unnamed: 0','Unnamed: 1'])\n",
    "            header1 = data[data.index==3]\n",
    "            header2 = data[data.index==4]\n",
    "            header3 = data[data.index==5]\n",
    "            data = data[data.index>=6]\n",
    "            \n",
    "            header1.fillna('', inplace=True)\n",
    "            header1 = header1.loc[3].tolist()\n",
    "            header2.fillna('', inplace=True)\n",
    "            header2 = header2.loc[4].tolist()\n",
    "            header3.fillna('', inplace=True)\n",
    "            header3 = header3.loc[5].tolist()\n",
    "            columns = []\n",
    "            \n",
    "            for h1, h2, h3 in zip(header1, header2, header3):\n",
    "                cols_name = h1 + '#' + h2 + '#' + h3\n",
    "                columns.append(cols_name)\n",
    "                \n",
    "            data.columns = columns\n",
    "            data = data.drop(columns='##')\n",
    "\n",
    "            try:\n",
    "                data = data.drop(columns='WEEK##')\n",
    "            except:\n",
    "                data = data\n",
    "                \n",
    "            data = data.dropna(axis=0)\n",
    "            data = data[['UNIT##','TONNAGE#Weight Bridge#Tonnage','##Retase','FUEL CONSUMPTION#Fuel#(liter)']]\n",
    "            data.columns = ['equipment','produksi','retase','konsumsi']\n",
    "            data['hm'] = 0\n",
    "            data['production'] = sheet\n",
    "        \n",
    "            \n",
    "        data['company'] = company\n",
    "        data['date'] = date\n",
    "        data['project'] = project\n",
    "        _.append(data)\n",
    "\n",
    "    \n",
    "    data = pd.concat(_)[['date','company','project','production','equipment','hm','produksi','retase','konsumsi']]\n",
    "    __.append(data)\n",
    "\n",
    "data = pd.concat(__)"
   ]
  },
  {
   "cell_type": "code",
   "execution_count": null,
   "id": "0cab1f6f-9613-4b09-8dc1-a036d4efdb19",
   "metadata": {},
   "outputs": [],
   "source": []
  },
  {
   "cell_type": "code",
   "execution_count": null,
   "id": "ddf381cd-0d61-4e93-ac7f-227a186add7a",
   "metadata": {},
   "outputs": [],
   "source": []
  },
  {
   "cell_type": "code",
   "execution_count": null,
   "id": "8792ac3f-745c-4eb8-a9b2-d96b8e004272",
   "metadata": {},
   "outputs": [],
   "source": []
  },
  {
   "cell_type": "code",
   "execution_count": 117,
   "id": "498b89c3-907b-463b-9705-baa8acfc3753",
   "metadata": {},
   "outputs": [
    {
     "data": {
      "text/plain": [
       "['1/1/2023',\n",
       " '1/1/2024',\n",
       " '1/2/2023',\n",
       " '1/3/2023',\n",
       " '1/3/2024',\n",
       " '1/4/2023',\n",
       " '1/4/2024',\n",
       " '1/5/2023',\n",
       " '1/6/2023',\n",
       " '1/7/2023']"
      ]
     },
     "execution_count": 117,
     "metadata": {},
     "output_type": "execute_result"
    }
   ],
   "source": [
    "data[data.company=='CV. SENTOSA ABADI'].sort_values('date', ascending=True).date.unique().tolist()"
   ]
  },
  {
   "cell_type": "code",
   "execution_count": null,
   "id": "fb9c164b-bf3b-4b11-af22-e341e4d407bd",
   "metadata": {},
   "outputs": [],
   "source": []
  },
  {
   "cell_type": "code",
   "execution_count": null,
   "id": "5de0711f-3079-419c-8f0d-dd91a55a9150",
   "metadata": {},
   "outputs": [],
   "source": []
  },
  {
   "cell_type": "code",
   "execution_count": null,
   "id": "36eebe10-7cd7-4d0f-94e2-f61b11a259d4",
   "metadata": {},
   "outputs": [],
   "source": []
  },
  {
   "cell_type": "code",
   "execution_count": 16,
   "id": "710c63df-a4eb-48e4-9d09-e7dea585b8b3",
   "metadata": {},
   "outputs": [],
   "source": [
    "data['equipment'] = data['equipment'].apply(lambda x: ' '.join(str(x).upper().split()))\n",
    "data['eq1'] = data.equipment.apply(lambda x: ' '.join(str(x).split()[:2]))\n",
    "data['eq2'] = data.equipment.apply(lambda x: str(x).split()[-1])\n",
    "\n",
    "def get_eq3(x):\n",
    "    try:\n",
    "        msg = x.split()[2]\n",
    "    except:\n",
    "        msg = x.split()[-1]\n",
    "    return msg\n",
    "data['eq3'] = data.equipment.apply(get_eq3)\n",
    "\n",
    "def retext_hongyan(x):\n",
    "    if x.split()[0] == 'HONGYANG':\n",
    "        msg = 'HONGYAN 430'\n",
    "    else:\n",
    "        msg = x\n",
    "    return msg\n",
    "\n",
    "data['eq1'] = data['eq1'].apply(retext_hongyan)"
   ]
  },
  {
   "cell_type": "code",
   "execution_count": null,
   "id": "3e534335-eaa6-4518-9585-4de397277a27",
   "metadata": {},
   "outputs": [],
   "source": []
  },
  {
   "cell_type": "code",
   "execution_count": null,
   "id": "14b0c4fa-c2b7-4b6c-bbe4-3b894c768150",
   "metadata": {},
   "outputs": [],
   "source": []
  },
  {
   "cell_type": "code",
   "execution_count": 17,
   "id": "6c06cd20-747f-4899-8f24-e3678a97f3e5",
   "metadata": {},
   "outputs": [],
   "source": [
    "def get_name(eq1, eq2, eq3):\n",
    "    if eq1 == 'KOMATSU PC':\n",
    "        msg = 'PC' + eq3 + '-' + eq2\n",
    "        msg_ = 'KOMATSU PC' + eq3\n",
    "        \n",
    "    elif eq1 == 'KOMATSU HM':\n",
    "        msg = 'HM' + eq3 + '-' + eq2\n",
    "        msg_ = 'KOMATSU HM' + eq3\n",
    "    \n",
    "    elif eq1 == 'KOMATSU DOZER':\n",
    "        msg = eq3[:3] + '-' + eq2\n",
    "        msg_ = 'KOMATSU ' + eq3[:3]\n",
    "        \n",
    "    elif eq1 == 'SAKAI -':\n",
    "        msg = ''.join(eq1.split()) + eq2\n",
    "        msg_ = 'SAKAI SV'\n",
    "    \n",
    "    elif eq1 == 'KOBELCO SK':\n",
    "        msg = 'SK' + eq3 + '-' + eq2\n",
    "        msg_ = 'KOBELCO SK' + eq3\n",
    "    \n",
    "    elif eq1 == 'DT HINO' or eq1 == 'HINO 700':\n",
    "        msg = 'DT-' + eq2\n",
    "        if int(eq2) < 310:\n",
    "            msg_ = 'HINO ' + 'ZS'\n",
    "        else:\n",
    "            msg_ = 'HINO ' + 'ZY'\n",
    "        \n",
    "    elif eq1 == 'KOMATSU SK':\n",
    "        msg = 'SK' + eq3 + '-' + eq2\n",
    "        msg_ = 'KOBELCO SK' + eq3\n",
    "        \n",
    "    elif eq1 == 'GRADER GD535':\n",
    "        msg = 'GD-' + eq2\n",
    "        msg_ = 'KOMATSU GD'\n",
    "    \n",
    "    elif eq1 == 'LOADER WA380' or eq1 == 'LOADER -':\n",
    "        msg = 'LOADER-' + eq2\n",
    "        msg_ = 'KOMATSU LOADER'\n",
    "\n",
    "    elif eq1 == 'HONGYAN 430':\n",
    "        msg = 'DT-' + eq2\n",
    "        msg_ = 'HONGYAN KINKAN430'\n",
    "        \n",
    "    else:\n",
    "        None\n",
    "\n",
    "    msg = {'equipment_name':[msg_], 'name':[msg]}\n",
    "    return msg"
   ]
  },
  {
   "cell_type": "code",
   "execution_count": 18,
   "id": "9cea5acb-a94e-48df-8eef-1ff4f4e1ff37",
   "metadata": {},
   "outputs": [],
   "source": [
    "data['name'] = data.apply(lambda x: get_name(x.eq1, x.eq2, x.eq3)['name'][0], axis=1)\n",
    "data['equipment_name'] = data.apply(lambda x: get_name(x.eq1, x.eq2, x.eq3)['equipment_name'][0], axis=1)\n",
    "data = data[['date','company','project','production','equipment_name','name','hm','produksi','retase','konsumsi']]"
   ]
  },
  {
   "cell_type": "code",
   "execution_count": 19,
   "id": "e8b2da96-5e63-4007-9ce8-aa72e7b7e830",
   "metadata": {},
   "outputs": [],
   "source": [
    "def retext_production(x):\n",
    "    if x == 'REPORT unit OB':\n",
    "        msg = 'Stripping Overburden'\n",
    "    elif x == 'REPORT unit QUARRY':\n",
    "        msg = 'Quarry Mined'\n",
    "    elif x == 'REPORT unit ORE GETTING':\n",
    "        msg = 'Ore Getting'\n",
    "    elif x == 'REPORT unit DT HAUL':\n",
    "        msg = 'Hauling Ore'\n",
    "    else:\n",
    "        msg = 'Development'\n",
    "    return msg"
   ]
  },
  {
   "cell_type": "code",
   "execution_count": 20,
   "id": "c7b4e899-48c8-4a65-a8e1-b21fafc83cd9",
   "metadata": {},
   "outputs": [],
   "source": [
    "data['production'] = data.production.apply(retext_production)"
   ]
  },
  {
   "cell_type": "code",
   "execution_count": 21,
   "id": "da214a58-f47e-4204-a38c-064407941e58",
   "metadata": {},
   "outputs": [],
   "source": [
    "data.to_excel('data pemakaian fuel.xlsx', index=False)"
   ]
  },
  {
   "cell_type": "code",
   "execution_count": null,
   "id": "595409cb-a483-41ad-b697-bb2527c7aee4",
   "metadata": {},
   "outputs": [],
   "source": []
  },
  {
   "cell_type": "code",
   "execution_count": null,
   "id": "a8721bec-e859-437a-a381-a959f1da4b75",
   "metadata": {},
   "outputs": [],
   "source": []
  },
  {
   "cell_type": "code",
   "execution_count": 22,
   "id": "320b236d-e431-448d-b2e0-7a490b1922b1",
   "metadata": {},
   "outputs": [
    {
     "data": {
      "text/plain": [
       "array(['CV. Adil Prima Perkasa'], dtype=object)"
      ]
     },
     "execution_count": 22,
     "metadata": {},
     "output_type": "execute_result"
    }
   ],
   "source": [
    "data[data.date=='1/1/2024'].company.unique()"
   ]
  },
  {
   "cell_type": "code",
   "execution_count": 24,
   "id": "7507cf8e-f722-491e-930a-04e5622d9ebe",
   "metadata": {},
   "outputs": [
    {
     "data": {
      "text/plain": [
       "['1/4/2023', '1/5/2023', '1/6/2023', '1/7/2023']"
      ]
     },
     "execution_count": 24,
     "metadata": {},
     "output_type": "execute_result"
    }
   ],
   "source": [
    "data[data.company=='CV. SENTOSA ABADI'].sort_values('date', ascending=True).date.unique().tolist()"
   ]
  },
  {
   "cell_type": "code",
   "execution_count": null,
   "id": "8184db99-f425-4b46-a9d1-37748b4d750f",
   "metadata": {},
   "outputs": [],
   "source": []
  },
  {
   "cell_type": "code",
   "execution_count": null,
   "id": "e27a4ad8-eca7-49ad-8519-fa5da077ebb5",
   "metadata": {},
   "outputs": [],
   "source": []
  },
  {
   "cell_type": "code",
   "execution_count": null,
   "id": "eb4551fd-e399-430e-9825-6480e2ee3a21",
   "metadata": {},
   "outputs": [],
   "source": []
  },
  {
   "cell_type": "code",
   "execution_count": null,
   "id": "c8352f3b-ab30-41ad-bd9d-ae9af5ebcce9",
   "metadata": {},
   "outputs": [],
   "source": []
  }
 ],
 "metadata": {
  "kernelspec": {
   "display_name": "Python 3 (ipykernel)",
   "language": "python",
   "name": "python3"
  },
  "language_info": {
   "codemirror_mode": {
    "name": "ipython",
    "version": 3
   },
   "file_extension": ".py",
   "mimetype": "text/x-python",
   "name": "python",
   "nbconvert_exporter": "python",
   "pygments_lexer": "ipython3",
   "version": "3.11.0"
  }
 },
 "nbformat": 4,
 "nbformat_minor": 5
}
