{
 "cells": [
  {
   "cell_type": "code",
   "execution_count": 1,
   "id": "13132eb2-7433-49aa-ba42-04c6b56a1b47",
   "metadata": {},
   "outputs": [],
   "source": [
    "import pandas as pd\n",
    "import numpy as np\n",
    "import matplotlib.pyplot as plt\n",
    "import seaborn as sns\n",
    "import warnings\n",
    "import os\n",
    "import requests\n",
    "from datetime import datetime\n",
    "import re\n",
    "from collections import Counter\n",
    "import math\n",
    "from tqdm import tqdm\n",
    "\n",
    "# setting pandas\n",
    "pd.set_option('display.max_columns', None)\n",
    "# pd.set_option('display.max_rows', None)\n",
    "\n",
    "# setting seaborn\n",
    "sns.set_palette('Spectral')\n",
    "sns.set_context('notebook', font_scale=1)\n",
    "sns.set_style('whitegrid')\n",
    "sns.set(rc={\"axes.facecolor\":\"#FFF9ED\",\"figure.facecolor\":\"#FFF9ED\"})\n",
    "\n",
    "warnings.filterwarnings('ignore')"
   ]
  },
  {
   "cell_type": "markdown",
   "id": "c93d54c9-a7d4-448e-b520-a07695ff5f50",
   "metadata": {},
   "source": [
    "# Data Anna "
   ]
  },
  {
   "cell_type": "code",
   "execution_count": 2,
   "id": "aa9929f0-2bfd-4152-87ff-c76a3407ebdb",
   "metadata": {},
   "outputs": [],
   "source": [
    "path = 'data kak anna'\n",
    "\n",
    "# tarik list data\n",
    "try:\n",
    "    files = os.listdir(path)\n",
    "    files.remove('.DS_Store')\n",
    "except:\n",
    "    None\n",
    "\n",
    "_ = []\n",
    "for i in files:\n",
    "    names = path + '/' + i\n",
    "    data = pd.read_excel(names, sheet_name='Database')\n",
    "    _.append(data)\n",
    "\n",
    "df = pd.concat(_)\n",
    "df.columns = ['_'.join(i.lower().split()) for i in df.columns]"
   ]
  },
  {
   "cell_type": "code",
   "execution_count": 3,
   "id": "9ee15bba-87c7-4625-87a2-05809e739fde",
   "metadata": {},
   "outputs": [],
   "source": [
    "def get_id_truck(x):\n",
    "    try:\n",
    "        msg = str(x).split()[0]\n",
    "    except:\n",
    "        msg = x\n",
    "    return msg\n",
    "\n",
    "df['truck_id2'] = df.truck_id.apply(get_id_truck)"
   ]
  },
  {
   "cell_type": "code",
   "execution_count": 4,
   "id": "02585836-04d4-4e34-99df-759b27779ccb",
   "metadata": {},
   "outputs": [],
   "source": [
    "# kode G untuk Mining KBM\n",
    "# kode C untuk Rental BDM / Mining BDM\n",
    "\n",
    "def get_kontrak(x):\n",
    "    if x == 'G':\n",
    "        msg = 'Mining KBM'\n",
    "    elif x == 'C':\n",
    "        msg = 'Mining BDM'\n",
    "    else:\n",
    "        msg = x\n",
    "    return msg\n",
    "\n",
    "df['project'] = df.truck_id2.apply(get_kontrak)"
   ]
  },
  {
   "cell_type": "code",
   "execution_count": 5,
   "id": "58aab815-4a9b-4d15-93dd-cdcb00616535",
   "metadata": {},
   "outputs": [],
   "source": [
    "def get_move_type(x):\n",
    "    if x == 'KBMP':\n",
    "        msg = 'KBM - PABRIK'\n",
    "    elif x == 'KM7P':\n",
    "        msg = 'KM 7 - PABRIK'\n",
    "    elif x == 'BLOK8P' or x == 'BLOK8 - PABRIK':\n",
    "        msg = 'BLOK 8 - PABRIK'\n",
    "    elif x == 'BLOK8KM7':\n",
    "        msg = 'BLOK 8 - KM 7'\n",
    "    else:\n",
    "        msg = 'Unknown'\n",
    "    return msg\n",
    "\n",
    "df['move_type'] = df.movetype.apply(get_move_type)"
   ]
  },
  {
   "cell_type": "code",
   "execution_count": 6,
   "id": "7547ef75-35c5-4671-8976-6984920a1c99",
   "metadata": {},
   "outputs": [],
   "source": [
    "df = df[['date_in','lokasi','production','project','move_type','truck_id','fuel']]"
   ]
  },
  {
   "cell_type": "code",
   "execution_count": 7,
   "id": "8dfd1ba9-2c63-47d8-a333-df8592a43808",
   "metadata": {},
   "outputs": [],
   "source": [
    "df.columns = ['date','lokasi','lokasi1','production','project','move_type','name','fuel']\n",
    "\n",
    "df['fuel'].fillna(0, inplace=True)\n",
    "df['name'].fillna('Unknown', inplace=True)\n",
    "df['lokasi'].fillna('Unknown', inplace=True)\n",
    "df['lokasi'] = df['lokasi'].apply(lambda x: str(x).upper())\n",
    "\n",
    "df['production'].fillna('Unknown', inplace=True)\n",
    "df['date'].fillna('Unknown', inplace=True)\n",
    "\n",
    "df.drop(columns='lokasi1', inplace=True)\n",
    "df.reset_index(drop=True, inplace=True)"
   ]
  },
  {
   "cell_type": "code",
   "execution_count": 8,
   "id": "83b3ab3d-fb1b-47f0-aa55-b86241bec135",
   "metadata": {},
   "outputs": [],
   "source": [
    "def retext_lokasi(x):\n",
    "    if x in ['KBM','KBM - PABRIK HONGYAN','KBM - PABRIK H700']:\n",
    "        mt = 'KBM - PABRIK'\n",
    "        project = 'Mining KBM'\n",
    "    elif x in ['KBM KM7-PABRIK HINO 700+']:\n",
    "        mt = 'KM 7 - PABRIK'\n",
    "        project = 'Mining KBM'\n",
    "    elif x in ['KBM - KM7 HINO 700+','KBM - KM7 HONGYAN','KBM KM7-PABRIK HINO 700']:\n",
    "        mt = 'KBM - KM 7'\n",
    "        project = 'Mining KBM'\n",
    "    elif x in ['BLOK 8 - KM7 H700','BLOK 8 - KM7','BLOK 8 - KM7 HONGYAN']:\n",
    "        mt = 'BLOK 8 - KM 7'\n",
    "        project = 'Mining BDM'\n",
    "    elif x in ['BLOK 8 KONTRAK','BLOK 8 - PABRIK']:\n",
    "        mt = 'BLOK 8 - PABRIK'\n",
    "        project = 'Mining BDM'\n",
    "    elif x in ['BLOK 5 - PABRIK','BLOK 5 - PABRIK H700+']:\n",
    "        mt = 'BLOK 5 - PABRIK'\n",
    "        project = 'Mining BDM'\n",
    "    elif x in ['BLOK5 - SOCKPILEKM7 700','BLOK5 - SOCKPILEKM7 700+']:\n",
    "        mt = 'BLOK 5 - KM 7'\n",
    "        project = 'Mining BDM'\n",
    "    else:\n",
    "        mt = 'Unknown'\n",
    "        project = 'Unknown'\n",
    "\n",
    "    msg = {'mt':mt, 'project':project}\n",
    "    return msg\n",
    "\n",
    "df['project2'] = df['lokasi'].apply(lambda x: retext_lokasi(x)['project'])\n",
    "df['lokasi'] = df['lokasi'].apply(lambda x: retext_lokasi(x)['mt'])"
   ]
  },
  {
   "cell_type": "code",
   "execution_count": 9,
   "id": "42fdd186-1253-4e10-aadd-29b8dbc59fcf",
   "metadata": {},
   "outputs": [],
   "source": [
    "def retext_name(x):\n",
    "    try:\n",
    "        msg = 'DT-' + x.split()[-1]\n",
    "    except:\n",
    "        msg = 'DT-Unknown'\n",
    "    return msg\n",
    "\n",
    "df['name'] = df.name.apply(retext_name)\n",
    "df = df[df.name!='DT-Unknown']"
   ]
  },
  {
   "cell_type": "code",
   "execution_count": 10,
   "id": "76097f8c-1f83-4b49-80cb-476ff049e67b",
   "metadata": {},
   "outputs": [],
   "source": [
    "def retext_date(x):\n",
    "    x = str(x).split()[0]\n",
    "    years = x.split('-')[0]\n",
    "    month = x.split('-')[1]\n",
    "    day = x.split('-')[-1]\n",
    "\n",
    "    date = day + '/' + month + '/' + years\n",
    "    return date\n",
    "    \n",
    "# df['date'] = df['date'].apply(retext_date)"
   ]
  },
  {
   "cell_type": "code",
   "execution_count": 11,
   "id": "d16586f8-05cf-47d6-be4f-60b1ae095bbc",
   "metadata": {},
   "outputs": [],
   "source": [
    "df = df[['date','project','project2','production','move_type','lokasi','name','fuel']]"
   ]
  },
  {
   "cell_type": "code",
   "execution_count": 12,
   "id": "91c2533b-05d6-4af0-92b5-5654c5da2006",
   "metadata": {},
   "outputs": [],
   "source": [
    "df['production'] = 'Hauling Ore'"
   ]
  },
  {
   "cell_type": "code",
   "execution_count": 13,
   "id": "afcde97d-eeea-42ea-a0f6-8c4f83492003",
   "metadata": {},
   "outputs": [],
   "source": [
    "df = df[df.fuel!=0]"
   ]
  },
  {
   "cell_type": "code",
   "execution_count": 14,
   "id": "60c7be18-ebea-4647-8c89-e62c269cda8c",
   "metadata": {},
   "outputs": [],
   "source": [
    "def retext_fuel(x):\n",
    "    try:\n",
    "        msg = float(x)\n",
    "    except:\n",
    "        msg = 0\n",
    "    return msg"
   ]
  },
  {
   "cell_type": "code",
   "execution_count": 15,
   "id": "c7066f69-a41d-4dea-aa54-11134313ffe0",
   "metadata": {},
   "outputs": [],
   "source": [
    "df['fuel'] = df['fuel'].apply(retext_fuel)\n",
    "df = df[df.fuel!=0]"
   ]
  },
  {
   "cell_type": "code",
   "execution_count": 16,
   "id": "1471a832-3334-44ae-b3fa-0923eafb88d9",
   "metadata": {},
   "outputs": [],
   "source": [
    "df = df[['date','project','production','lokasi','name','fuel']].rename(columns={'lokasi':'move_type'})"
   ]
  },
  {
   "cell_type": "code",
   "execution_count": 17,
   "id": "bd2ad18f-ede6-466c-96a0-66b5eda8b771",
   "metadata": {},
   "outputs": [],
   "source": [
    "df['date'] = pd.to_datetime(df.date).dt.date\n",
    "df['date'] = df['date'].apply(lambda x: str(x))"
   ]
  },
  {
   "cell_type": "code",
   "execution_count": null,
   "id": "6569f296-4a10-4ef7-998e-6fb3fce8bff2",
   "metadata": {},
   "outputs": [],
   "source": []
  },
  {
   "cell_type": "code",
   "execution_count": 18,
   "id": "380c9127-4464-434d-8980-9af7624f6d5b",
   "metadata": {},
   "outputs": [],
   "source": [
    "path_ts = '/Users/dickyaryanto/Documents/PT Sentosa Abadi Mining/Data/production timesheet/'\n",
    "ts_files = os.listdir(path_ts)\n",
    "try:\n",
    "    ts_files.remove('.DS_Store')\n",
    "except:\n",
    "    None\n",
    "\n",
    "_ = []\n",
    "for i in ts_files:\n",
    "    data = pd.read_excel(path_ts + '/' + i)\n",
    "    _.append(data)\n",
    "ts = pd.concat(_)\n",
    "ts = ts[['Date','Project/Name','Move Type','Production','Equipment','HM Engine Start']]\n",
    "ts.columns = ['date','project','move_type','production','name','hm_start']\n",
    "ts['name'] = ts['name'].apply(lambda x: str(x).split('/')[0])"
   ]
  },
  {
   "cell_type": "code",
   "execution_count": 19,
   "id": "99ab26f6-fe8c-413e-af4e-7f51887abdf8",
   "metadata": {},
   "outputs": [],
   "source": [
    "ts = ts[(ts.production.isin(['Hauling Ore'])) & (ts.project.isin(['Mining KBM','Mining BDM']))]\n",
    "ts['date'] = pd.to_datetime(ts['date']).dt.date\n",
    "ts['date'] = ts['date'].apply(lambda x: str(x))"
   ]
  },
  {
   "cell_type": "code",
   "execution_count": 20,
   "id": "98aea7dc-ade3-4872-ab84-b90a64449fb0",
   "metadata": {},
   "outputs": [],
   "source": [
    "ts['id'] = ts.date + '#' + ts.name\n",
    "df['id'] = df.date + '#' + df.name"
   ]
  },
  {
   "cell_type": "code",
   "execution_count": null,
   "id": "9fb9bb16-c0a6-4221-af8d-96c36da797a5",
   "metadata": {},
   "outputs": [],
   "source": []
  },
  {
   "cell_type": "code",
   "execution_count": 21,
   "id": "31c93b94-8d44-4564-b817-7d85c133ef2a",
   "metadata": {},
   "outputs": [],
   "source": [
    "df = df.drop_duplicates().merge(ts[['id','hm_start']].drop_duplicates(), on='id', how='left')"
   ]
  },
  {
   "cell_type": "code",
   "execution_count": 22,
   "id": "0055b55e-8b38-4b94-bbf8-a679462ce71a",
   "metadata": {},
   "outputs": [],
   "source": [
    "df = df.dropna(axis=0)"
   ]
  },
  {
   "cell_type": "code",
   "execution_count": 23,
   "id": "22eec18d-62d0-4b66-80f7-86702d7927fe",
   "metadata": {},
   "outputs": [],
   "source": [
    "df.drop(columns='id', inplace=True)"
   ]
  },
  {
   "cell_type": "code",
   "execution_count": 24,
   "id": "11d300b7-d202-4d53-8b1d-94b447d205a8",
   "metadata": {},
   "outputs": [],
   "source": [
    "df = df.drop_duplicates(subset=['date','project','production','move_type','name','fuel'])"
   ]
  },
  {
   "cell_type": "code",
   "execution_count": 25,
   "id": "b1401d11-120b-492b-868b-8e5c96f1cd8f",
   "metadata": {},
   "outputs": [],
   "source": [
    "df['my'] = pd.to_datetime(df.date).dt.strftime('%m/%y')"
   ]
  },
  {
   "cell_type": "code",
   "execution_count": null,
   "id": "b3b179dc-0d8d-44b3-95c6-76222cc3f221",
   "metadata": {},
   "outputs": [],
   "source": []
  },
  {
   "cell_type": "code",
   "execution_count": null,
   "id": "1b86c98a-fe69-4091-8caa-294ffee2ad93",
   "metadata": {},
   "outputs": [],
   "source": []
  },
  {
   "cell_type": "code",
   "execution_count": 26,
   "id": "b508d32b-2f68-4d8c-b8eb-a9d15cf3c049",
   "metadata": {},
   "outputs": [],
   "source": [
    "fc_all = df[(df.my.isin(['08/23','09/23','10/23','11/23','12/23']))]"
   ]
  },
  {
   "cell_type": "code",
   "execution_count": 27,
   "id": "fd4ab36a-20a3-49d9-944c-d2ace5838735",
   "metadata": {},
   "outputs": [],
   "source": [
    "fc_all['date'] = fc_all['date'].apply(retext_date)"
   ]
  },
  {
   "cell_type": "code",
   "execution_count": null,
   "id": "07f73fcf-7d1b-4032-8da9-3321e1416f27",
   "metadata": {},
   "outputs": [],
   "source": []
  },
  {
   "cell_type": "code",
   "execution_count": null,
   "id": "0639f94a-da97-41f5-8cbc-a8f70c1d3dd7",
   "metadata": {},
   "outputs": [],
   "source": []
  },
  {
   "cell_type": "code",
   "execution_count": 28,
   "id": "22f0c031-1603-4923-abeb-9822ec878eb1",
   "metadata": {},
   "outputs": [],
   "source": [
    "# df.to_excel('./data kak anna/data clean kak ann.xlsx', index=False)"
   ]
  },
  {
   "cell_type": "markdown",
   "id": "87d301e2-3702-40c5-a881-5865e56f9ae9",
   "metadata": {
    "jp-MarkdownHeadingCollapsed": true
   },
   "source": [
    "# Data Putri"
   ]
  },
  {
   "cell_type": "code",
   "execution_count": null,
   "id": "70196038-c94c-4a4e-a790-aa2b5a162b5d",
   "metadata": {},
   "outputs": [],
   "source": []
  }
 ],
 "metadata": {
  "kernelspec": {
   "display_name": "Python 3 (ipykernel)",
   "language": "python",
   "name": "python3"
  },
  "language_info": {
   "codemirror_mode": {
    "name": "ipython",
    "version": 3
   },
   "file_extension": ".py",
   "mimetype": "text/x-python",
   "name": "python",
   "nbconvert_exporter": "python",
   "pygments_lexer": "ipython3",
   "version": "3.11.0"
  }
 },
 "nbformat": 4,
 "nbformat_minor": 5
}
