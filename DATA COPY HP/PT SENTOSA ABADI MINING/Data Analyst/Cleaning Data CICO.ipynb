{
 "cells": [
  {
   "cell_type": "code",
   "execution_count": 12,
   "id": "d138929f-f3cb-4df6-87da-bf06cc88104b",
   "metadata": {},
   "outputs": [],
   "source": [
    "import pandas as pd\n",
    "import numpy as np\n",
    "import matplotlib.pyplot as plt\n",
    "import seaborn as sns\n",
    "import warnings\n",
    "import os\n",
    "import requests\n",
    "from datetime import datetime\n",
    "import re\n",
    "from collections import Counter\n",
    "import math\n",
    "from tqdm import tqdm\n",
    "\n",
    "# setting pandas\n",
    "pd.set_option('display.max_columns', None)\n",
    "# pd.set_option('display.max_rows', None)\n",
    "\n",
    "# setting seaborn\n",
    "sns.set_palette('Spectral')\n",
    "sns.set_context('notebook', font_scale=1)\n",
    "sns.set_style('whitegrid')\n",
    "sns.set(rc={\"axes.facecolor\":\"#FFF9ED\",\"figure.facecolor\":\"#FFF9ED\"})\n",
    "\n",
    "warnings.filterwarnings('ignore')"
   ]
  },
  {
   "cell_type": "code",
   "execution_count": 13,
   "id": "61e0deab-912a-462b-95e6-776b8e0debc2",
   "metadata": {},
   "outputs": [],
   "source": [
    "files = [\n",
    "    './data kotor cico/cico.xlsx'\n",
    "]\n",
    "\n",
    "_ = []\n",
    "for i in files:\n",
    "    n = pd.read_excel(i)\n",
    "    _.append(n)\n",
    "\n",
    "df = pd.concat(_)"
   ]
  },
  {
   "cell_type": "code",
   "execution_count": 14,
   "id": "8950a3cd-1806-4148-922b-24071a0c2fe1",
   "metadata": {},
   "outputs": [],
   "source": [
    "df['id_unit'] = df['id_unit'].apply(lambda x: 'DT-' + ''.join(str(x).upper().split('*')).split()[-1])"
   ]
  },
  {
   "cell_type": "code",
   "execution_count": 15,
   "id": "5a15dabe-59ff-4174-aed4-a9d6c014cca5",
   "metadata": {},
   "outputs": [],
   "source": [
    "def retext_project(x):\n",
    "    if x in ['Rental BDM','Rental BDM Stockpile','Feeding']:\n",
    "        msg = 'Rental BDM'\n",
    "    else:\n",
    "        msg = x\n",
    "    return msg\n",
    "\n",
    "df['kontrak'] = df['kontrak'].apply(retext_project)"
   ]
  },
  {
   "cell_type": "code",
   "execution_count": 16,
   "id": "65bc5a37-7eda-4eda-b0d9-c137bd7fa832",
   "metadata": {},
   "outputs": [],
   "source": [
    "# def retext_date(x):\n",
    "#     x = str(x).split()[0]\n",
    "#     years = str(x).split('-')[0]\n",
    "#     month = str(x).split('-')[1]\n",
    "#     day = str(x).split('-')[2]\n",
    "#     date = month + '/' + day + '/' + years\n",
    "#     return date\n",
    "\n",
    "# df['date'] = df['date'].apply(retext_date)\n",
    "df['date'] = pd.to_datetime(df['date'])"
   ]
  },
  {
   "cell_type": "code",
   "execution_count": null,
   "id": "4a2fa52a-1628-4f91-830b-aad47c38ee64",
   "metadata": {},
   "outputs": [],
   "source": []
  },
  {
   "cell_type": "code",
   "execution_count": null,
   "id": "c3d37a05-7bba-445d-b3a3-b02fe51b7bd5",
   "metadata": {},
   "outputs": [],
   "source": []
  },
  {
   "cell_type": "code",
   "execution_count": null,
   "id": "6a21c743-c98d-448a-a66f-275f1013c266",
   "metadata": {},
   "outputs": [],
   "source": []
  },
  {
   "cell_type": "code",
   "execution_count": null,
   "id": "1eaaf120-355e-4ef3-926b-4c6ba580ad3b",
   "metadata": {},
   "outputs": [],
   "source": []
  },
  {
   "cell_type": "code",
   "execution_count": 18,
   "id": "54268a95-f85e-475d-aad9-e9c48919929c",
   "metadata": {},
   "outputs": [],
   "source": [
    "def retext_time(x):\n",
    "    time = ':'.join(str(x).split(':')[:2])\n",
    "    return time\n",
    "\n",
    "df['check_in'] = df['check_in'].apply(retext_time)\n",
    "df['check_out'] = df['check_out'].apply(retext_time)"
   ]
  },
  {
   "cell_type": "code",
   "execution_count": 19,
   "id": "ec7f8ae6-2238-4d08-8fb2-25a1f4c40bba",
   "metadata": {},
   "outputs": [],
   "source": [
    "df['keterangan'] = df['keterangan'].apply(lambda x: str(x).upper())"
   ]
  },
  {
   "cell_type": "code",
   "execution_count": 20,
   "id": "e5910623-361b-41b3-98e7-2373ff966693",
   "metadata": {},
   "outputs": [],
   "source": [
    "df.to_excel('./data kotor cico/cico python.xlsx', index=False)"
   ]
  },
  {
   "cell_type": "code",
   "execution_count": null,
   "id": "3a850fca-b70d-4b81-9852-19f87fa35443",
   "metadata": {},
   "outputs": [],
   "source": []
  },
  {
   "cell_type": "code",
   "execution_count": 22,
   "id": "e3049607-778d-4533-ace1-de431058a35a",
   "metadata": {},
   "outputs": [],
   "source": [
    "df['check_out2'] = df.check_out.apply(lambda x: str(x).split(':')[0])"
   ]
  },
  {
   "cell_type": "code",
   "execution_count": 25,
   "id": "d4194f9a-39a2-47b5-958a-33a3358c3ad1",
   "metadata": {},
   "outputs": [
    {
     "data": {
      "image/png": "[encoded data removed]",
      "text/plain": [
       "<Figure size 1500x500 with 1 Axes>"
      ]
     },
     "metadata": {},
     "output_type": "display_data"
    }
   ],
   "source": [
    "plt.figure(figsize=(15, 5))\n",
    "sns.histplot(df.check_out2)\n",
    "plt.tight_layout()\n",
    "plt.show()"
   ]
  },
  {
   "cell_type": "code",
   "execution_count": null,
   "id": "527a1db3-db80-4fd7-bc7f-c52c60abf7f7",
   "metadata": {},
   "outputs": [],
   "source": []
  }
 ],
 "metadata": {
  "kernelspec": {
   "display_name": "Python 3 (ipykernel)",
   "language": "python",
   "name": "python3"
  },
  "language_info": {
   "codemirror_mode": {
    "name": "ipython",
    "version": 3
   },
   "file_extension": ".py",
   "mimetype": "text/x-python",
   "name": "python",
   "nbconvert_exporter": "python",
   "pygments_lexer": "ipython3",
   "version": "3.11.0"
  }
 },
 "nbformat": 4,
 "nbformat_minor": 5
}
