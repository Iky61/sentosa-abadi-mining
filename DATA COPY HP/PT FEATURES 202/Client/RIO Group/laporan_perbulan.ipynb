{
 "cells": [
  {
   "cell_type": "code",
   "execution_count": 1,
   "id": "e831e1a7-5dd7-4c95-aacc-246928c1b265",
   "metadata": {},
   "outputs": [],
   "source": [
    "import pandas as pd\n",
    "import numpy as np\n",
    "import matplotlib.pyplot as plt\n",
    "import seaborn as sns\n",
    "from datetime import datetime\n",
    "import requests\n",
    "from tqdm import tqdm\n",
    "\n",
    "from sklearn.preprocessing import MinMaxScaler, LabelEncoder\n",
    "from sklearn.model_selection import GridSearchCV, train_test_split\n",
    "from sklearn.pipeline import Pipeline\n",
    "from sklearn.compose import ColumnTransformer\n",
    "import os\n",
    "\n",
    "sns.set_palette('Spectral')\n",
    "sns.set_context('notebook', font_scale=1)\n",
    "sns.set_style('whitegrid')\n",
    "pd.set_option('display.max_columns', None)\n",
    "\n",
    "import warnings\n",
    "\n",
    "warnings.filterwarnings('ignore')"
   ]
  },
  {
   "cell_type": "markdown",
   "id": "bfe29d16-6253-4255-8d56-3afb326ffc49",
   "metadata": {
    "jp-MarkdownHeadingCollapsed": true,
    "tags": [],
    "toc-hr-collapsed": true
   },
   "source": [
    "# **Beberapa Fungsi Yang Dibutuhkan**"
   ]
  },
  {
   "cell_type": "markdown",
   "id": "50c8354a-c2bc-44bd-84dd-53f8e5724775",
   "metadata": {
    "jp-MarkdownHeadingCollapsed": true,
    "tags": []
   },
   "source": [
    "### **0.1.0. Untuk menempatkan koma pada 3 angka**"
   ]
  },
  {
   "cell_type": "code",
   "execution_count": 2,
   "id": "34e3e7af-054d-43bc-b659-23732cfad217",
   "metadata": {},
   "outputs": [],
   "source": [
    "def coma(value):\n",
    "    str_value = str(value)\n",
    "    separate_decimal = str_value.split(\".\")\n",
    "    after_decimal = separate_decimal[0]\n",
    "    before_decimal = separate_decimal[1]\n",
    "\n",
    "    reverse = after_decimal[::-1]\n",
    "    temp_reverse_value = \"\"\n",
    "\n",
    "    for index, val in enumerate(reverse):\n",
    "        if (index + 1) % 3 == 0 and index + 1 != len(reverse):\n",
    "            temp_reverse_value = temp_reverse_value + val + \".\"\n",
    "        else:\n",
    "            temp_reverse_value = temp_reverse_value + val\n",
    "\n",
    "    temp_result = temp_reverse_value[::-1]\n",
    "\n",
    "    return temp_result"
   ]
  },
  {
   "cell_type": "markdown",
   "id": "07e220f4-ea1c-44e6-9741-754b8f25a119",
   "metadata": {
    "jp-MarkdownHeadingCollapsed": true,
    "tags": []
   },
   "source": [
    "### **0.1.2. Fungsi curency numerik ke Rupiah**"
   ]
  },
  {
   "cell_type": "code",
   "execution_count": 3,
   "id": "f530fc50-ed99-40bd-b05c-918659fd059d",
   "metadata": {},
   "outputs": [],
   "source": [
    "def rupiah(value):\n",
    "    str_value = str(value)\n",
    "    separate_decimal = str_value.split(\".\")\n",
    "    after_decimal = separate_decimal[0]\n",
    "    before_decimal = separate_decimal[1]\n",
    "\n",
    "    reverse = after_decimal[::-1]\n",
    "    temp_reverse_value = \"\"\n",
    "\n",
    "    for index, val in enumerate(reverse):\n",
    "        if (index + 1) % 3 == 0 and index + 1 != len(reverse):\n",
    "            temp_reverse_value = temp_reverse_value + val + \".\"\n",
    "        else:\n",
    "            temp_reverse_value = temp_reverse_value + val\n",
    "\n",
    "    temp_result = temp_reverse_value[::-1]\n",
    "\n",
    "    return \"Rp \" + temp_result + \",\" + before_decimal"
   ]
  },
  {
   "cell_type": "markdown",
   "id": "f98aa06a-7967-4473-b353-777e67d58128",
   "metadata": {
    "jp-MarkdownHeadingCollapsed": true,
    "tags": []
   },
   "source": [
    "### **0.1.3. Fungsi translate hari**"
   ]
  },
  {
   "cell_type": "code",
   "execution_count": 4,
   "id": "ad65b3ee-c3fe-41f5-b36e-90587a416f40",
   "metadata": {},
   "outputs": [],
   "source": [
    "def hari(x):\n",
    "    if x == 'Monday':\n",
    "        return '1. Senin'\n",
    "    elif x == 'Tuesday':\n",
    "        return '2. Selasa'\n",
    "    elif x == 'Wednesday':\n",
    "        return '3. Rabu'\n",
    "    elif x == 'Thursday':\n",
    "        return '4. Kamis'\n",
    "    elif x == 'Friday':\n",
    "        return '5. Jumat'\n",
    "    elif x == 'Saturday':\n",
    "        return '6. Sabtu'\n",
    "    elif x == 'Sunday':\n",
    "        return '7. Minggu'"
   ]
  },
  {
   "cell_type": "markdown",
   "id": "79077aa0-ad1e-4e01-bef1-7d1fa957939a",
   "metadata": {
    "jp-MarkdownHeadingCollapsed": true,
    "tags": []
   },
   "source": [
    "### **0.1.4. Fungsi mengatur ukuran visualisasi 16:9**"
   ]
  },
  {
   "cell_type": "code",
   "execution_count": 5,
   "id": "ea0b191a-891e-4f0c-88cf-27b6119da857",
   "metadata": {},
   "outputs": [],
   "source": [
    "def wide(lebar):\n",
    "    tinggi = (lebar/16) * 9\n",
    "    return tinggi"
   ]
  },
  {
   "cell_type": "markdown",
   "id": "a64a646c-eac5-4242-bc95-10ca97387ae9",
   "metadata": {
    "jp-MarkdownHeadingCollapsed": true,
    "tags": []
   },
   "source": [
    "### **0.1.5. Fungsi membedakan pagi dan malam hari**"
   ]
  },
  {
   "cell_type": "code",
   "execution_count": 6,
   "id": "1296eef7-a82d-4bfb-b49f-d723c2f7c42e",
   "metadata": {},
   "outputs": [],
   "source": [
    "def daylight(x):\n",
    "    n = str(x)\n",
    "    n = int(n.split(':')[0])\n",
    "    if n > 18:\n",
    "        return 'Sift Malam'\n",
    "    else:\n",
    "        return 'Sift Pagi'"
   ]
  },
  {
   "cell_type": "markdown",
   "id": "d123408b-081b-4a83-b8fb-cde58d58c119",
   "metadata": {
    "jp-MarkdownHeadingCollapsed": true,
    "tags": []
   },
   "source": [
    "### **0.1.6. Fungsi transformasi list data numerik ke list data curency**"
   ]
  },
  {
   "cell_type": "code",
   "execution_count": 7,
   "id": "62ed7cc8-0b6a-48b6-9d16-ae2f586d1f97",
   "metadata": {},
   "outputs": [],
   "source": [
    "def yticks_transform(data):\n",
    "    labeln = []\n",
    "    for x in data:\n",
    "        n = rupiah(x).split(',')[0]\n",
    "        labeln.append(n)\n",
    "        \n",
    "    return labeln"
   ]
  },
  {
   "cell_type": "markdown",
   "id": "da2e6f91-c114-47af-bbef-f1e0084afa21",
   "metadata": {
    "jp-MarkdownHeadingCollapsed": true,
    "tags": []
   },
   "source": [
    "### **0.1.7 Fungsi Transform Week**"
   ]
  },
  {
   "cell_type": "code",
   "execution_count": 8,
   "id": "0cee61b1-f2c5-4578-9957-425a78ffdf5b",
   "metadata": {},
   "outputs": [],
   "source": [
    "def week_transform(x):\n",
    "    value = x%4\n",
    "    \n",
    "    if value == 0:\n",
    "        value = 1\n",
    "        return value\n",
    "    else:\n",
    "        return value"
   ]
  },
  {
   "cell_type": "markdown",
   "id": "90d3d041-a5a5-48a7-ac1c-5c8a769415a7",
   "metadata": {
    "jp-MarkdownHeadingCollapsed": true,
    "tags": []
   },
   "source": [
    "### **0.1.8. Fungsi Data Transform Waktu**"
   ]
  },
  {
   "cell_type": "code",
   "execution_count": 9,
   "id": "b8a7c3f0-364a-4322-afc4-f8378a594dac",
   "metadata": {},
   "outputs": [],
   "source": [
    "def transform_time(data):\n",
    "    data['tahun'] = pd.to_datetime(data.tanggal).dt.year\n",
    "    data['no_bulan'] = pd.to_datetime(data.tanggal).dt.month\n",
    "    data['bulan'] = pd.to_datetime(data.tanggal).dt.month_name()\n",
    "    # data['week'] = pd.to_datetime(data.tanggal).dt.week\n",
    "    # data['week'] = data.week.apply(lambda x: week_transform(x))\n",
    "    data['tgl'] = pd.to_datetime(data.tanggal).dt.day\n",
    "    data['hari'] = pd.to_datetime(data.tanggal).dt.day_name()\n",
    "    data['hari'] = data.hari.apply(lambda x: hari(x))\n",
    "    data['order'] = 1\n",
    "    return data"
   ]
  },
  {
   "cell_type": "markdown",
   "id": "4f615c56-5ba1-4915-8cf5-76d440fbc265",
   "metadata": {
    "jp-MarkdownHeadingCollapsed": true,
    "tags": []
   },
   "source": [
    "### **0.1.9. Search**"
   ]
  },
  {
   "cell_type": "code",
   "execution_count": 10,
   "id": "1c7ca3ea-097a-43e2-88d3-9a6d1cf90d40",
   "metadata": {},
   "outputs": [],
   "source": [
    "def search(word, document):\n",
    "    index = []\n",
    "    words = document.split()\n",
    "    for i, w in enumerate(words):\n",
    "        if w == word:\n",
    "            index.append(i)\n",
    "            \n",
    "    if len(index) != 0:\n",
    "        return document\n",
    "    else:\n",
    "        return 'None'\n"
   ]
  },
  {
   "cell_type": "markdown",
   "id": "4a4268f7-9b33-4252-86d5-7c0593edb0ac",
   "metadata": {
    "jp-MarkdownHeadingCollapsed": true
   },
   "source": [
    "### **0.1.10. transform data**"
   ]
  },
  {
   "cell_type": "code",
   "execution_count": 11,
   "id": "e3cf5ca0-284a-4273-90aa-e17bd723db9d",
   "metadata": {},
   "outputs": [],
   "source": [
    "def transform_data(data, branch):\n",
    "    data['tahun'] = pd.to_datetime(data.tanggal).dt.year\n",
    "    data['no_bulan'] = pd.to_datetime(data.tanggal).dt.month\n",
    "    data['bulan'] = pd.to_datetime(data.tanggal).dt.month_name()\n",
    "    data['week'] = pd.to_datetime(data.tanggal).dt.week\n",
    "    data['week'] = data.week.apply(lambda x: week_transform(x))\n",
    "    data['tgl'] = pd.to_datetime(data.tanggal).dt.day\n",
    "    data['hari'] = pd.to_datetime(data.tanggal).dt.day_name()\n",
    "    data['hari'] = data.hari.apply(lambda x: hari(x))\n",
    "    data['hour'] = pd.to_datetime(data.tanggal).dt.hour\n",
    "    data['order'] = 1\n",
    "    data['total'] = data.total - (data.total * (data.potongan/100))\n",
    "    data['branch'] = branch\n",
    "    data = data[['branch','transaksi', 'tanggal', 'tahun', 'no_bulan', 'bulan', 'week', 'tgl', 'hari', 'hour','customer',\n",
    "                'user', 'cs', 'kode_item', 'produk', 'quantity', 'satuan', 'harga', 'total', 'order']]\n",
    "    \n",
    "    return data"
   ]
  },
  {
   "cell_type": "markdown",
   "id": "1e1f62e3-0a99-4aa9-8356-7dfcff6b1c4d",
   "metadata": {
    "jp-MarkdownHeadingCollapsed": true
   },
   "source": [
    "### **0.1.11. columns_transformer**"
   ]
  },
  {
   "cell_type": "code",
   "execution_count": 12,
   "id": "4e97a26a-a620-407b-bb7a-663fc79f88c3",
   "metadata": {},
   "outputs": [],
   "source": [
    "def correct_feature_text(data):\n",
    "    n_cols = []\n",
    "    for x in data.columns:\n",
    "        n = x.lower()\n",
    "        n = '_'.join(n.split()[:])\n",
    "        n_cols.append(n)\n",
    "        \n",
    "    data.columns = n_cols\n",
    "    return data"
   ]
  },
  {
   "cell_type": "code",
   "execution_count": 13,
   "id": "d7d579ff-a2d7-49e2-82ea-da1ba0267d40",
   "metadata": {},
   "outputs": [],
   "source": [
    "def get_branch_name(x):\n",
    "    msg=x.split('_')[0]\n",
    "    return msg\n",
    "\n",
    "def read_data_all_format(path, delimiter_=';'):\n",
    "    try:\n",
    "        msg=pd.read_csv(path, error_bad_lines=False, delimiter=delimiter_)\n",
    "    except:\n",
    "        msg=pd.read_excel(path)\n",
    "    return msg\n",
    "\n",
    "def datetime(x):\n",
    "    try:\n",
    "        x=str(x)\n",
    "        day=x.split('/')[0]\n",
    "        month=x.split('/')[1]\n",
    "        year=x.split('/')[-1].split()[0]\n",
    "        hour=x.split()[-1].split(':')[0]\n",
    "        minute=x.split()[-1].split(':')[1]\n",
    "\n",
    "        msg=f\"{month}/{day}/{year} {hour}:{minute}\"\n",
    "        msg=pd.to_datetime(msg)\n",
    "    except:\n",
    "        msg=x\n",
    "    return msg\n",
    "\n",
    "def read_data_from_path(path):\n",
    "    name_path=path\n",
    "    list_file=os.listdir(name_path)\n",
    "    try:\n",
    "        list_file.remove('.DS_Store')\n",
    "    except:\n",
    "        list_file=list_file\n",
    "        \n",
    "    data=[]\n",
    "    for x in list_file:\n",
    "        file_name=name_path+x\n",
    "        df=read_data_all_format(file_name)\n",
    "        df['branch']=get_branch_name(x)\n",
    "        data.append(df)\n",
    "    \n",
    "    data=pd.concat(data, axis=0)\n",
    "    data.reset_index(drop=True, inplace=True)\n",
    "    data['tanggal']=pd.to_datetime(data.tanggal)\n",
    "    data=transform_time(data)\n",
    "    data.sort_values(['tahun','no_bulan','tgl'], ascending=False, inplace=True)\n",
    "    \n",
    "    return data"
   ]
  },
  {
   "cell_type": "code",
   "execution_count": null,
   "id": "a1ab794b-b20c-44e4-baf8-716ceaf24bcc",
   "metadata": {},
   "outputs": [],
   "source": []
  },
  {
   "cell_type": "code",
   "execution_count": null,
   "id": "610289cf-7d13-4b58-ba33-110aaef08899",
   "metadata": {},
   "outputs": [],
   "source": []
  },
  {
   "cell_type": "markdown",
   "id": "b8c25eef-df51-407b-bdbf-12596318057a",
   "metadata": {
    "tags": [],
    "toc-hr-collapsed": true
   },
   "source": [
    "# **ETL : Extract, Transform, Load**"
   ]
  },
  {
   "cell_type": "markdown",
   "id": "60f96ed9-7423-412e-90a6-8b956637805b",
   "metadata": {
    "jp-MarkdownHeadingCollapsed": true,
    "tags": []
   },
   "source": [
    "## **Load Data**"
   ]
  },
  {
   "cell_type": "markdown",
   "id": "90d75805-a5ea-4dee-806a-dbff6f3ff256",
   "metadata": {
    "jp-MarkdownHeadingCollapsed": true
   },
   "source": [
    "### Load Datasets Penjualan"
   ]
  },
  {
   "cell_type": "code",
   "execution_count": 14,
   "id": "892b1afa-b92c-4967-8034-188ab62a8604",
   "metadata": {},
   "outputs": [],
   "source": [
    "important_columns=['transaksi','tanggal','customer','user','cs','operator','finishing',\n",
    "                   'suport','alamat','kode_item','produk','quantity','satuan','harga',\n",
    "                   'tunai', 'kredit', 'debit', 'total', 'potongan','ket']"
   ]
  },
  {
   "cell_type": "code",
   "execution_count": 15,
   "id": "e7c4a2b1-e0d3-44bb-a6dd-fca51d37a076",
   "metadata": {},
   "outputs": [
    {
     "name": "stderr",
     "output_type": "stream",
     "text": [
      "100%|███████████████████████████████████████████████████████████████████████████████████████████████████████████████████████████████████████████████████████| 6/6 [00:24<00:00,  4.14s/it]\n"
     ]
    }
   ],
   "source": [
    "# buat table sekumpulan url untuk penjualan\n",
    "tbl_url_penjualan = pd.DataFrame({\n",
    "    'branch':['Utama','Utama','Digital Printing','Digital Printing','Office Equipment','Office Equipment'],\n",
    "    'years':[2023,2024,2023,2024,2023,2024],\n",
    "    'urls':[\n",
    "        \"https://docs.google.com/spreadsheets/d/16K25jlGELiE7zEIoKGYPnOTL0-LFe7wV/export?format.xlsx\",\n",
    "        \"https://docs.google.com/spreadsheets/d/1t60_O3qnDeeXC-SbhYPdZ5uIhv2kDGsO/export?format.xlsx\",\n",
    "        \"https://docs.google.com/spreadsheets/d/18dLHwc8-mOaH0jiMSx8fajvNR8_2FB-z/export?format.xlsx\",\n",
    "        \"https://docs.google.com/spreadsheets/d/1_Y-yKyCKaHKox5C3wcXMSV-88C_fsrl9/export?format.xlsx\",\n",
    "        \"https://docs.google.com/spreadsheets/d/1vh7spBX3Pdgq2g6QosPuwuJAQWP70GzV/export?format.xlsx\",\n",
    "        \"https://docs.google.com/spreadsheets/d/11R9hlf6x5cfqhqiynzKxouVxPMosjYNl/export?format.xlsx\"\n",
    "    ]\n",
    "})\n",
    "\n",
    "# tarik data dari spreadsheet\n",
    "for i in tqdm(range(len(tbl_url_penjualan))):\n",
    "    n = tbl_url_penjualan[tbl_url_penjualan.index==i]\n",
    "\n",
    "    branch = n['branch'][i]\n",
    "    year = str(n['years'][i])[-2:]\n",
    "    path = f'./Datasets Penjualan/{branch}_penjualan_{year}.xlsx'\n",
    "\n",
    "    url = n['urls'][i]\n",
    "\n",
    "    try:\n",
    "        os.remove(path)\n",
    "    except:\n",
    "        None\n",
    "        \n",
    "    output_filename = path\n",
    "    \n",
    "    # get the data from spreadsheet\n",
    "    response = requests.get(url)\n",
    "    if response.status_code == 200:\n",
    "        with open(output_filename, \"wb\") as f:\n",
    "            f.write(response.content)"
   ]
  },
  {
   "cell_type": "markdown",
   "id": "e761cd7d-51c4-40c5-b19d-5a73cf4b9129",
   "metadata": {
    "jp-MarkdownHeadingCollapsed": true
   },
   "source": [
    "### Load Datasets Piutang"
   ]
  },
  {
   "cell_type": "code",
   "execution_count": 16,
   "id": "7fa33954-798d-4958-9748-81d1393846e4",
   "metadata": {},
   "outputs": [
    {
     "name": "stderr",
     "output_type": "stream",
     "text": [
      "100%|███████████████████████████████████████████████████████████████████████████████████████████████████████████████████████████████████████████████████████| 6/6 [00:09<00:00,  1.58s/it]\n"
     ]
    }
   ],
   "source": [
    "# buat table sekumpulan url untuk piutang\n",
    "tbl_url_piutang = pd.DataFrame({\n",
    "    'branch':['Utama','Utama','Digital Printing','Digital Printing','Office Equipment','Office Equipment'],\n",
    "    'years':[2023,2024,2023,2024,2023,2024],\n",
    "    'urls':[\n",
    "        \"https://docs.google.com/spreadsheets/d/1d3i65NALdFqq1P56XVIprGpob-IZwM0E/export?format.xlsx\",\n",
    "        \"https://docs.google.com/spreadsheets/d/1Bg-4-7iUsn9RPm4l_ZyMA_vRc1RNU9Ty/export?format.xlsx\",\n",
    "        \"https://docs.google.com/spreadsheets/d/1Q6JLGZNm5hLcb5QYB7xb5g2_JVhGMmrA/export?format.xlsx\",\n",
    "        \"https://docs.google.com/spreadsheets/d/1ZoQjTKYGjwDVYv6o1fhEU0V8JFTNyflu/export?format.xlsx\",\n",
    "        \"https://docs.google.com/spreadsheets/d/1GBKa1KrSiYNovEW5IuJSTp4Nly4ktz_R/export?format.xlsx\",\n",
    "        \"https://docs.google.com/spreadsheets/d/17E1sq4VurQ2vwztztEHgjPG0p3QeD8Ud/export?format.xlsx\"\n",
    "    ]\n",
    "})\n",
    "\n",
    "# tarik data dari spreadsheet\n",
    "for i in tqdm(range(len(tbl_url_piutang))):\n",
    "    n = tbl_url_piutang[tbl_url_piutang.index==i]\n",
    "\n",
    "    branch = n['branch'][i]\n",
    "    year = str(n['years'][i])[-2:]\n",
    "    path = f'./Datasets Piutang/{branch}_piutang_{year}.xlsx'\n",
    "\n",
    "    url = n['urls'][i]\n",
    "\n",
    "    try:\n",
    "        os.remove(path)\n",
    "    except:\n",
    "        None\n",
    "        \n",
    "    output_filename = path\n",
    "    \n",
    "    # get the data from spreadsheet\n",
    "    response = requests.get(url)\n",
    "    if response.status_code == 200:\n",
    "        with open(output_filename, \"wb\") as f:\n",
    "            f.write(response.content)"
   ]
  },
  {
   "cell_type": "markdown",
   "id": "b9e65db5-13ae-4f15-ae9b-8f61be236759",
   "metadata": {
    "jp-MarkdownHeadingCollapsed": true
   },
   "source": [
    "### Load Datasets Pemakaian"
   ]
  },
  {
   "cell_type": "code",
   "execution_count": 17,
   "id": "029a3f43-4c26-49d8-b87c-eabcd738a89f",
   "metadata": {},
   "outputs": [
    {
     "name": "stderr",
     "output_type": "stream",
     "text": [
      "100%|███████████████████████████████████████████████████████████████████████████████████████████████████████████████████████████████████████████████████████| 1/1 [00:01<00:00,  1.98s/it]\n"
     ]
    }
   ],
   "source": [
    "# buat table sekumpulan url untuk pemakaian\n",
    "tbl_url_pemakaian = pd.DataFrame({\n",
    "    'branch':['Utama'],\n",
    "    'urls':[\"https://docs.google.com/spreadsheets/d/1FODOcWN-NvYlZ_80SWDTDNGFOyYk46mB/export?format.xlsx\"]\n",
    "})\n",
    "\n",
    "# tarik data dari spreadsheet\n",
    "for i in tqdm(range(len(tbl_url_pemakaian))):\n",
    "    n = tbl_url_pemakaian[tbl_url_pemakaian.index==i]\n",
    "\n",
    "    branch = n['branch'][i]\n",
    "    path = f'./Datasets Pemakaian/{branch}_pemakaian.xlsx'\n",
    "\n",
    "    url = n['urls'][i]\n",
    "\n",
    "    try:\n",
    "        os.remove(path)\n",
    "    except:\n",
    "        None\n",
    "        \n",
    "    output_filename = path\n",
    "    \n",
    "    # get the data from spreadsheet\n",
    "    response = requests.get(url)\n",
    "    if response.status_code == 200:\n",
    "        with open(output_filename, \"wb\") as f:\n",
    "            f.write(response.content)\n",
    "\n",
    "out = pd.read_excel('./Datasets Pemakaian/Utama_pemakaian.xlsx')"
   ]
  },
  {
   "cell_type": "markdown",
   "id": "4e558e2e-03e1-483f-b1e4-a058dd44e714",
   "metadata": {
    "jp-MarkdownHeadingCollapsed": true
   },
   "source": [
    "### Load Datasets Opname"
   ]
  },
  {
   "cell_type": "code",
   "execution_count": 18,
   "id": "49c11092-6cee-4129-8391-ecdb6af04b67",
   "metadata": {},
   "outputs": [
    {
     "name": "stderr",
     "output_type": "stream",
     "text": [
      "100%|███████████████████████████████████████████████████████████████████████████████████████████████████████████████████████████████████████████████████████| 1/1 [00:09<00:00,  9.47s/it]\n"
     ]
    }
   ],
   "source": [
    "# buat table url untuk opname\n",
    "tbl_url_opname = pd.DataFrame({\n",
    "    'branch':['Utama'],\n",
    "    'urls':[\"https://docs.google.com/spreadsheets/d/1dt_NNTmgcf5J6c555x_ssvTOAtXeurQ-a47n32iaRwE/export?format.xlsx\"]\n",
    "})\n",
    "\n",
    "# tarik data dari spreadsheet\n",
    "for i in tqdm(range(len(tbl_url_opname))):\n",
    "    n = tbl_url_opname[tbl_url_opname.index==i]\n",
    "\n",
    "    branch = n['branch'][i]\n",
    "    path = f'./Datasets Opname/{branch}_opname.xlsx'\n",
    "\n",
    "    url = n['urls'][i]\n",
    "\n",
    "    try:\n",
    "        os.remove(path)\n",
    "    except:\n",
    "        None\n",
    "        \n",
    "    output_filename = path\n",
    "    \n",
    "    # get the data from spreadsheet\n",
    "    response = requests.get(url)\n",
    "    if response.status_code == 200:\n",
    "        with open(output_filename, \"wb\") as f:\n",
    "            f.write(response.content)\n",
    "\n",
    "# transform and clean data\n",
    "opname = pd.read_excel('./Datasets Opname/Utama_opname.xlsx', sheet_name='Sheet2')\n",
    "opname = opname[1:].drop(columns=['Unnamed: 11','Unnamed: 13','ID Device','Name Device','KETERANGAN','BATAL'])\n",
    "opname.columns = ['timestamps','id_rows','barcode','jenis_opname','count','user','gudang','status']\n",
    "opname = opname.dropna(axis=0)\n",
    "opname['id_rows'] = opname['id_rows'].apply(lambda x: str(x).split('.')[0])\n",
    "opname['barcode'] = opname['barcode'].apply(lambda x: str(x).split('.')[0])\n",
    "opname['tanggal'] = pd.to_datetime(opname.timestamps).dt.date\n",
    "opname = opname[['timestamps','tanggal','id_rows','barcode','jenis_opname','count','user','gudang','status']]\n",
    "opname = opname[opname.status==1]\n",
    "opname.user.replace('Ida', 'Alda', inplace=True)\n",
    "opname['number'] = 1"
   ]
  },
  {
   "cell_type": "markdown",
   "id": "2e6834b1-b426-4125-a402-2b967f2c7dbe",
   "metadata": {
    "jp-MarkdownHeadingCollapsed": true
   },
   "source": [
    "### Load Datasets Master Items"
   ]
  },
  {
   "cell_type": "code",
   "execution_count": 19,
   "id": "9d86b4c4-01a1-44c9-aa14-b657352013ea",
   "metadata": {},
   "outputs": [
    {
     "name": "stderr",
     "output_type": "stream",
     "text": [
      "100%|███████████████████████████████████████████████████████████████████████████████████████████████████████████████████████████████████████████████████████| 1/1 [00:02<00:00,  2.52s/it]\n"
     ]
    },
    {
     "name": "stdout",
     "output_type": "stream",
     "text": [
      "WARNING *** file size (3869039) not 512 + multiple of sector size (512)\n"
     ]
    }
   ],
   "source": [
    "# buat table url untuk opname\n",
    "tbl_url_master_item = pd.DataFrame({\n",
    "    'branch':['Utama'],\n",
    "    'urls':[\"https://docs.google.com/spreadsheets/d/1ZtkwRPsfQwfymXHvG7PJ-cgg6KYo8aLS/export?format.xlsx\"]\n",
    "})\n",
    "\n",
    "# tarik data dari spreadsheet\n",
    "for i in tqdm(range(len(tbl_url_master_item))):\n",
    "    n = tbl_url_master_item[tbl_url_master_item.index==i]\n",
    "\n",
    "    branch = n['branch'][i]\n",
    "    path = f'./Datasets Master Items/{branch}_master_items.xlsx'\n",
    "\n",
    "    url = n['urls'][i]\n",
    "\n",
    "    try:\n",
    "        os.remove(path)\n",
    "    except:\n",
    "        None\n",
    "        \n",
    "    output_filename = path\n",
    "    \n",
    "    # get the data from spreadsheet\n",
    "    response = requests.get(url)\n",
    "    if response.status_code == 200:\n",
    "        with open(output_filename, \"wb\") as f:\n",
    "            f.write(response.content)\n",
    "\n",
    "# transform and clean data\n",
    "mi = pd.read_excel('./Datasets Master Items/Utama_master_items.xlsx')\n",
    "mi.columns = ['_'.join(i.lower().split()) for i in mi.columns]\n",
    "mi = mi.dropna(axis=0)"
   ]
  },
  {
   "cell_type": "markdown",
   "id": "d7ba24c6-f989-4b74-a4d7-9870f4e51fbe",
   "metadata": {
    "jp-MarkdownHeadingCollapsed": true
   },
   "source": [
    "### Load Datasets Project Finishing"
   ]
  },
  {
   "cell_type": "code",
   "execution_count": 20,
   "id": "b08df1a5-5327-4ed6-9ae3-66ccf1f8d5c7",
   "metadata": {},
   "outputs": [
    {
     "name": "stderr",
     "output_type": "stream",
     "text": [
      "100%|███████████████████████████████████████████████████████████████████████████████████████████████████████████████████████████████████████████████████████| 1/1 [00:02<00:00,  2.01s/it]\n"
     ]
    }
   ],
   "source": [
    "# buat table url untuk opname\n",
    "tbl_url_project_finishing = pd.DataFrame({\n",
    "    'branch':['Utama'],\n",
    "    'urls':[\"https://docs.google.com/spreadsheets/d/1gOqYyy4TO7pcVFgJuqvrU5UtN9-GNsjoAggolBWULKs/export?format.xlsx\"]\n",
    "})\n",
    "\n",
    "# tarik data dari spreadsheet\n",
    "for i in tqdm(range(len(tbl_url_project_finishing))):\n",
    "    n = tbl_url_project_finishing[tbl_url_project_finishing.index==i]\n",
    "\n",
    "    branch = n['branch'][i]\n",
    "    path = f'./Datasets Project Finishing/{branch}_project_finishing.xlsx'\n",
    "\n",
    "    url = n['urls'][i]\n",
    "\n",
    "    try:\n",
    "        os.remove(path)\n",
    "    except:\n",
    "        None\n",
    "        \n",
    "    output_filename = path\n",
    "    \n",
    "    # get the data from spreadsheet\n",
    "    response = requests.get(url)\n",
    "    if response.status_code == 200:\n",
    "        with open(output_filename, \"wb\") as f:\n",
    "            f.write(response.content)\n",
    "\n",
    "# transform and clean data\n",
    "pf = pd.read_excel('./Datasets Project Finishing/Utama_project_finishing.xlsx')\n",
    "pf.columns = ['timestamps','branch','transaksi','crew_finishing','product','qty','otorisator','satuan']\n",
    "pf = pf[['timestamps','branch','transaksi','crew_finishing','product','qty','satuan','otorisator']]\n",
    "pf['transaksi'] = pf['transaksi'].apply(lambda x: str(x))"
   ]
  },
  {
   "cell_type": "markdown",
   "id": "7b061dfb-4770-4a48-8194-87ff0f8e5c0c",
   "metadata": {
    "jp-MarkdownHeadingCollapsed": true
   },
   "source": [
    "### Load Datasets Pelanggan"
   ]
  },
  {
   "cell_type": "code",
   "execution_count": 21,
   "id": "808e4541-aec6-40de-acf4-0f72e2f6701d",
   "metadata": {},
   "outputs": [
    {
     "name": "stderr",
     "output_type": "stream",
     "text": [
      "100%|███████████████████████████████████████████████████████████████████████████████████████████████████████████████████████████████████████████████████████| 3/3 [00:04<00:00,  1.52s/it]\n"
     ]
    }
   ],
   "source": [
    "# buat table sekumpulan url untuk penjualan\n",
    "tbl_pelanggan = pd.DataFrame({\n",
    "    'branch':['Utama','Digital Printing','Office Equipment'],\n",
    "    'urls':[\n",
    "        \"https://docs.google.com/spreadsheets/d/1MLmG4nXtiwc3B9roATi-_4qlqVuGkLEj/export?format.xlsx\",\n",
    "        \"https://docs.google.com/spreadsheets/d/1X2aTI66UebrUq-B1oC4pDB6qmW9CB3dV/export?format.xlsx\",\n",
    "        \"https://docs.google.com/spreadsheets/d/1dSovpMyDuoewfohMbzAPyPliR5xshD5O/export?format.xlsx\",\n",
    "    ]\n",
    "})\n",
    "\n",
    "# tarik data dari spreadsheet\n",
    "for i in tqdm(range(len(tbl_pelanggan))):\n",
    "    n = tbl_pelanggan[tbl_pelanggan.index==i]\n",
    "\n",
    "    branch = n['branch'][i]\n",
    "    path = f'./Datasets Pelanggan/{branch}_pelanggan.xlsx'\n",
    "\n",
    "    url = n['urls'][i]\n",
    "\n",
    "    try:\n",
    "        os.remove(path)\n",
    "    except:\n",
    "        None\n",
    "        \n",
    "    output_filename = path\n",
    "    \n",
    "    # get the data from spreadsheet\n",
    "    response = requests.get(url)\n",
    "    if response.status_code == 200:\n",
    "        with open(output_filename, \"wb\") as f:\n",
    "            f.write(response.content)"
   ]
  },
  {
   "cell_type": "code",
   "execution_count": null,
   "id": "0921a73d-4238-4f42-86d2-9db6ea1a6fe6",
   "metadata": {},
   "outputs": [],
   "source": []
  },
  {
   "cell_type": "markdown",
   "id": "52f8afd4-7054-4300-81af-2028cf203ad9",
   "metadata": {
    "jp-MarkdownHeadingCollapsed": true
   },
   "source": [
    "## **Transforming**"
   ]
  },
  {
   "cell_type": "markdown",
   "id": "3094e19f-5ec6-4b7b-8971-343a992eb42c",
   "metadata": {
    "jp-MarkdownHeadingCollapsed": true,
    "tags": []
   },
   "source": [
    "### Transforming Data Penjualan"
   ]
  },
  {
   "cell_type": "code",
   "execution_count": 22,
   "id": "67341802-fa9a-492d-924d-bd24d52513ef",
   "metadata": {},
   "outputs": [],
   "source": [
    "data = read_data_from_path('./Datasets Penjualan/')\n",
    "data = data.drop(columns=['debit', 'Unnamed: 16']).rename(columns={'Unnamed: 17':'debit'})"
   ]
  },
  {
   "cell_type": "code",
   "execution_count": 23,
   "id": "b922eb3d-3356-416b-95ed-2d1aef469535",
   "metadata": {},
   "outputs": [
    {
     "name": "stdout",
     "output_type": "stream",
     "text": [
      "WARNING *** file size (3869039) not 512 + multiple of sector size (512)\n"
     ]
    }
   ],
   "source": [
    "data=data[['branch', 'transaksi', 'tanggal', 'tahun', 'no_bulan', 'bulan', 'tgl', 'hari', 'customer', 'user',\n",
    "           'cs', 'operator','finishing', 'suport', 'alamat', 'kode_item', 'produk', 'quantity','satuan', 'harga', 'tunai', \n",
    "           'kredit', 'debit', 'total', 'potongan','order','ket']]\n",
    "\n",
    "data=data.reset_index(drop=True)\n",
    "\n",
    "p_num=data.select_dtypes('number')\n",
    "p_cate=data.select_dtypes('object')\n",
    "\n",
    "p_num.fillna(0, inplace=True)\n",
    "p_cate.fillna('unknown', inplace=True)\n",
    "\n",
    "# numerical have a null data\n",
    "data['kredit'].fillna(0, inplace=True)\n",
    "data['tunai'].fillna(0, inplace=True)\n",
    "data['quantity'].fillna(0, inplace=True)\n",
    "data['total'].fillna(0, inplace=True)\n",
    "\n",
    "# categorical have a null data\n",
    "data['ket'].fillna('unknown', inplace=True)\n",
    "data['cs'].fillna('unknown', inplace=True)\n",
    "data['operator'].fillna('unknown', inplace=True)\n",
    "data['finishing'].fillna('unknown', inplace=True)\n",
    "data['suport'].fillna('unknown', inplace=True)\n",
    "\n",
    "def transform_obj_num(x):\n",
    "    try:\n",
    "        msg=int(str(x).split(',')[0].split('.')[0])\n",
    "    except:\n",
    "        msg=0\n",
    "    return msg\n",
    "\n",
    "data['harga']=data['harga'].apply(lambda x: transform_obj_num(x))\n",
    "data['debit']=data['debit'].apply(lambda x: transform_obj_num(x))\n",
    "\n",
    "def transform_potongan(x):\n",
    "    try:\n",
    "        msg=float('.'.join(x.split(',')))\n",
    "    except:\n",
    "        msg=0\n",
    "    return msg\n",
    "\n",
    "data['potongan']=data['potongan'].apply(lambda x: transform_potongan(x))\n",
    "\n",
    "# read lcd\n",
    "lcd = data[data.branch=='Digital Printing']\n",
    "lcd.drop(columns='branch', inplace=True)\n",
    "\n",
    "# read utama\n",
    "utm = data[data.branch=='Utama']\n",
    "utm.drop(columns='branch', inplace=True)\n",
    "\n",
    "# read oe\n",
    "oe = data[data.branch=='Office Equipment']\n",
    "oe.drop(columns='branch', inplace=True)\n",
    "\n",
    "# read master item utama\n",
    "master = pd.read_excel('D:/PT FEATURES 202/Client/RIO Group/Datasets Master Items/Utama_master_items.xlsx')\n",
    "\n",
    "# ubah penulisan feature\n",
    "def correct_feature_text(data):\n",
    "    ncols = []\n",
    "    for x in data.columns:\n",
    "        n = '_'.join(x.lower().split()[:])\n",
    "        ncols.append(n)\n",
    "    data.columns = ncols\n",
    "    return data\n",
    "\n",
    "lcd = correct_feature_text(lcd)\n",
    "utm = correct_feature_text(utm)\n",
    "oe = correct_feature_text(oe)"
   ]
  },
  {
   "cell_type": "code",
   "execution_count": null,
   "id": "be4d4a22-fa0d-4df8-a98d-796a6862ffeb",
   "metadata": {},
   "outputs": [],
   "source": []
  },
  {
   "cell_type": "markdown",
   "id": "112bb598-ed77-430f-9df2-a6718dc7e3ae",
   "metadata": {
    "tags": []
   },
   "source": [
    "#### 1.1. Cleaning Data LCD"
   ]
  },
  {
   "cell_type": "code",
   "execution_count": 24,
   "id": "cb993b4b-7d1d-4ea9-b958-71d76a234c00",
   "metadata": {},
   "outputs": [],
   "source": [
    "lcd = transform_time(lcd)\n",
    "lcd.drop(columns=['operator','finishing','suport','alamat','harga'], inplace=True)\n",
    "lcd = lcd[['transaksi','tanggal','tahun','no_bulan','bulan','tgl','hari','customer','user',\n",
    "           'cs','kode_item','produk','quantity','satuan','tunai','debit','kredit','total','potongan','order','ket']]\n",
    "\n",
    "lcd.columns = ['transaksi','tanggal','tahun','no_bulan','bulan','tgl','hari','customer','cs',\n",
    "           'operator','kode_item','produk','quantity','satuan','tunai','debit','kredit','omset','potongan','order','ket']\n",
    "\n",
    "lcd['omset'] = lcd.omset - (lcd.omset * (lcd.potongan/100))\n",
    "lcd['branch'] = 'Digital Printing'\n",
    "lcd.fillna('Kosong', inplace=True)\n",
    "lcd.drop(columns='potongan', inplace=True)\n",
    "lcd['produk2']=lcd.produk.apply(lambda x: x.split()[0])\n",
    "finishing_lcd=[\n",
    "    'JASA PERPORASI','BIAYA LUBANG','BIAYA PASANG','LAMINATING BIASA F4',\n",
    "    'LAMINATING BIASA A3','JILID SPIRAL KAWAT A4 UK. 6', 'JILID LEM A4 100+ - 200  LBR',\n",
    "   'JILID ALBUM', 'JILID LEM', 'JILID SPIRAL KAWAT A4 UK. 5',\n",
    "   'JILID BK BALUT LAGBAN A3', 'JILID BK BALUT LAGBAN A4',\n",
    "   'JILID HEKTER TENGAH', 'JILID BK SPIRAL PLASTIC  A4 UK. 1 1/4',\n",
    "   'JILID SPIRAL KAWAT A4 UK. 7', 'JILID SPIRAL KAWAT A4 UK. 9',\n",
    "   'JILID SPIRAL KAWAT A4 UK. 14', 'JILID LEM A4 1-100 LBR',\n",
    "   'JILID BK SPIRAL PLASTIC  A4 UK. 1',\n",
    "   'JILID BK SPIRAL PLASTIC  A4 UK. 5/8',\n",
    "   'JILID SPIRAL KAWAT A4 UK. 10',\n",
    "   'JILID BK SPIRAL PLASTIC  A4 UK. 3/4', 'JILID ALBUM A4 1-100 LBR',\n",
    "   'JILID BK SPIRAL PLASTIC  A4 UK. 1 1/2',\n",
    "   'JILID SPIRAL KAWAT A4 UK. 16', 'JILID LEM A4/F4 201+ HAL',\n",
    "   'JILID SPIRAL KAWAT A4 UK. 18', 'JILID SPIRAL KAWAT A4 UK. 8',\n",
    "   'JILID SPIRAL KAWAT A4 UK. 20', 'JILID LEM A3',\n",
    "   'JILID BALUT LAGBAN PLANO',\n",
    "    'JEPIT KALENDER','PASANG SUDUT BUKU','DOFF LAMINATING','PEKERJAAN FINISHING',\n",
    "    'TABUNG WISUDA','PRESS PINGGIR','PENGISIAN TINTA TRODAT','BIAYA POTONG'\n",
    "]\n",
    "\n",
    "def get_devisi_lcd(x):\n",
    "    con = x in finishing_lcd\n",
    "    if con == True:\n",
    "        msg='JLD'\n",
    "    else:\n",
    "        msg='LCD'\n",
    "    return msg\n",
    "lcd['devisi']=lcd.produk.apply(lambda x: get_devisi_lcd(x))\n",
    "lcd=lcd.sort_values(['tahun','no_bulan'], ascending=False)"
   ]
  },
  {
   "cell_type": "code",
   "execution_count": null,
   "id": "f97dfe5d-8619-4a87-9a20-0e8f7693f738",
   "metadata": {},
   "outputs": [],
   "source": []
  },
  {
   "cell_type": "markdown",
   "id": "69c8ac67-4519-469e-be32-837d7bd7bfe2",
   "metadata": {
    "tags": []
   },
   "source": [
    "#### 1.2. Cleaning Data UTM"
   ]
  },
  {
   "cell_type": "code",
   "execution_count": 25,
   "id": "80c2b05e-fb7a-4464-996a-1bdc0a01109e",
   "metadata": {},
   "outputs": [],
   "source": [
    "utm = transform_time(utm)\n",
    "utm['branch'] = 'Utama'\n",
    "utm = utm[['branch','transaksi','tanggal','tahun','no_bulan','bulan','tgl','hari','customer','cs',\n",
    "           'kode_item','produk','quantity','satuan','tunai','debit','kredit','total','potongan','order','ket']]\n",
    "\n",
    "utm.columns = ['branch','transaksi','tanggal','tahun','no_bulan','bulan','tgl','hari','customer',\n",
    "               'cs','kode_item','produk','quantity','satuan','tunai','debit','kredit','omset','potongan','order','ket']\n",
    "\n",
    "utm = utm[['branch', 'transaksi', 'tanggal','tahun', 'no_bulan', 'bulan', 'tgl', \n",
    "           'hari', 'customer', 'cs', 'kode_item','produk', 'quantity', 'satuan', 'tunai', 'debit', 'kredit', 'omset', 'order','ket']]\n",
    "\n",
    "utm['operator'] = 'Kosong'\n",
    "utm['devisi'] = utm.kode_item.apply(lambda x: str(x).split('.')[0])\n",
    "def devisi_1(x):\n",
    "    if x == 'CTK' or x == 'LCD':\n",
    "        return 'CTK'\n",
    "    elif x == 'KTR':\n",
    "        return 'Pinjaman Sementara'\n",
    "    elif x == 'PC':\n",
    "        return 'PC'\n",
    "    elif x == 'JLD':\n",
    "        return 'JLD'\n",
    "    else:\n",
    "        return 'ATK'\n",
    "utm['devisi'] = utm.devisi.apply(lambda x: devisi_1(x))\n",
    "utm = utm.drop_duplicates()"
   ]
  },
  {
   "cell_type": "code",
   "execution_count": null,
   "id": "e3f22e1a-3551-4dc9-b9b5-e067e12d4c21",
   "metadata": {},
   "outputs": [],
   "source": []
  },
  {
   "cell_type": "markdown",
   "id": "aee63c1f-47fc-4f49-ab7e-1ad28639507b",
   "metadata": {
    "jp-MarkdownHeadingCollapsed": true,
    "tags": []
   },
   "source": [
    "#### 1.3. Cleaning Data OE"
   ]
  },
  {
   "cell_type": "code",
   "execution_count": 26,
   "id": "d032cc55-ff13-4941-9dea-f7f141c386e6",
   "metadata": {},
   "outputs": [],
   "source": [
    "oe = transform_time(oe)\n",
    "oe['branch'] = 'Office Equipment'\n",
    "\n",
    "oe = oe[['branch', 'transaksi', 'tanggal','tahun', 'no_bulan', 'bulan', 'tgl', 'hari', 'customer', 'user', \n",
    "         'kode_item','produk', 'quantity', 'satuan', 'tunai','debit','kredit', 'total', 'potongan', 'order', 'ket']]\n",
    "\n",
    "oe.columns = ['branch', 'transaksi', 'tanggal','tahun', 'no_bulan', 'bulan', 'tgl', 'hari', 'customer', 'cs', \n",
    "              'kode_item','produk', 'quantity', 'satuan', 'tunai','debit','kredit', 'omset', 'potongan', 'order', 'ket']\n",
    "\n",
    "oe['omset'] = oe['omset'] - (oe['omset'] * (oe.potongan/100))\n",
    "oe['operator'] = 'Kosong'\n",
    "oe.drop(columns='potongan', inplace=True)\n",
    "oe['devisi'] = 'OE'"
   ]
  },
  {
   "cell_type": "markdown",
   "id": "2b72b40e-6d7e-4250-b909-2c21418e28ae",
   "metadata": {
    "jp-MarkdownHeadingCollapsed": true,
    "tags": []
   },
   "source": [
    "#### 1.4. Buat Data Frame Gabung Dari Ketiga Data Tersebut"
   ]
  },
  {
   "cell_type": "code",
   "execution_count": 27,
   "id": "ed27125e-ba09-49b8-a7e8-e6eeea42e8a9",
   "metadata": {},
   "outputs": [],
   "source": [
    "df = pd.concat([utm, oe, lcd], axis=0)\n",
    "df = df[['branch', 'devisi', 'transaksi', 'tanggal', 'tahun', 'no_bulan', 'bulan',\n",
    "       'tgl', 'hari', 'customer', 'cs', 'operator', 'kode_item', 'produk', 'quantity',\n",
    "       'satuan', 'tunai','debit','kredit', 'omset', 'order','ket']]\n",
    "df['cs'] = df.cs.apply(lambda x: str(x).split('(')[0].split()[0])\n",
    "df['cs'] = df.cs.apply(lambda x: x.split('_')[0])\n",
    "df.cs.replace('BELLA','BELA', inplace=True)\n",
    "df.cs.replace('nan', 'Kosong', inplace=True)\n",
    "df['customer'] = df.customer.apply(lambda x: str(x).split(' #')[0])\n",
    "df['date']=df.no_bulan.apply(lambda x: str(x) + '/')+df.tahun.apply(lambda x: str(x)[-2:])\n",
    "df=df.rename(columns={'devisi':'divisi'})\n",
    "df['cs']=df['cs'].apply(lambda x: str(x).split('MLM')[0])\n",
    "def get_day_work(x):\n",
    "    time = x.hour\n",
    "    if time >= 18:\n",
    "        msg='Malam'\n",
    "    else:\n",
    "        msg='Pagi'\n",
    "    return msg\n",
    "\n",
    "# filter data kotor\n",
    "df = df[df.tanggal != 'Kosong']\n",
    "df['tanggal'] = pd.to_datetime(df['tanggal'])\n",
    "df['sift_kerja']=df.tanggal.apply(get_day_work)\n",
    "df['bulan_singkat']=df.bulan.apply(lambda x: str(x)[:3])\n",
    "df['jam']=df.tanggal.dt.hour\n",
    "df['transaksi'] = df['transaksi'].apply(lambda x: str(x))\n",
    "df['kredit'] = df['kredit'].apply(lambda x: transform_obj_num(x))\n",
    "df.to_excel('./Data/data_penjualan.xlsx', index=False)"
   ]
  },
  {
   "cell_type": "code",
   "execution_count": null,
   "id": "60985e0e-3170-45f0-b68f-5623aba6f5fa",
   "metadata": {},
   "outputs": [],
   "source": []
  },
  {
   "cell_type": "code",
   "execution_count": null,
   "id": "6e7b3f86-dcbc-4562-8fee-f435574d11c4",
   "metadata": {},
   "outputs": [],
   "source": []
  },
  {
   "cell_type": "markdown",
   "id": "eea715d5-afb4-4320-9369-99a6103acf56",
   "metadata": {
    "jp-MarkdownHeadingCollapsed": true
   },
   "source": [
    "### Transforming Data Piutang"
   ]
  },
  {
   "cell_type": "code",
   "execution_count": 28,
   "id": "be859940-0eb3-442c-8576-524f2ff0dfa9",
   "metadata": {},
   "outputs": [],
   "source": [
    "file_piutang = os.listdir('Datasets Piutang')\n",
    "try:\n",
    "    file_piutang.remove('.DS_Store')\n",
    "except:\n",
    "    file_piutang=file_piutang\n",
    "\n",
    "_ = []\n",
    "for i in file_piutang:\n",
    "    branch = i.split('_')[0]\n",
    "    try:\n",
    "        n = pd.read_csv(f'./Datasets Piutang/{i}')\n",
    "    except:\n",
    "        n = pd.read_excel(f'./Datasets Piutang/{i}')\n",
    "    n['branch'] = branch\n",
    "    _.append(n)\n",
    "pt = pd.concat(_)\n",
    "pt = pt[['branch','tanggal','transaksi','tanggal_jt','kredit','bayar']].fillna(0).reset_index(drop=True)\n",
    "pt['transaksi'] = pt['transaksi'].apply(lambda x: str(x))"
   ]
  },
  {
   "cell_type": "markdown",
   "id": "59670252-3ffc-4fb2-85cf-ea650d168d38",
   "metadata": {
    "jp-MarkdownHeadingCollapsed": true
   },
   "source": [
    "### Transforming Data Pembayaran Piutang"
   ]
  },
  {
   "cell_type": "code",
   "execution_count": 29,
   "id": "ff0eb227-9cf4-4294-b617-b6854e34f561",
   "metadata": {},
   "outputs": [],
   "source": [
    "# file_pembayaran = os.listdir('Datasets Pembayaran Piutang')\n",
    "# try:\n",
    "#     file_pembayaran.remove('.DS_Store')\n",
    "# except:\n",
    "#     file_pembayaran=file_pembayaran\n",
    "\n",
    "# _ = []\n",
    "# for i in file_pembayaran:\n",
    "#     branch = i.split('_')[0]\n",
    "#     try:\n",
    "#         n = pd.read_csv(f'./Datasets Pembayaran Piutang/{i}')\n",
    "#     except:\n",
    "#         n = pd.read_excel(f'./Datasets Pembayaran Piutang/{i}')\n",
    "#     n['branch'] = branch\n",
    "#     _.append(n)\n",
    "# pb = pd.concat(_)\n",
    "# pb = pb[['branch','tanggal','transaksi','kredit','bayar']]\n",
    "# pb['bayar'].fillna(0, inplace=True)\n",
    "# pb['transaksi'] = pb['transaksi'].apply(lambda x: str(x))"
   ]
  },
  {
   "cell_type": "markdown",
   "id": "d92e4c0e-df9a-4c3e-8b9b-b9afaa029d44",
   "metadata": {
    "jp-MarkdownHeadingCollapsed": true
   },
   "source": [
    "### Transforming Data Pelanggan"
   ]
  },
  {
   "cell_type": "code",
   "execution_count": 30,
   "id": "6e59106a-359f-4de4-9735-98b1f30e53be",
   "metadata": {},
   "outputs": [],
   "source": [
    "file_pelanggan = os.listdir('Datasets Pelanggan')\n",
    "try:\n",
    "    file_pelanggan.remove('.DS_Store')\n",
    "except:\n",
    "    file_pelanggan=file_pelanggan\n",
    "\n",
    "_ = []\n",
    "for i in file_pelanggan:\n",
    "    branch = i.split('_')[0]\n",
    "    try:\n",
    "        n = pd.read_csv(f'./Datasets Pelanggan/{i}')\n",
    "    except:\n",
    "        n = pd.read_excel(f'./Datasets Pelanggan/{i}')\n",
    "    n['branch'] = branch\n",
    "    _.append(n)\n",
    "    \n",
    "pl1 = pd.concat(_)\n",
    "pl1 = pl1[['branch','kode_customer','customer','alamat','kota','provinsi','telepon','email']]\n",
    "pl1.columns = ['branch','id','customer','alamat','kota','provinsi','telepon','email']\n",
    "pl1.fillna('-', inplace=True)"
   ]
  },
  {
   "cell_type": "markdown",
   "id": "820452dd-50dc-4220-8e0c-064f8c5e3b4d",
   "metadata": {},
   "source": [
    "# **EDA : Exploratory Data Analyst**"
   ]
  },
  {
   "cell_type": "markdown",
   "id": "244415cf-6f9d-4d65-a72a-d14b4d657655",
   "metadata": {
    "jp-MarkdownHeadingCollapsed": true
   },
   "source": [
    "## **DASHBOARD - 1 : Trend Penjualan**\n",
    "\n",
    "- Tunai\n",
    "- Debit\n",
    "- Kredit\n",
    "- Sisa\n",
    "- Total"
   ]
  },
  {
   "cell_type": "code",
   "execution_count": 31,
   "id": "8d26ead8-dcd8-4dac-97e4-60348a45e962",
   "metadata": {},
   "outputs": [],
   "source": [
    "# buat fungsi untuk membuat id pertemuan\n",
    "def get_id(a1, a2):\n",
    "    msg = str(a1) + '#' + str(a2)\n",
    "    return msg\n",
    "    \n",
    "# trend penjualan\n",
    "eda1 = df[['branch','divisi','cs','customer','tanggal','transaksi','tunai','debit','kredit']].drop_duplicates(subset='transaksi')\n",
    "eda1['kredit'] = eda1['kredit'].apply(lambda x: transform_obj_num(str(x)))\n",
    "eda1['tanggal'] = eda1.tanggal.dt.date\n",
    "# eda1 = eda1.groupby(['branch','tanggal'])[['tunai','debit','kredit']].sum()\n",
    "eda1['total'] = eda1.tunai + eda1.debit + eda1.kredit\n",
    "# eda1['id'] = eda1.apply(lambda x: get_id(x.branch, x.tanggal), axis=1)\n",
    "\n",
    "\n",
    "# gabungkan \n",
    "eda1 = eda1.merge(pt[['transaksi','kredit']].rename(columns={'kredit':'sisa'}), on='transaksi', how='left')\n",
    "eda1['sisa'].fillna(0, inplace=True)\n",
    "eda1['bayar'] = eda1.total - eda1.sisa\n",
    "eda1 = eda1.groupby(['branch','divisi','cs','customer','tanggal'])[['tunai','debit','kredit','total','bayar','sisa']].sum().reset_index()\n",
    "\n",
    "# buat status sebagai pemisah data number nya\n",
    "status = ['tunai','debit','kredit','total','bayar','sisa']\n",
    "eda1_ = []\n",
    "for i in status:\n",
    "    n = eda1[['branch','divisi','cs','customer','tanggal',i]]\n",
    "    n = n.rename(columns={i:'values'})\n",
    "    n['status'] = i\n",
    "    eda1_.append(n)\n",
    "eda1 = pd.concat(eda1_)\n",
    "eda1 = eda1[eda1.divisi!='Pinjaman Sementara']\n",
    "\n",
    "# untuk sementara saja\n",
    "umum_offline = ['CASH/TUNAI','UMUM','UMUM KREDIT','(TIDAK DIGUNAKAN PERIODE 14/10/23) UMUM']\n",
    "umum_online = ['ONLINE_WA_PRIBADI','DIVISI_ONLINE_WA','PERIODE (31/10/22 - 07/09/23) ONLINE_WA']\n",
    "\n",
    "def classification_pelanggan(Pelanggan):\n",
    "    if Pelanggan in umum_offline:\n",
    "        msg = 'Umum Offline'\n",
    "    elif Pelanggan in umum_online:\n",
    "        msg = 'Umum Online'\n",
    "    else:\n",
    "        con = Pelanggan.split()[0]\n",
    "        if con == 'SPK':\n",
    "            msg = 'SPK'\n",
    "        else:\n",
    "            msg = 'Korporate'\n",
    "    return msg\n",
    "    \n",
    "pl2 = eda1[['branch','customer']].drop_duplicates()\n",
    "pl2['klasifikasi_pelanggan'] = pl2.customer.apply(classification_pelanggan)\n",
    "pl2.drop_duplicates(inplace=True)\n",
    "\n",
    "eda1 = eda1.merge(pl2[['customer','klasifikasi_pelanggan']], on='customer', how='left').drop_duplicates()\n",
    "\n",
    "# buat fungsi untuk dapatkan SPK\n",
    "def get_spk(x):\n",
    "    con = x.split()[0]\n",
    "    if con == 'SPK':\n",
    "        msg = 'Include'\n",
    "    else:\n",
    "        msg = 'Exclude'\n",
    "    return msg\n",
    "\n",
    "eda1['spk'] = eda1.customer.apply(get_spk)\n",
    "\n",
    "# save data\n",
    "eda1 = eda1[pd.to_datetime(eda1.tanggal).dt.year>=2023]"
   ]
  },
  {
   "cell_type": "code",
   "execution_count": null,
   "id": "5d072ff8-9157-4967-8fe6-522bce6c3453",
   "metadata": {},
   "outputs": [],
   "source": []
  },
  {
   "cell_type": "code",
   "execution_count": 32,
   "id": "efe8ec9b-2389-42d4-8cb2-ed27ce11f104",
   "metadata": {},
   "outputs": [],
   "source": [
    "# c = eda1.copy()\n",
    "# c['my'] = pd.to_datetime(c.tanggal).dt.strftime('%m/%y')\n",
    "# c['year'] = pd.to_datetime(c.tanggal).dt.year\n",
    "# c = c[c.status=='total']\n",
    "# c = c[c.spk=='Exclude']\n",
    "# c = c.groupby(['year','my','branch','klasifikasi_pelanggan','cs'])[['values']].sum().reset_index()\n",
    "\n",
    "# _ = []\n",
    "# for i in c.my.unique():\n",
    "#     n = c[c.my==i]\n",
    "#     for j in n.branch.unique():\n",
    "#         m = n[n.branch==j]\n",
    "#         for k in m.klasifikasi_pelanggan.unique():\n",
    "#             o = m[m.klasifikasi_pelanggan==k]\n",
    "#             o = o.sort_values('values', ascending=False)\n",
    "#             o['p_values'] = o['values']/o['values'].sum()\n",
    "#             _.append(o)\n",
    "\n",
    "# c = pd.concat(_)\n",
    "# c.to_excel('./Data/Analisa 4 pertumbuhan karyawan.xlsx', index=False)"
   ]
  },
  {
   "cell_type": "code",
   "execution_count": null,
   "id": "09cf6d0a-f4cf-45fa-a230-c4ab5bf7adc0",
   "metadata": {},
   "outputs": [],
   "source": []
  },
  {
   "cell_type": "code",
   "execution_count": null,
   "id": "7aa4cba9-d881-44b2-b81c-efb02e4234f5",
   "metadata": {},
   "outputs": [],
   "source": []
  },
  {
   "cell_type": "code",
   "execution_count": null,
   "id": "a8ad29f8-cff3-44cc-b61f-3bf5a82a1656",
   "metadata": {},
   "outputs": [],
   "source": []
  },
  {
   "cell_type": "code",
   "execution_count": null,
   "id": "9828f719-81c6-4ed6-9539-a88adfcf6aeb",
   "metadata": {},
   "outputs": [],
   "source": []
  },
  {
   "cell_type": "code",
   "execution_count": 33,
   "id": "669c403e-e46b-463d-a11b-6d184c1fca0f",
   "metadata": {},
   "outputs": [],
   "source": [
    "eda1.to_excel('./Data/1. dashboard penjualan.xlsx')"
   ]
  },
  {
   "cell_type": "markdown",
   "id": "abf1a537-dd23-4e5e-aff0-ec483bbdd538",
   "metadata": {
    "jp-MarkdownHeadingCollapsed": true
   },
   "source": [
    "## **DASHBOARD - 2 : Progress Opname**"
   ]
  },
  {
   "cell_type": "code",
   "execution_count": 34,
   "id": "8a31a541-2545-4169-b78f-ae81437ed8bf",
   "metadata": {},
   "outputs": [],
   "source": [
    "opname.groupby(['tanggal','gudang','user'])[['number','count']].sum().reset_index().to_excel('./Data/2. dashboard progress opname.xlsx', index=False)"
   ]
  },
  {
   "cell_type": "code",
   "execution_count": null,
   "id": "fe918a66-767e-45da-9e92-5797d56c814f",
   "metadata": {},
   "outputs": [],
   "source": []
  },
  {
   "cell_type": "code",
   "execution_count": null,
   "id": "c65bc9cd-6e50-40b2-81bf-8e6f33741670",
   "metadata": {},
   "outputs": [],
   "source": []
  },
  {
   "cell_type": "code",
   "execution_count": 35,
   "id": "6149d579-0129-4395-8fa0-60f5c7f846ed",
   "metadata": {},
   "outputs": [],
   "source": [
    "len_data_items = len(mi)\n",
    "\n",
    "progres = opname.groupby(['tanggal','gudang'])[['number']].sum().reset_index()\n",
    "\n",
    "progres_utm = progres[progres.gudang=='Utama']\n",
    "progres_utm['progres'] = progres_utm.number.cumsum()\n",
    "progres_utm['persentase_progres'] = progres_utm['progres'] / len_data_items\n",
    "progres_utm.to_excel('./Data/3. dashboard progress opname 2.xlsx', index=False)"
   ]
  },
  {
   "cell_type": "code",
   "execution_count": null,
   "id": "c93103f0-6be1-46c4-9394-3d5e4024ab5a",
   "metadata": {},
   "outputs": [],
   "source": []
  },
  {
   "cell_type": "code",
   "execution_count": 36,
   "id": "01838b10-203a-47c2-a66f-d3fe9d921d8a",
   "metadata": {},
   "outputs": [
    {
     "data": {
      "text/plain": [
       "23.25"
      ]
     },
     "execution_count": 36,
     "metadata": {},
     "output_type": "execute_result"
    }
   ],
   "source": [
    "opname.groupby(['tanggal'])[['number']].sum().reset_index().number.mean()"
   ]
  },
  {
   "cell_type": "code",
   "execution_count": 37,
   "id": "447eac61-3aa5-4e55-8bba-8964f4c6a52e",
   "metadata": {},
   "outputs": [
    {
     "data": {
      "text/plain": [
       "210.88235294117646"
      ]
     },
     "execution_count": 37,
     "metadata": {},
     "output_type": "execute_result"
    }
   ],
   "source": [
    "len_data_items / 17"
   ]
  },
  {
   "cell_type": "code",
   "execution_count": 38,
   "id": "ce072f03-1472-4e5f-af0b-35e9cda61605",
   "metadata": {},
   "outputs": [
    {
     "data": {
      "text/plain": [
       "3585"
      ]
     },
     "execution_count": 38,
     "metadata": {},
     "output_type": "execute_result"
    }
   ],
   "source": [
    "len_data_items"
   ]
  },
  {
   "cell_type": "code",
   "execution_count": null,
   "id": "cc9c0d7c-523f-4cec-a731-e24e2e43eca0",
   "metadata": {},
   "outputs": [],
   "source": []
  },
  {
   "cell_type": "code",
   "execution_count": null,
   "id": "5f596508-2637-44d4-926d-7416ae4ee5a5",
   "metadata": {},
   "outputs": [],
   "source": []
  },
  {
   "cell_type": "code",
   "execution_count": null,
   "id": "957a6c56-8727-43b3-a9c5-1190234165bf",
   "metadata": {},
   "outputs": [],
   "source": []
  },
  {
   "cell_type": "code",
   "execution_count": null,
   "id": "552acb1f-f4eb-4e4d-84de-94453a329520",
   "metadata": {},
   "outputs": [],
   "source": []
  },
  {
   "cell_type": "code",
   "execution_count": null,
   "id": "276bdba8-fa82-4275-a12b-8c18559367ee",
   "metadata": {},
   "outputs": [],
   "source": []
  },
  {
   "cell_type": "code",
   "execution_count": null,
   "id": "4e245269-c362-4a72-9ff6-196fbf1fe546",
   "metadata": {},
   "outputs": [],
   "source": []
  },
  {
   "cell_type": "markdown",
   "id": "0beff724-424f-449c-9f2d-9e8902a44762",
   "metadata": {},
   "source": [
    "## **LAPORAN - 1 : Piutang SPK**"
   ]
  },
  {
   "cell_type": "code",
   "execution_count": 39,
   "id": "c1170305-5b47-463e-bfe3-42440373f1b3",
   "metadata": {},
   "outputs": [],
   "source": [
    "l1 = df[df.branch=='Digital Printing']\n",
    "l1['spk'] = l1.customer.apply(lambda x: str(x).split()[0])\n",
    "l1 = l1[l1.spk == 'SPK']\n",
    "l1['date'] = l1.tanggal.dt.date\n",
    "l1 = l1[['customer','date','transaksi','tunai','kredit','debit','ket']].drop_duplicates()\n",
    "l1 = pt[['transaksi']].merge(l1, on='transaksi', how='inner')\n",
    "l1['total'] = l1.tunai + l1.kredit + l1.debit\n",
    "l1['year'] = pd.to_datetime(l1.date).dt.year\n",
    "l1['month'] = pd.to_datetime(l1.date).dt.month_name()\n",
    "l1 = l1.groupby(['customer','year','month','date','transaksi','ket'])[['total']].sum().reset_index()\n",
    "l1.to_excel('./Data Piutang Report/1. Rekap Piutang.xlsx', index=False)"
   ]
  },
  {
   "cell_type": "code",
   "execution_count": null,
   "id": "f510a716-bd7d-4411-8dbd-cd68ff470fc6",
   "metadata": {},
   "outputs": [],
   "source": []
  },
  {
   "cell_type": "code",
   "execution_count": 40,
   "id": "1ee08cb3-685a-4c9a-8d78-5b07103552f8",
   "metadata": {},
   "outputs": [],
   "source": [
    "import re\n",
    "\n",
    "def extract_values(input_string):\n",
    "    # Ekspresi reguler untuk menemukan angka di antara tanda kurung\n",
    "    pattern = r'\\((\\d+)\\)'\n",
    "    \n",
    "    # Cari semua kemunculan pola dalam string\n",
    "    matches = re.findall(pattern, input_string)\n",
    "    \n",
    "    # Ubah hasil pencarian menjadi list integer\n",
    "    result = [str(match) for match in matches]\n",
    "\n",
    "    if len(result) == 0:\n",
    "        msg = 'Non SPK'\n",
    "    else:\n",
    "        msg = result\n",
    "    \n",
    "    return msg"
   ]
  },
  {
   "cell_type": "code",
   "execution_count": 41,
   "id": "a4152cd3-446e-4535-9714-46fb2e699bbf",
   "metadata": {},
   "outputs": [],
   "source": [
    "utm = df[df.branch=='Utama']\n",
    "utm['date'] = utm.tanggal.apply(lambda x: str(x).split()[0])\n",
    "utm = utm[utm['date'].isin(['2024-06-24','2024-06-25','2024-06-26','2024-06-27','2024-06-28','2024-06-29','2024-06-30'])]\n",
    "utm = utm.groupby(['date','branch','divisi','transaksi','ket'])[['omset']].sum().reset_index()\n",
    "utm = utm[utm.ket!='unknown']\n",
    "utm['ket'] = utm['ket'].apply(lambda x: extract_values(x))\n",
    "utm = utm[utm.ket!='Non SPK']\n",
    "utm = utm.explode('ket').ffill()\n",
    "utm = utm.groupby(['date','transaksi','ket'])[['omset']].sum().reset_index()"
   ]
  },
  {
   "cell_type": "code",
   "execution_count": 42,
   "id": "757f9ac2-bf7f-4852-a032-985354097712",
   "metadata": {},
   "outputs": [],
   "source": [
    "l1['date'] = l1['date'].apply(lambda x: str(x).split()[0])"
   ]
  },
  {
   "cell_type": "code",
   "execution_count": null,
   "id": "7701e7c1-dd93-4f2e-be67-413c5a94701e",
   "metadata": {},
   "outputs": [],
   "source": []
  },
  {
   "cell_type": "code",
   "execution_count": 43,
   "id": "5789375e-df0e-4f2d-b30d-daeabfc39571",
   "metadata": {},
   "outputs": [],
   "source": [
    "spk = l1.copy()\n",
    "# spk = l1[l1['date'].isin(['2024-06-24','2024-06-25','2024-06-26','2024-06-27','2024-06-28','2024-06-29','2024-06-30'])]\n",
    "spk = spk.groupby(['date','transaksi'])[['total']].sum().reset_index()"
   ]
  },
  {
   "cell_type": "code",
   "execution_count": 44,
   "id": "470f941a-4cc0-4c86-9602-9aa747733bd8",
   "metadata": {},
   "outputs": [],
   "source": [
    "spk = spk.merge(utm[['ket','transaksi','omset']], left_on='transaksi', right_on='ket', how='left').drop(columns='ket')\n",
    "spk.columns = ['date','no_lcd','omset_spk','no_utm','omset_utm']\n",
    "spk['no_utm'].fillna('-', inplace=True)\n",
    "spk['omset_utm'].fillna(0, inplace=True)\n",
    "spk = spk.merge(l1[['customer','transaksi','ket']], left_on='no_lcd', right_on='transaksi', how='left').drop(columns='transaksi')\n",
    "spk['sisa'] = spk.omset_utm - spk.omset_spk\n",
    "spk = spk = spk[['date','customer','no_lcd','no_utm','omset_spk','omset_utm','sisa','ket']]"
   ]
  },
  {
   "cell_type": "code",
   "execution_count": null,
   "id": "c763dfde-03e0-4ed0-8d2f-095d0016ad9d",
   "metadata": {},
   "outputs": [],
   "source": []
  },
  {
   "cell_type": "code",
   "execution_count": null,
   "id": "5b387c70-e533-4076-9dd7-eec1205bc5e4",
   "metadata": {},
   "outputs": [],
   "source": []
  },
  {
   "cell_type": "code",
   "execution_count": null,
   "id": "aa5dae16-ac27-4203-b060-624cb2d60968",
   "metadata": {},
   "outputs": [],
   "source": []
  },
  {
   "cell_type": "code",
   "execution_count": 45,
   "id": "4e9270fd-19c2-4c72-8fe5-ad47260e9436",
   "metadata": {},
   "outputs": [],
   "source": [
    "spk.to_excel('./Data/SPK x Penjualan utm.xlsx', index=False)"
   ]
  },
  {
   "cell_type": "code",
   "execution_count": null,
   "id": "ed461bda-e011-4986-95ad-5387e63cb7d3",
   "metadata": {},
   "outputs": [],
   "source": []
  },
  {
   "cell_type": "code",
   "execution_count": 46,
   "id": "503c9c6c-a46a-44bb-a13a-d17f0209496e",
   "metadata": {},
   "outputs": [],
   "source": [
    "# l1 = df[df.branch=='Digital Printing']\n",
    "\n",
    "# l1['spk'] = l1.customer.apply(lambda x: str(x).split()[0])\n",
    "# l1 = l1[l1.spk != 'SPK']\n",
    "\n",
    "# l1['date'] = l1.tanggal.dt.date\n",
    "# l1 = l1[['customer','date','transaksi','tunai','kredit','debit','ket']].drop_duplicates()\n",
    "# l1 = pt[['transaksi']].merge(l1, on='transaksi', how='inner')\n",
    "\n",
    "# l1['total'] = l1.tunai + l1.kredit + l1.debit\n",
    "# l1['year'] = pd.to_datetime(l1.date).dt.year\n",
    "# l1['month'] = pd.to_datetime(l1.date).dt.month_name()\n",
    "\n",
    "# l1 = l1.groupby(['customer','year','month','date','transaksi','ket'])[['total']].sum().reset_index()\n",
    "# l1.to_excel('./Data Piutang Report/1. Rekap Piutang Non SPK.xlsx', index=False)"
   ]
  },
  {
   "cell_type": "code",
   "execution_count": 47,
   "id": "99ead20b-3209-46f8-b026-981829545dec",
   "metadata": {},
   "outputs": [],
   "source": [
    "# d1 = pd.read_excel('1.xlsx')\n",
    "# d2 = pd.read_excel('2.xlsx')\n",
    "# d3 = pd.read_excel('3.xlsx')\n",
    "# pd.concat([d1, d2, d3]).reset_index(drop=True).drop_duplicates().to_excel('utm_2023.xlsx', index=False)"
   ]
  },
  {
   "cell_type": "markdown",
   "id": "d7880947-cc9f-4c9b-99dd-cb5928676dde",
   "metadata": {
    "jp-MarkdownHeadingCollapsed": true
   },
   "source": [
    "## **LAPORAN - 2 : Analisa**"
   ]
  },
  {
   "cell_type": "code",
   "execution_count": 48,
   "id": "ac4b5eee-891d-49e2-bf61-40c623fbd281",
   "metadata": {},
   "outputs": [],
   "source": [
    "l2 = df[df.branch=='Digital Printing']\n",
    "\n",
    "# analisa program 50K\n",
    "l2['my'] = pd.to_datetime(l2.tanggal).dt.strftime('%m/%y')\n",
    "l2['spk'] = l2.customer.apply(lambda x: str(x).split()[0])\n",
    "l2 = l2[l2.spk!='SPK']"
   ]
  },
  {
   "cell_type": "code",
   "execution_count": 49,
   "id": "45163837-1b47-497b-8f42-ff1781c3b4a2",
   "metadata": {},
   "outputs": [],
   "source": [
    "l2 = l2.groupby(['my','transaksi','ket','customer'])[['omset']].sum().reset_index()\n",
    "\n",
    "def get_omset_promo(x):\n",
    "    if x > 5000000:\n",
    "        msg = 'Y'\n",
    "    else:\n",
    "        msg = 'N'\n",
    "    return msg\n",
    "\n",
    "l2['promotion_5m'] = l2.omset.apply(get_omset_promo)"
   ]
  },
  {
   "cell_type": "code",
   "execution_count": 50,
   "id": "0b086465-c140-47f3-b305-7cb4bc1a34ae",
   "metadata": {},
   "outputs": [],
   "source": [
    "eda1 = l2.groupby(['my','promotion_5m'])[['promotion_5m']].count().rename(columns={'promotion_5m':'count'}).reset_index()\n",
    "_ = []\n",
    "for i in eda1.my.unique():\n",
    "    n = eda1[eda1.my==i]\n",
    "    n['ratio'] = n['count'] / n['count'].sum()\n",
    "    _.append(n)\n",
    "eda1 = pd.concat(_)\n",
    "eda1.to_excel('./Data/1. Analisa 19 Juni 2024 1.xlsx', index=False)"
   ]
  },
  {
   "cell_type": "code",
   "execution_count": null,
   "id": "3beb4096-06b3-40e5-8ad0-f292037dd51d",
   "metadata": {},
   "outputs": [],
   "source": []
  },
  {
   "cell_type": "code",
   "execution_count": 51,
   "id": "1ea984ee-5b3c-4b4e-bd4e-39363f633b2e",
   "metadata": {},
   "outputs": [
    {
     "data": {
      "text/html": [
       "<div>\n",
       "<style scoped>\n",
       "    .dataframe tbody tr th:only-of-type {\n",
       "        vertical-align: middle;\n",
       "    }\n",
       "\n",
       "    .dataframe tbody tr th {\n",
       "        vertical-align: top;\n",
       "    }\n",
       "\n",
       "    .dataframe thead th {\n",
       "        text-align: right;\n",
       "    }\n",
       "</style>\n",
       "<table border=\"1\" class=\"dataframe\">\n",
       "  <thead>\n",
       "    <tr style=\"text-align: right;\">\n",
       "      <th></th>\n",
       "      <th></th>\n",
       "      <th></th>\n",
       "      <th></th>\n",
       "      <th>omset</th>\n",
       "    </tr>\n",
       "    <tr>\n",
       "      <th>my</th>\n",
       "      <th>transaksi</th>\n",
       "      <th>customer</th>\n",
       "      <th>ket</th>\n",
       "      <th></th>\n",
       "    </tr>\n",
       "  </thead>\n",
       "  <tbody>\n",
       "    <tr>\n",
       "      <th rowspan=\"16\" valign=\"top\">01/24</th>\n",
       "      <th>402518</th>\n",
       "      <th>UMUM</th>\n",
       "      <th>COPY A3 AS BUILT DRAWING AMBIL JAM 11 SIANG AN. RAHMA</th>\n",
       "      <td>Rp 26.616.000</td>\n",
       "    </tr>\n",
       "    <tr>\n",
       "      <th>402647</th>\n",
       "      <th>DIVISI_ONLINE_WA</th>\n",
       "      <th>KALENDER BIDAN S.E KAB.PASANGKAYU CEK DESAIN HARI JUMAT JAM 5 SORE 082313209222 IBU NITA</th>\n",
       "      <td>Rp 17.000.000</td>\n",
       "    </tr>\n",
       "    <tr>\n",
       "      <th>406025</th>\n",
       "      <th>UMUM</th>\n",
       "      <th>BUKU A1, A3 JILID ALBUM, ALBUM PETA PENYUSUNAN REVISI RTRW AMBIL KAMIS 01.02.24  JAM 6 SORE 082395468782 AN. ANDI</th>\n",
       "      <td>Rp 12.640.000</td>\n",
       "    </tr>\n",
       "    <tr>\n",
       "      <th>404654</th>\n",
       "      <th>CASH/TUNAI</th>\n",
       "      <th>PEMERINTAH KABUPATEN MOROWALI UTARA 62 823-9546-8782 AN.ANDI</th>\n",
       "      <td>Rp 11.055.000</td>\n",
       "    </tr>\n",
       "    <tr>\n",
       "      <th>406500</th>\n",
       "      <th>CASH/TUNAI</th>\n",
       "      <th>PEMERINTAH KABUPATEN MOROWALI UTARA +62 823-9546-8782 AN.ANDI</th>\n",
       "      <td>Rp 10.605.000</td>\n",
       "    </tr>\n",
       "    <tr>\n",
       "      <th>402764</th>\n",
       "      <th>ABDUL GAFAR, BPK</th>\n",
       "      <th>TAMBAHAN BUKU JILID ALBUM KENANGAN PMM, AN. PAK JAFAR</th>\n",
       "      <td>Rp 9.375.000</td>\n",
       "    </tr>\n",
       "    <tr>\n",
       "      <th>402712</th>\n",
       "      <th>UMUM</th>\n",
       "      <th>STIKER CALEG PAK AGUS | AN. JUNO 082268184391</th>\n",
       "      <td>Rp 8.442.000</td>\n",
       "    </tr>\n",
       "    <tr>\n",
       "      <th>404022</th>\n",
       "      <th>ONLINE_WA_PRIBADI</th>\n",
       "      <th>KALENDER SDIT IZZUL ISLAM BAHAN 260GR SPIRAL GANTUNG , AN.annisa</th>\n",
       "      <td>Rp 7.575.000</td>\n",
       "    </tr>\n",
       "    <tr>\n",
       "      <th>402731</th>\n",
       "      <th>UMUM</th>\n",
       "      <th>KARTU SUARA RYAN RAMADHAN | AN. JUNO</th>\n",
       "      <td>Rp 7.089.000</td>\n",
       "    </tr>\n",
       "    <tr>\n",
       "      <th>405184</th>\n",
       "      <th>UMUM KREDIT</th>\n",
       "      <th>DICKY- PBSI - CENTRAL BADMINTON 2024 l KIRIM EDITAN TGL 23 SORE</th>\n",
       "      <td>Rp 7.076.000</td>\n",
       "    </tr>\n",
       "    <tr>\n",
       "      <th>404755</th>\n",
       "      <th>UMUM</th>\n",
       "      <th>JILID GAMBAR ARSITEKTUR ARS DAN STR | AMBIL SABTU JAM 5 SORE | AN. RAHMA  082398653821</th>\n",
       "      <td>Rp 6.870.000</td>\n",
       "    </tr>\n",
       "    <tr>\n",
       "      <th>406167</th>\n",
       "      <th>ONLINE_WA_PRIBADI</th>\n",
       "      <th>BUKU MENTAL SEHAT KERJA SEHAT | AMBIL SENIN JAM 5 SORE | AN. PAK WELLY</th>\n",
       "      <td>Rp 6.760.000</td>\n",
       "    </tr>\n",
       "    <tr>\n",
       "      <th>406116</th>\n",
       "      <th>SOAL PRINTING</th>\n",
       "      <th>SP 1116 - KALENDER SINERGI PERKEBUNAN NUSANTARA DI AMBIL 6 FERBRUARI JAM 5 SOR</th>\n",
       "      <td>Rp 6.002.500</td>\n",
       "    </tr>\n",
       "    <tr>\n",
       "      <th>406447</th>\n",
       "      <th>ONLINE_WA_PRIBADI</th>\n",
       "      <th>UNIVERSITAS WIDYA NUSANTARA/AMBIL RABU JAM 5 SORE- 62 822-9187-4280</th>\n",
       "      <td>Rp 5.425.000</td>\n",
       "    </tr>\n",
       "    <tr>\n",
       "      <th>405183</th>\n",
       "      <th>YUSUF BPK-FC ALIF MUSEM</th>\n",
       "      <th>P YUSUF1-SAMPUL SKILLS LABORATORY</th>\n",
       "      <td>Rp 5.096.000</td>\n",
       "    </tr>\n",
       "    <tr>\n",
       "      <th>402770</th>\n",
       "      <th>DIVISI_ONLINE_WA</th>\n",
       "      <th>KALENDER GANTUNG TOKO EMAS HARAPAN 200 SET &amp; TOKO EMAS SENANG CEK DESAIN SABTU JAM 6 SORE +62 822-2888-1620~Elly Erisa</th>\n",
       "      <td>Rp 5.050.000</td>\n",
       "    </tr>\n",
       "    <tr>\n",
       "      <th rowspan=\"3\" valign=\"top\">04/24</th>\n",
       "      <th>416372</th>\n",
       "      <th>CASH/TUNAI</th>\n",
       "      <th>MENDALI MAN 2 PALU AMBIL TANGAL 26 APRIL +62 859-6157-6947 AN, GILANG</th>\n",
       "      <td>Rp 6.500.000</td>\n",
       "    </tr>\n",
       "    <tr>\n",
       "      <th>415327</th>\n",
       "      <th>HARAPAN BARU PARIGI</th>\n",
       "      <th>HARAPAN BARU PARIGI / BUKU PELAYANAN KESEHATAN NEONATAL ESENSIAL</th>\n",
       "      <td>Rp 6.400.000</td>\n",
       "    </tr>\n",
       "    <tr>\n",
       "      <th>417689</th>\n",
       "      <th>UMUM</th>\n",
       "      <th>SPANDUK EVA SUSANTI | AMBIL SELASA JAM 7 MALAM | AN. IBU EVA +62 811-4505-093</th>\n",
       "      <td>Rp 5.400.000</td>\n",
       "    </tr>\n",
       "    <tr>\n",
       "      <th rowspan=\"5\" valign=\"top\">05/24</th>\n",
       "      <th>421042</th>\n",
       "      <th>UMUM</th>\n",
       "      <th>FLIPCARD A4 BKKBN AMBIL KAMIS 30 MEI +62 813-4109-0042 AN IBU Selvi.Nggodey</th>\n",
       "      <td>Rp 23.000.000</td>\n",
       "    </tr>\n",
       "    <tr>\n",
       "      <th>418375</th>\n",
       "      <th>UMUM</th>\n",
       "      <th>TUMBLER PLN UPT / AN. RESKY 082393263139</th>\n",
       "      <td>Rp 21.500.000</td>\n",
       "    </tr>\n",
       "    <tr>\n",
       "      <th>418406</th>\n",
       "      <th>UMUM KREDIT</th>\n",
       "      <th>DICKY | PIALA GUBERNUR BADMINTON | AMBIL TGL 23</th>\n",
       "      <td>Rp 9.013.000</td>\n",
       "    </tr>\n",
       "    <tr>\n",
       "      <th>420941</th>\n",
       "      <th>KPU</th>\n",
       "      <th>KPU BANGGAI | DIANTAR TGL 27</th>\n",
       "      <td>Rp 8.900.000</td>\n",
       "    </tr>\n",
       "    <tr>\n",
       "      <th>418664</th>\n",
       "      <th>UMUM</th>\n",
       "      <th>VOUCHER FUNWALK DI AMBIL RABU JAM 8 MALAM</th>\n",
       "      <td>Rp 8.750.000</td>\n",
       "    </tr>\n",
       "    <tr>\n",
       "      <th rowspan=\"8\" valign=\"top\">06/24</th>\n",
       "      <th>425397</th>\n",
       "      <th>DIVISI_ONLINE_WA</th>\n",
       "      <th>BUKU GUBERNUR PROFIL BARU 2024 DIAMBIL HARD COVER RABU JAM 6 SORE, JILID LEM HARI SABTU. +62 853 9948 1118Anugrah Percetakan</th>\n",
       "      <td>Rp 14.610.000</td>\n",
       "    </tr>\n",
       "    <tr>\n",
       "      <th>424888</th>\n",
       "      <th>CASH/TUNAI</th>\n",
       "      <th>NEON BOX PRODIA AMBIL TGL 29 JUNI 2024 AN. KA MAWAN (PRODIA)</th>\n",
       "      <td>Rp 10.500.000</td>\n",
       "    </tr>\n",
       "    <tr>\n",
       "      <th>423154</th>\n",
       "      <th>JOYFUL KIDS</th>\n",
       "      <th>BONEKA WISUDA &amp; BUKU WISUDA</th>\n",
       "      <td>Rp 8.728.000</td>\n",
       "    </tr>\n",
       "    <tr>\n",
       "      <th>424366</th>\n",
       "      <th>DIVISI_ONLINE_WA</th>\n",
       "      <th>TUMBLER PT NINDYA, DIAMBIL 25 SELASA SORE DAN SISANYA KAMIS. +62 897-0436-629~Muhammad Aditya DH</th>\n",
       "      <td>Rp 7.500.000</td>\n",
       "    </tr>\n",
       "    <tr>\n",
       "      <th>424889</th>\n",
       "      <th>CASH/TUNAI</th>\n",
       "      <th>KOP SURAT,MAP, AMPLOP, STIKER OUTDOOR, STIKER ONEWAY, SPANDUK PRODIA AN. KA MAWAN (PRODIA)</th>\n",
       "      <td>Rp 6.866.000</td>\n",
       "    </tr>\n",
       "    <tr>\n",
       "      <th>422738</th>\n",
       "      <th>CASH/TUNAI</th>\n",
       "      <th>BLOK NOTE BPKP (ISI 2 SISI 50 LBR HITAM PUTIH - COVER 260 GLOSSY - JILID SPIRAL) | AN. ARI</th>\n",
       "      <td>Rp 6.250.000</td>\n",
       "    </tr>\n",
       "    <tr>\n",
       "      <th>424401</th>\n",
       "      <th>DIVISI_ONLINE_WA</th>\n",
       "      <th>BUKU SAWIT BPDPKS. DIAMBIL SABTU JAM 10 PAGI. +62 878-8757-6575~Silvi</th>\n",
       "      <td>Rp 5.990.000</td>\n",
       "    </tr>\n",
       "    <tr>\n",
       "      <th>425850</th>\n",
       "      <th>ONLINE_WA_PRIBADI</th>\n",
       "      <th>TUMBLER DAN NOTES MAYBAMK. DIAMBIL SELASA JAM 6 SORE. 085340717779 AN MAYBANK</th>\n",
       "      <td>Rp 5.849.500</td>\n",
       "    </tr>\n",
       "  </tbody>\n",
       "</table>\n",
       "</div>"
      ],
      "text/plain": [
       "                                                                                                    omset\n",
       "my    transaksi customer                ket                                                              \n",
       "01/24 402518    UMUM                    COPY A3 AS BUILT DRAWING AMBIL JAM 11 SIANG AN....  Rp 26.616.000\n",
       "      402647    DIVISI_ONLINE_WA        KALENDER BIDAN S.E KAB.PASANGKAYU CEK DESAIN HA...  Rp 17.000.000\n",
       "      406025    UMUM                    BUKU A1, A3 JILID ALBUM, ALBUM PETA PENYUSUNAN ...  Rp 12.640.000\n",
       "      404654    CASH/TUNAI              PEMERINTAH KABUPATEN MOROWALI UTARA 62 823-9546...  Rp 11.055.000\n",
       "      406500    CASH/TUNAI              PEMERINTAH KABUPATEN MOROWALI UTARA +62 823-954...  Rp 10.605.000\n",
       "      402764    ABDUL GAFAR, BPK        TAMBAHAN BUKU JILID ALBUM KENANGAN PMM, AN. PAK...   Rp 9.375.000\n",
       "      402712    UMUM                    STIKER CALEG PAK AGUS | AN. JUNO 082268184391        Rp 8.442.000\n",
       "      404022    ONLINE_WA_PRIBADI       KALENDER SDIT IZZUL ISLAM BAHAN 260GR SPIRAL GA...   Rp 7.575.000\n",
       "      402731    UMUM                    KARTU SUARA RYAN RAMADHAN | AN. JUNO                 Rp 7.089.000\n",
       "      405184    UMUM KREDIT             DICKY- PBSI - CENTRAL BADMINTON 2024 l KIRIM ED...   Rp 7.076.000\n",
       "      404755    UMUM                    JILID GAMBAR ARSITEKTUR ARS DAN STR | AMBIL SAB...   Rp 6.870.000\n",
       "      406167    ONLINE_WA_PRIBADI       BUKU MENTAL SEHAT KERJA SEHAT | AMBIL SENIN JAM...   Rp 6.760.000\n",
       "      406116    SOAL PRINTING           SP 1116 - KALENDER SINERGI PERKEBUNAN NUSANTARA...   Rp 6.002.500\n",
       "      406447    ONLINE_WA_PRIBADI       UNIVERSITAS WIDYA NUSANTARA/AMBIL RABU JAM 5 SO...   Rp 5.425.000\n",
       "      405183    YUSUF BPK-FC ALIF MUSEM P YUSUF1-SAMPUL SKILLS LABORATORY                    Rp 5.096.000\n",
       "      402770    DIVISI_ONLINE_WA        KALENDER GANTUNG TOKO EMAS HARAPAN 200 SET & TO...   Rp 5.050.000\n",
       "04/24 416372    CASH/TUNAI              MENDALI MAN 2 PALU AMBIL TANGAL 26 APRIL +62 85...   Rp 6.500.000\n",
       "      415327    HARAPAN BARU PARIGI     HARAPAN BARU PARIGI / BUKU PELAYANAN KESEHATAN ...   Rp 6.400.000\n",
       "      417689    UMUM                    SPANDUK EVA SUSANTI | AMBIL SELASA JAM 7 MALAM ...   Rp 5.400.000\n",
       "05/24 421042    UMUM                    FLIPCARD A4 BKKBN AMBIL KAMIS 30 MEI +62 813-41...  Rp 23.000.000\n",
       "      418375    UMUM                    TUMBLER PLN UPT / AN. RESKY 082393263139            Rp 21.500.000\n",
       "      418406    UMUM KREDIT             DICKY | PIALA GUBERNUR BADMINTON | AMBIL TGL 23      Rp 9.013.000\n",
       "      420941    KPU                     KPU BANGGAI | DIANTAR TGL 27                         Rp 8.900.000\n",
       "      418664    UMUM                    VOUCHER FUNWALK DI AMBIL RABU JAM 8 MALAM            Rp 8.750.000\n",
       "06/24 425397    DIVISI_ONLINE_WA        BUKU GUBERNUR PROFIL BARU 2024 DIAMBIL HARD COV...  Rp 14.610.000\n",
       "      424888    CASH/TUNAI              NEON BOX PRODIA AMBIL TGL 29 JUNI 2024 AN. KA M...  Rp 10.500.000\n",
       "      423154    JOYFUL KIDS             BONEKA WISUDA & BUKU WISUDA                          Rp 8.728.000\n",
       "      424366    DIVISI_ONLINE_WA        TUMBLER PT NINDYA, DIAMBIL 25 SELASA SORE DAN S...   Rp 7.500.000\n",
       "      424889    CASH/TUNAI              KOP SURAT,MAP, AMPLOP, STIKER OUTDOOR, STIKER O...   Rp 6.866.000\n",
       "      422738    CASH/TUNAI              BLOK NOTE BPKP (ISI 2 SISI 50 LBR HITAM PUTIH -...   Rp 6.250.000\n",
       "      424401    DIVISI_ONLINE_WA        BUKU SAWIT BPDPKS. DIAMBIL SABTU JAM 10 PAGI. +...   Rp 5.990.000\n",
       "      425850    ONLINE_WA_PRIBADI       TUMBLER DAN NOTES MAYBAMK. DIAMBIL SELASA JAM 6...   Rp 5.849.500"
      ]
     },
     "execution_count": 51,
     "metadata": {},
     "output_type": "execute_result"
    }
   ],
   "source": [
    "eda2 = l2[l2.my.isin(['05/24','06/24','01/24','04/24'])]\n",
    "eda2 = eda2[eda2.promotion_5m == 'Y']\n",
    "\n",
    "_ = []\n",
    "for i in eda2.my.unique():\n",
    "    n = eda2[eda2.my == i]\n",
    "    n.sort_values('omset', ascending=False, inplace=True)\n",
    "    _.append(n)\n",
    "eda2 = pd.concat(_)\n",
    "eda2['omset'] = eda2['omset'].apply(lambda x: rupiah(x).split(',')[0])\n",
    "eda2.set_index(['my','transaksi','customer','ket'])[['omset']]"
   ]
  },
  {
   "cell_type": "code",
   "execution_count": 52,
   "id": "fcd6a120-42a4-464e-a735-652f7a37b28a",
   "metadata": {},
   "outputs": [
    {
     "data": {
      "text/html": [
       "<div>\n",
       "<style scoped>\n",
       "    .dataframe tbody tr th:only-of-type {\n",
       "        vertical-align: middle;\n",
       "    }\n",
       "\n",
       "    .dataframe tbody tr th {\n",
       "        vertical-align: top;\n",
       "    }\n",
       "\n",
       "    .dataframe thead th {\n",
       "        text-align: right;\n",
       "    }\n",
       "</style>\n",
       "<table border=\"1\" class=\"dataframe\">\n",
       "  <thead>\n",
       "    <tr style=\"text-align: right;\">\n",
       "      <th></th>\n",
       "      <th></th>\n",
       "      <th></th>\n",
       "      <th>ket</th>\n",
       "    </tr>\n",
       "    <tr>\n",
       "      <th>my</th>\n",
       "      <th>customer</th>\n",
       "      <th>transaksi</th>\n",
       "      <th></th>\n",
       "    </tr>\n",
       "  </thead>\n",
       "  <tbody>\n",
       "    <tr>\n",
       "      <th rowspan=\"8\" valign=\"top\">06/24</th>\n",
       "      <th>ONLINE_WA_PRIBADI</th>\n",
       "      <th>425850</th>\n",
       "      <td>TUMBLER DAN NOTES MAYBAMK. DIAMBIL SELASA JAM ...</td>\n",
       "    </tr>\n",
       "    <tr>\n",
       "      <th>DIVISI_ONLINE_WA</th>\n",
       "      <th>425397</th>\n",
       "      <td>BUKU GUBERNUR PROFIL BARU 2024 DIAMBIL HARD CO...</td>\n",
       "    </tr>\n",
       "    <tr>\n",
       "      <th rowspan=\"2\" valign=\"top\">CASH/TUNAI</th>\n",
       "      <th>424888</th>\n",
       "      <td>NEON BOX PRODIA AMBIL TGL 29 JUNI 2024 AN. KA ...</td>\n",
       "    </tr>\n",
       "    <tr>\n",
       "      <th>424889</th>\n",
       "      <td>KOP SURAT,MAP, AMPLOP, STIKER OUTDOOR, STIKER ...</td>\n",
       "    </tr>\n",
       "    <tr>\n",
       "      <th rowspan=\"2\" valign=\"top\">DIVISI_ONLINE_WA</th>\n",
       "      <th>424401</th>\n",
       "      <td>BUKU SAWIT BPDPKS. DIAMBIL SABTU JAM 10 PAGI. ...</td>\n",
       "    </tr>\n",
       "    <tr>\n",
       "      <th>424366</th>\n",
       "      <td>TUMBLER PT NINDYA, DIAMBIL 25 SELASA SORE DAN ...</td>\n",
       "    </tr>\n",
       "    <tr>\n",
       "      <th>JOYFUL KIDS</th>\n",
       "      <th>423154</th>\n",
       "      <td>BONEKA WISUDA &amp; BUKU WISUDA</td>\n",
       "    </tr>\n",
       "    <tr>\n",
       "      <th>CASH/TUNAI</th>\n",
       "      <th>422738</th>\n",
       "      <td>BLOK NOTE BPKP (ISI 2 SISI 50 LBR HITAM PUTIH ...</td>\n",
       "    </tr>\n",
       "    <tr>\n",
       "      <th rowspan=\"5\" valign=\"top\">05/24</th>\n",
       "      <th>KPU</th>\n",
       "      <th>420941</th>\n",
       "      <td>KPU BANGGAI | DIANTAR TGL 27</td>\n",
       "    </tr>\n",
       "    <tr>\n",
       "      <th rowspan=\"3\" valign=\"top\">UMUM</th>\n",
       "      <th>421042</th>\n",
       "      <td>FLIPCARD A4 BKKBN AMBIL KAMIS 30 MEI +62 813-4...</td>\n",
       "    </tr>\n",
       "    <tr>\n",
       "      <th>418664</th>\n",
       "      <td>VOUCHER FUNWALK DI AMBIL RABU JAM 8 MALAM</td>\n",
       "    </tr>\n",
       "    <tr>\n",
       "      <th>418375</th>\n",
       "      <td>TUMBLER PLN UPT / AN. RESKY 082393263139</td>\n",
       "    </tr>\n",
       "    <tr>\n",
       "      <th>UMUM KREDIT</th>\n",
       "      <th>418406</th>\n",
       "      <td>DICKY | PIALA GUBERNUR BADMINTON | AMBIL TGL 23</td>\n",
       "    </tr>\n",
       "    <tr>\n",
       "      <th rowspan=\"3\" valign=\"top\">04/24</th>\n",
       "      <th>UMUM</th>\n",
       "      <th>417689</th>\n",
       "      <td>SPANDUK EVA SUSANTI | AMBIL SELASA JAM 7 MALAM...</td>\n",
       "    </tr>\n",
       "    <tr>\n",
       "      <th>CASH/TUNAI</th>\n",
       "      <th>416372</th>\n",
       "      <td>MENDALI MAN 2 PALU AMBIL TANGAL 26 APRIL +62 8...</td>\n",
       "    </tr>\n",
       "    <tr>\n",
       "      <th>HARAPAN BARU PARIGI</th>\n",
       "      <th>415327</th>\n",
       "      <td>HARAPAN BARU PARIGI / BUKU PELAYANAN KESEHATAN...</td>\n",
       "    </tr>\n",
       "    <tr>\n",
       "      <th rowspan=\"16\" valign=\"top\">01/24</th>\n",
       "      <th>ONLINE_WA_PRIBADI</th>\n",
       "      <th>406447</th>\n",
       "      <td>UNIVERSITAS WIDYA NUSANTARA/AMBIL RABU JAM 5 S...</td>\n",
       "    </tr>\n",
       "    <tr>\n",
       "      <th>SOAL PRINTING</th>\n",
       "      <th>406116</th>\n",
       "      <td>SP 1116 - KALENDER SINERGI PERKEBUNAN NUSANTAR...</td>\n",
       "    </tr>\n",
       "    <tr>\n",
       "      <th>ONLINE_WA_PRIBADI</th>\n",
       "      <th>406167</th>\n",
       "      <td>BUKU MENTAL SEHAT KERJA SEHAT | AMBIL SENIN JA...</td>\n",
       "    </tr>\n",
       "    <tr>\n",
       "      <th>UMUM</th>\n",
       "      <th>406025</th>\n",
       "      <td>BUKU A1, A3 JILID ALBUM, ALBUM PETA PENYUSUNAN...</td>\n",
       "    </tr>\n",
       "    <tr>\n",
       "      <th>CASH/TUNAI</th>\n",
       "      <th>406500</th>\n",
       "      <td>PEMERINTAH KABUPATEN MOROWALI UTARA +62 823-95...</td>\n",
       "    </tr>\n",
       "    <tr>\n",
       "      <th>UMUM KREDIT</th>\n",
       "      <th>405184</th>\n",
       "      <td>DICKY- PBSI - CENTRAL BADMINTON 2024 l KIRIM E...</td>\n",
       "    </tr>\n",
       "    <tr>\n",
       "      <th>YUSUF BPK-FC ALIF MUSEM</th>\n",
       "      <th>405183</th>\n",
       "      <td>P YUSUF1-SAMPUL SKILLS LABORATORY</td>\n",
       "    </tr>\n",
       "    <tr>\n",
       "      <th>CASH/TUNAI</th>\n",
       "      <th>404654</th>\n",
       "      <td>PEMERINTAH KABUPATEN MOROWALI UTARA 62 823-954...</td>\n",
       "    </tr>\n",
       "    <tr>\n",
       "      <th>UMUM</th>\n",
       "      <th>404755</th>\n",
       "      <td>JILID GAMBAR ARSITEKTUR ARS DAN STR | AMBIL SA...</td>\n",
       "    </tr>\n",
       "    <tr>\n",
       "      <th>ONLINE_WA_PRIBADI</th>\n",
       "      <th>404022</th>\n",
       "      <td>KALENDER SDIT IZZUL ISLAM BAHAN 260GR SPIRAL G...</td>\n",
       "    </tr>\n",
       "    <tr>\n",
       "      <th>ABDUL GAFAR, BPK</th>\n",
       "      <th>402764</th>\n",
       "      <td>TAMBAHAN BUKU JILID ALBUM KENANGAN PMM, AN. PA...</td>\n",
       "    </tr>\n",
       "    <tr>\n",
       "      <th>DIVISI_ONLINE_WA</th>\n",
       "      <th>402770</th>\n",
       "      <td>KALENDER GANTUNG TOKO EMAS HARAPAN 200 SET &amp; T...</td>\n",
       "    </tr>\n",
       "    <tr>\n",
       "      <th>UMUM</th>\n",
       "      <th>402518</th>\n",
       "      <td>COPY A3 AS BUILT DRAWING AMBIL JAM 11 SIANG AN...</td>\n",
       "    </tr>\n",
       "    <tr>\n",
       "      <th>DIVISI_ONLINE_WA</th>\n",
       "      <th>402647</th>\n",
       "      <td>KALENDER BIDAN S.E KAB.PASANGKAYU CEK DESAIN H...</td>\n",
       "    </tr>\n",
       "    <tr>\n",
       "      <th rowspan=\"2\" valign=\"top\">UMUM</th>\n",
       "      <th>402712</th>\n",
       "      <td>STIKER CALEG PAK AGUS | AN. JUNO 082268184391</td>\n",
       "    </tr>\n",
       "    <tr>\n",
       "      <th>402731</th>\n",
       "      <td>KARTU SUARA RYAN RAMADHAN | AN. JUNO</td>\n",
       "    </tr>\n",
       "  </tbody>\n",
       "</table>\n",
       "</div>"
      ],
      "text/plain": [
       "                                                                                       ket\n",
       "my    customer                transaksi                                                   \n",
       "06/24 ONLINE_WA_PRIBADI       425850     TUMBLER DAN NOTES MAYBAMK. DIAMBIL SELASA JAM ...\n",
       "      DIVISI_ONLINE_WA        425397     BUKU GUBERNUR PROFIL BARU 2024 DIAMBIL HARD CO...\n",
       "      CASH/TUNAI              424888     NEON BOX PRODIA AMBIL TGL 29 JUNI 2024 AN. KA ...\n",
       "                              424889     KOP SURAT,MAP, AMPLOP, STIKER OUTDOOR, STIKER ...\n",
       "      DIVISI_ONLINE_WA        424401     BUKU SAWIT BPDPKS. DIAMBIL SABTU JAM 10 PAGI. ...\n",
       "                              424366     TUMBLER PT NINDYA, DIAMBIL 25 SELASA SORE DAN ...\n",
       "      JOYFUL KIDS             423154                           BONEKA WISUDA & BUKU WISUDA\n",
       "      CASH/TUNAI              422738     BLOK NOTE BPKP (ISI 2 SISI 50 LBR HITAM PUTIH ...\n",
       "05/24 KPU                     420941                          KPU BANGGAI | DIANTAR TGL 27\n",
       "      UMUM                    421042     FLIPCARD A4 BKKBN AMBIL KAMIS 30 MEI +62 813-4...\n",
       "                              418664            VOUCHER FUNWALK DI AMBIL RABU JAM 8 MALAM \n",
       "                              418375              TUMBLER PLN UPT / AN. RESKY 082393263139\n",
       "      UMUM KREDIT             418406       DICKY | PIALA GUBERNUR BADMINTON | AMBIL TGL 23\n",
       "04/24 UMUM                    417689     SPANDUK EVA SUSANTI | AMBIL SELASA JAM 7 MALAM...\n",
       "      CASH/TUNAI              416372     MENDALI MAN 2 PALU AMBIL TANGAL 26 APRIL +62 8...\n",
       "      HARAPAN BARU PARIGI     415327     HARAPAN BARU PARIGI / BUKU PELAYANAN KESEHATAN...\n",
       "01/24 ONLINE_WA_PRIBADI       406447     UNIVERSITAS WIDYA NUSANTARA/AMBIL RABU JAM 5 S...\n",
       "      SOAL PRINTING           406116     SP 1116 - KALENDER SINERGI PERKEBUNAN NUSANTAR...\n",
       "      ONLINE_WA_PRIBADI       406167     BUKU MENTAL SEHAT KERJA SEHAT | AMBIL SENIN JA...\n",
       "      UMUM                    406025     BUKU A1, A3 JILID ALBUM, ALBUM PETA PENYUSUNAN...\n",
       "      CASH/TUNAI              406500     PEMERINTAH KABUPATEN MOROWALI UTARA +62 823-95...\n",
       "      UMUM KREDIT             405184     DICKY- PBSI - CENTRAL BADMINTON 2024 l KIRIM E...\n",
       "      YUSUF BPK-FC ALIF MUSEM 405183                     P YUSUF1-SAMPUL SKILLS LABORATORY\n",
       "      CASH/TUNAI              404654     PEMERINTAH KABUPATEN MOROWALI UTARA 62 823-954...\n",
       "      UMUM                    404755     JILID GAMBAR ARSITEKTUR ARS DAN STR | AMBIL SA...\n",
       "      ONLINE_WA_PRIBADI       404022     KALENDER SDIT IZZUL ISLAM BAHAN 260GR SPIRAL G...\n",
       "      ABDUL GAFAR, BPK        402764     TAMBAHAN BUKU JILID ALBUM KENANGAN PMM, AN. PA...\n",
       "      DIVISI_ONLINE_WA        402770     KALENDER GANTUNG TOKO EMAS HARAPAN 200 SET & T...\n",
       "      UMUM                    402518     COPY A3 AS BUILT DRAWING AMBIL JAM 11 SIANG AN...\n",
       "      DIVISI_ONLINE_WA        402647     KALENDER BIDAN S.E KAB.PASANGKAYU CEK DESAIN H...\n",
       "      UMUM                    402712         STIKER CALEG PAK AGUS | AN. JUNO 082268184391\n",
       "                              402731                 KARTU SUARA RYAN RAMADHAN | AN. JUNO "
      ]
     },
     "execution_count": 52,
     "metadata": {},
     "output_type": "execute_result"
    }
   ],
   "source": [
    "check = df[df.transaksi.isin(eda2.transaksi.tolist())].drop_duplicates(subset='transaksi')[['tanggal','customer','transaksi','ket']]\n",
    "check['my'] = pd.to_datetime(check.tanggal).dt.strftime('%m/%y')\n",
    "check[['my','customer','transaksi','ket']].set_index(['my','customer','transaksi'])"
   ]
  },
  {
   "cell_type": "code",
   "execution_count": 53,
   "id": "42a3fb8a-1614-4990-a124-0eba59af919f",
   "metadata": {},
   "outputs": [],
   "source": [
    "l2 = df[df.branch=='Digital Printing']\n",
    "\n",
    "# analisa program 50K\n",
    "l2['my'] = pd.to_datetime(l2.tanggal).dt.strftime('%m/%y')\n",
    "l2['spk'] = l2.customer.apply(lambda x: str(x).split()[0])\n",
    "l2 = l2[l2.spk!='SPK']\n",
    "l2 = l2[l2.customer.isin(['DIVISI_ONLINE_WA'])]"
   ]
  },
  {
   "cell_type": "code",
   "execution_count": null,
   "id": "6143d546-7798-477e-a100-73bca3cb75e8",
   "metadata": {},
   "outputs": [],
   "source": []
  },
  {
   "cell_type": "code",
   "execution_count": null,
   "id": "b313c9ac-5217-43de-bbe5-48ab2fde1914",
   "metadata": {},
   "outputs": [],
   "source": []
  },
  {
   "cell_type": "code",
   "execution_count": 54,
   "id": "be47f86a-0920-42c4-bf36-5395d4df17c1",
   "metadata": {},
   "outputs": [],
   "source": [
    "_ = []\n",
    "for i in l2.cs.unique():\n",
    "    n = l2[l2.cs==i]\n",
    "\n",
    "    omset = n.omset.sum()\n",
    "    day_meter = n.tanggal.max() - n.tanggal.min()\n",
    "    \n",
    "    days = int(str(day_meter).split()[0])\n",
    "    hours = int(str(day_meter).split()[-1].split(':')[0])\n",
    "    minute = int(str(day_meter).split()[-1].split(':')[1])\n",
    "\n",
    "    hm = (days * 24 * 60) + (hours * 60) + (minute)\n",
    "    hm = hm / 60\n",
    "    \n",
    "    cs = i\n",
    "\n",
    "    _.append(\n",
    "        pd.DataFrame({\n",
    "            'cs':[cs],\n",
    "            'hm':[hm],\n",
    "            'omset':[omset]\n",
    "        })\n",
    "    )\n",
    "\n",
    "eda1 = pd.concat(_)\n",
    "eda1 = eda1.reset_index(drop=True)\n",
    "eda1['omset/hm'] = eda1.omset / eda1.hm\n",
    "eda1['omset/hm'].replace(np.inf, 0, inplace=True)\n",
    "eda1.sort_values('omset/hm', ascending=False, inplace=True)"
   ]
  },
  {
   "cell_type": "code",
   "execution_count": null,
   "id": "7ac1c817-2c74-4257-b1c4-c90856f3efbf",
   "metadata": {},
   "outputs": [],
   "source": []
  },
  {
   "cell_type": "code",
   "execution_count": 55,
   "id": "8d941b9c-49fe-4a16-90a9-a825e376c3ca",
   "metadata": {},
   "outputs": [],
   "source": [
    "eda2 = l2[['cs','transaksi']].drop_duplicates().groupby(['cs'])[['transaksi']].count().reset_index().sort_values('transaksi', ascending=False)"
   ]
  },
  {
   "cell_type": "code",
   "execution_count": null,
   "id": "179123a2-c468-4b8b-82fe-43aa460614cb",
   "metadata": {},
   "outputs": [],
   "source": []
  },
  {
   "cell_type": "code",
   "execution_count": null,
   "id": "237859a1-1f84-48fe-b929-781d93da97e9",
   "metadata": {},
   "outputs": [],
   "source": []
  },
  {
   "cell_type": "code",
   "execution_count": 56,
   "id": "a1206d71-e871-406c-8d9d-7a8e40a1a35a",
   "metadata": {},
   "outputs": [],
   "source": [
    "eda1 = eda1.merge(eda2, on='cs', how='left')"
   ]
  },
  {
   "cell_type": "code",
   "execution_count": null,
   "id": "ba1ae682-46f7-4576-b2b5-86c72a0a47fa",
   "metadata": {},
   "outputs": [],
   "source": []
  },
  {
   "cell_type": "code",
   "execution_count": null,
   "id": "e14b5162-58f0-47d4-a4b2-220c592de145",
   "metadata": {},
   "outputs": [],
   "source": []
  },
  {
   "cell_type": "code",
   "execution_count": null,
   "id": "15fd332a-8c60-4f34-a793-071ff65bf45e",
   "metadata": {},
   "outputs": [],
   "source": []
  },
  {
   "cell_type": "code",
   "execution_count": null,
   "id": "207c99d0-3dc9-4b94-b1a3-714b8467e672",
   "metadata": {},
   "outputs": [],
   "source": []
  },
  {
   "cell_type": "code",
   "execution_count": 57,
   "id": "828edee0-364b-4b7f-acf7-6c0b889339f8",
   "metadata": {},
   "outputs": [],
   "source": [
    "eda1.to_excel('./Data/1. Analisa 19 Juni 2024 2.xlsx', index=False)"
   ]
  },
  {
   "cell_type": "code",
   "execution_count": null,
   "id": "baad02e2-f9f3-4aaf-82c0-93a207b72a46",
   "metadata": {},
   "outputs": [],
   "source": []
  },
  {
   "cell_type": "code",
   "execution_count": null,
   "id": "486825c3-5fd4-435a-a431-bd217b34e69e",
   "metadata": {},
   "outputs": [],
   "source": []
  },
  {
   "cell_type": "code",
   "execution_count": null,
   "id": "ac291fd9-8a93-400e-9084-0157075a0989",
   "metadata": {},
   "outputs": [],
   "source": []
  },
  {
   "cell_type": "code",
   "execution_count": null,
   "id": "ed6cfa68-0141-40ed-83d9-e599d2183660",
   "metadata": {},
   "outputs": [],
   "source": []
  },
  {
   "cell_type": "code",
   "execution_count": null,
   "id": "e58b253d-c06e-481f-9c6f-9549376b99af",
   "metadata": {},
   "outputs": [],
   "source": []
  },
  {
   "cell_type": "code",
   "execution_count": null,
   "id": "24d527d4-b59b-4bc5-8da4-21bd5c65f6de",
   "metadata": {},
   "outputs": [],
   "source": []
  },
  {
   "cell_type": "code",
   "execution_count": 58,
   "id": "0cfb2b30-9799-476a-bd02-badfacbcf6ca",
   "metadata": {},
   "outputs": [],
   "source": [
    "# l2 = df[df.branch=='Digital Printing']\n",
    "l2 = df\n",
    "\n",
    "# analisa program 50K\n",
    "l2['my'] = pd.to_datetime(l2.tanggal).dt.strftime('%m/%y')\n",
    "l2['year'] = pd.to_datetime(l2.tanggal).dt.year\n",
    "l2['spk'] = l2.customer.apply(lambda x: str(x).split()[0])\n",
    "# l2 = l2[l2.spk!='SPK']\n",
    "# l2 = l2[l2.customer.isin(['DIVISI_ONLINE_WA'])]\n",
    "eda1 = l2.groupby(['branch','divisi','cs','year','my','produk'])[['omset']].sum().reset_index()\n",
    "eda1.to_excel('./Data/1. Analisa 19 Juni 2024 3.xlsx', index=False)"
   ]
  },
  {
   "cell_type": "code",
   "execution_count": null,
   "id": "d6baa6c5-4eb5-4150-8664-9a4a9ab69061",
   "metadata": {},
   "outputs": [],
   "source": []
  },
  {
   "cell_type": "code",
   "execution_count": 59,
   "id": "1521dba4-c846-4c0a-8222-a773afab14a7",
   "metadata": {},
   "outputs": [],
   "source": [
    "eda1 = eda1[eda1.my=='06/24']\n",
    "_ = []\n",
    "for i in eda1.cs.unique():\n",
    "    n = eda1[eda1.cs==i]\n",
    "    n = n.sort_values('omset', ascending=False)\n",
    "    n = n.head(5)\n",
    "    _.append(n)\n",
    "eda1 = pd.concat(_)\n",
    "eda1.to_excel('./Data/1. Analisa 19 Juni 2024 4.xlsx', index=False)"
   ]
  },
  {
   "cell_type": "code",
   "execution_count": null,
   "id": "1444dd39-1ac9-46ec-8500-009417a2b090",
   "metadata": {},
   "outputs": [],
   "source": []
  },
  {
   "cell_type": "code",
   "execution_count": null,
   "id": "40142235-21e1-4582-ad94-e2f0bf76b147",
   "metadata": {},
   "outputs": [],
   "source": []
  },
  {
   "cell_type": "code",
   "execution_count": null,
   "id": "54326a38-7c98-44e4-95c9-f509d668ac74",
   "metadata": {},
   "outputs": [],
   "source": []
  },
  {
   "cell_type": "code",
   "execution_count": null,
   "id": "7b249f23-95e4-41a2-949e-90e876c762d5",
   "metadata": {},
   "outputs": [],
   "source": []
  },
  {
   "cell_type": "code",
   "execution_count": null,
   "id": "f249f862-3da2-42d7-9ad0-ca2697291d20",
   "metadata": {},
   "outputs": [],
   "source": []
  },
  {
   "cell_type": "code",
   "execution_count": null,
   "id": "5d1ce2bd-7ccd-4a9f-83c7-891a8a0f1ad9",
   "metadata": {},
   "outputs": [],
   "source": []
  },
  {
   "cell_type": "code",
   "execution_count": null,
   "id": "f3a19161-4d21-4fd7-8ced-0e79c877d204",
   "metadata": {},
   "outputs": [],
   "source": []
  },
  {
   "cell_type": "code",
   "execution_count": null,
   "id": "ae974619-1362-4ca7-915f-b83b031aa1bb",
   "metadata": {},
   "outputs": [],
   "source": []
  },
  {
   "cell_type": "code",
   "execution_count": null,
   "id": "d4d78e0b-0e60-4831-bad9-bf20d77deb41",
   "metadata": {},
   "outputs": [],
   "source": []
  },
  {
   "cell_type": "code",
   "execution_count": null,
   "id": "ac6f3fb5-67c9-4c51-b1b7-fe6c9452f1cf",
   "metadata": {},
   "outputs": [],
   "source": []
  },
  {
   "cell_type": "markdown",
   "id": "cb4b161e-55ec-491c-82b7-2e7dc466f337",
   "metadata": {
    "jp-MarkdownHeadingCollapsed": true
   },
   "source": [
    "## **LAPORAN - 3 : Omset Crew Finishing**"
   ]
  },
  {
   "cell_type": "code",
   "execution_count": 60,
   "id": "e8c58532-0f8d-45c5-b372-53158795a43b",
   "metadata": {},
   "outputs": [],
   "source": [
    "# hapus baris yang kosong\n",
    "pf = pf.dropna(axis=0)\n",
    "pf = pf[pf.transaksi!='nan']\n",
    "\n",
    "# copy data penjualan\n",
    "pj = df.copy()\n",
    "pj['transaksi'] = pj['transaksi'].apply(lambda x: str(x).split('/')[0].split('-')[0])\n",
    "pj = pj[['divisi','transaksi','produk','omset']]\n",
    "pj = pj[pj.divisi.isin(['ATK','Pinjaman Sementara','OE']) == False]\n",
    "pj = pj.groupby(['divisi','transaksi'])[['omset']].sum().reset_index()\n",
    "\n",
    "# merge data\n",
    "pf = pf.merge(pj, on='transaksi', how='left')\n",
    "pf['jml_crew_per_project'] = pf.crew_finishing.apply(lambda x: len(x.split(',')))\n",
    "pf['omset'] = pf.omset / pf.jml_crew_per_project\n",
    "pf['omset'].fillna(0, inplace=True)\n",
    "\n",
    "# pisahkan data dari crew finishing yang tergabung\n",
    "pf['crew_finishing'] = pf['crew_finishing'].apply(lambda x: str(x).split(', '))\n",
    "pf = pf.explode('crew_finishing').reset_index(drop=True)\n",
    "pf['tanggal'] = pd.to_datetime(pf.timestamps).dt.date\n",
    "pf = pf.groupby(['tanggal','crew_finishing'])[['omset']].sum().reset_index()\n",
    "pf.to_excel('./Data/4. dashboard crew finishing.xlsx', index=False)"
   ]
  },
  {
   "cell_type": "markdown",
   "id": "e6d59c8c-a112-4b7f-92e0-3e5f8a85e0af",
   "metadata": {
    "jp-MarkdownHeadingCollapsed": true
   },
   "source": [
    "## **LAPORAN - 4 : Check Piutang Customer All**"
   ]
  },
  {
   "cell_type": "code",
   "execution_count": 61,
   "id": "ff1b5588-8320-4018-8058-e210cde0a82b",
   "metadata": {},
   "outputs": [],
   "source": [
    "eda4 = pt.merge(df[['transaksi','cs','customer','ket']], how='left', on='transaksi')\n",
    "eda4 = eda4.merge(pl1[['id','customer']], on='customer', how='left')\n",
    "eda4['id'] = eda4['id'].apply(lambda x: str(x).split('.')[0][:2])\n",
    "eda4.columns = [' '.join(i.split('_')).upper() for i in eda4.columns]\n",
    "eda4 = eda4.drop_duplicates()\n",
    "\n",
    "eda4 = eda4.groupby(['BRANCH','ID','CUSTOMER','CS','TANGGAL','TRANSAKSI','KET'])[['KREDIT']].sum().reset_index()"
   ]
  },
  {
   "cell_type": "code",
   "execution_count": 62,
   "id": "e63a1c67-de9a-4f8b-91ba-16eb6521fa0d",
   "metadata": {},
   "outputs": [],
   "source": [
    "ab = eda4[eda4.ID == 'AB']\n",
    "um = eda4[eda4.CUSTOMER.isin(['UMUM','UMUM KREDIT','CASH/TUNAI','DIVISI_ONLINE_WA','ONLINE_WA_PRIBADI'])]\n",
    "check = pd.concat([ab, um])\n",
    "check = check[check.BRANCH=='Digital Printing']\n",
    "check = check.groupby(['BRANCH','CS','CUSTOMER','TANGGAL','TRANSAKSI','KET'])[['KREDIT']].sum().reset_index()\n",
    "check = check[pd.to_datetime(check.TANGGAL).dt.year==2024]"
   ]
  },
  {
   "cell_type": "code",
   "execution_count": 63,
   "id": "9f21a145-2a66-4ecb-9388-72362169eeae",
   "metadata": {},
   "outputs": [],
   "source": [
    "check.to_excel('./Data/Daily Monitoring Piutang.xlsx', index=False)"
   ]
  },
  {
   "cell_type": "code",
   "execution_count": null,
   "id": "5d8afe44-03b3-4a5d-b8bf-b8d88c77902f",
   "metadata": {},
   "outputs": [],
   "source": []
  },
  {
   "cell_type": "code",
   "execution_count": null,
   "id": "f2354560-0a02-4dbe-b922-de14cbd0fa31",
   "metadata": {},
   "outputs": [],
   "source": []
  },
  {
   "cell_type": "code",
   "execution_count": null,
   "id": "e0167c6a-4446-45b9-b0af-0438706000e3",
   "metadata": {},
   "outputs": [],
   "source": []
  },
  {
   "cell_type": "code",
   "execution_count": 64,
   "id": "c9282584-d412-4b17-a1a2-20377a806434",
   "metadata": {},
   "outputs": [],
   "source": [
    "eda4.to_excel('./Data/Rekap Piutang Semua Customer.xlsx')"
   ]
  },
  {
   "cell_type": "markdown",
   "id": "fd92288b-0380-4993-8f12-e0b3db4290a4",
   "metadata": {
    "jp-MarkdownHeadingCollapsed": true
   },
   "source": [
    "## **LAPORAN - 5 : Check Piutang Customer All**"
   ]
  },
  {
   "cell_type": "code",
   "execution_count": null,
   "id": "1fe612ab-9a6b-47fd-819b-45dd8137d653",
   "metadata": {},
   "outputs": [],
   "source": []
  },
  {
   "cell_type": "code",
   "execution_count": null,
   "id": "d6b0fca3-62e2-48ca-bb27-f052efcb06e2",
   "metadata": {},
   "outputs": [],
   "source": []
  },
  {
   "cell_type": "code",
   "execution_count": null,
   "id": "abc38950-8bd4-4c76-a91f-0a94fc9079ea",
   "metadata": {},
   "outputs": [],
   "source": []
  },
  {
   "cell_type": "code",
   "execution_count": null,
   "id": "b4749330-fbc9-4077-bfc0-99c025a97c71",
   "metadata": {},
   "outputs": [],
   "source": []
  },
  {
   "cell_type": "code",
   "execution_count": null,
   "id": "1987879c-2418-4fc3-b55e-3be93ab26150",
   "metadata": {},
   "outputs": [],
   "source": []
  },
  {
   "cell_type": "code",
   "execution_count": null,
   "id": "80be4c48-5f71-40fd-aa06-b8c39a219e15",
   "metadata": {},
   "outputs": [],
   "source": []
  },
  {
   "cell_type": "code",
   "execution_count": null,
   "id": "c2770543-2f4a-4e44-b042-929a6c2afb5a",
   "metadata": {},
   "outputs": [],
   "source": []
  },
  {
   "cell_type": "code",
   "execution_count": null,
   "id": "c37c8728-6e85-4b2f-b9a2-25b24b4ba96a",
   "metadata": {},
   "outputs": [],
   "source": []
  },
  {
   "cell_type": "code",
   "execution_count": null,
   "id": "db5ebd86-958e-45e8-af41-2712e5a7df4a",
   "metadata": {},
   "outputs": [],
   "source": []
  },
  {
   "cell_type": "code",
   "execution_count": null,
   "id": "8762f436-4b5b-4c98-91c2-5765c2408c02",
   "metadata": {},
   "outputs": [],
   "source": []
  },
  {
   "cell_type": "code",
   "execution_count": null,
   "id": "b3a987d2-07f7-4f63-8472-9acb0d092d17",
   "metadata": {},
   "outputs": [],
   "source": []
  },
  {
   "cell_type": "code",
   "execution_count": null,
   "id": "617d503f-a6a3-42c4-be7e-c084727a914d",
   "metadata": {},
   "outputs": [],
   "source": []
  }
 ],
 "metadata": {
  "kernelspec": {
   "display_name": "Python 3 (ipykernel)",
   "language": "python",
   "name": "python3"
  },
  "language_info": {
   "codemirror_mode": {
    "name": "ipython",
    "version": 3
   },
   "file_extension": ".py",
   "mimetype": "text/x-python",
   "name": "python",
   "nbconvert_exporter": "python",
   "pygments_lexer": "ipython3",
   "version": "3.12.4"
  }
 },
 "nbformat": 4,
 "nbformat_minor": 5
}
