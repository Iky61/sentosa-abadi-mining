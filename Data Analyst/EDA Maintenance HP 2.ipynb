{
 "cells": [
  {
   "cell_type": "code",
   "execution_count": 1,
   "id": "e1f3d000-1010-4e68-8cfd-fb9defe29fcf",
   "metadata": {},
   "outputs": [],
   "source": [
    "import pandas as pd\n",
    "import numpy as np\n",
    "import matplotlib.pyplot as plt\n",
    "import seaborn as sns\n",
    "from datetime import datetime\n",
    "import requests\n",
    "from tqdm import tqdm\n",
    "\n",
    "from sklearn.preprocessing import MinMaxScaler, LabelEncoder\n",
    "from sklearn.model_selection import GridSearchCV, train_test_split\n",
    "from sklearn.pipeline import Pipeline\n",
    "from sklearn.compose import ColumnTransformer\n",
    "import os\n",
    "\n",
    "sns.set_palette('Spectral')\n",
    "sns.set_context('notebook', font_scale=1)\n",
    "sns.set_style('whitegrid')\n",
    "pd.set_option('display.max_columns', None)\n",
    "\n",
    "import warnings\n",
    "\n",
    "warnings.filterwarnings('ignore')"
   ]
  },
  {
   "cell_type": "markdown",
   "id": "358f9950-d061-4336-b7a1-93daa9a079f1",
   "metadata": {
    "jp-MarkdownHeadingCollapsed": true
   },
   "source": [
    "# **PREPARE FUNCTION**"
   ]
  },
  {
   "cell_type": "code",
   "execution_count": 2,
   "id": "206d3587-4906-49b4-802c-5fd67740bc23",
   "metadata": {},
   "outputs": [],
   "source": [
    "# create function to transform timedelat to minute\n",
    "def timedelta_to_hour(timedelta_str):\n",
    "    # Konversi timedelta string ke timedelta object\n",
    "    timedelta_obj = pd.to_timedelta(timedelta_str)\n",
    "    \n",
    "    # Hitung total detik dalam timedelta\n",
    "    total_seconds = timedelta_obj.total_seconds()\n",
    "    \n",
    "    # Konversi total detik ke jam\n",
    "    total_hour = total_seconds / 3600\n",
    "    \n",
    "    return total_hour"
   ]
  },
  {
   "cell_type": "code",
   "execution_count": 3,
   "id": "b453418a-3d27-4f03-89c7-1a2ff181edeb",
   "metadata": {},
   "outputs": [],
   "source": [
    "# create transform curency\n",
    "def rupiah(value):\n",
    "    str_value = str(value)\n",
    "    separate_decimal = str_value.split(\".\")\n",
    "    after_decimal = separate_decimal[0]\n",
    "    before_decimal = separate_decimal[1]\n",
    "\n",
    "    reverse = after_decimal[::-1]\n",
    "    temp_reverse_value = \"\"\n",
    "\n",
    "    for index, val in enumerate(reverse):\n",
    "        if (index + 1) % 3 == 0 and index + 1 != len(reverse):\n",
    "            temp_reverse_value = temp_reverse_value + val + \".\"\n",
    "        else:\n",
    "            temp_reverse_value = temp_reverse_value + val\n",
    "\n",
    "    temp_result = temp_reverse_value[::-1]\n",
    "\n",
    "    return \"Rp \" + temp_result + \",\" + before_decimal"
   ]
  },
  {
   "cell_type": "code",
   "execution_count": 4,
   "id": "14c489ca-9714-4e67-8208-21a5371ad799",
   "metadata": {},
   "outputs": [],
   "source": [
    "def similairty_sentence(text1, text2):\n",
    "    # Menggunakan regex untuk memisahkan teks berdasarkan simbol dan spasi\n",
    "    tokens1 = ''.join(re.split(r'\\W+', text1.lower()))\n",
    "    tokens2 = ''.join(re.split(r'\\W+', text2.lower()))\n",
    "\n",
    "    # Menghitung frekuensi kata dalam masing-masing teks\n",
    "    counter1 = Counter(tokens1)\n",
    "    counter2 = Counter(tokens2)\n",
    "\n",
    "    # Menghitung dot product\n",
    "    dot_product = sum(counter1[word] * counter2[word] for word in counter1 if word in counter2)\n",
    "\n",
    "    # Menghitung magnitudo dari vektor tiap teks\n",
    "    magnitude1 = math.sqrt(sum(counter1[word] ** 2 for word in counter1))\n",
    "    magnitude2 = math.sqrt(sum(counter2[word] ** 2 for word in counter2))\n",
    "\n",
    "    # Menghindari pembagian oleh nol\n",
    "    if magnitude1 == 0 or magnitude2 == 0:\n",
    "        return 0\n",
    "\n",
    "    # Menghitung cosine similarity\n",
    "    similarity = dot_product / (magnitude1 * magnitude2)\n",
    "    \n",
    "    return similarity"
   ]
  },
  {
   "cell_type": "code",
   "execution_count": 5,
   "id": "a7133e0f-9856-4aa7-8989-ab3500d08446",
   "metadata": {},
   "outputs": [],
   "source": [
    "def read_file(path, sheet=''):\n",
    "    list_file = os.listdir(path)\n",
    "    try:\n",
    "        list_file.remove('.DS_Store')\n",
    "    except:\n",
    "        None\n",
    "    \n",
    "    msg = []\n",
    "    for i in list_file:\n",
    "        if sheet == '':\n",
    "            msg.append(pd.read_excel(path + '/' + i))\n",
    "        else:\n",
    "            msg.append(pd.read_excel(path + '/' + i, sheet_name=sheet))\n",
    "    msg = pd.concat(msg)\n",
    "    msg.reset_index(drop=True, inplace=True)\n",
    "    return msg"
   ]
  },
  {
   "cell_type": "code",
   "execution_count": 6,
   "id": "b8a1d109-d6ff-4dd9-b214-03ba11ff5cbf",
   "metadata": {},
   "outputs": [],
   "source": [
    "def get_work_date(x):\n",
    "    x = str(x).split()[0]\n",
    "    \n",
    "    date_start = str(x).split()[0] + ' 07:00:00'\n",
    "    date_end = str(x).split()[0] + ' 17:00:00'\n",
    "    msg = {'start':date_start, 'end':date_end}\n",
    "    return msg"
   ]
  },
  {
   "cell_type": "code",
   "execution_count": 7,
   "id": "b9c1de49-0223-45ea-8bff-f228dbcaf23a",
   "metadata": {},
   "outputs": [],
   "source": [
    "def retext_equipment_name_t1(x):\n",
    "    if x in ['SAKAI SAKAI SV 525 D']:\n",
    "        msg = 'SAKAI SV'\n",
    "    else:\n",
    "        if x in ['KOMATSU PC200-8M1','KOMATSU PC200-10/S21','KOMATSU PC200-8M0','KOMATSU PC200-8']:\n",
    "            msg = 'KOMATSU PC200'\n",
    "        elif x in ['KOMATSU PC195LC', 'KOMATSU PC195LC','KOMATSU PC195-LC', 'KOMATSU PC195LC-8', 'KOMATSU PC195LC-8']:\n",
    "            msg = 'KOMATSU PC195'\n",
    "        elif x in ['HINO WU352R-HKMRJD8B','HINO WU352R-HKMRJD3L']:\n",
    "            msg = 'HINO WU352R'\n",
    "        elif x in ['KOBELCO SK 200','KOBELCO SK200-10','KOBELCO SK330-14','KOBELCO SK', 'KOBELCO SK 200']:\n",
    "            msg = 'KOBELCO SK200'\n",
    "        elif x in ['KOBELCO SK 330']:\n",
    "            msg = 'KOBELCO SK330'\n",
    "        elif x in ['KOMATSU PC300SE-8','KOMATSU PC300SE-8MO','KOMATSU PC300-8M0','KOMATSU PC300SE-8M0']:\n",
    "            msg = 'KOMATSU PC300'\n",
    "        elif x in ['KOMATSU PC400LCSE-8']:\n",
    "            msg = 'KOMATSU PC400'\n",
    "        elif x in ['KOMATSU D85ESS-2','KOMATSU D85E-SS-2']:\n",
    "            msg = 'KOMATSU D85'\n",
    "        elif x in ['KOMATSU D65P-12']:\n",
    "            msg = 'KOMATSU D65'\n",
    "        elif x in ['KOMATSU GD511A-1','KOMATSU GD535-5']:\n",
    "            msg = 'KOMATSU GD'\n",
    "        elif x in ['KOMATSU HM400-3R','KOMATSU HM400']:\n",
    "            msg = 'KOMATSU HM400'\n",
    "        elif x in ['KOMATSU PC500LC-10R']:\n",
    "            msg = 'KOMATSU PC500'\n",
    "        elif x in ['PAJERO SPORT','PAJERO']:\n",
    "            msg = 'PAJERO'\n",
    "        else:\n",
    "            msg = x.split('-')[0]\n",
    "    return msg"
   ]
  },
  {
   "cell_type": "code",
   "execution_count": 8,
   "id": "986c69fa-3856-4059-b214-c1a7fd5493c6",
   "metadata": {},
   "outputs": [],
   "source": [
    "def retext_equipment_name(x):\n",
    "    if x in ['HINO ZY1EWPD-XS','HINO ZY1EWRD-XS','HINO ZY1EWRN-XS']:\n",
    "        msg = 'HINO ZY'\n",
    "    elif x in ['HINO ZS1EPPD-XS']:\n",
    "        msg = 'HINO ZS'\n",
    "    else:\n",
    "        msg = retext_equipment_name_t1(x)\n",
    "    return msg"
   ]
  },
  {
   "cell_type": "code",
   "execution_count": 9,
   "id": "d0b9088f-9868-489a-be2a-ed9c1c7c19d4",
   "metadata": {},
   "outputs": [],
   "source": [
    "def company_to_kontrak(x):\n",
    "    if x == 'CV. SENTOSA ABADI' or x == 'PT. SENTOSA ABADI MINING':\n",
    "        msg = 'Mining BDM'\n",
    "    elif x == 'CV. Adil Prima Perkasa':\n",
    "        msg = 'Mining KBM'\n",
    "    else:\n",
    "        msg = 'Tidak Diketahui'\n",
    "    return msg"
   ]
  },
  {
   "cell_type": "code",
   "execution_count": 10,
   "id": "dd8e2bc6-fa62-4044-a365-0da7d713da27",
   "metadata": {},
   "outputs": [],
   "source": [
    "# fungsi membuat rentang tanggal\n",
    "def create_date_range_dataframe(start_year: int, end_year: int):\n",
    "    # Tentukan tanggal awal dan akhir berdasarkan input tahun\n",
    "    start_date = datetime(start_year, 1, 1)\n",
    "    end_date = datetime(end_year, 12, 31)\n",
    "    \n",
    "    # Buat list untuk menyimpan rentang tanggal\n",
    "    date_range = []\n",
    "\n",
    "    # Hitung jumlah hari dari tanggal awal hingga tanggal akhir\n",
    "    delta = end_date - start_date\n",
    "\n",
    "    # Tambahkan setiap tanggal dalam rentang tersebut ke dalam list\n",
    "    for i in range(delta.days + 1):\n",
    "        date = start_date + timedelta(days=i)\n",
    "        date_range.append(date)\n",
    "\n",
    "    # Buat DataFrame dari list rentang tanggal\n",
    "    date_df = pd.DataFrame({'date': date_range})\n",
    "\n",
    "    # Ubah format tanggal menjadi 'YYYY-MM-DD'\n",
    "    date_df['date'] = date_df['date'].apply(lambda x: str(x).split()[0])\n",
    "\n",
    "    return date_df"
   ]
  },
  {
   "cell_type": "code",
   "execution_count": 11,
   "id": "1aabf47f-3aab-4b49-9023-c5aab7ada4fd",
   "metadata": {},
   "outputs": [],
   "source": [
    "from datetime import datetime, timedelta\n",
    "\n",
    "# Tentukan tanggal awal (1 Januari 2023)\n",
    "start_date = datetime(2023, 1, 1)\n",
    "\n",
    "# Tentukan tanggal hari ini\n",
    "today = datetime.today()\n",
    "\n",
    "# Buat list untuk menyimpan rentang tanggal\n",
    "date_range = []\n",
    "\n",
    "# Hitung jumlah hari dari tanggal awal hingga hari ini\n",
    "delta = today - start_date\n",
    "\n",
    "# Tambahkan setiap tanggal dalam rentang tersebut ke dalam list\n",
    "for i in range(delta.days + 1):\n",
    "    date = start_date + timedelta(days=i)\n",
    "    date_range.append(date)\n",
    "\n",
    "date = pd.DataFrame({'date':date_range})\n",
    "date['date'] = date['date'].apply(lambda x: str(x).split()[0])\n",
    "date['month'] = pd.to_datetime(date['date']).dt.strftime('%m/%y')\n",
    "\n",
    "_ = []\n",
    "for i in date.month.unique().tolist():\n",
    "    n = date[date.month==i]\n",
    "    n['count_day'] = len(n)\n",
    "    _.append(n)\n",
    "\n",
    "date = pd.concat(_)"
   ]
  },
  {
   "cell_type": "code",
   "execution_count": 12,
   "id": "09626418-5610-44d9-9071-d33867971ac6",
   "metadata": {},
   "outputs": [],
   "source": [
    "# Definisikan fungsi untuk menghitung jumlah nilai unik\n",
    "def unique_count(series):\n",
    "    return len(np.unique(series))"
   ]
  },
  {
   "cell_type": "markdown",
   "id": "f7cbbbbf-c75d-4544-831f-29c7433f4295",
   "metadata": {
    "jp-MarkdownHeadingCollapsed": true
   },
   "source": [
    "# **ETL : Extracting, Transforming, Loading**"
   ]
  },
  {
   "cell_type": "markdown",
   "id": "c84432fb-4e2d-45f5-9755-3679e2b9c8a5",
   "metadata": {},
   "source": [
    "## Maintenance.Request"
   ]
  },
  {
   "cell_type": "code",
   "execution_count": 13,
   "id": "534c9aad-6a71-4651-a322-6f68aa6cd454",
   "metadata": {},
   "outputs": [],
   "source": [
    "path_mr = '/Users/dickyaryanto/Documents/PT Sentosa Abadi Mining/Data/maintenance request'\n",
    "df2 = read_file(path_mr)\n",
    "\n",
    "df2['Broken Date'] = df2['Broken Date'].apply(lambda x: str(x))\n",
    "df2['Request Date'] = df2['Request Date'].apply(lambda x: str(x))\n",
    "df2['Scheduled Date'] = df2['Scheduled Date'].apply(lambda x: str(x))\n",
    "df2['Completion Date'] = df2['Completion Date'].apply(lambda x: str(x))\n",
    "\n",
    "def transformasi_nan_format(x):\n",
    "    con = str(x)\n",
    "    if con == 'NaT' or con == 'nan':\n",
    "        msg = np.NaN\n",
    "    else:\n",
    "        msg = x\n",
    "    return msg\n",
    "\n",
    "df2['Broken Date'] = df2['Broken Date'].apply(transformasi_nan_format)\n",
    "df2['Request Date'] = df2['Request Date'].apply(transformasi_nan_format)\n",
    "df2['Scheduled Date'] = df2['Scheduled Date'].apply(transformasi_nan_format)\n",
    "df2['Completion Date'] = df2['Completion Date'].apply(transformasi_nan_format)\n",
    "\n",
    "def completion_end_day(broken, done):\n",
    "    con = str(done)\n",
    "    if con == 'nan' or con == 'NaN' or con == np.NaN:\n",
    "        date = str(broken).split()[0]\n",
    "        date_time = date + ' 17:00:00'\n",
    "        con2 = date_time.split()[0]\n",
    "        if con2 == 'nan':\n",
    "            date_time = np.NaN\n",
    "        else:\n",
    "            date_time = date_time\n",
    "    else:\n",
    "        date_time = done\n",
    "    return date_time\n",
    "\n",
    "df2['Completion Date'] = df2.apply(lambda x: completion_end_day(x['Broken Date'], x['Completion Date']), axis=1)\n",
    "df2['Scheduled Date'] = df2.apply(lambda x: completion_end_day(x['Broken Date'], x['Completion Date']), axis=1)\n",
    "\n",
    "df2 = df2.ffill()\n",
    "\n",
    "path_p = '/Users/dickyaryanto/Documents/PT Sentosa Abadi Mining/Data/stock picking'\n",
    "\n",
    "picking = read_file(path_p)\n",
    "\n",
    "df2['Request Date'] = pd.to_datetime(df2['Request Date'])\n",
    "df2 = df2[df2['Request Date'].dt.year>=2023]\n",
    "\n",
    "# merge data df2 terkecuali berstatus Cancelles\n",
    "def get_service(x):\n",
    "    if x == '':\n",
    "        msg = 'Service'\n",
    "    else:\n",
    "        msg = x\n",
    "    return msg\n",
    "\n",
    "df2['Picking Line/Status'] = df2['Picking Line/Status'].apply(get_service)\n",
    "df2 = df2[df2['Picking Line/Status'].isin(['Service','Ready','Done'])]\n",
    "df2 = df2.merge(picking[['Reference','Stock Moves/Product','Stock Moves/Quantity Done','Stock Moves/Unit of Measure']], left_on='Picking Line/Reference', right_on='Reference', how='left')\n",
    "\n",
    "# refill data\n",
    "df2_1 = df2[df2['Picking Line/Status']=='Service']\n",
    "df2_1['Reference'] = '-'\n",
    "df2_1['Stock Moves/Product'] = '-'\n",
    "df2_1['Stock Moves/Quantity Done'] = 0\n",
    "df2_1['Stock Moves/Unit of Measure'] = '-'\n",
    "\n",
    "df2_2 = df2[df2['Picking Line/Status']!='Service']\n",
    "df2 = pd.concat([df2_1, df2_2])\n",
    "\n",
    "# extract maintenance.request\n",
    "df = df2.copy()\n",
    "df.columns = ['_'.join(i.split()).lower() for i in df.columns]\n",
    "df.drop(columns='reference', inplace=True)\n",
    "\n",
    "# transformasi tipe data\n",
    "df['request_date'] = pd.to_datetime(df['request_date'])\n",
    "df = df[df.request_date.dt.year >= 2023]\n",
    "\n",
    "df.columns=['company','spk','stage','broken','request','schedule','done','oprator','category_equipment','equipment_name',\n",
    "            'equipment_code','hm','km','requirement_type','type_maintenance','category_maintenance','picking_reference','picking_status','note','description','qty','uom']\n",
    "df['oprator_name'] = df.oprator.apply(lambda x: str(x).split('] ')[-1])\n",
    "df = df[df.spk!='D85-06']\n",
    "df = df[df.spk!='PC200-12']\n",
    "df['spk'] = df.spk.apply(lambda x: int(str(x).split('/')[-1]))\n",
    "df.sort_values('spk', ascending=False, inplace=True)\n",
    "df['spk'] = df['spk'].astype(str)\n",
    "\n",
    "def get_description(x):\n",
    "    if x == False:\n",
    "        msg = 'Service Only'\n",
    "    else:\n",
    "        msg = x\n",
    "    return msg\n",
    "\n",
    "df['description'] = df['description'].apply(get_description)\n",
    "df['uom'] = df['uom'].apply(lambda x: str(x).upper())\n"
   ]
  },
  {
   "cell_type": "code",
   "execution_count": null,
   "id": "cd78f50f-5593-4bd4-b317-01ae245b9b51",
   "metadata": {},
   "outputs": [],
   "source": []
  },
  {
   "cell_type": "code",
   "execution_count": 14,
   "id": "ed9de710-5853-4e53-a451-abe1197d525b",
   "metadata": {},
   "outputs": [],
   "source": [
    "df['broken'] = pd.to_datetime(df['broken'])\n",
    "df['request'] = pd.to_datetime(df['request'])\n",
    "df['schedule'] = pd.to_datetime(df['schedule'])\n",
    "df['done'] = pd.to_datetime(df['done'])\n",
    "df['hm'] = df['hm'].astype(float)\n",
    "df['km'] = df['km'].astype(float)\n",
    "\n",
    "_ = df[df.category_equipment==False]\n",
    "_['category_equipment'] = 'Tidak Diketahui'\n",
    "_['equipment_name'] = 'Tidak Diketahui'\n",
    "_['equipment_code'] = 'Tidak Diketahui'\n",
    "__ = df[df.category_equipment!=False]\n",
    "df = pd.concat([_, __]).sort_values('spk', ascending=False)\n",
    "\n",
    "# apply function\n",
    "df['equipment_name'] = df['equipment_name'].apply(retext_equipment_name)\n",
    "df['category_maintenance'].replace('TRYE', 'TYRE', inplace=True)\n",
    "df['category_maintenance'].replace('TRYE (Archive)', 'TYRE', inplace=True)\n",
    "df['category_maintenance'].replace('TYRE-PENGGANTIAN', 'TYRE', inplace=True)\n",
    "df['category_maintenance'].replace('TYRE-PERBAIKAN', 'TYRE', inplace=True)\n",
    "\n",
    "# buat table category maintenance\n",
    "tbl_cm = df[df.category_maintenance!=False][['category_maintenance','description']].drop_duplicates()\n",
    "\n",
    "def get_correct_category_maintenance(x):\n",
    "    n = tbl_cm[tbl_cm.description == x]\n",
    "    if len(n) == 0:\n",
    "        try:\n",
    "            n = tbl_cm.copy()\n",
    "            n['score'] = n.description.apply(lambda i: similairty_sentence(x, i))\n",
    "            n = n.sort_values('scor', ascending=False)\n",
    "            msg = n['category_maintenance'].uniqeu().tolist()[0]\n",
    "        except:\n",
    "            msg = x\n",
    "    else:\n",
    "        msg = n['category_maintenance'].unique().tolist()[0]\n",
    "    return msg \n",
    "\n",
    "df_ = df[df.category_maintenance!=False]\n",
    "df__ = df[df.category_maintenance==False]\n",
    "\n",
    "df__['category_maintenance'] = df__.description.apply(get_correct_category_maintenance)\n",
    "df = pd.concat([df_, df__])"
   ]
  },
  {
   "cell_type": "code",
   "execution_count": null,
   "id": "bf380f12-d005-410b-8b31-41a96b9b2f88",
   "metadata": {},
   "outputs": [],
   "source": []
  },
  {
   "cell_type": "markdown",
   "id": "335328ef-45ce-41c4-b21c-7ac5af51fb06",
   "metadata": {},
   "source": [
    "## Product.Template"
   ]
  },
  {
   "cell_type": "code",
   "execution_count": 15,
   "id": "b1804ed5-659c-4814-97dc-a589d45263a9",
   "metadata": {},
   "outputs": [],
   "source": [
    "### extract product.template\n",
    "path_pt = '/Users/dickyaryanto/Documents/PT Sentosa Abadi Mining/Data/product template'\n",
    "product = read_file(path_pt)\n",
    "product.columns = ['_'.join(i.lower().split()) for i in product.columns]\n",
    "product['unit_of_measure'] = product['unit_of_measure'].apply(lambda x: str(x).upper())\n",
    "product['name2'] = '#' + product['name'] + '#' + product['unit_of_measure']\n",
    "product.drop_duplicates(subset='product', inplace=True)\n",
    "\n",
    "# merge data product untuk dapatkan cost\n",
    "df = pd.merge(df, product[['name', 'product','cost']], left_on='description', right_on='product', how='left').drop(columns='product')\n",
    "df['cost'].fillna(0, inplace=True)\n",
    "df['cost'] = df['cost'].astype(float)\n",
    "df['qty'] = df['qty'].astype(float)\n",
    "\n",
    "df['description'] = df['description'].apply(lambda x: str(x))\n",
    "df['qty'] = df['qty'].apply(lambda x: str(x))\n",
    "df['cost'] = df['cost'].apply(lambda x: str(x))\n",
    "\n",
    "def get_decription(x):\n",
    "    con = str(x)\n",
    "    if con == 'nan':\n",
    "        msg='Service'\n",
    "    else:\n",
    "        msg = x\n",
    "    return msg\n",
    "\n",
    "def get_qty(x):\n",
    "    con = str(x)\n",
    "    if con == 'nan':\n",
    "        msg=0\n",
    "    else:\n",
    "        msg = x\n",
    "    return msg\n",
    "\n",
    "df['description'] = df.description.apply(get_description)\n",
    "df['qty'] = df['qty'].apply(get_qty)\n",
    "df['cost'] = df['cost'].apply(get_qty)\n",
    "df = df.rename(columns={'name':'description_2'})\n",
    "df['description_2'] = df['description_2'].apply(lambda x: str(x))\n",
    "df['description_2'] = df.description_2.apply(get_description)\n",
    "df['description_2'] = df['description_2'].replace('nan', 'Service')\n",
    "df['description'] = df['description'].replace('nan', 'Service')\n",
    "df['uom'] = df['uom'].replace('NAN', '-')\n",
    "df['cost'] = df['cost'].astype(float)\n",
    "df['qty'] = df['qty'].astype(float)\n",
    "\n",
    "# conditional\n",
    "a = df[df.equipment_name=='HONGYAN KINKAN430']\n",
    "b = df[df.equipment_name!='HONGYAN KINKAN430']\n",
    "a.requirement_type.replace('External', 'Internal', inplace=True)\n",
    "df = pd.concat([a, b])"
   ]
  },
  {
   "cell_type": "code",
   "execution_count": null,
   "id": "ea1f844e-48de-4ffc-862a-843a5d549bcc",
   "metadata": {},
   "outputs": [],
   "source": []
  },
  {
   "cell_type": "markdown",
   "id": "8ec11539-d268-4cd7-9642-b749822783a5",
   "metadata": {
    "jp-MarkdownHeadingCollapsed": true
   },
   "source": [
    "## Standar Pengukuran"
   ]
  },
  {
   "cell_type": "code",
   "execution_count": 16,
   "id": "9527262b-a3e8-42a0-8be9-2efadede4238",
   "metadata": {},
   "outputs": [],
   "source": [
    "path_standar_ukur = '/Users/dickyaryanto/Documents/PT Sentosa Abadi Mining/Data/standar ukur/'\n",
    "\n",
    "tbl_jarak = read_file(path_standar_ukur, 'tbl jarak move type')\n",
    "tbl_kapasitas = read_file(path_standar_ukur, 'tbl kapasitas dt')\n",
    "tbl_waktu = read_file(path_standar_ukur, 'tbl waktu move type')\n",
    "tbl_periodical = read_file(path_standar_ukur, 'tbl periodical unit')"
   ]
  },
  {
   "cell_type": "markdown",
   "id": "ade02d54-1a94-4668-9bd9-eda84699cd17",
   "metadata": {
    "jp-MarkdownHeadingCollapsed": true
   },
   "source": [
    "## Production.Timesheet"
   ]
  },
  {
   "cell_type": "code",
   "execution_count": 17,
   "id": "124a3af9-2849-44ef-96c2-456ac349bb95",
   "metadata": {},
   "outputs": [],
   "source": [
    "### extract production.timesheet\n",
    "path_ts = '/Users/dickyaryanto/Documents/PT Sentosa Abadi Mining/Data/production timesheet'\n",
    "df2 = read_file(path_ts)\n",
    "\n",
    "df2.columns = ['_'.join(i.split()).lower() for i in df2.columns]\n",
    "df2 = df2[df2.date.dt.year >= 2023]\n",
    "\n",
    "# df2 = df2[df2['date']!=pd.to_datetime(str(pd.to_datetime(datetime.now())).split()[0])]\n",
    "df2['hm_realtime_start'] = df2['hm_realtime_start'].apply(lambda x: str(x).split('.')[0])\n",
    "df2['hm_realtime_end'] = df2['hm_realtime_end'].apply(lambda x: str(x).split('.')[0])\n",
    "\n",
    "def get_true_time(date, time):\n",
    "    time = str(time)\n",
    "    if len(time) == 2:\n",
    "        time = str(time) + ':00:00'\n",
    "    else:\n",
    "        time = '0' + str(time) + ':00:00'\n",
    "        \n",
    "    date = str(date).split()[0]\n",
    "    msg = date + ' ' + time\n",
    "\n",
    "    try:\n",
    "        a = pd.to_datetime(msg)\n",
    "    except:\n",
    "        msg = 'error'\n",
    "    \n",
    "    return msg\n",
    "\n",
    "df2['date_engine_start'] = df2.apply(lambda x: get_true_time(x['date'], x['hm_realtime_start']), axis=1)\n",
    "df2['date_engine_end'] = df2.apply(lambda x: get_true_time(x['date'], x['hm_realtime_end']), axis=1)\n",
    "\n",
    "# split data\n",
    "df2_err = df2[(df2['date_engine_start']=='error') & (df2['date_engine_end']=='error')]\n",
    "df2 = df2[(df2['date_engine_start']!='error') & (df2['date_engine_end']!='error')]\n",
    "\n",
    "df2['date_engine_start'] = pd.to_datetime(df2['date_engine_start'])\n",
    "df2['date_engine_end'] = pd.to_datetime(df2['date_engine_end'])\n",
    "\n",
    "# cleaning condition memungkinkan tidak akan digunakan bila data bersih\n",
    "df2_err['actual_engine'] = df2_err['hm_realtime_end'].astype(float) - df2_err['hm_realtime_start'].astype(float)\n",
    "def retext_time(x):\n",
    "    time = str(x)\n",
    "    if len(time) == 2:\n",
    "        time = str(time) + ':00:00'\n",
    "    else:\n",
    "        time = '0' + str(time) + ':00:00'\n",
    "    return time\n",
    "\n",
    "def get_time_from_err(x):\n",
    "    start = 7\n",
    "    end = start + x\n",
    "\n",
    "    start_time = retext_time(str(start))\n",
    "    end_time = retext_time(str(end).split('.')[0])\n",
    "\n",
    "    msg = {'start':start_time, 'end':end_time}\n",
    "    return msg\n",
    "\n",
    "df2_err['hm_realtime_end'] = df2_err['actual_engine'].apply(lambda x: get_time_from_err(x)['end'])\n",
    "df2_err['hm_realtime_start'] = df2_err['actual_engine'].apply(lambda x: get_time_from_err(x)['start'])\n",
    "\n",
    "df2_err['date_engine_start'] = df2_err['date'].apply(lambda x: str(x).split()[0]) + ' ' + df2_err['hm_realtime_start']\n",
    "df2_err['date_engine_end'] = df2_err['date'].apply(lambda x: str(x).split()[0]) + ' ' + df2_err['hm_realtime_end']\n",
    "\n",
    "df2_err['date_engine_start'] = pd.to_datetime(df2_err['date_engine_start'])\n",
    "\n",
    "_ = []\n",
    "for i in df2_err.index:\n",
    "    n = df2_err[df2_err.index==i]\n",
    "    try:\n",
    "        n['date_engine_end'] = pd.to_datetime(n['date_engine_end'])\n",
    "    except:\n",
    "        n['date_engine_end'] = 'error'\n",
    "    _.append(n)\n",
    "\n",
    "df2_err = pd.concat(_)"
   ]
  },
  {
   "cell_type": "code",
   "execution_count": 18,
   "id": "116f1725-ea11-4523-b8fd-d890cf2c2475",
   "metadata": {},
   "outputs": [],
   "source": [
    "# transform data\n",
    "error_actual_date = df2_err[df2_err.date_engine_end=='error']\n",
    "error_actual_date = error_actual_date.merge(df[['equipment_name','equipment_code']].drop_duplicates(), left_on='equipment', right_on='equipment_code', how='left').drop(columns='equipment_code')\n",
    "error_actual_date = error_actual_date.merge(tbl_kapasitas[['equipment_name','rerata_muatan']], on='equipment_name', how='left')\n",
    "error_actual_date['pred_retase'] = np.round((error_actual_date['component_line/net_weight/voll']/1000) / error_actual_date.rerata_muatan)\n",
    "error_actual_date = error_actual_date.merge(tbl_waktu, on='move_type', how='left')\n",
    "error_actual_date['actual_engine'] = error_actual_date.pred_retase * error_actual_date.waktu\n",
    "error_actual_date = error_actual_date.drop(columns=['pred_retase','equipment_name','rerata_muatan','waktu'])\n",
    "\n",
    "# concat data\n",
    "df2_err = df2_err[df2_err.date_engine_end!='error']\n",
    "df2 = pd.concat([df2, df2_err])\n",
    "\n",
    "df2['date_engine_end'] = pd.to_datetime(df2['date_engine_end'])\n",
    "df2['date_engine_start'] = pd.to_datetime(df2['date_engine_start'])\n",
    "df2['actual_engine'] = df2.date_engine_end - df2.date_engine_start\n",
    "df2['actual_engine'] = df2['actual_engine'].apply(timedelta_to_hour)\n",
    "\n",
    "df2 = pd.concat([df2, error_actual_date])\n",
    "# df2 = df2[df2.state!='Draft']"
   ]
  },
  {
   "cell_type": "code",
   "execution_count": 19,
   "id": "40e812f1-30b4-4c26-ae45-e01c1ad576d4",
   "metadata": {},
   "outputs": [],
   "source": [
    "df2['component_line/out_weight'].fillna(0, inplace=True)\n",
    "df2['component_line/net_weight/voll'].fillna(0, inplace=True)\n",
    "df2['production'].replace('ROAD MAINTENANCE', 'Road Maintenance', inplace=True)"
   ]
  },
  {
   "cell_type": "markdown",
   "id": "3a055452-f442-4106-b855-5cf408f9cd8a",
   "metadata": {
    "jp-MarkdownHeadingCollapsed": true
   },
   "source": [
    "## Maintenance.Equipment"
   ]
  },
  {
   "cell_type": "code",
   "execution_count": 20,
   "id": "5ba67ee3-10b0-4457-b72e-58d6594c201d",
   "metadata": {},
   "outputs": [],
   "source": [
    "path_eq = '/Users/dickyaryanto/Documents/PT Sentosa Abadi Mining/Data/maintenance equipment'\n",
    "tbl_equipment2 = read_file(path_eq)\n",
    "tbl_equipment2['equipment_code'] = tbl_equipment2.Name.apply(lambda x: str(x) + '/') + tbl_equipment2['Serial Number'].apply(lambda x: str(x))\n",
    "tbl_equipment2.columns = ['_'.join(i.lower().split()) for i in tbl_equipment2.columns.tolist()]\n",
    "\n",
    "# dapatkan tabel equipment \n",
    "tbl_eq = tbl_equipment2[['company','equipment_category','equipment_model','name']]\n",
    "tbl_eq['equipment_model'] = tbl_eq['equipment_model'].apply(retext_equipment_name)\n",
    "tbl_eq.columns = ['company','category_equipment','equipment_name','name']\n",
    "tbl_eq['equipment_name'] = tbl_eq.equipment_name.apply(retext_equipment_name)"
   ]
  },
  {
   "cell_type": "markdown",
   "id": "d3e2117a-b712-4724-a0eb-e879d37710d8",
   "metadata": {
    "jp-MarkdownHeadingCollapsed": true
   },
   "source": [
    "## Purchase.Order"
   ]
  },
  {
   "cell_type": "markdown",
   "id": "70bad6ba-99a8-4c79-9f06-82243204230c",
   "metadata": {
    "jp-MarkdownHeadingCollapsed": true
   },
   "source": [
    "### 1. PO Node3"
   ]
  },
  {
   "cell_type": "code",
   "execution_count": 21,
   "id": "1239621a-92c8-4d83-8eb0-b48720c76393",
   "metadata": {},
   "outputs": [],
   "source": [
    "path_po = '/Users/dickyaryanto/Documents/PT Sentosa Abadi Mining/Data/purchase order'\n",
    "po = read_file(path_po)\n",
    "\n",
    "po.columns = ['_'.join(i.lower().split()) for i in po.columns]\n",
    "po['total'] = po['order_lines/quantity'] * po['order_lines/unit_price']\n",
    "po = po.ffill()\n",
    "po.drop(columns=['source_document','purchase_requests','order_lines/description'], inplace=True)\n",
    "po = po.rename(columns={\n",
    "    'order_reference':'no_po',\n",
    "    'purchase_request':'no_pr',\n",
    "    'order_lines/unit_price':'price',\n",
    "    'order_lines/quantity':'qty',\n",
    "    'order_lines/unit_of_measure':'uom',\n",
    "    'order_lines/disc.%':'discount',\n",
    "    'order_lines/product':'description',\n",
    "    'receipt_date':'date'\n",
    "})\n",
    "\n",
    "po['discount'] = po.discount / 100\n",
    "po['total'] = po.total - (po.total * po.discount)\n",
    "po['total'] = po.total + (po.total * 0.11)\n",
    "po['no_spk'] = po['no_spk'].apply(lambda x: str(str(x).split('/')[-1]))\n",
    "po = po[['date','no_pr','no_po','no_spk','description','qty','uom','price','discount','total']]\n",
    "po['sumber'] = 'PO SA'"
   ]
  },
  {
   "cell_type": "code",
   "execution_count": null,
   "id": "d0900b6d-94f9-4a40-95fe-106f2dde9db3",
   "metadata": {},
   "outputs": [],
   "source": []
  },
  {
   "cell_type": "markdown",
   "id": "f9878af1-2048-4812-8ea8-6fd9d0d9a85b",
   "metadata": {
    "jp-MarkdownHeadingCollapsed": true
   },
   "source": [
    "### 2. PO Selain Dari Node3"
   ]
  },
  {
   "cell_type": "code",
   "execution_count": 22,
   "id": "c4eb150c-cebc-412b-ab94-42b39d3d2727",
   "metadata": {},
   "outputs": [],
   "source": [
    "### extract data PO diluar Node3 ambil dari Google Drive \n",
    "url = \"https://docs.google.com/spreadsheets/d/1Ay0TNz8yPhdNzr4KhGmNy1QENGJS6B-Z/export?format.xlsx\"\n",
    "\n",
    "try:\n",
    "    os.remove('po_sam.xlsx')\n",
    "except:\n",
    "    None\n",
    "    \n",
    "output_filename = \"po_sam.xlsx\"\n",
    "\n",
    "# get the data from spreadsheet\n",
    "response = requests.get(url)\n",
    "if response.status_code == 200:\n",
    "    with open(output_filename, \"wb\") as f:\n",
    "        f.write(response.content)\n",
    "\n",
    "# transformasi nama columns\n",
    "po_sam = pd.read_excel('po_sam.xlsx', sheet_name='Sheet1')\n",
    "po_sam.columns = ['_'.join(i.lower().split()) for i in po_sam.columns]\n",
    "po_sam['spk'].fillna('kosong', inplace=True)\n",
    "po_sam = po_sam[po_sam.spk!='kosong']\n",
    "po_sam = po_sam[['date','spk','wo','customer','id','unnamed:_10','unnamed:_11','unnamed:_12','unnamed:_13','unnamed:_14','remark']]\n",
    "po_sam.columns = ['date','spk_sam','spk_sa','customer','name','description','qty','discount','price','total','stage']\n",
    "\n",
    "def get_same_text(text1):\n",
    "    n = tbl_equipment2.copy()\n",
    "    n['similairity'] = n.name.apply(lambda x: similairty_sentence(text1, x))\n",
    "    n.sort_values('similairity', ascending=False, inplace=True)\n",
    "    n = n.head(1)\n",
    "\n",
    "    score = n['similairity'].unique().tolist()[0]\n",
    "    if score >= 0.9:\n",
    "        try:\n",
    "            cat_eq = n['equipment_category'].unique().tolist()[0]\n",
    "            eq_model = n['equipment_model'].unique().tolist()[0]\n",
    "            name = n['name'].unique().tolist()[0]\n",
    "            id = n['serial_number'].unique().tolist()[0]\n",
    "            msg = {'cat_eq':[cat_eq],'eq_model':[eq_model],'name':[name],'id':[id]}\n",
    "        except:\n",
    "            msg = {'cat_eq':[np.NaN],'eq_model':[np.NaN],'name':[text1],'id':[np.NaN]}\n",
    "    else:\n",
    "        msg = {'cat_eq':[np.NaN],'eq_model':[np.NaN],'name':[text1],'id':[np.NaN]}\n",
    "        \n",
    "    return msg\n",
    "\n",
    "def get_same_text_category_maintenance(text1):\n",
    "    n = df.copy()\n",
    "    n = n[['category_maintenance','description']]\n",
    "    n.drop_duplicates(inplace=True)\n",
    "    n['similairity'] = n.description.apply(lambda x: similairty_sentence(text1, x))\n",
    "    n.sort_values('similairity', ascending=False, inplace=True)\n",
    "    n = n.head(1)\n",
    "\n",
    "    score = n['similairity'].unique().tolist()[0]\n",
    "    if score >= 0.8:\n",
    "        try:\n",
    "            msg = n['category_maintenance'].unique().tolist()[0]\n",
    "        except:\n",
    "            msg = np.NaN\n",
    "    else:\n",
    "        msg = np.NaN\n",
    "        \n",
    "    return msg\n",
    "\n",
    "po_sam.description.fillna('HMSI', inplace=True)\n",
    "po_sam.discount.fillna(0, inplace=True)\n",
    "po_sam['no_pr'] = '-'\n",
    "po_sam['uom'] = '-'\n",
    "po_sam['no_po'] = '-'\n",
    "po_sam = po_sam[['date','no_pr','spk_sam','spk_sa','description','qty','uom','price','discount','total']].rename(columns={'spk_sa':'no_spk','spk_sam':'no_po'})\n",
    "po_sam['no_spk'] = po_sam.no_spk.apply(lambda x: ''.join(str(x).split('.')))\n",
    "po_sam['sumber'] = 'PO SAM'"
   ]
  },
  {
   "cell_type": "code",
   "execution_count": 23,
   "id": "9f6a1891-fd8f-4b68-a552-d00c1d9770e2",
   "metadata": {},
   "outputs": [],
   "source": [
    "po = pd.concat([po, po_sam])"
   ]
  },
  {
   "cell_type": "markdown",
   "id": "770266d1-1925-45b6-9bb0-bb1510027702",
   "metadata": {
    "jp-MarkdownHeadingCollapsed": true
   },
   "source": [
    "## Produksi Actual Site"
   ]
  },
  {
   "cell_type": "markdown",
   "id": "0f49e575-305b-4836-9376-04281839c50e",
   "metadata": {},
   "source": [
    "### 1. Absen Driver"
   ]
  },
  {
   "cell_type": "code",
   "execution_count": 24,
   "id": "ae259b18-4472-4f45-a286-f5149ce089a4",
   "metadata": {},
   "outputs": [],
   "source": [
    "url = \"https://docs.google.com/spreadsheets/d/1CDBo-9hz0-Vc7e-hgjG1qdIZ07-PEdLlMatzssJhTJU/export?format.xlsx\"\n",
    "try:\n",
    "    os.remove('absen_driver.xlsx')\n",
    "except:\n",
    "    None\n",
    "    \n",
    "output_filename = 'absen_driver.xlsx'\n",
    "\n",
    "# get the data from spreadsheet\n",
    "response = requests.get(url)\n",
    "if response.status_code == 200:\n",
    "    with open(output_filename, \"wb\") as f:\n",
    "        f.write(response.content)\n",
    "\n",
    "# read data absen driver dari tbl produksi actual site\n",
    "absen_driver = pd.read_excel('absen_driver.xlsx', sheet_name='Absen Driver')\n",
    "absen_driver = absen_driver[1:]\n",
    "absen_driver.columns = ['_'.join(i.lower().split()) for i in absen_driver.columns]\n",
    "absen_driver = absen_driver[['nama_driver','id_unit','project','date','jam_keluar','jam_masuk','total_jam_kerja','retase','keterangan']]\n",
    "absen_driver.columns = ['driver','name','project/name','date','jam_keluar','jam_masuk','total_jam_kerja','retase','keterangan']\n",
    "\n",
    "absen_driver['driver'].fillna('Tidak Diketahui', inplace=True)\n",
    "absen_driver['name'] = absen_driver.name.apply(lambda x: 'DT-' + x[-3:])\n",
    "absen_driver['date'] = absen_driver['date'].apply(lambda x: str(x).split()[0])\n",
    "absen_driver['total_jam_kerja'].fillna('-', inplace=True)"
   ]
  },
  {
   "cell_type": "code",
   "execution_count": null,
   "id": "5ed0c882-4547-4c93-9412-c49ba22049ff",
   "metadata": {},
   "outputs": [],
   "source": []
  },
  {
   "cell_type": "code",
   "execution_count": null,
   "id": "d218934c-c219-4479-9cf3-e183410e749c",
   "metadata": {},
   "outputs": [],
   "source": []
  },
  {
   "cell_type": "markdown",
   "id": "da112968-00b1-4983-b026-25c063f8519a",
   "metadata": {
    "jp-MarkdownHeadingCollapsed": true
   },
   "source": [
    "### 2. Grade"
   ]
  },
  {
   "cell_type": "code",
   "execution_count": 25,
   "id": "fdf0fcb0-0a60-484f-935c-08f96803bc81",
   "metadata": {},
   "outputs": [],
   "source": [
    "url = \"https://docs.google.com/spreadsheets/d/12_BTs8ftDwcp0DCva7wTZzLuzaE9nkKrgJ_onoqMbDM/export?format.xlsx\"\n",
    "\n",
    "try:\n",
    "    os.remove('grade_report.xlsx')\n",
    "except:\n",
    "    None\n",
    "    \n",
    "output_filename = 'grade_report.xlsx'\n",
    "\n",
    "# get the data from spreadsheet\n",
    "response = requests.get(url)\n",
    "if response.status_code == 200:\n",
    "    with open(output_filename, \"wb\") as f:\n",
    "        f.write(response.content)"
   ]
  },
  {
   "cell_type": "code",
   "execution_count": null,
   "id": "9f96984b-7667-4812-97d2-1e5716916ae8",
   "metadata": {},
   "outputs": [],
   "source": []
  },
  {
   "cell_type": "code",
   "execution_count": null,
   "id": "0b172e2f-fffd-435e-adc7-f3143d4fac2a",
   "metadata": {},
   "outputs": [],
   "source": []
  },
  {
   "cell_type": "code",
   "execution_count": null,
   "id": "12803382-5e3a-42f2-9090-47578de67bc2",
   "metadata": {},
   "outputs": [],
   "source": []
  },
  {
   "cell_type": "code",
   "execution_count": null,
   "id": "c28ed2e7-08cf-430f-b572-5f4ddc868f2c",
   "metadata": {},
   "outputs": [],
   "source": []
  },
  {
   "cell_type": "code",
   "execution_count": 26,
   "id": "368fdbc1-6da9-46c3-9ca3-368ea7bd00d7",
   "metadata": {},
   "outputs": [],
   "source": [
    "# read data grade\n",
    "df_grade = pd.read_excel('grade_report.xlsx', sheet_name='Laporan Grade')\n",
    "df_grade = df_grade[1:]\n",
    "df_grade = df_grade[['Date','AP6','AP7','AP8','AP9','AP10','AP11','KBM C','KMB D','KBM E','TUJUAN PABRIK',\n",
    "          'TONASE','% GRADE (LAB. SM)','Unnamed: 14','Unnamed: 15','% GRADE (LAB. Feeding)','Unnamed: 17','Unnamed: 18']]\n",
    "df_grade.columns = ['date','ap6','ap7','ap8','ap9','ap10','ap11','kmb_c','kmb_d','kmb_e','pabrik','produksi','sm_ni','sm_fe','sm_si','f_ni','f_fe','f_si']\n",
    "\n",
    "# cleaning data\n",
    "df_grade['date'] = df_grade['date'].apply(lambda x: str(x).split()[0])\n",
    "df_grade['pabrik'].fillna('-', inplace=True)\n",
    "df_grade.fillna(0, inplace=True)\n",
    "df_grade = df_grade[df_grade.pabrik!='-']\n",
    "\n",
    "df_grade['sm_ni'] = df_grade['sm_ni'].apply(lambda x: '.'.join(str(x).split(',')))\n",
    "df_grade['sm_fe'] = df_grade['sm_fe'].apply(lambda x: '.'.join(str(x).split(',')))\n",
    "df_grade['sm_si'] = df_grade['sm_si'].apply(lambda x: '.'.join(str(x).split(',')))\n",
    "\n",
    "df_grade['sm_ni'] = df_grade['sm_ni'].apply(lambda x: float(str(x).split('%')[0]))\n",
    "df_grade['sm_fe'] = df_grade['sm_fe'].apply(lambda x: float(str(x).split('%')[0]))\n",
    "df_grade['sm_si'] = df_grade['sm_si'].apply(lambda x: float(str(x).split('%')[0]))\n",
    "df_grade['produksi'] = df_grade['produksi'].apply(lambda x: float(''.join(str(x).split(','))))\n",
    "\n",
    "grade = df_grade[['date','ap6','ap7','ap8','ap9','ap10','ap11','kmb_c','kmb_d','kmb_e','pabrik','produksi','sm_ni','sm_fe','sm_si']]\n",
    "df_grade.to_excel('./Report/grade control.xlsx', index=False)"
   ]
  },
  {
   "cell_type": "code",
   "execution_count": null,
   "id": "5221e218-fbc5-4975-8b35-fc9af433d488",
   "metadata": {},
   "outputs": [],
   "source": []
  },
  {
   "cell_type": "markdown",
   "id": "7bd34a66-05fc-491d-b661-c48cfcf153cd",
   "metadata": {
    "jp-MarkdownHeadingCollapsed": true
   },
   "source": [
    "### 3. Accdient Rate"
   ]
  },
  {
   "cell_type": "code",
   "execution_count": 27,
   "id": "0630b5d1-85b9-4449-b03f-5a19b63713d9",
   "metadata": {},
   "outputs": [],
   "source": [
    "url = \"https://docs.google.com/spreadsheets/d/19y9xZ3L3AMYGDZOVG_6Q5hNX7HFQSW__tf6YXX_Ojgk/export?format.xlsx\"\n",
    "try:\n",
    "    os.remove('accident_rate.xlsx')\n",
    "except:\n",
    "    None\n",
    "    \n",
    "output_filename = 'accident_rate.xlsx'\n",
    "\n",
    "# get the data from spreadsheet\n",
    "response = requests.get(url)\n",
    "if response.status_code == 200:\n",
    "    with open(output_filename, \"wb\") as f:\n",
    "        f.write(response.content)\n",
    "\n",
    "# read data absen driver dari tbl produksi actual site\n",
    "accident = pd.read_excel('accident_rate.xlsx')\n",
    "accident = accident[1:]\n",
    "accident.columns = ['timestamps','id','date','no_ba','kat_kecelakaan','tempat',\n",
    "                    'name','departemen','employee','umur','estimate','keterangan','id_user','user']\n",
    "accident = accident.drop(columns=['id_user','user'])"
   ]
  },
  {
   "cell_type": "code",
   "execution_count": null,
   "id": "d1e8c308-2469-4edc-8f1c-ea526dfbdf9d",
   "metadata": {},
   "outputs": [],
   "source": []
  },
  {
   "cell_type": "code",
   "execution_count": null,
   "id": "ab6b8e23-ec62-44ed-95af-a0adf6c27efa",
   "metadata": {},
   "outputs": [],
   "source": []
  },
  {
   "cell_type": "code",
   "execution_count": null,
   "id": "30008964-3d98-48bf-a9cd-76baf0e6ae46",
   "metadata": {},
   "outputs": [],
   "source": []
  },
  {
   "cell_type": "code",
   "execution_count": null,
   "id": "861e7999-d85a-4701-ab0d-4d4d14270902",
   "metadata": {},
   "outputs": [],
   "source": []
  },
  {
   "cell_type": "code",
   "execution_count": null,
   "id": "883f43f4-0555-4ad3-9cbd-18b0fbadb315",
   "metadata": {},
   "outputs": [],
   "source": []
  },
  {
   "cell_type": "markdown",
   "id": "4538b935-6d89-4bcd-9fa8-d0e792ea3526",
   "metadata": {
    "jp-MarkdownHeadingCollapsed": true
   },
   "source": [
    "### 4. Fuel & Fuel Cost"
   ]
  },
  {
   "cell_type": "code",
   "execution_count": 28,
   "id": "e2ae4cf4-d34d-477e-a9eb-05676dc1dfbf",
   "metadata": {},
   "outputs": [
    {
     "name": "stderr",
     "output_type": "stream",
     "text": [
      "100%|██████████████████████████████████████████████████████████████████████████████████████████████████████████████████████████████████████████████████████████████████████████████████████████████████████| 230/230 [00:01<00:00, 126.22it/s]\n"
     ]
    }
   ],
   "source": [
    "# buat kolom bulan di dataframe date\n",
    "date['month'] = pd.to_datetime(date.date).dt.strftime('%m/%y')\n",
    "\n",
    "# dapatkan nilai fuel\n",
    "url_konsumsi = \"https://docs.google.com/spreadsheets/d/1Q9nZYOoRZZL_PB6wUPDyBtzuWJv2qZXpbXYlt7wrGho/export?format.xlsx\"\n",
    "\n",
    "try:\n",
    "    os.remove('fuel_comsumption.xlsx')\n",
    "except:\n",
    "    None\n",
    "    \n",
    "output_filename = 'fuel_comsumption.xlsx'\n",
    "\n",
    "# get the data from spreadsheet\n",
    "response = requests.get(url_konsumsi)\n",
    "if response.status_code == 200:\n",
    "    with open(output_filename, \"wb\") as f:\n",
    "        f.write(response.content)\n",
    "\n",
    "# read data\n",
    "fuel = pd.read_excel(output_filename)\n",
    "fuel = fuel[fuel.index>0].reset_index(drop=True).drop(columns='CODE USER')\n",
    "fuel.columns = ['_'.join(i.lower().split()) for i in fuel.columns]\n",
    "fuel = fuel.rename(columns={'id_unit':'name'})\n",
    "fuel = fuel.merge(tbl_eq[['category_equipment','equipment_name','name']].drop_duplicates(), on='name', how='left')\n",
    "fuel['timestamps'].fillna('kosong', inplace=True)\n",
    "fuel = fuel[fuel.timestamps != 'kosong']\n",
    "fuel['move_type'].fillna('Tidak Diketahui', inplace=True)\n",
    "fuel['hm_saat_isi_fuel'].fillna(0, inplace=True)\n",
    "fuel['km_saat_isi_fuel'].fillna(0, inplace=True)\n",
    "\n",
    "fuel['id'] = fuel['id'].astype(int)\n",
    "id_bulanan = list(np.arange(589, 2554))\n",
    "\n",
    "# buat kondisi laporan karena laporan pemakaian fuel sebelumnya dalam bulanan \n",
    "def get_id_condtional(x):\n",
    "    if x in id_bulanan: \n",
    "        msg = 'Konsumsi Bulanan'\n",
    "    else:\n",
    "        msg = 'Konsumsi Harian'\n",
    "    return msg\n",
    "    \n",
    "fuel['report_type'] = fuel['id'].apply(get_id_condtional)\n",
    "fuel = fuel[['timestamps','id','report_type','date','project','production','move_type','category_equipment','equipment_name',\n",
    "             'name','hm_saat_isi_fuel','km_saat_isi_fuel','fuel_consumption','user']]\n",
    "\n",
    "fuel['date'] = pd.to_datetime(fuel['date']).dt.date\n",
    "fuel = fuel.groupby(['date','report_type','category_equipment','equipment_name','name'])[['fuel_consumption']].sum().reset_index().rename(columns={'fuel_consumption':'fuel'})\n",
    "fuel_m = fuel[fuel.report_type=='Konsumsi Bulanan']\n",
    "fuel_m['month'] = pd.to_datetime(fuel_m.date).dt.strftime('%m/%y')\n",
    "\n",
    "_ = []\n",
    "for name in tqdm(fuel_m.name.unique().tolist()):\n",
    "    n = fuel_m[fuel_m.name == name]\n",
    "    for month in n.month.unique().tolist():\n",
    "        m = n[n.month==month]\n",
    "\n",
    "        cat_eq = m.category_equipment.unique().tolist()[0]\n",
    "        eq_name = m.equipment_name.unique().tolist()[0]\n",
    "        name = name\n",
    "        count_day = len(date[date.month==month])\n",
    "        fuel_per_day = m.fuel.sum()/count_day\n",
    "        \n",
    "        msg = date[date.month==month][['date']].merge(m, on='date', how='left').drop(columns=['report_type','month'])\n",
    "        msg['category_equipment'] = cat_eq\n",
    "        msg['equipment_name'] = eq_name\n",
    "        msg['name'] = name\n",
    "        msg['fuel'] = fuel_per_day\n",
    "        _.append(msg)\n",
    "fuel_m = pd.concat(_)\n",
    "fuel_h = fuel[fuel.report_type!='Konsumsi Bulanan'].drop(columns=['report_type'])\n",
    "fuel = pd.concat([fuel_m, fuel_h])\n",
    "fuel['date'] = pd.to_datetime(fuel['date']).dt.date\n",
    "\n",
    "# dapatkan data harga fuel\n",
    "url_price_fuel = \"https://docs.google.com/spreadsheets/d/1BJC_Wc58T9LxnW7ZLimpNIA_1ZRijaaDF2DiJe6jlPs/export?format.xlsx\"\n",
    "try:\n",
    "    os.remove('fuel_price.xlsx')\n",
    "except:\n",
    "    None\n",
    "    \n",
    "output_filename = 'fuel_price.xlsx'\n",
    "# get the data from spreadsheet\n",
    "response = requests.get(url_price_fuel)\n",
    "if response.status_code == 200:\n",
    "    with open(output_filename, \"wb\") as f:\n",
    "        f.write(response.content)\n",
    "\n",
    "# read data\n",
    "fuel_price = pd.read_excel(output_filename)\n",
    "fuel_price.columns = ['date','fuel_type','price','pbb_kb']\n",
    "fuel_price['price2'] = fuel_price.price + fuel_price.pbb_kb\n",
    "fuel_price.sort_values('date', ascending=True, inplace=True)\n",
    "fuel_price['date'] = fuel_price['date'].dt.date\n",
    "left = date.drop(columns='month')\n",
    "left['date'] = pd.to_datetime(left['date']).dt.date\n",
    "fuel_price = left.merge(fuel_price, on='date', how='outer')\n",
    "fuel_price = fuel_price.bfill().ffill()\n",
    "\n",
    "# gabungkan data harga fuel \n",
    "fuel = fuel.merge(fuel_price[['date','price2']], on='date', how='left')\n",
    "fuel['fuel_cost'] = fuel.price2 * fuel.fuel"
   ]
  },
  {
   "cell_type": "code",
   "execution_count": null,
   "id": "064f9f0b-20b7-4871-b064-2cf78a8052e7",
   "metadata": {},
   "outputs": [],
   "source": []
  },
  {
   "cell_type": "code",
   "execution_count": null,
   "id": "9948ed3d-ac0e-4ad1-a6b2-46889949e526",
   "metadata": {},
   "outputs": [],
   "source": []
  },
  {
   "cell_type": "code",
   "execution_count": null,
   "id": "de7e07fc-ed8f-4350-88f8-f85013d09b1c",
   "metadata": {},
   "outputs": [],
   "source": []
  },
  {
   "cell_type": "code",
   "execution_count": null,
   "id": "48ca4c1f-d631-4dbd-941a-0ed8fcfa80fd",
   "metadata": {},
   "outputs": [],
   "source": []
  },
  {
   "cell_type": "code",
   "execution_count": null,
   "id": "b4900d0a-9502-4a56-bba4-ac46fd1bf705",
   "metadata": {},
   "outputs": [],
   "source": []
  },
  {
   "cell_type": "code",
   "execution_count": null,
   "id": "75197145-e287-4f38-81b1-ea6132548f43",
   "metadata": {},
   "outputs": [],
   "source": []
  },
  {
   "cell_type": "code",
   "execution_count": null,
   "id": "980386a3-3f12-4d57-ad57-8a11ce27a7b9",
   "metadata": {},
   "outputs": [],
   "source": []
  },
  {
   "cell_type": "markdown",
   "id": "6f740dff-4f04-487f-9f3e-c27d21802356",
   "metadata": {
    "jp-MarkdownHeadingCollapsed": true
   },
   "source": [
    "# **EDA : Exploratory Data Analyst - 1**"
   ]
  },
  {
   "cell_type": "markdown",
   "id": "0e2225dc-26fe-4ffd-bcb9-9de4087869e5",
   "metadata": {
    "jp-MarkdownHeadingCollapsed": true
   },
   "source": [
    "## Task 1.0 : DASHBOARD\n",
    "\n",
    "Berapa waktu rata-rata yang dibutuhkan untuk team Workshop memperbaiki setiap request dari setiap crew produksi/transportasi?"
   ]
  },
  {
   "cell_type": "code",
   "execution_count": 29,
   "id": "5e7acb90-fc14-4900-81c3-cd45ba167a86",
   "metadata": {},
   "outputs": [],
   "source": [
    "t1 = df.copy()\n",
    "t1['t_broken_done'] = t1.done - t1.broken\n",
    "t1['t_schedule_done'] = t1.done - t1.schedule\n",
    "t1['requirement_type'].replace('', 'Internal', inplace=True)\n",
    "\n",
    "t1_in = t1[t1.requirement_type=='Internal']\n",
    "t1_in['no_po'] = '-'\n",
    "\n",
    "t1_ex = t1[t1.requirement_type=='External']\n",
    "t1_ex['spk'] = t1_ex['spk'].apply(lambda x: str(x))\n",
    "t1_ex.drop(columns=['description','qty','uom','description_2','cost'], inplace=True)\n",
    "\n",
    "# pertemukan semua yang external kepada po sam\n",
    "po_spk = po[po.no_spk!='False']\n",
    "t1_ex = t1_ex.drop_duplicates(subset='spk').merge(po_spk[['no_spk','no_po','description','qty','uom','total']], how='left', left_on='spk', right_on='no_spk')\n",
    "t1_ex = t1_ex.rename(columns={'total':'cost'})\n",
    "t1_ex['uom'] = t1_ex['uom'].apply(lambda x: str(x).upper())\n",
    "t1_ex['no_po'].fillna('-', inplace=True)\n",
    "t1_ex['description_2'] = t1_ex.description.apply(get_description)\n",
    "t1_ex['description_2'].fillna('Service', inplace=True)\n",
    "t1_ex = t1_ex[t1_in.columns]\n",
    "t1_ex['cost'].fillna(0, inplace=True)\n",
    "t1_ex['cost'] = t1_ex.cost / t1_ex.qty\n",
    "\n",
    "t1 = pd.concat([t1_in, t1_ex])\n",
    "t1 = t1.sort_values('spk', ascending=False).reset_index(drop=True)\n",
    "\n",
    "# create function to transform timedelat to minute\n",
    "def timedelta_to_minute(timedelta_str):\n",
    "    # Konversi timedelta string ke timedelta object\n",
    "    timedelta_obj = pd.to_timedelta(timedelta_str)\n",
    "    \n",
    "    # Hitung total detik dalam timedelta\n",
    "    total_seconds = timedelta_obj.total_seconds()\n",
    "    \n",
    "    # Konversi total detik ke jam\n",
    "    total_minute = total_seconds / 60\n",
    "    \n",
    "    return total_minute\n",
    "\n",
    "t1['t_broken_done'] = t1['t_broken_done'].apply(timedelta_to_minute)\n",
    "t1['t_schedule_done'] = t1['t_schedule_done'].apply(timedelta_to_minute)\n",
    "t1['t_broken_done'].fillna(0, inplace=True)\n",
    "t1['t_schedule_done'].fillna(0, inplace=True)\n",
    "t1 = t1[t1.stage != 'Cancel']\n",
    "t1['cost'] = t1.cost * t1.qty\n",
    "\n",
    "def get_time(x):\n",
    "    hours = int(x // 60)\n",
    "    remaining_minutes = int(x % 60)\n",
    "    formated_time = f\"{hours} Hour {remaining_minutes} Minute\"\n",
    "    formated_time = pd.to_timedelta(formatted_time)\n",
    "    return formated_time\n",
    "\n",
    "t1['number'] = 1\n",
    "t1['category_maintenance'].replace('TRYE', 'TYRE', inplace=True)\n",
    "t1['name'] = t1.equipment_code.apply(lambda x: str(x).split('/')[0])\n",
    "t1['equipment_name'] = t1['equipment_name'].apply(lambda x: ' '.join(str(x).split()))\n",
    "t1['equipment_name'] = t1['equipment_name'].apply(lambda x: retext_equipment_name(x))\n",
    "t1 = t1[t1.equipment_name!='NISSAN CWA']\n",
    "\n",
    "# buat fungsi untuk klasfikasi jenis kerusakan secara lebih meluas \n",
    "def retext_category_maintenance(x):\n",
    "    try:\n",
    "        msg = ' '.join(x.split('] ')[-1].split()[:1]).upper()\n",
    "    except:\n",
    "        msg = x\n",
    "    return msg\n",
    "    \n",
    "t1['category_maintenance'] = t1['category_maintenance'].apply(retext_category_maintenance)\n",
    "\n",
    "# buat fungsi untuk klasfikasi jenis kerusakan secara lebih meluas \n",
    "def retext_description_maintenance(x):\n",
    "    try:\n",
    "        msg = ' '.join(x.split('] ')[-1].split()[:2]).upper()\n",
    "    except:\n",
    "        msg = x\n",
    "    return msg\n",
    "t1['description_3'] = t1.description_2.apply(retext_description_maintenance)"
   ]
  },
  {
   "cell_type": "code",
   "execution_count": null,
   "id": "d164ac91-4154-43e1-a335-7514750da3f0",
   "metadata": {},
   "outputs": [],
   "source": []
  },
  {
   "cell_type": "code",
   "execution_count": null,
   "id": "249ee4da-87dd-4915-8e46-2f475ad0b54f",
   "metadata": {},
   "outputs": [],
   "source": []
  },
  {
   "cell_type": "code",
   "execution_count": null,
   "id": "1108e401-f560-4dc5-9191-2d4153bebd23",
   "metadata": {},
   "outputs": [],
   "source": []
  },
  {
   "cell_type": "code",
   "execution_count": null,
   "id": "7925a5c0-3445-46ad-91f4-399d00da77ae",
   "metadata": {},
   "outputs": [],
   "source": []
  },
  {
   "cell_type": "code",
   "execution_count": 30,
   "id": "ba7a94ef-6671-4680-8469-18c06a46727b",
   "metadata": {},
   "outputs": [],
   "source": [
    "check = t1.copy()\n",
    "check['date'] = pd.to_datetime(check.broken).dt.date\n",
    "check['date'] = check['date'].apply(lambda x: str(x).split()[0])\n",
    "check = check[(check.category_maintenance=='TYRE') & (check.description_3.isin(['SERVICE','BAN LUAR']))]"
   ]
  },
  {
   "cell_type": "code",
   "execution_count": null,
   "id": "62d59755-76e7-4087-ae0a-c3639b2a6482",
   "metadata": {},
   "outputs": [],
   "source": []
  },
  {
   "cell_type": "code",
   "execution_count": 31,
   "id": "b448dfd3-e433-417e-af9d-9becaae37566",
   "metadata": {},
   "outputs": [],
   "source": [
    "## TEMUKAN KETERANGAN WORKSHOP UNTUK DT TERDAFTAR BERIKUT\n",
    "\n",
    "# list_dt = ['DT-316','DT-391','DT-398','DT-389','DT-318','DT-369']\n",
    "# check = t1.copy()\n",
    "# check['date'] = check.broken.apply(lambda x: str(x).split()[0])\n",
    "# check = check[check.date.isin(['2024-07-09'])]\n",
    "# check = check[check.name.isin(list_dt)]\n",
    "# check = check.drop_duplicates(subset='spk')[['spk','stage','oprator','broken','done','equipment_name','name','t_broken_done']].rename(columns={'t_broken_done':'waktu maintenance'})\n",
    "# check['waktu maintenance'] = check['waktu maintenance']/60"
   ]
  },
  {
   "cell_type": "code",
   "execution_count": null,
   "id": "7a46712d-e4a1-4337-ba1d-b10059ea5649",
   "metadata": {},
   "outputs": [],
   "source": []
  },
  {
   "cell_type": "code",
   "execution_count": 32,
   "id": "991af8ed-32fc-48ad-8ed5-752a8cee2901",
   "metadata": {},
   "outputs": [],
   "source": [
    "t1.to_excel('./Report/task1.xlsx', index=False)"
   ]
  },
  {
   "cell_type": "markdown",
   "id": "0fbcc2e6-462d-4952-ba0a-679a2dc97d63",
   "metadata": {
    "jp-MarkdownHeadingCollapsed": true
   },
   "source": [
    "## Task 1.1 : DASHBOARD"
   ]
  },
  {
   "cell_type": "code",
   "execution_count": 33,
   "id": "e466a9e9-5dc7-4b87-ae64-e169d1e7eab9",
   "metadata": {},
   "outputs": [],
   "source": [
    "t1_1 = t1.copy()\n",
    "\n",
    "t1_1['date_broken'] = pd.to_datetime(t1_1.broken).dt.date\n",
    "t1_1['category_maintenance'].fillna('Tidak Diketahui', inplace=True)\n",
    "\n",
    "# retext category maintenance lebih umum\n",
    "t1_1['category_maintenance'] = t1_1['category_maintenance'].apply(retext_category_maintenance)\n",
    "\n",
    "broken = t1_1[['stage','broken','requirement_type','type_maintenance','category_maintenance','description_3','category_equipment','equipment_name','spk']]\n",
    "broken['date'] = broken.broken.dt.date\n",
    "broken = broken.drop_duplicates(subset='spk')\n",
    "broken = broken.groupby(['date','requirement_type','type_maintenance','category_maintenance','description_3','category_equipment','equipment_name'])[['stage']].count().reset_index().rename(columns={'stage':'values'})\n",
    "broken['status'] = 'Broken'\n",
    "\n",
    "done = t1_1[['stage','done','requirement_type','type_maintenance','category_maintenance','description_3','category_equipment','equipment_name','spk']]\n",
    "done['date'] = done.done.dt.date\n",
    "done = done.drop_duplicates(subset='spk')\n",
    "done = done[done.stage=='DONE']\n",
    "done = done.groupby(['date','requirement_type','type_maintenance','category_maintenance','description_3','category_equipment','equipment_name'])[['stage']].count().reset_index().rename(columns={'stage':'values'})\n",
    "done['status'] = 'Done'\n",
    "\n",
    "t1_1 = pd.concat([broken, done])\n",
    "t1_1 = t1_1[pd.to_datetime(t1_1.date).dt.year >= 2023]\n",
    "t1_1 = t1_1.rename(columns={'date':'request'})\n",
    "t1_1.to_excel('./Report/task1_1.xlsx', index=False)"
   ]
  },
  {
   "cell_type": "code",
   "execution_count": null,
   "id": "3baa75a5-2835-459c-ba27-e3a2f9d5711f",
   "metadata": {},
   "outputs": [],
   "source": []
  },
  {
   "cell_type": "code",
   "execution_count": null,
   "id": "4a71be00-a2e4-4175-8627-54b12d9028cf",
   "metadata": {},
   "outputs": [],
   "source": []
  },
  {
   "cell_type": "code",
   "execution_count": null,
   "id": "19b9c1ce-7439-49b6-9e94-f2cffa6316ce",
   "metadata": {},
   "outputs": [],
   "source": []
  },
  {
   "cell_type": "code",
   "execution_count": null,
   "id": "1d2ea798-0fc3-4fb4-8074-3287babbe8df",
   "metadata": {},
   "outputs": [],
   "source": []
  },
  {
   "cell_type": "code",
   "execution_count": null,
   "id": "4fc8b031-e2a0-4126-b4c2-e85d10e8dbbb",
   "metadata": {},
   "outputs": [],
   "source": []
  },
  {
   "cell_type": "code",
   "execution_count": null,
   "id": "b0b873d2-86f3-4868-859a-f4679a800763",
   "metadata": {},
   "outputs": [],
   "source": []
  },
  {
   "cell_type": "code",
   "execution_count": null,
   "id": "79348722-3ad7-480b-8802-9ab08ea3e6c4",
   "metadata": {},
   "outputs": [],
   "source": []
  },
  {
   "cell_type": "markdown",
   "id": "97311975-4585-499e-b2be-c6de0f3b71d8",
   "metadata": {
    "jp-MarkdownHeadingCollapsed": true
   },
   "source": [
    "## Task 2.1 : DASHBOARD\n",
    "\n",
    "KPI Detail"
   ]
  },
  {
   "cell_type": "code",
   "execution_count": 34,
   "id": "3ffe7b2c-47fd-4215-9faf-f9e4088b456f",
   "metadata": {},
   "outputs": [],
   "source": [
    "# jam_operasional = df2.groupby(['date','name','company','project','production','move_type','equipment'])[['hm_engine_start','hm_engine_end','component_line/out_weight','component_line/in_weight']].sum().reset_index()\n",
    "# jam_operasional['produksi'] = (jam_operasional['component_line/in_weight'] - jam_operasional['component_line/out_weight'])/1000\n",
    "# jam_operasional.drop(columns=['component_line/out_weight','component_line/in_weight'], inplace=True)\n",
    "# jam_operasional['equipment'] = jam_operasional.equipment.apply(lambda x: str(x).split('/')[0])\n",
    "# jam_operasional = jam_operasional.rename(columns={'name':'ts','equipment':'name'})\n",
    "\n",
    "# _ = df[['category_equipment','equipment_name','equipment_code']].drop_duplicates()\n",
    "# _['equipment_code'] = _['equipment_code'].apply(lambda x: str(x).split('/')[0])\n",
    "# _ = _.rename(columns={'equipment_code':'name'})\n",
    "\n",
    "# jam_operasional = jam_operasional.merge(_[['category_equipment','equipment_name','name']].drop_duplicates(), on='name')\n",
    "# jam_operasional = jam_operasional[['date','ts','company','project','production','move_type','category_equipment',\n",
    "#                                    'equipment_name','name','hm_engine_start','hm_engine_end','produksi']]\n",
    "# jam_operasional['date'] = pd.to_datetime(jam_operasional.date).dt.date"
   ]
  },
  {
   "cell_type": "code",
   "execution_count": 35,
   "id": "d7088837-6ac0-4907-b827-8dfdc7a806dc",
   "metadata": {},
   "outputs": [],
   "source": [
    "jam_operasional = df2.copy()\n",
    "jam_operasional['produksi'] = (jam_operasional['component_line/in_weight'] - jam_operasional['component_line/out_weight'])/1000\n",
    "jam_operasional['equipment'] = jam_operasional.equipment.apply(lambda x: str(x).split('/')[0])\n",
    "jam_operasional = jam_operasional.rename(columns={'name':'ts','equipment':'name'})\n",
    "jam_operasional['date_engine_start'] = jam_operasional['date_engine_start'].apply(lambda x: str(x))\n",
    "jam_operasional['date_engine_end'] = jam_operasional['date_engine_end'].apply(lambda x: str(x))\n",
    "\n",
    "# buat fungsi untuk join 2 nilai data\n",
    "def join_text(x):\n",
    "    msg = ';'.join(x)\n",
    "    return msg\n",
    "\n",
    "# buat fungsi untuk menghitung retase dari jumlah timesheet\n",
    "def count_retase(x):\n",
    "    msg = len(x.split(';'))\n",
    "    return msg\n",
    "\n",
    "# re-text hm jika > 10\n",
    "def in_scale(x):\n",
    "    if x > 10:\n",
    "        msg = 10\n",
    "    else:\n",
    "        msg = x\n",
    "    return msg\n",
    "\n",
    "# olah data gabungkan untuk ts berbeda namun masih dalam 1 DT di hari yang sama\n",
    "jam_operasional = jam_operasional.groupby(['date','company','project','production','move_type','name']).agg({\n",
    "    'date_engine_start':join_text,\n",
    "    'date_engine_end':join_text,\n",
    "    'ts':join_text,\n",
    "    'hm_engine_start':np.sum,\n",
    "    'hm_engine_end':np.sum,\n",
    "    'produksi':np.sum\n",
    "}).reset_index()\n",
    "\n",
    "# count jml retase dari jml ts \n",
    "jam_operasional['retase'] = jam_operasional.ts.apply(count_retase)"
   ]
  },
  {
   "cell_type": "code",
   "execution_count": null,
   "id": "be55445e-e4fe-45dc-b8e8-a1f4ba2f55e7",
   "metadata": {},
   "outputs": [],
   "source": []
  },
  {
   "cell_type": "code",
   "execution_count": 36,
   "id": "d7e25089-304c-49af-9b1f-04c57071cd85",
   "metadata": {},
   "outputs": [],
   "source": [
    "def get_start_engine(x):\n",
    "    x = min(x.split(';'))\n",
    "\n",
    "    con = int(x.split()[-1].split(':')[0])\n",
    "    if con == 0:\n",
    "        msg = x.split()[0] + ' 07:00:00'\n",
    "    else:\n",
    "        msg = x\n",
    "    return msg\n",
    "\n",
    "jam_operasional['date_engine_start'] = jam_operasional['date_engine_start'].apply(get_start_engine)"
   ]
  },
  {
   "cell_type": "code",
   "execution_count": 37,
   "id": "e5be7668-9109-4fe4-9073-1363d23b75c0",
   "metadata": {},
   "outputs": [],
   "source": [
    "def get_end_engine(x):\n",
    "    try:\n",
    "        x = x.split(';')\n",
    "        try:\n",
    "            x.remove('error')\n",
    "        except:\n",
    "            x = x\n",
    "\n",
    "        x = min(x)\n",
    "        con = int(x.split()[-1].split(':')[0])\n",
    "        if con == 0:\n",
    "            msg = x.split()[0] + ' 17:00:00'\n",
    "        else:\n",
    "            msg = x\n",
    "    except:\n",
    "        msg = 'error'\n",
    "    return msg\n",
    "\n",
    "jam_operasional['date_engine_end'] = jam_operasional.date_engine_end.apply(get_end_engine)"
   ]
  },
  {
   "cell_type": "code",
   "execution_count": 38,
   "id": "74caa9ff-9ea6-410b-8955-32d75e7bea36",
   "metadata": {},
   "outputs": [],
   "source": [
    "# dapatkan hm dengan mengurangi hm_engine_end - hm_engine_start\n",
    "jam_operasional['hm'] = np.round(jam_operasional.hm_engine_end - jam_operasional.hm_engine_start)\n",
    "jam_operasional['hm'] = jam_operasional['hm'].apply(in_scale)\n",
    "\n",
    "# rename columns\n",
    "jam_operasional = jam_operasional.rename(columns={'ts':'spk_project','project':'project/name','hm':'hm_engine_actual'})\n",
    "\n",
    "# re-columns dataframe\n",
    "jam_operasional = jam_operasional[['company','spk_project','project/name','production','move_type','date','name','date_engine_start','date_engine_end','hm_engine_actual','produksi','retase']]\n",
    "\n",
    "jam_operasional['date'] = jam_operasional['date'].apply(lambda x: str(x).split()[0])"
   ]
  },
  {
   "cell_type": "code",
   "execution_count": null,
   "id": "278f1cb5-63e5-4587-adfa-4bfac468c721",
   "metadata": {},
   "outputs": [],
   "source": []
  },
  {
   "cell_type": "code",
   "execution_count": 39,
   "id": "718260a3-407c-406c-9443-10790bc0f308",
   "metadata": {},
   "outputs": [],
   "source": [
    "jam_breakdown = df[['stage','spk','requirement_type','category_equipment','equipment_name','equipment_code','broken','done']]\n",
    "jam_breakdown['name'] = jam_breakdown.equipment_code.apply(lambda x: str(x).split('/')[0])\n",
    "jam_breakdown = jam_breakdown[['stage', 'spk','requirement_type', 'category_equipment', 'equipment_name','equipment_code', 'name', 'broken', 'done']]"
   ]
  },
  {
   "cell_type": "code",
   "execution_count": 40,
   "id": "75a7a959-1db1-498e-a3ab-92d89ab47154",
   "metadata": {},
   "outputs": [],
   "source": [
    "jam_breakdown = jam_breakdown.rename(columns={'spk':'spk_workshop'})\n",
    "jam_breakdown = jam_breakdown[jam_breakdown.stage!='Cancel']\n",
    "jam_breakdown = jam_breakdown[jam_breakdown.equipment_code != False]\n",
    "\n",
    "# fill jam done dengan waktu update apabila belum selesai diperbaiki\n",
    "from datetime import datetime\n",
    "def get_done_time(x, breakdown):\n",
    "    con = str(x)\n",
    "    if con == None or con == np.NaN or con == 'NaT':\n",
    "        msg = get_work_date(breakdown)['end']\n",
    "    else:\n",
    "        msg = x\n",
    "    return msg"
   ]
  },
  {
   "cell_type": "code",
   "execution_count": 41,
   "id": "fc86b192-1226-4ebd-988a-ff25a7fa653d",
   "metadata": {},
   "outputs": [],
   "source": [
    "jam_breakdown['done'] = jam_breakdown.apply(lambda x: get_done_time(x.done, x.broken), axis=1)\n",
    "jam_breakdown.dropna(axis=0, inplace=True)"
   ]
  },
  {
   "cell_type": "code",
   "execution_count": 42,
   "id": "f615471c-40c7-429e-866f-c904e30b03a4",
   "metadata": {},
   "outputs": [],
   "source": [
    "jam_breakdown['date'] = jam_breakdown.broken.apply(lambda x: str(x).split()[0])"
   ]
  },
  {
   "cell_type": "code",
   "execution_count": null,
   "id": "fb01807e-d7dc-4cea-8564-48aeca14297b",
   "metadata": {},
   "outputs": [],
   "source": []
  },
  {
   "cell_type": "code",
   "execution_count": 43,
   "id": "f4bb5aba-69b4-410c-848b-cf744f66cfcf",
   "metadata": {},
   "outputs": [],
   "source": [
    "# sample = {'stage': {289906: 'DONE', 289907: 'DONE'},\n",
    "#  'spk_workshop': {289906: '33842', 289907: '33843'},\n",
    "#  'requirement_type': {289906: 'Internal', 289907: 'Internal'},\n",
    "#  'category_equipment': {289906: 'DUMP TRUCK', 289907: 'DUMP TRUCK'},\n",
    "#  'equipment_name': {289906: 'HINO FM 260 Ti', 289907: 'HINO FM 260 Ti'},\n",
    "#  'equipment_code': {289906: 'DT-86/JO8EUFJ67769',\n",
    "#   289907: 'DT-86/JO8EUFJ67769'},\n",
    "#  'name': {289906: 'DT-86', 289907: 'DT-86'},\n",
    "#  'date': {289906: '2023-01-09', 289907: '2023-01-09'},\n",
    "#  'broken': {289906: pd.to_datetime('2023-01-09 07:00:00'), 289907: pd.to_datetime('2023-01-09 07:00:00')},\n",
    "#  'done': {289906: '2023-01-11 15:00:00', 289907: '2023-01-09 11:30:00'},\n",
    "#  'actual_start_date': {289906: pd.to_datetime('2023-01-09 07:00:00'),\n",
    "#   289907: pd.to_datetime('2023-01-09 07:00:00')},\n",
    "#  'actual_end_date': {289906: pd.to_datetime('2023-01-09 17:00:00'),\n",
    "#   289907: pd.to_datetime('2023-01-09 17:00:00')}}\n",
    "\n",
    "# sample = pd.DataFrame(sample)\n",
    "\n",
    "# # try\n",
    "\n",
    "# jam_breakdown = sample.copy()"
   ]
  },
  {
   "cell_type": "code",
   "execution_count": null,
   "id": "487e6d86-cb37-42b6-a7a8-d4b5e0ac46b9",
   "metadata": {},
   "outputs": [],
   "source": []
  },
  {
   "cell_type": "code",
   "execution_count": 44,
   "id": "a90fb982-24aa-4650-8601-958ff981b04e",
   "metadata": {},
   "outputs": [],
   "source": [
    "_ = []\n",
    "for i in jam_breakdown.name.unique():\n",
    "    n = jam_breakdown[jam_breakdown.name==i]\n",
    "    n = n.merge(date[['date']], on='date', how='outer')\n",
    "\n",
    "    cat_eq = n.category_equipment.unique().tolist()[0]\n",
    "    eq_name = n.equipment_name.unique().tolist()[0]\n",
    "    eq_code = n.equipment_code.unique().tolist()[0]\n",
    "\n",
    "    n['category_equipment'].fillna(cat_eq, inplace=True)\n",
    "    n['equipment_name'].fillna(eq_name, inplace=True)\n",
    "    n['equipment_code'].fillna(eq_code, inplace=True)\n",
    "    n['name'].fillna(i, inplace=True)\n",
    "    n['stage'].fillna('-', inplace=True)\n",
    "    n['spk_workshop'].fillna('-', inplace=True)\n",
    "    n['requirement_type'].fillna('-', inplace=True)\n",
    "    \n",
    "    n = n.sort_values('date', ascending=True).reset_index(drop=True)\n",
    "    _.append(n)\n",
    "\n",
    "jam_breakdown = pd.concat(_)"
   ]
  },
  {
   "cell_type": "code",
   "execution_count": null,
   "id": "4702ec93-72ac-476c-b2e4-54fed07fdfbd",
   "metadata": {},
   "outputs": [],
   "source": []
  },
  {
   "cell_type": "code",
   "execution_count": 45,
   "id": "edd75fe2-f704-4796-8c09-77253dad2175",
   "metadata": {},
   "outputs": [],
   "source": [
    "jam_breakdown['actual_start_date'] = jam_breakdown['date'].apply(lambda x: get_work_date(x)['start'])\n",
    "jam_breakdown['actual_end_date'] = jam_breakdown['date'].apply(lambda x: get_work_date(x)['end'])\n",
    "jam_breakdown['actual_start_date'] = pd.to_datetime(jam_breakdown['actual_start_date'])\n",
    "jam_breakdown['actual_end_date'] = pd.to_datetime(jam_breakdown['actual_end_date'])\n",
    "jam_breakdown = jam_breakdown.drop_duplicates()"
   ]
  },
  {
   "cell_type": "code",
   "execution_count": null,
   "id": "14fc811b-dec8-4d51-b904-0745a700a6b9",
   "metadata": {},
   "outputs": [],
   "source": []
  },
  {
   "cell_type": "code",
   "execution_count": 46,
   "id": "9d19831b-1b1c-47bc-94cf-84526cd40800",
   "metadata": {},
   "outputs": [],
   "source": [
    "from datetime import datetime, timedelta\n",
    "\n",
    "def calculate_total_breakdown_without_double(list_broken, list_done):\n",
    "    # Convert string to datetime objects\n",
    "    intervals = [(datetime.strptime(broken, '%Y-%m-%d %H:%M:%S'), \n",
    "                  datetime.strptime(done, '%Y-%m-%d %H:%M:%S')) \n",
    "                 for broken, done in zip(list_broken, list_done)]\n",
    "    \n",
    "    # Sort intervals by start time\n",
    "    intervals.sort(key=lambda x: x[0])\n",
    "    \n",
    "    total_breakdown_time = timedelta(0)\n",
    "    current_start, current_end = intervals[0]\n",
    "    \n",
    "    for start, end in intervals[1:]:\n",
    "        if start <= current_end:\n",
    "            current_end = max(current_end, end)\n",
    "        else:\n",
    "            total_breakdown_time += (current_end - current_start)\n",
    "            current_start, current_end = start, end\n",
    "    \n",
    "    total_breakdown_time += (current_end - current_start)\n",
    "    \n",
    "    return total_breakdown_time.total_seconds() / 60"
   ]
  },
  {
   "cell_type": "code",
   "execution_count": null,
   "id": "fb5246af-fb3f-4d4c-afa1-dcb20c458480",
   "metadata": {},
   "outputs": [],
   "source": []
  },
  {
   "cell_type": "code",
   "execution_count": 47,
   "id": "179cd2bd-9e6d-4213-b2b6-791d5eaaa0e4",
   "metadata": {},
   "outputs": [],
   "source": [
    "jam_breakdown = jam_breakdown[['stage','spk_workshop','requirement_type','category_equipment','equipment_name',\n",
    "                               'equipment_code','name','date','broken','done','actual_start_date','actual_end_date']]"
   ]
  },
  {
   "cell_type": "code",
   "execution_count": null,
   "id": "cc897f70-f461-495d-8346-992fbdb475fb",
   "metadata": {},
   "outputs": [],
   "source": []
  },
  {
   "cell_type": "code",
   "execution_count": 48,
   "id": "4bc17ad4-7b67-47bd-a5e0-1882e6c598c6",
   "metadata": {},
   "outputs": [],
   "source": [
    "done_time_db = jam_breakdown[['name','done']].drop_duplicates()\n",
    "\n",
    "done_time_db['done'] = done_time_db['done'].apply(lambda x: str(x))\n",
    "done_time_db = done_time_db[done_time_db.done!='NaT']\n",
    "\n",
    "done_time_db['date'] = done_time_db['done'].apply(lambda x: str(x).split()[0])\n",
    "\n",
    "jam_breakdown['id'] = jam_breakdown.date + '#' + jam_breakdown.name\n",
    "done_time_db['id'] = done_time_db.date + '#' + done_time_db.name\n",
    "\n",
    "jam_breakdown = jam_breakdown.merge(done_time_db[['id','done']], on='id', how='left')\n",
    "jam_breakdown['broken'] = jam_breakdown['broken'].apply(lambda x: str(x))\n",
    "jam_breakdown['done_x'] = jam_breakdown['done_x'].apply(lambda x: str(x))\n",
    "jam_breakdown['done_y'] = jam_breakdown['done_y'].apply(lambda x: str(x))"
   ]
  },
  {
   "cell_type": "code",
   "execution_count": null,
   "id": "874cae50-2e1f-45c8-81e5-d63675f7e843",
   "metadata": {},
   "outputs": [],
   "source": []
  },
  {
   "cell_type": "code",
   "execution_count": null,
   "id": "9c0c0032-9e7d-49cb-aa98-dfd98b2aa716",
   "metadata": {},
   "outputs": [],
   "source": []
  },
  {
   "cell_type": "code",
   "execution_count": null,
   "id": "0cd180fc-07db-4cb3-a74f-3cfd3de13871",
   "metadata": {},
   "outputs": [],
   "source": []
  },
  {
   "cell_type": "code",
   "execution_count": 49,
   "id": "4fa46278-d0dc-4ecf-a037-33056be6b4a3",
   "metadata": {},
   "outputs": [],
   "source": [
    "def fix_done_time(a, b):\n",
    "    a = str(a)\n",
    "    b = str(b)\n",
    "\n",
    "    if a == 'NaT' or a == 'nan' or a == np.NaN:\n",
    "        msg = b\n",
    "    else:\n",
    "        msg = a\n",
    "    return msg\n",
    "\n",
    "jam_breakdown['done_x'] = jam_breakdown.apply(lambda x: fix_done_time(x.done_x, x.done_y), axis=1)\n",
    "jam_breakdown = jam_breakdown.drop(columns=['id','done_y']).rename(columns={'done_x':'done'})\n",
    "\n",
    "def fix_broken_time(a, b):\n",
    "    b = str(b)\n",
    "    if b == 'NaT' or b == 'nan' or b == np.NaN:\n",
    "        msg = 'NaT'\n",
    "    else:\n",
    "        msg = a\n",
    "    return msg\n",
    "\n",
    "jam_breakdown['broken'] = jam_breakdown.apply(lambda x: fix_broken_time(x['broken'], x['done']), axis=1)"
   ]
  },
  {
   "cell_type": "code",
   "execution_count": null,
   "id": "9fb15685-23a8-45f7-af52-e83639a84ed3",
   "metadata": {},
   "outputs": [],
   "source": []
  },
  {
   "cell_type": "code",
   "execution_count": 50,
   "id": "b8fdb046-a7b1-4afe-9e80-59a8a2a124f2",
   "metadata": {},
   "outputs": [
    {
     "name": "stderr",
     "output_type": "stream",
     "text": [
      "100%|███████████████████████████████████████████████████████████████████████████████████████████████████████████████████████████████████████████████████████████████████████████████████████████████████████| 424/424 [00:16<00:00, 25.71it/s]\n"
     ]
    }
   ],
   "source": [
    "def replace_nat(x):\n",
    "    x = str(x)\n",
    "    if x == 'NaT':\n",
    "        msg = np.NaN\n",
    "    else:\n",
    "        msg = x\n",
    "    return msg\n",
    "\n",
    "def corrective_date(done, date):\n",
    "    done_date = pd.to_datetime(str(done).split()[0])\n",
    "    date = pd.to_datetime(date)\n",
    "\n",
    "    if done_date < date:\n",
    "        msg = np.NaN\n",
    "    else:\n",
    "        msg = done\n",
    "    return msg\n",
    "\n",
    "_ = []\n",
    "for i in tqdm(jam_breakdown.name.unique().tolist()):\n",
    "    n = jam_breakdown[jam_breakdown.name==i]\n",
    "    n = n.sort_values(['date','broken','done'], ascending=True).reset_index(drop=True)\n",
    "    n['broken'] = n['broken'].apply(replace_nat)\n",
    "    n['done'].replace('nan', np.NaN, inplace=True)\n",
    "    \n",
    "    # n = n[n.index>7].ffill()\n",
    "\n",
    "    n['done'] = n.apply(lambda x: corrective_date(x.done, x.date), axis=1)\n",
    "    n['broken'] = n.apply(lambda x: fix_broken_time(x['broken'], x['done']), axis=1)\n",
    "    _.append(n)\n",
    "\n",
    "jam_breakdown = pd.concat(_)"
   ]
  },
  {
   "cell_type": "code",
   "execution_count": null,
   "id": "1e2da5d4-52ff-4c8a-bdc3-357ee56e9df3",
   "metadata": {},
   "outputs": [],
   "source": []
  },
  {
   "cell_type": "code",
   "execution_count": 51,
   "id": "d772bfa7-9423-4b36-8fe3-bf031365e444",
   "metadata": {},
   "outputs": [],
   "source": [
    "def fix_done_lewat_hari(done, day_end):\n",
    "    date = str(day_end)\n",
    "    done1 = str(done)\n",
    "\n",
    "    con = pd.to_datetime(date) < pd.to_datetime(done1)\n",
    "\n",
    "    if con == True:\n",
    "        msg = day_end\n",
    "    else:\n",
    "        msg = done\n",
    "    return msg\n",
    "\n",
    "jam_breakdown['done'] = jam_breakdown.apply(lambda x: fix_done_lewat_hari(x['done'], x['actual_end_date']), axis=1)"
   ]
  },
  {
   "cell_type": "code",
   "execution_count": 52,
   "id": "49329a5d-8ca3-46b6-bb5f-78b4588e2b2e",
   "metadata": {},
   "outputs": [],
   "source": [
    "# jam_breakdown = jam_breakdown[jam_breakdown.done!='nan']\n",
    "jam_breakdown['broken'] = jam_breakdown['broken'].apply(lambda x: str(x))\n",
    "jam_breakdown['done'] = jam_breakdown['done'].apply(lambda x: str(x))"
   ]
  },
  {
   "cell_type": "code",
   "execution_count": 53,
   "id": "9336fa89-efbc-43f9-ab3c-a3d9e006f053",
   "metadata": {},
   "outputs": [],
   "source": [
    "jam_breakdown['broken'] = jam_breakdown.apply(lambda x: x.actual_end_date if pd.to_datetime(x.broken) > pd.to_datetime(x.done) else x.broken, axis=1)"
   ]
  },
  {
   "cell_type": "code",
   "execution_count": 54,
   "id": "6854b27f-77ef-432e-82ca-3704270c928e",
   "metadata": {},
   "outputs": [],
   "source": [
    "# jam_breakdown = jam_breakdown[jam_breakdown.done!='nan']\n",
    "jam_breakdown['broken'] = jam_breakdown['broken'].apply(lambda x: str(x))\n",
    "jam_breakdown['done'] = jam_breakdown['done'].apply(lambda x: str(x))"
   ]
  },
  {
   "cell_type": "code",
   "execution_count": null,
   "id": "c610248f-0dd5-41fd-baca-df1c88ae5ed8",
   "metadata": {},
   "outputs": [],
   "source": []
  },
  {
   "cell_type": "code",
   "execution_count": 55,
   "id": "fe5626e7-5aae-4b97-b8ad-aeb67a5bbbfb",
   "metadata": {},
   "outputs": [
    {
     "name": "stderr",
     "output_type": "stream",
     "text": [
      "100%|███████████████████████████████████████████████████████████████████████████████████████████████████████████████████████████████████████████████████████████████████████████████████████████████████████| 424/424 [01:09<00:00,  6.13it/s]\n"
     ]
    }
   ],
   "source": [
    "_ = []\n",
    "for i in tqdm(jam_breakdown.name.unique()):\n",
    "    n = jam_breakdown[jam_breakdown.name==i]\n",
    "    for j in n.date.unique():\n",
    "        try:\n",
    "            m = n[n.date==j]\n",
    "    \n",
    "            hm_maintenance = calculate_total_breakdown_without_double(m.broken.tolist(), m.done.tolist())\n",
    "    \n",
    "            stage = ';'.join(m.stage.unique().tolist())\n",
    "            spk = ';'.join(m.spk_workshop.unique().tolist())\n",
    "            req_type = ';'.join(m.requirement_type.unique().tolist())\n",
    "            broken = ';'.join(m.broken.unique().tolist())\n",
    "            done = ';'.join(m.done.unique().tolist())\n",
    "    \n",
    "            msg = m.head(1)\n",
    "            msg['stage'] = stage\n",
    "            msg['spk_workshop'] = spk\n",
    "            msg['requirement_type'] = req_type\n",
    "            msg['broken'] = broken\n",
    "            msg['done'] = done\n",
    "            msg['hm_maintenance (minute)'] = hm_maintenance\n",
    "            _.append(msg)\n",
    "        except:\n",
    "            msg = m.head(1)\n",
    "            msg['hm_maintenance (minute)'] = 0\n",
    "            _.append(msg)\n",
    "\n",
    "jam_breakdown = pd.concat(_)"
   ]
  },
  {
   "cell_type": "code",
   "execution_count": null,
   "id": "78876219-4dee-4eb6-ac7f-7152c31b5f29",
   "metadata": {},
   "outputs": [],
   "source": []
  },
  {
   "cell_type": "code",
   "execution_count": null,
   "id": "fddf1df0-4a80-487e-bbb1-fb50417ec675",
   "metadata": {},
   "outputs": [],
   "source": []
  },
  {
   "cell_type": "code",
   "execution_count": 56,
   "id": "50e50b4e-0705-42f6-8350-619ce9cbee80",
   "metadata": {},
   "outputs": [],
   "source": [
    "# _ = []\n",
    "# for i in jam_breakdown.name.unique():\n",
    "#     n = jam_breakdown[jam_breakdown.name==i]\n",
    "#     n = n.merge(date[['date']], on='date', how='outer')\n",
    "\n",
    "#     cat_eq = n.category_equipment.unique().tolist()[0]\n",
    "#     eq_name = n.equipment_name.unique().tolist()[0]\n",
    "#     eq_code = n.equipment_code.unique().tolist()[0]\n",
    "\n",
    "#     n['category_equipment'].fillna(cat_eq, inplace=True)\n",
    "#     n['equipment_name'].fillna(eq_name, inplace=True)\n",
    "#     n['equipment_code'].fillna(eq_code, inplace=True)\n",
    "#     n['name'].fillna(i, inplace=True)\n",
    "#     n['stage'].fillna('-', inplace=True)\n",
    "#     n['spk_workshop'].fillna('-', inplace=True)\n",
    "#     n['requirement_type'].fillna('-', inplace=True)\n",
    "#     n['hm_maintenance (minute)'].fillna(0, inplace=True)\n",
    "    \n",
    "#     n = n.sort_values('date', ascending=False).reset_index(drop=True)\n",
    "#     _.append(n)\n",
    "\n",
    "# jam_breakdown = pd.concat(_)\n",
    "# jam_breakdown.to_excel('./Report/rekap breakdown equipment.xlsx', index=False)"
   ]
  },
  {
   "cell_type": "code",
   "execution_count": null,
   "id": "f9ed0490-3599-4269-9575-fbff6503313f",
   "metadata": {},
   "outputs": [],
   "source": []
  },
  {
   "cell_type": "code",
   "execution_count": 57,
   "id": "340714f4-aec1-4522-9b96-8bc47c4bf20a",
   "metadata": {},
   "outputs": [],
   "source": [
    "def get_id(jam, equipment):\n",
    "    jam = str(jam)\n",
    "    eq = str(equipment)\n",
    "    msg = '#' + jam + '#' + eq\n",
    "    return msg\n",
    "\n",
    "jam_operasional['id'] = jam_operasional.apply(lambda x: get_id(x['date'], x['name']), axis=1)\n",
    "jam_breakdown['id'] = jam_breakdown.apply(lambda x: get_id(x['date'], x['name']), axis=1)"
   ]
  },
  {
   "cell_type": "code",
   "execution_count": null,
   "id": "507973cf-c5d9-4bbe-a249-0c04a10ab434",
   "metadata": {},
   "outputs": [],
   "source": []
  },
  {
   "cell_type": "code",
   "execution_count": 58,
   "id": "262ee34a-1ef1-4b39-a5bf-0de6b9157ca3",
   "metadata": {},
   "outputs": [],
   "source": [
    "t2 = pd.merge(jam_operasional[['id','company','spk_project','project/name','production','move_type','date_engine_start','date_engine_end','hm_engine_actual','produksi','retase']], jam_breakdown[['id','stage','spk_workshop','broken','done','hm_maintenance (minute)']], how='outer', on='id')\n",
    "\n",
    "t2['date'] = t2['id'].apply(lambda x: str(x).split('#')[1])\n",
    "t2['name'] = t2['id'].apply(lambda x: str(x).split('#')[-1])\n",
    "t2 = t2.merge(tbl_eq[['category_equipment','equipment_name','name']].drop_duplicates(), on='name', how='left')"
   ]
  },
  {
   "cell_type": "code",
   "execution_count": 59,
   "id": "924f8997-a8fb-4552-8834-ed285097de25",
   "metadata": {},
   "outputs": [],
   "source": [
    "t2['day'] = pd.to_datetime(t2.date).dt.day\n",
    "t2['month'] = pd.to_datetime(t2.date).dt.month\n",
    "t2['year'] = pd.to_datetime(t2.date).dt.year\n",
    "t2 = t2.sort_values(['name','year','month','day'], ascending=False)\n",
    "t2.reset_index(drop=True, inplace=True)\n",
    "t2.drop(columns=['day','month','year'], inplace=True)\n",
    "t2['hm_engine_actual'].fillna(0, inplace=True)\n",
    "t2 = t2.rename(columns={'hm_engine_actual':'jam_produktivitas','hm_maintenance (minute)':'jam_breakdown'})\n",
    "t2['jam_breakdown'].fillna(0, inplace=True)\n",
    "t2['jam_breakdown'] = t2['jam_breakdown']/60"
   ]
  },
  {
   "cell_type": "code",
   "execution_count": 60,
   "id": "b5ea29a9-2944-4a41-98cd-a93e871e325d",
   "metadata": {},
   "outputs": [],
   "source": [
    "def get_jam_stanby_true(x):\n",
    "    if x < 0:\n",
    "        msg = 0\n",
    "    else:\n",
    "        msg = x\n",
    "    return msg\n",
    "\n",
    "t2['jam_standby'] = t2.apply(lambda x: get_jam_stanby_true(10 - (x.jam_produktivitas + x.jam_breakdown)), axis=1)\n",
    "t2['move_type'].fillna('-', inplace=True)\n",
    "t2['spk_workshop'].fillna('-', inplace=True)\n",
    "t2['spk_project'].fillna('-', inplace=True)\n",
    "t2['project/name'].fillna('-', inplace=True)\n",
    "t2['company'].fillna('-', inplace=True)\n",
    "t2['project/name'] = t2['project/name'].apply(lambda x: str(x))\n",
    "t2['produksi'].fillna(0, inplace=True)\n",
    "t2['retase'].fillna(0, inplace=True)\n",
    "t2['production'].fillna('-', inplace=True)\n",
    "t2['stage'].fillna('-', inplace=True)\n",
    "t2['category_equipment'].fillna('Tidak Diketahui', inplace=True)\n",
    "t2['equipment_name'].fillna('Tidak Diketahui', inplace=True)\n",
    "t2['name'].fillna('Tidak Diketahui', inplace=True)\n",
    "t2.drop(columns='id', inplace=True)\n",
    "t2 = t2.drop_duplicates()"
   ]
  },
  {
   "cell_type": "code",
   "execution_count": null,
   "id": "8462cf51-4c26-4942-9bcd-6bd7a5458b4a",
   "metadata": {},
   "outputs": [],
   "source": []
  },
  {
   "cell_type": "code",
   "execution_count": 61,
   "id": "1c3a7b71-e111-43f7-8681-7614b55551b0",
   "metadata": {},
   "outputs": [],
   "source": [
    "t2 = t2[['company','spk_project','spk_workshop','project/name','production','move_type','stage','category_equipment','equipment_name',\n",
    "    'name','produksi','retase','date','date_engine_start','date_engine_end','broken','done','jam_produktivitas','jam_breakdown','jam_standby']]"
   ]
  },
  {
   "cell_type": "code",
   "execution_count": null,
   "id": "fd6eb359-aabd-4c75-b0e9-7af9833525c0",
   "metadata": {},
   "outputs": [],
   "source": []
  },
  {
   "cell_type": "code",
   "execution_count": 62,
   "id": "28777a08-e1c2-4c85-8b29-85df32532e31",
   "metadata": {},
   "outputs": [],
   "source": [
    "def fix_kpi(ts, work, bd, stand):\n",
    "    if ts == '-':\n",
    "        stand = 10 - bd\n",
    "        bd = bd\n",
    "        work = 0\n",
    "    else:\n",
    "        if work == 0:\n",
    "            work = 10 - bd\n",
    "            bd = bd\n",
    "            stand = 0\n",
    "        else:\n",
    "            work = work - bd\n",
    "            stand = 0\n",
    "            bd = bd\n",
    "    msg = [work, bd, stand]\n",
    "    return msg"
   ]
  },
  {
   "cell_type": "code",
   "execution_count": null,
   "id": "b5a5e8a6-52e9-4929-90a4-8d273e4b7bfe",
   "metadata": {},
   "outputs": [],
   "source": []
  },
  {
   "cell_type": "code",
   "execution_count": 63,
   "id": "a79240b3-b2c9-424b-af4b-242356945619",
   "metadata": {},
   "outputs": [],
   "source": [
    "t2['jam_produktivitas'] = t2.apply(lambda x: fix_kpi(x.spk_project, x.jam_produktivitas, x.jam_breakdown, x.jam_standby)[0], axis=1)\n",
    "t2['jam_breakdown'] = t2.apply(lambda x: fix_kpi(x.spk_project, x.jam_produktivitas, x.jam_breakdown, x.jam_standby)[1], axis=1)\n",
    "t2['jam_standby'] = t2.apply(lambda x: fix_kpi(x.spk_project, x.jam_produktivitas, x.jam_breakdown, x.jam_standby)[2], axis=1)"
   ]
  },
  {
   "cell_type": "code",
   "execution_count": null,
   "id": "0734b38e-d1a2-400b-be6b-523b12beeaf8",
   "metadata": {},
   "outputs": [],
   "source": []
  },
  {
   "cell_type": "code",
   "execution_count": null,
   "id": "7c78c118-5ffa-4267-9d66-b316b1548e24",
   "metadata": {},
   "outputs": [],
   "source": []
  },
  {
   "cell_type": "code",
   "execution_count": null,
   "id": "f313d33f-7269-4644-8415-19140a752f67",
   "metadata": {},
   "outputs": [],
   "source": []
  },
  {
   "cell_type": "code",
   "execution_count": 64,
   "id": "8e859189-81a2-4026-8ee9-21f97081e1af",
   "metadata": {},
   "outputs": [
    {
     "name": "stderr",
     "output_type": "stream",
     "text": [
      "100%|██████████████████████████████████████████████████████████████████████████████████████████████████████████████████████████████████████████████████████████████████████████████████████████████████████| 432/432 [00:03<00:00, 112.65it/s]\n"
     ]
    }
   ],
   "source": [
    "kpi = []\n",
    "for i in tqdm(t2.name.unique().tolist()):\n",
    "    n = t2[t2.name==i]\n",
    "\n",
    "    cat_eq = n.category_equipment.unique().tolist()[0]\n",
    "    eq_name = n.equipment_name.unique().tolist()[0]\n",
    "    name = n.name.unique().tolist()[0]\n",
    "    \n",
    "    n = date.merge(n, on='date', how='left')\n",
    "    n['company'].fillna('-', inplace=True)\n",
    "    n['project/name'].fillna('-', inplace=True)\n",
    "    n['spk_workshop'].fillna('-', inplace=True)\n",
    "    n['spk_project'].fillna('-', inplace=True)\n",
    "    n['move_type'].fillna('-', inplace=True)\n",
    "    n['stage'].fillna('-', inplace=True)\n",
    "    n['production'].fillna('-', inplace=True)\n",
    "    n['category_equipment'].fillna(cat_eq, inplace=True)\n",
    "    n['equipment_name'].fillna(eq_name, inplace=True)\n",
    "    n['name'].fillna(name, inplace=True)\n",
    "    n['jam_produktivitas'].fillna(0, inplace=True)\n",
    "    n['jam_breakdown'].fillna(0, inplace=True)\n",
    "    n['jam_standby'].fillna(0, inplace=True)\n",
    "    n['produksi'].fillna(0, inplace=True)\n",
    "    n['retase'].fillna(0, inplace=True)\n",
    "    kpi.append(n)\n",
    "\n",
    "# gabungkan data\n",
    "kpi = pd.concat(kpi)\n",
    "kpi['category_equipment'].replace('TidakDiketahui', 'Tidak Diketahui', inplace=True)\n",
    "kpi.drop_duplicates(inplace=True)\n",
    "\n",
    "# merge dengan data standar jarak tempuh move type\n",
    "kpi = kpi.merge(tbl_jarak, on='move_type', how='left').rename(columns={'jarak':'standar_jarak'})\n",
    "kpi['standar_jarak'].fillna(0, inplace=True)\n",
    "\n",
    "# merge dengan data standar maximal muatan dt\n",
    "kpi = kpi.merge(tbl_kapasitas[['equipment_name','kapasitas_maximal']], on='equipment_name', how='left')\n",
    "kpi['kapasitas_maximal'].fillna(0, inplace=True)\n",
    "\n",
    "# re-columns data kpi\n",
    "kpi = kpi[['date','company','spk_project','project/name','production','move_type','spk_workshop','stage','category_equipment'\n",
    "           ,'equipment_name','name','standar_jarak','jam_produktivitas','jam_breakdown','jam_standby','kapasitas_maximal','produksi','retase']]\n",
    "\n",
    "kpi['total_jarak_tempuh'] = kpi.retase * kpi.standar_jarak\n",
    "kpi.fillna(0, inplace=True)\n",
    "kpi = kpi[kpi.equipment_name!='NISSAN CWA 260 X']\n",
    "\n",
    "kpi = kpi.merge(tbl_waktu, on='move_type', how='left')\n",
    "kpi['waktu'].fillna(0, inplace=True)"
   ]
  },
  {
   "cell_type": "code",
   "execution_count": null,
   "id": "54757b5d-fd9c-4d46-84ff-306fb72c8199",
   "metadata": {},
   "outputs": [],
   "source": []
  },
  {
   "cell_type": "code",
   "execution_count": 65,
   "id": "a996bde8-e1c5-4ceb-ac56-47dcbda2ae38",
   "metadata": {},
   "outputs": [],
   "source": [
    "# def retext_jam_produktivitas(work, produksi, retase, waktu):\n",
    "#     if work == 0 and produksi != 0:\n",
    "#         msg = retase * waktu\n",
    "#     else:\n",
    "#         msg = work\n",
    "#     return msg\n",
    "\n",
    "# list_index = kpi[(kpi.jam_produktivitas == 0) & (kpi.produksi!=0)].index.tolist()"
   ]
  },
  {
   "cell_type": "code",
   "execution_count": null,
   "id": "18b32503-1cf3-4084-aa38-23bc801ee852",
   "metadata": {},
   "outputs": [],
   "source": []
  },
  {
   "cell_type": "code",
   "execution_count": 66,
   "id": "c485d962-9a3d-4e21-9fb4-e6b90cd9d6d2",
   "metadata": {},
   "outputs": [],
   "source": [
    "# kpi['jam_produktivitas'] = kpi.apply(lambda x: retext_jam_produktivitas(x.jam_produktivitas, x.produksi, x.retase, x.waktu), axis=1)\n",
    "\n",
    "# def repair_jam(i, work, bd, s):\n",
    "#     if i in list_index:\n",
    "#         # penyesuaian jam work\n",
    "#         if work > 10:\n",
    "#             work = 10 - bd\n",
    "#             if work < 0:\n",
    "#                 work = 0\n",
    "#         else:\n",
    "#             work = work\n",
    "#             if work < 0:\n",
    "#                 work = 0\n",
    "\n",
    "#         # penyesuaian jam standby\n",
    "#         s = 10 - (work + bd)\n",
    "#         msg = [work, bd, s]\n",
    "#     else:\n",
    "#         msg = [work, bd, s]\n",
    "#     return msg\n",
    "\n",
    "# kpi['jam_produktivitas'] = kpi.reset_index().apply(lambda x: repair_jam(x['index'], x.jam_produktivitas, x.jam_breakdown, x.jam_standby)[0], axis=1)\n",
    "# kpi['jam_breakdown'] = kpi.reset_index().apply(lambda x: repair_jam(x['index'], x.jam_produktivitas, x.jam_breakdown, x.jam_standby)[1], axis=1)\n",
    "# kpi['jam_standby'] = kpi.reset_index().apply(lambda x: repair_jam(x['index'], x.jam_produktivitas, x.jam_breakdown, x.jam_standby)[2], axis=1)\n",
    "\n",
    "# def get_project_status(x, bd, standby):\n",
    "#     if standby >= 10:\n",
    "#         msg = 'Standby'\n",
    "#     elif bd > 0:\n",
    "#         msg = 'Breakdown'\n",
    "#     else:\n",
    "#         msg = x\n",
    "#     return msg\n",
    "\n",
    "# kpi['project/name'] = kpi.apply(lambda x: get_project_status(x['project/name'], x['jam_breakdown'], x['jam_standby']), axis=1)"
   ]
  },
  {
   "cell_type": "code",
   "execution_count": null,
   "id": "9a567c67-7ee0-40cc-9519-3cb267ba7cb0",
   "metadata": {},
   "outputs": [],
   "source": []
  },
  {
   "cell_type": "code",
   "execution_count": null,
   "id": "eacebf03-4c6c-48a9-a4ca-6f56829083b8",
   "metadata": {},
   "outputs": [],
   "source": []
  },
  {
   "cell_type": "code",
   "execution_count": 67,
   "id": "0c78b184-6269-4d08-a406-5e18396230b2",
   "metadata": {},
   "outputs": [],
   "source": [
    "# kpi[kpi.jam_breakdown>=10].sort_values('name', ascending=False).name.unique().tolist()"
   ]
  },
  {
   "cell_type": "markdown",
   "id": "c9462824-38fd-4c6d-9787-391c0277cea4",
   "metadata": {
    "jp-MarkdownHeadingCollapsed": true
   },
   "source": [
    "## Task 1.2 : DASHBOARD"
   ]
  },
  {
   "cell_type": "code",
   "execution_count": 68,
   "id": "71e5c1ae-9bb7-4d0d-ae2e-f4d3696f625a",
   "metadata": {},
   "outputs": [],
   "source": [
    "# buat fungsi untuk mengklasifikasi jenis ketersediaan unit\n",
    "def get_jml_ketersediaan_unit(produktivitas, breakdown, standby):\n",
    "    if produktivitas > 0:\n",
    "        msg = 'In Work'\n",
    "    elif breakdown > standby:\n",
    "        msg = 'Broken'\n",
    "    elif standby > breakdown:\n",
    "        msg = 'Standby'\n",
    "    else:\n",
    "        msg = 'Broken'\n",
    "    return msg\n",
    "\n",
    "# get and apply function\n",
    "t1_2 = kpi[['date','project/name','category_equipment','equipment_name','name','jam_produktivitas','jam_breakdown','jam_standby','produksi','retase','total_jarak_tempuh']]\n",
    "t1_2['status'] = t1_2.apply(lambda x: get_jml_ketersediaan_unit(x.jam_produktivitas, x.jam_breakdown, x.jam_standby), axis=1)\n",
    "t1_2['number'] = 1\n",
    "t1_2 = t1_2[t1_2['project/name'].isin(['-','Mining KBM','Mining BDM','Rental BDM'])]\n",
    "t1_2 = t1_2.groupby(['date','project/name','category_equipment','equipment_name','status'])[['number','produksi','retase']].sum().reset_index().rename(columns={'number':'count_unit'})\n",
    "\n",
    "# read data detail informasi equipment\n",
    "url_depresiasi = \"https://docs.google.com/spreadsheets/d/1cjcBMY29etIAeQAwRDzlbpd4wExYkpvxk7s4tgVUD-w/export?format.xlsx\"\n",
    "try:\n",
    "    os.remove('detail_depresiasi.xlsx')\n",
    "except:\n",
    "    None\n",
    "    \n",
    "output_filename = 'detail_depresiasi.xlsx'\n",
    "# get the data from spreadsheet\n",
    "response = requests.get(url_depresiasi)\n",
    "if response.status_code == 200:\n",
    "    with open(output_filename, \"wb\") as f:\n",
    "        f.write(response.content)\n",
    "\n",
    "# read data\n",
    "dep = pd.read_excel(output_filename)\n",
    "dep.columns = ['_'.join(i.lower().split()) for i in dep.columns]\n",
    "dep.fillna(0, inplace=True)\n",
    "dep.columns = ['company','category_equipment','equipment_name','name','date_pay','eq_age','dpp','lama_penyusutan',\n",
    "               'price_aftar_salvage','depresiasi','insurance','interest','tax',]\n",
    "eq = dep[['company','category_equipment','equipment_name','name']].drop_duplicates()\n",
    "eq = eq.groupby(['category_equipment','equipment_name'])[['name']].count().reset_index().rename(columns={'name':'count_all_unit'})\n",
    "\n",
    "# merge data\n",
    "t1_2 = t1_2.merge(eq[['equipment_name','count_all_unit']], on='equipment_name', how='left').fillna(0).drop_duplicates()\n",
    "t1_2 = t1_2.merge(tbl_kapasitas[['equipment_name','kapasitas_maximal']], on='equipment_name', how='left').fillna(0)"
   ]
  },
  {
   "cell_type": "code",
   "execution_count": 69,
   "id": "651095e7-4b2c-420e-904b-d68610627cd2",
   "metadata": {},
   "outputs": [],
   "source": [
    "t1_2.to_excel('./Report/task1_2.xlsx', index=False)"
   ]
  },
  {
   "cell_type": "markdown",
   "id": "138ac5d5-6e39-48cd-a05a-73357db60712",
   "metadata": {
    "jp-MarkdownHeadingCollapsed": true
   },
   "source": [
    "## Task 2.2 : DASHBOARD\n",
    "\n",
    "KPI Rekap"
   ]
  },
  {
   "cell_type": "code",
   "execution_count": 70,
   "id": "7c3eae13-bb43-4c23-b34b-d24fd7cbc9e3",
   "metadata": {},
   "outputs": [
    {
     "name": "stderr",
     "output_type": "stream",
     "text": [
      "100%|███████████████████████████████████████████████████████████████████████████████████████████████████████████████████████████████████████████████████████████████████████████████████████████████████████| 545/545 [00:30<00:00, 17.67it/s]\n"
     ]
    }
   ],
   "source": [
    "jam_operasional = df2.groupby(['date','name','company','project','production','move_type','equipment'])[['hm_engine_start','hm_engine_end','component_line/out_weight','component_line/in_weight']].sum().reset_index()\n",
    "jam_operasional['produksi'] = (jam_operasional['component_line/in_weight'] - jam_operasional['component_line/out_weight'])/1000\n",
    "jam_operasional.drop(columns=['component_line/out_weight','component_line/in_weight'], inplace=True)\n",
    "jam_operasional['equipment'] = jam_operasional.equipment.apply(lambda x: str(x).split('/')[0])\n",
    "jam_operasional = jam_operasional.rename(columns={'name':'ts','equipment':'name'})\n",
    "jam_operasional = jam_operasional.merge(kpi[['category_equipment','equipment_name','name']].drop_duplicates(), on='name')\n",
    "jam_operasional = jam_operasional[['date','ts','company','project','production','move_type','category_equipment',\n",
    "                                   'equipment_name','name','hm_engine_start','hm_engine_end','produksi']]\n",
    "jam_operasional['date'] = pd.to_datetime(jam_operasional.date).dt.date\n",
    "\n",
    "# manipulate data agar sesuai kebutuhan\n",
    "_ = []\n",
    "for i in tqdm(jam_operasional.date.unique().tolist()):\n",
    "    n = jam_operasional[jam_operasional.date == i]\n",
    "    for j in n.name.unique().tolist():\n",
    "        m = n[n.name==j]\n",
    "        m = m[m.hm_engine_end!=0]\n",
    "        count_ret = len(m)\n",
    "        hm = m.head(1).hm_engine_end - m.head(1).hm_engine_start\n",
    "        msg = m.head(1)\n",
    "        msg['hm'] = hm\n",
    "        msg['retase'] = count_ret\n",
    "        _.append(msg)\n",
    "jam_operasional = pd.concat(_)\n",
    "jam_operasional.drop(columns='ts', inplace=True)\n",
    "jam_operasional.columns = ['date','company','project/name','production','move_type','category_equipment','equipment_name','name','hm_engine_start','hm_engine_end','produksi','hm_engine_in_work_productivity','retase']\n",
    "t2_1 = jam_operasional.copy()"
   ]
  },
  {
   "cell_type": "code",
   "execution_count": 71,
   "id": "184638d3-7558-4bfc-bf67-e18bbd965627",
   "metadata": {},
   "outputs": [],
   "source": [
    "t2_1 = t2_1.groupby(['date','company','project/name','production','move_type','category_equipment','equipment_name','name'])[['hm_engine_in_work_productivity','produksi','retase']].sum().reset_index()"
   ]
  },
  {
   "cell_type": "code",
   "execution_count": 72,
   "id": "7f508c41-dc56-4ad5-aa1e-2e01dc6e964e",
   "metadata": {},
   "outputs": [],
   "source": [
    "t2_1.to_excel('./Report/task2_1.xlsx', index=False)"
   ]
  },
  {
   "cell_type": "code",
   "execution_count": null,
   "id": "643078fe-ebcc-486b-bb7c-3291bc32738d",
   "metadata": {},
   "outputs": [],
   "source": []
  },
  {
   "cell_type": "code",
   "execution_count": null,
   "id": "8a5a9f05-3557-442e-94f3-8a43b7415611",
   "metadata": {},
   "outputs": [],
   "source": []
  },
  {
   "cell_type": "code",
   "execution_count": null,
   "id": "404df6ad-b8e4-4492-ab41-1a7d19c081e3",
   "metadata": {},
   "outputs": [],
   "source": []
  },
  {
   "cell_type": "markdown",
   "id": "fca92055-e130-4945-a4dc-c11710bb62de",
   "metadata": {
    "jp-MarkdownHeadingCollapsed": true
   },
   "source": [
    "## Task 3 : DASHBOARD\n",
    "\n",
    "Buat perbandingan antara Biaya terhadap hasil produksi"
   ]
  },
  {
   "cell_type": "code",
   "execution_count": 73,
   "id": "8a218e9a-7b50-4c66-a50b-5d0d95b940e8",
   "metadata": {},
   "outputs": [],
   "source": [
    "t3 = df2.copy()\n",
    "t3 = t3[t3.production=='Hauling Ore']\n",
    "target = ['HINO ZS','HINO ZY','HONGYAN KINKAN430']\n",
    "equipment = df[df.equipment_name.isin(target)==True][['category_equipment','equipment_name','equipment_code']].drop_duplicates()\n",
    "equipment['equipment_detail'] = equipment.equipment_code.apply(lambda x: str(x).split('/')[0])\n",
    "t3 = t3.merge(equipment, left_on='equipment', right_on='equipment_code', how='left')\n",
    "t3 = t3[t3.equipment_name.isin(target)]\n",
    "t3['produksi'] = t3['component_line/in_weight'] - t3['component_line/out_weight']\n",
    "\n",
    "t3 = t3[['project/name','project','name','date','move_type','hm_engine_actual','production','employee','category_equipment','equipment_name','equipment_code','equipment_detail','component_line/in_weight','component_line/out_weight','produksi','state']]\n",
    "t3.columns = [i.split('/')[-1] for i in t3.columns]\n",
    "\n",
    "# group data produksi harian \n",
    "t3 = t3.groupby(['date','project','move_type','equipment_name','equipment_detail'])[['in_weight','out_weight','produksi']].sum().reset_index()\n",
    "t3['date'] = t3['date'].dt.date\n",
    "t3['date'] = t3['date'].astype(str)\n",
    "\n",
    "# klasifikasi status dari tujuan produksi berdasarkan moving type\n",
    "def get_produksi_status(x):\n",
    "    x = str(x)\n",
    "    con = x.split('- ')[-1]\n",
    "    if con == 'KM 7':\n",
    "        msg = 'Deposit'\n",
    "    else:\n",
    "        msg = 'Sell'\n",
    "    return msg\n",
    "\n",
    "t3['produksi_status'] = t3['move_type'].apply(lambda x: get_produksi_status(x))\n",
    "\n",
    "# group data biaya harian\n",
    "cost_t1 = t1.copy()\n",
    "cost_t1 = cost_t1[['broken','equipment_name','name','cost']]\n",
    "cost_t1['broken'] = cost_t1['broken'].dt.date\n",
    "cost_t1 = cost_t1.groupby(['broken','equipment_name','name'])[['cost']].sum().reset_index()\n",
    "cost_t1.columns = ['date','equipment_name','equipment_detail','cost']\n",
    "cost_t1['date'] = cost_t1['date'].astype(str)\n",
    "cost_t1 = cost_t1[cost_t1.equipment_name.isin(t3.equipment_name.unique().tolist())]\n",
    "\n",
    "# merge kedua data\n",
    "t3['id'] = t3.date +'#'+ t3.equipment_name +'#'+ t3.equipment_detail\n",
    "cost_t1['id'] = cost_t1.date +'#'+ cost_t1.equipment_name +'#'+ cost_t1.equipment_detail\n",
    "t3 = t3.merge(cost_t1[['id','cost']], on='id', how='outer')\n",
    "t3 = t3[['id','project','move_type','produksi_status','in_weight','out_weight','produksi','cost']]\n",
    "t3['date'] = t3['id'].apply(lambda x: str(x).split('#')[0])\n",
    "t3['equipment_name'] = t3['id'].apply(lambda x: str(x).split('#')[1])\n",
    "t3['equipment_detail'] = t3['id'].apply(lambda x: str(x).split('#')[-1])\n",
    "t3.drop(columns='id', inplace=True)\n",
    "\n",
    "t3 = t3[['date','project','move_type','produksi_status','equipment_name','equipment_detail','in_weight','out_weight','produksi','cost']]\n",
    "\n",
    "# cleaning data\n",
    "t3['cost'].fillna(0, inplace=True)\n",
    "t3['in_weight'].fillna(0, inplace=True)\n",
    "t3['out_weight'].fillna(0, inplace=True)\n",
    "t3['produksi'].fillna(0, inplace=True)\n",
    "t3['project'].fillna('Breakdown', inplace=True)\n",
    "t3['move_type'].fillna('Breakdown', inplace=True)\n",
    "t3['produksi_status'].fillna('Breakdown', inplace=True)\n",
    "\n",
    "t3_bd = t3[t3.project=='Breakdown']\n",
    "t3_bd = t3_bd[t3_bd.cost!=0]\n",
    "t3_ac = t3[t3.project!='Breakdown']\n",
    "t3 = pd.concat([t3_bd, t3_ac])\n",
    "t3 = t3.sort_values('date', ascending=False).reset_index(drop=True)\n",
    "t3['produksi'] = t3['produksi']/1000\n",
    "t3.to_excel('./Report/task3.xlsx', index=False)"
   ]
  },
  {
   "cell_type": "code",
   "execution_count": null,
   "id": "477de336-f636-42e5-b496-99cd3c21c5d0",
   "metadata": {},
   "outputs": [],
   "source": []
  },
  {
   "cell_type": "code",
   "execution_count": null,
   "id": "981c8da3-b903-4fc5-b492-aab7ff87c42a",
   "metadata": {},
   "outputs": [],
   "source": []
  },
  {
   "cell_type": "markdown",
   "id": "b7a40148-8bb3-4005-9350-01dd8ed7f129",
   "metadata": {
    "jp-MarkdownHeadingCollapsed": true
   },
   "source": [
    "## Task 5 : DASHBOARD\n",
    "Kumpulkan trend data produksi dan bandingkan dengan maximal muatan nya "
   ]
  },
  {
   "cell_type": "code",
   "execution_count": 74,
   "id": "60296fa8-fa53-440e-bca8-42a6c1781296",
   "metadata": {},
   "outputs": [],
   "source": [
    "c2 = kpi.copy()\n",
    "c2 = c2[c2['project/name']!='-']\n",
    "c2 = c2[c2.retase>0]\n",
    "c2['count_sheet'] = c2['production'].apply(lambda x: len(str(x).split(';')))\n",
    "c2['target_produksi'] = c2.count_sheet * c2.kapasitas_maximal\n",
    "c2 = c2[c2.target_produksi!=0]\n",
    "c2 = c2[['date','project/name','production','move_type','spk_project','category_equipment','equipment_name','name','standar_jarak',\n",
    "         'jam_produktivitas','jam_breakdown','jam_standby','kapasitas_maximal','produksi','target_produksi','retase','total_jarak_tempuh','count_sheet']]\n",
    "\n",
    "def get_different(retase, c_spk_kerja, produksi, target_produksi):\n",
    "    retase_round = np.round(retase)\n",
    "    \n",
    "    con = retase_round == c_spk_kerja\n",
    "    diff = c_spk_kerja - retase\n",
    "    p_diff = diff / c_spk_kerja\n",
    "\n",
    "    selisih_target = target_produksi - produksi\n",
    "    p_selisih_target = selisih_target/target_produksi\n",
    "\n",
    "    msg = {\n",
    "        'condition':[con],\n",
    "        'diff':[diff],\n",
    "        'p_diff':[p_diff],\n",
    "        'selisih_target_produksi':[selisih_target],\n",
    "        'p_selisih_target_produksi':[p_selisih_target]\n",
    "    }\n",
    "\n",
    "    return msg\n",
    "\n",
    "ret = c2.iloc[0]['retase']\n",
    "count_sheet = c2.iloc[0]['count_sheet']\n",
    "produksi = c2.iloc[0]['produksi']\n",
    "target_produksi = c2.iloc[0]['target_produksi']\n",
    "\n",
    "c2['retase_berbeda'] = c2.apply(lambda x: get_different(x.retase, x.count_sheet, x.produksi, x.target_produksi)['condition'][0], axis=1)\n",
    "c2['selisih_retase_berbeda'] = c2.apply(lambda x: get_different(x.retase, x.count_sheet, x.produksi, x.target_produksi)['diff'][0], axis=1)\n",
    "c2['p_selisih_retase_berbeda'] = c2.apply(lambda x: get_different(x.retase, x.count_sheet, x.produksi, x.target_produksi)['p_diff'][0], axis=1)\n",
    "c2['selisih_target_produksi'] = c2.apply(lambda x: get_different(x.retase, x.count_sheet, x.produksi, x.target_produksi)['selisih_target_produksi'][0], axis=1)\n",
    "c2['p_selisih_target_produksi'] = c2.apply(lambda x: get_different(x.retase, x.count_sheet, x.produksi, x.target_produksi)['p_selisih_target_produksi'][0], axis=1)\n",
    "\n",
    "# eda1 akan menunjukan grafik perbedaan muatan yang diproduksi dengan yang sebenarnya dapat tercapai.\n",
    "eda1 = c2[['date','spk_project','project/name','production','move_type','equipment_name','name',\n",
    "           'kapasitas_maximal','produksi','retase','count_sheet']].rename(columns={'kapasitas_maximal':'kapasitas'})\n",
    "\n",
    "eda1['retase'] = eda1['retase'].apply(lambda x: int(np.round(x)))\n",
    "\n",
    "# retase didapatkan dengan cara membagi hasil produksi dengan kapasitas DT\n",
    "# apabila kapasitas DT di maksimalkan maka semestinya akan diperoleh hasil produksi yang maksimal kita nama produksi maksimal\n",
    "eda1['produksi_max_retase'] = eda1.retase * eda1.kapasitas\n",
    "\n",
    "# count_sheet merupakan jumlah sheet yang dibuat oleh operator. Umum nya jumlah sheet ini mewakili banyak retase yang dilakukan. Selanjutnya kita akan hitung berapa hasil maksimal dari banyak sheet apabila menggunakan maksimal muatas yang kita namai sebagai produksi max count sheet\n",
    "eda1['produksi_max_count_sheet'] = eda1.count_sheet * eda1.kapasitas\n",
    "\n",
    "eda1 = eda1.groupby(['date','spk_project','project/name','production','move_type','equipment_name','name'])[['kapasitas','produksi','retase','count_sheet','produksi_max_retase','produksi_max_count_sheet']].sum().reset_index()\n",
    "\n",
    "eda1.to_excel('./Report/task5_2.xlsx', index=False)"
   ]
  },
  {
   "cell_type": "code",
   "execution_count": null,
   "id": "b6bed6e0-657d-4246-ae2f-85004e6fdf4b",
   "metadata": {},
   "outputs": [],
   "source": []
  },
  {
   "cell_type": "code",
   "execution_count": null,
   "id": "6cb59f13-c108-436a-8610-993852d43216",
   "metadata": {},
   "outputs": [],
   "source": []
  },
  {
   "cell_type": "code",
   "execution_count": null,
   "id": "39e9b083-4cb4-42a0-944b-7f9d434a654c",
   "metadata": {},
   "outputs": [],
   "source": []
  },
  {
   "cell_type": "code",
   "execution_count": null,
   "id": "edbd63b7-f617-4954-9ab8-1f6e7d8bbb6c",
   "metadata": {},
   "outputs": [],
   "source": []
  },
  {
   "cell_type": "code",
   "execution_count": null,
   "id": "e90f80f1-2fef-47ba-ad42-be5fbd155016",
   "metadata": {},
   "outputs": [],
   "source": []
  },
  {
   "cell_type": "code",
   "execution_count": null,
   "id": "19607a43-a8ac-46a7-8499-37be9cf0e072",
   "metadata": {},
   "outputs": [],
   "source": []
  },
  {
   "cell_type": "code",
   "execution_count": null,
   "id": "92ab908c-83ca-4150-8358-7b74305ae5f5",
   "metadata": {},
   "outputs": [],
   "source": []
  },
  {
   "cell_type": "code",
   "execution_count": null,
   "id": "5ec08f39-ac28-4fee-a764-5d04d6f50297",
   "metadata": {},
   "outputs": [],
   "source": []
  },
  {
   "cell_type": "code",
   "execution_count": null,
   "id": "f6d93b0e-52c3-475c-95e4-4515d4403e96",
   "metadata": {},
   "outputs": [],
   "source": []
  },
  {
   "cell_type": "code",
   "execution_count": 75,
   "id": "b8184180-04ee-4cae-b695-3053d25e1de3",
   "metadata": {},
   "outputs": [
    {
     "name": "stderr",
     "output_type": "stream",
     "text": [
      "100%|███████████████████████████████████████████████████████████████████████████████████████████████████████████████████████████████████████████████████████████████████████████████████████████████████████████| 5/5 [00:00<00:00, 87.30it/s]\n"
     ]
    }
   ],
   "source": [
    "cols = ['produksi','retase','count_sheet','produksi_max_retase','produksi_max_count_sheet']\n",
    "\n",
    "eda2_ = []\n",
    "for i in tqdm(cols):\n",
    "    data = eda1.copy()\n",
    "    values = data[i].tolist()\n",
    "    data['status'] = i\n",
    "    data = data[['date','spk_project','move_type','equipment_name','name','kapasitas','status']]\n",
    "    data['value'] = values\n",
    "    eda2_.append(data)\n",
    "\n",
    "eda2 = pd.concat(eda2_)\n",
    "eda2.to_excel('./Report/task5_1.xlsx', index=False)"
   ]
  },
  {
   "cell_type": "code",
   "execution_count": null,
   "id": "bf18721f-d38d-47cf-889b-cfea2879b132",
   "metadata": {},
   "outputs": [],
   "source": []
  },
  {
   "cell_type": "code",
   "execution_count": null,
   "id": "ad23916b-907a-42c7-9021-8960e0c067aa",
   "metadata": {},
   "outputs": [],
   "source": []
  },
  {
   "cell_type": "code",
   "execution_count": null,
   "id": "8ea074af-5885-4629-b4a4-6b17388849fa",
   "metadata": {},
   "outputs": [],
   "source": []
  },
  {
   "cell_type": "code",
   "execution_count": 76,
   "id": "67372f27-415e-464a-8f23-36311266590d",
   "metadata": {},
   "outputs": [
    {
     "data": {
      "text/html": [
       "<div>\n",
       "<style scoped>\n",
       "    .dataframe tbody tr th:only-of-type {\n",
       "        vertical-align: middle;\n",
       "    }\n",
       "\n",
       "    .dataframe tbody tr th {\n",
       "        vertical-align: top;\n",
       "    }\n",
       "\n",
       "    .dataframe thead th {\n",
       "        text-align: right;\n",
       "    }\n",
       "</style>\n",
       "<table border=\"1\" class=\"dataframe\">\n",
       "  <thead>\n",
       "    <tr style=\"text-align: right;\">\n",
       "      <th></th>\n",
       "      <th>mean</th>\n",
       "      <th>amax</th>\n",
       "      <th>amin</th>\n",
       "    </tr>\n",
       "    <tr>\n",
       "      <th>equipment_name</th>\n",
       "      <th></th>\n",
       "      <th></th>\n",
       "      <th></th>\n",
       "    </tr>\n",
       "  </thead>\n",
       "  <tbody>\n",
       "    <tr>\n",
       "      <th>HINO ZS</th>\n",
       "      <td>37.882666</td>\n",
       "      <td>47.69</td>\n",
       "      <td>26.38</td>\n",
       "    </tr>\n",
       "    <tr>\n",
       "      <th>HINO ZY</th>\n",
       "      <td>49.038162</td>\n",
       "      <td>76.74</td>\n",
       "      <td>24.48</td>\n",
       "    </tr>\n",
       "    <tr>\n",
       "      <th>HONGYAN KINKAN430</th>\n",
       "      <td>56.126976</td>\n",
       "      <td>72.28</td>\n",
       "      <td>37.90</td>\n",
       "    </tr>\n",
       "  </tbody>\n",
       "</table>\n",
       "</div>"
      ],
      "text/plain": [
       "                        mean   amax   amin\n",
       "equipment_name                            \n",
       "HINO ZS            37.882666  47.69  26.38\n",
       "HINO ZY            49.038162  76.74  24.48\n",
       "HONGYAN KINKAN430  56.126976  72.28  37.90"
      ]
     },
     "execution_count": 76,
     "metadata": {},
     "output_type": "execute_result"
    }
   ],
   "source": [
    "check = df2.drop_duplicates()\n",
    "check = check[check.production.isin(['Hauling Ore'])]\n",
    "check['my'] = pd.to_datetime(check.date).dt.strftime('%m/%y')\n",
    "check = check[check.my.isin(['01/24','02/24','03/24','04/24','05/24','06/24'])]\n",
    "check = check.rename(columns={'name':'spk_project'})\n",
    "check['name'] = check.equipment.apply(lambda x: str(x).split('/')[0])\n",
    "check = check.merge(tbl_eq[['equipment_name','name']], on='name', how='left')\n",
    "check['produksi'] = check['component_line/net_weight/voll'] / 1000\n",
    "\n",
    "check = check.groupby(['date','spk_project','equipment_name','name'])[['produksi']].sum().reset_index()\n",
    "check.groupby(['equipment_name'])['produksi'].agg([np.mean, np.max, np.min])"
   ]
  },
  {
   "cell_type": "code",
   "execution_count": 77,
   "id": "628f204c-f2f6-43b8-b728-f0ee8324ac76",
   "metadata": {},
   "outputs": [],
   "source": [
    "check = check.merge(tbl_kapasitas[['equipment_name','kapasitas_maximal']], on='equipment_name', how='left')\n",
    "check['kapasitas_maximal'] = check['kapasitas_maximal'] + 2\n",
    "check[check.produksi > check.kapasitas_maximal].to_excel('check kebenaran data produksi 2024.xlsx', index=False)"
   ]
  },
  {
   "cell_type": "code",
   "execution_count": null,
   "id": "27100502-da08-48c2-a7a1-631af8270d51",
   "metadata": {},
   "outputs": [],
   "source": []
  },
  {
   "cell_type": "code",
   "execution_count": null,
   "id": "a19ee33c-ebad-4526-9e97-8babcd3c58bb",
   "metadata": {},
   "outputs": [],
   "source": []
  },
  {
   "cell_type": "code",
   "execution_count": null,
   "id": "1326670d-de07-4f26-96e5-ebf375863ba0",
   "metadata": {},
   "outputs": [],
   "source": []
  },
  {
   "cell_type": "code",
   "execution_count": null,
   "id": "372838ad-fbc0-4d14-bb8c-1f2dfc4cca20",
   "metadata": {},
   "outputs": [],
   "source": []
  },
  {
   "cell_type": "code",
   "execution_count": null,
   "id": "9ef13e78-8cd1-4ba6-bb44-3ce42305a021",
   "metadata": {},
   "outputs": [],
   "source": []
  },
  {
   "cell_type": "code",
   "execution_count": null,
   "id": "02025dab-ad81-44bc-989d-3c93d6ddbb5c",
   "metadata": {},
   "outputs": [],
   "source": []
  },
  {
   "cell_type": "markdown",
   "id": "f7b85fa3-b489-4aa9-8aba-3a9999f30b5b",
   "metadata": {
    "jp-MarkdownHeadingCollapsed": true
   },
   "source": [
    "## Task 6 : ANALISA"
   ]
  },
  {
   "cell_type": "code",
   "execution_count": null,
   "id": "ddc8cb1b-4e23-40ce-bb8a-4a4edf4dd6aa",
   "metadata": {},
   "outputs": [],
   "source": []
  },
  {
   "cell_type": "code",
   "execution_count": null,
   "id": "8d2a5605-63f8-4b13-ac78-372bc649f312",
   "metadata": {},
   "outputs": [],
   "source": []
  },
  {
   "cell_type": "code",
   "execution_count": null,
   "id": "68012448-a0d8-43c3-a21b-4a41b780837e",
   "metadata": {},
   "outputs": [],
   "source": []
  },
  {
   "cell_type": "code",
   "execution_count": null,
   "id": "ce93243a-c337-4622-9779-91a6e8b28ec6",
   "metadata": {},
   "outputs": [],
   "source": []
  },
  {
   "cell_type": "code",
   "execution_count": null,
   "id": "ee7b83fc-54ba-4d0a-9990-b1871e67ee2a",
   "metadata": {},
   "outputs": [],
   "source": []
  },
  {
   "cell_type": "markdown",
   "id": "97439bc2-f255-44a9-a7ee-957ce5b9197f",
   "metadata": {
    "jp-MarkdownHeadingCollapsed": true
   },
   "source": [
    "## Task 7 : DASHBOARD\n",
    "- Dashboard Monitoring Prodical Maintenance Equipment\n",
    "- Rerata Equipment harus masuk dalam periodical Maintenance"
   ]
  },
  {
   "cell_type": "code",
   "execution_count": 78,
   "id": "c0010799-c031-4dfe-b872-87fd2ade3ac5",
   "metadata": {},
   "outputs": [],
   "source": [
    "# # kumpul data historical dari setiap alat\n",
    "# bd7 = df[['spk','broken','category_equipment','equipment_name','equipment_code','hm']]\n",
    "# ts7 = df2[['name','date','equipment','hm_engine_start','hm_engine_end','actual_engine']]\n",
    "\n",
    "# # transform data\n",
    "# bd7['name'] = bd7['equipment_code'].apply(lambda x: str(x).split('/')[0])\n",
    "# bd7 = bd7.rename(columns={'spk':'spk','broken':'date','hm':'hm_engine_end'})\n",
    "# bd7 = bd7.drop(columns=['equipment_code'])\n",
    "# bd7['status'] = 'b/d'\n",
    "# bd7 = bd7[['status','spk','date','category_equipment','equipment_name','name','hm_engine_end']]\n",
    "\n",
    "# ts7 = ts7.rename(columns={'name':'spk','equipment':'name'})\n",
    "# ts7['name'] = ts7['name'].apply(lambda x: str(x).split('/')[0])\n",
    "\n",
    "# # merge data\n",
    "# ts7 = ts7.merge(bd7[['category_equipment','equipment_name','name']].drop_duplicates(), on='name', how='left')\n",
    "# ts7['status'] = 'timesheet'\n",
    "# ts7 = ts7[['status','spk','date','category_equipment','equipment_name','name','hm_engine_end']]\n",
    "\n",
    "# # concat all data time sheet and data breadown\n",
    "# t7 = pd.concat([ts7,bd7])\n",
    "# t7['date'] = pd.to_datetime(t7.date).dt.date\n",
    "# # t7 = t7[pd.to_datetime(t7.date).dt.year>2023]\n",
    "\n",
    "# # kita asumsikan data tidak terdapat human error\n",
    "# t7 = t7[t7.hm_engine_end!=0]\n",
    "\n",
    "# t7 = t7.sort_values(['name','date','hm_engine_end'], ascending=True)\n",
    "# t7 = t7.drop_duplicates(subset=['date','category_equipment','equipment_name','name','hm_engine_end'])"
   ]
  },
  {
   "cell_type": "code",
   "execution_count": 79,
   "id": "a4f995bf-a0e3-46cb-b26b-dda7b8cdbeef",
   "metadata": {},
   "outputs": [],
   "source": [
    "# # sample data untuk uji program\n",
    "\n",
    "# list_unit_hino_zy = t7[t7.equipment_name=='HINO ZY'].name.unique().tolist()\n",
    "# sample = t7[t7.name==list_unit_hino_zy[20]]\n",
    "\n",
    "# # cleaning data\n",
    "# sample['pct_change'] = sample.hm_engine_end.pct_change()\n",
    "# sample = sample[sample['pct_change']>0]\n",
    "# sample = sample[sample['pct_change']<sample['pct_change'].median()]\n",
    "# sample = sample[pd.to_datetime(sample.date).dt.year>=2024]\n",
    "# sample.drop(columns='pct_change', inplace=True)\n",
    "\n",
    "# def get_increase_hm(list_hm):\n",
    "#     msg = []\n",
    "#     for i in range(len(list_hm)):\n",
    "#         try:\n",
    "#             value = list_hm[i + 1] - list_hm[i]\n",
    "#             msg.append(value)\n",
    "#         except:\n",
    "#             msg.append(None)\n",
    "#     msg = [0] + msg[:-1]   \n",
    "#     return msg\n",
    "\n",
    "# # apply function\n",
    "# sample['increase_hm'] = get_increase_hm(sample.hm_engine_end.tolist())"
   ]
  },
  {
   "cell_type": "code",
   "execution_count": 80,
   "id": "726adc61-e298-4234-9b5b-3ecbab3676e2",
   "metadata": {},
   "outputs": [],
   "source": [
    "# def cek_periode_ganti(hm_engine_end, eq_name):\n",
    "#     base = tbl_periodical[tbl_periodical.equipment_name==eq_name].reset_index(drop=True)\n",
    "#     base['params'] = [0 for i in range(len(base))]\n",
    "    \n",
    "#     increase_hm = get_increase_hm(hm_engine_end)\n",
    "#     msg = []\n",
    "#     for i in increase_hm:\n",
    "#         # buat perulangan untuk menambahkan params\n",
    "#         for k in range(len(base)):\n",
    "#             base['params'][k] = base['params'][k] + i\n",
    "            \n",
    "#         base['con'] = base.params >= base.standar_hm\n",
    "#         if True in base['con'].tolist():\n",
    "#             n = base[base.con == True]\n",
    "#             index_list = n.index.tolist()\n",
    "#             for j in index_list:\n",
    "#                 base['params'][j] = 0\n",
    "#             msg.append(','.join(n.description.tolist()))\n",
    "#         else:\n",
    "#             msg.append(np.NaN)\n",
    "\n",
    "#     return msg"
   ]
  },
  {
   "cell_type": "code",
   "execution_count": 81,
   "id": "9fa87f68-139d-4464-bd0b-0b8c09e849bd",
   "metadata": {},
   "outputs": [],
   "source": [
    "# t7_ = []\n",
    "# for i in tqdm(t7.name.unique().tolist()):\n",
    "#     n = t7[t7.name==i]\n",
    "#     # n = n[pd.to_datetime(n.date).dt.year>=2024]\n",
    "    \n",
    "#     hm_list = n['hm_engine_end'].tolist()\n",
    "#     eq_name = n['equipment_name'].unique().tolist()[0]\n",
    "    \n",
    "#     n['periodical_maintenance'] = cek_periode_ganti(hm_list, eq_name)\n",
    "#     t7_.append(n)\n",
    "# t7 = pd.concat(t7_)"
   ]
  },
  {
   "cell_type": "code",
   "execution_count": 82,
   "id": "e0d2c983-953a-401f-b9d3-533e96bc45f2",
   "metadata": {},
   "outputs": [],
   "source": [
    "# check = t7[t7.name=='D65-10'].periodical_maintenance.value_counts().reset_index().to_dict()"
   ]
  },
  {
   "cell_type": "code",
   "execution_count": null,
   "id": "48bc0198-f2ca-4d3c-84c5-6abcb6382742",
   "metadata": {},
   "outputs": [],
   "source": []
  },
  {
   "cell_type": "code",
   "execution_count": 83,
   "id": "b629f245-4864-4a71-82d7-55af09e8cc41",
   "metadata": {},
   "outputs": [],
   "source": [
    "# # Ubah kolom 'index' menjadi unik\n",
    "# unique_index = []\n",
    "# for index_list in check['index'].values():\n",
    "#     unique_index.extend(index_list.split(','))\n",
    "\n",
    "# unique_index = sorted(set(unique_index))\n",
    "\n",
    "# # Buat DataFrame baru dengan indeks unik\n",
    "# new_data = {\n",
    "#     'index': [', '.join(unique_index)] * len(check['index']),\n",
    "#     'periodical_maintenance': check['periodical_maintenance'].values()\n",
    "# }"
   ]
  },
  {
   "cell_type": "code",
   "execution_count": 84,
   "id": "1092de0f-9805-46bb-a7b9-d3303053dd18",
   "metadata": {},
   "outputs": [],
   "source": [
    "# check = t1[pd.to_datetime(t1.done).dt.strftime('%m/%y').isin(['02/23'])]"
   ]
  },
  {
   "cell_type": "code",
   "execution_count": 85,
   "id": "002bf3b4-7f9c-48b9-99ee-58e7810b32a0",
   "metadata": {},
   "outputs": [],
   "source": [
    "# check[check.requirement_type=='External'].to_excel('check_external.xlsx', index=False)"
   ]
  },
  {
   "cell_type": "markdown",
   "id": "1269f571-114e-451c-92e4-e5db020c5495",
   "metadata": {
    "jp-MarkdownHeadingCollapsed": true
   },
   "source": [
    "## Task 8 : ANALISA"
   ]
  },
  {
   "cell_type": "code",
   "execution_count": null,
   "id": "924a60a2-837a-4ca2-9ee5-3914d6e6bfab",
   "metadata": {},
   "outputs": [],
   "source": []
  },
  {
   "cell_type": "markdown",
   "id": "dd67f962-dbc8-4822-87b1-9e823c55f1ce",
   "metadata": {
    "jp-MarkdownHeadingCollapsed": true
   },
   "source": [
    "## Task 9 : ANALISA"
   ]
  },
  {
   "cell_type": "code",
   "execution_count": null,
   "id": "8ce2db46-2066-4ad5-b42d-eaacbbf448aa",
   "metadata": {},
   "outputs": [],
   "source": []
  },
  {
   "cell_type": "markdown",
   "id": "3aab924d-4c0c-4776-b99a-3f530155de13",
   "metadata": {
    "jp-MarkdownHeadingCollapsed": true
   },
   "source": [
    "## Task 10 : DASHBOARD"
   ]
  },
  {
   "cell_type": "code",
   "execution_count": 86,
   "id": "a60bc199-5a6b-4be8-99b6-88db43c91b23",
   "metadata": {},
   "outputs": [
    {
     "name": "stderr",
     "output_type": "stream",
     "text": [
      "100%|███████████████████████████████████████████████████████████████████████████████████████████████████████████████████████████████████████████████████████████████████████████████████████████████████████████| 4/4 [00:00<00:00, 68.95it/s]\n"
     ]
    }
   ],
   "source": [
    "company = kpi[['date','company','name']].drop_duplicates()\n",
    "company['id'] = company.apply(lambda x: get_id(x['date'], x['name']), axis=1)\n",
    "\n",
    "t10 = t3.copy()\n",
    "t10['id'] = t10.apply(lambda x: get_id(x['date'], x['equipment_detail']), axis=1)\n",
    "t10 = t10.merge(company[['company','id']], on='id', how='left')\n",
    "\n",
    "# KONTRAK KBM : MINING KBM\n",
    "# KONTRAK BLOK 8 : MINIM BDM\n",
    "# RENTAL BLOK 8 : [RENTAL BDM] [BLOK 5 - PABRIK]\n",
    "# RENTAL FEEDING KM 7 : [RENTAL BDM] [KM7 - PABRIK]\n",
    "\n",
    "# def get_kontrak(project, move):\n",
    "#     if project == 'Mining KBM':\n",
    "#         msg = 'Kontrak KBM'\n",
    "        \n",
    "#     elif project == 'Mining BDM':\n",
    "#         msg = 'Kontrak Blok 8'\n",
    "        \n",
    "#     elif project == 'Rental BDM':\n",
    "#         if move == 'BLOK 5 - PABRIK':\n",
    "#             msg = 'Rental Blok 8'\n",
    "            \n",
    "#         elif move == 'KM7 - PABRIK':\n",
    "#             msg = 'Feeding KM7'\n",
    "            \n",
    "#         else:\n",
    "#             msg = 'Tidak Diketahui'\n",
    "\n",
    "#     else:\n",
    "#         msg = 'Tidak Diketahui'\n",
    "#     return msg\n",
    "\n",
    "# # APPLY FUNCTION\n",
    "# t10['kontrak'] = t10.apply(lambda x: get_kontrak(x.project, x.move_type), axis=1)\n",
    "t10 = t10.rename(columns={'project':'kontrak'})\n",
    "t10 = t10[t10.kontrak!='Tidak Diketahui']\n",
    "t10 = t10[['date','company','kontrak','move_type','equipment_name','equipment_detail','in_weight','out_weight','produksi','cost']]\n",
    "\n",
    "# mengisi tanggal kosong pada masing-masing kontrak\n",
    "_ = []\n",
    "for i in tqdm(t10.kontrak.unique().tolist()):\n",
    "    n = t10[t10.kontrak == i]\n",
    "\n",
    "    move = n.move_type.unique().tolist()[0]\n",
    "\n",
    "    n = date.merge(n, on='date', how='left')\n",
    "    n['company'].fillna('Tidak Diketahui', inplace=True)\n",
    "    n['kontrak'].fillna(i, inplace=True)\n",
    "    n['move_type'].fillna(move, inplace=True)\n",
    "    n['equipment_name'].fillna('Tidak Diketahui', inplace=True)\n",
    "    n['equipment_detail'].fillna('Tidak Diketahui', inplace=True)\n",
    "    n['in_weight'].fillna(0, inplace=True)\n",
    "    n['out_weight'].fillna(0, inplace=True)\n",
    "    n['produksi'].fillna(0, inplace=True)\n",
    "    n['cost'].fillna(0, inplace=True)\n",
    "    _.append(n)\n",
    "\n",
    "t10 = pd.concat(_)\n",
    "t10 = t10.merge(tbl_kapasitas[['equipment_name','kapasitas_maximal']], on='equipment_name', how='left')\n",
    "\n",
    "retase = kpi[kpi['spk_project']!='-']\n",
    "retase = retase[['date','name','retase']]\n",
    "retase['id'] = retase.date + '#' + retase.name\n",
    "\n",
    "t10['id'] = t10.date + '#' + t10.equipment_detail\n",
    "t10 = t10.merge(retase[['id','retase']], on='id', how='left').fillna(0).drop(columns='id')\n",
    "\n",
    "t10['kapasitas_maximal'].fillna(0, inplace=True)\n",
    "t10.to_excel('./Report/dashboard_request_pak_jon_1.xlsx', index=False)"
   ]
  },
  {
   "cell_type": "code",
   "execution_count": null,
   "id": "d1bc9a2e-deb7-4b51-bc16-9ce8e39315a8",
   "metadata": {},
   "outputs": [],
   "source": []
  },
  {
   "cell_type": "markdown",
   "id": "db36eeec-bc13-4085-b526-3f923dc00377",
   "metadata": {
    "jp-MarkdownHeadingCollapsed": true
   },
   "source": [
    "## Task 11 : ANALISA\n",
    "\n",
    "Analisa pemakaian bahan bakar"
   ]
  },
  {
   "cell_type": "code",
   "execution_count": 87,
   "id": "27934784-ed4b-454f-a059-8dbcc4ad4a91",
   "metadata": {},
   "outputs": [],
   "source": [
    "# date['month'] = pd.to_datetime(date.date).dt.strftime('%m/%y')"
   ]
  },
  {
   "cell_type": "code",
   "execution_count": 88,
   "id": "d484a7e7-78ef-4d18-b057-02a9fe5ea690",
   "metadata": {},
   "outputs": [],
   "source": [
    "# # read and cleaning data\n",
    "# t11 = pd.read_excel('/Users/dickyaryanto/Documents/PT Sentosa Abadi Mining/Data/data pemakaian fuel.xlsx')\n",
    "# t11['name'] = t11['name'].apply(lambda x: ''.join(x.split()))\n",
    "# t11['date'] = pd.to_datetime(t11.date).dt.strftime('%m/%y')\n",
    "# t11.replace('-', 0, inplace=True)\n",
    "# t11['hm'] = t11['hm'].astype(float)\n",
    "# t11['produksi'] = t11['produksi'].astype(float)\n",
    "# t11['retase'] = t11['retase'].astype(float)\n",
    "# t11['konsumsi'] = t11['konsumsi'].astype(float)\n",
    "# t11 = t11.merge(tbl_kapasitas[['equipment_name','kapasitas_maximal']], on='equipment_name', how='left').fillna(0).rename(columns={'kapasitas_maximal':'kap_max'})\n",
    "\n",
    "\n",
    "# def get_hm(hm, produksi, kap_max, retase, month):\n",
    "#     count_day = len(date[date.month==month])\n",
    "#     actual_produksi = count_day * 4 * kap_max\n",
    "#     try:\n",
    "#         if hm != 0:\n",
    "#             msg = hm\n",
    "#         else:\n",
    "#             f1 = (produksi / actual_produksi) * 10 * count_day\n",
    "#             f2 = (retase / (count_day * 4)) * 10 * count_day\n",
    "#             msg = (f1 + f2)/2\n",
    "#     except:\n",
    "#         msg = 0\n",
    "\n",
    "#     return msg\n",
    "\n",
    "# # apply function\n",
    "# t11['hm'] = t11.apply(lambda x: get_hm(x.hm, x.produksi, x.kap_max, x.retase, x['date']), axis=1)\n",
    "\n",
    "# # sns.pairplot(t11[t11.production=='Hauling Ore'][['hm','produksi','retase','konsumsi']])\n",
    "# # plt.tight_layout()\n",
    "# # plt.show()"
   ]
  },
  {
   "cell_type": "code",
   "execution_count": 89,
   "id": "123b9569-a25d-4b3c-9a81-b7b38966afbc",
   "metadata": {},
   "outputs": [],
   "source": [
    "# sns.pairplot(t11[t11.production!='Hauling Ore'][['hm','konsumsi']])\n",
    "# plt.tight_layout()\n",
    "# plt.show()"
   ]
  },
  {
   "cell_type": "code",
   "execution_count": 90,
   "id": "7c4ecfd9-cb01-431b-8eb8-43ac93383bfc",
   "metadata": {},
   "outputs": [],
   "source": [
    "# t11[t11.production=='Hauling Ore'].drop(columns='kap_max').corr()"
   ]
  },
  {
   "cell_type": "code",
   "execution_count": 91,
   "id": "aa67cc9d-3390-4d88-ba2e-864661db28f4",
   "metadata": {},
   "outputs": [],
   "source": [
    "# t11[t11.production!='Hauling Ore'].drop(columns='kap_max')[['hm','konsumsi']].corr()"
   ]
  },
  {
   "cell_type": "code",
   "execution_count": 92,
   "id": "e2cd63bd-ff38-4c24-8b2e-20051fd11d26",
   "metadata": {},
   "outputs": [],
   "source": [
    "# ho = t11[t11.production=='Hauling Ore']\n",
    "# nho = t11[t11.production!='Hauling Ore'].drop(columns=['retase','produksi','kap_max'])"
   ]
  },
  {
   "cell_type": "code",
   "execution_count": 93,
   "id": "60e20302-06c7-431c-92c7-25b3c2af40d5",
   "metadata": {},
   "outputs": [],
   "source": [
    "# from sklearn.cluster import KMeans\n",
    "# from sklearn.preprocessing import MinMaxScaler, LabelEncoder\n",
    "\n",
    "# scale = MinMaxScaler()\n",
    "# le = LabelEncoder()\n",
    "\n",
    "# xho = ho.copy()\n",
    "# xnho = nho.copy()\n",
    "\n",
    "# # transformasi tipe data kategorikal\n",
    "# for i in xho.select_dtypes('object').columns.tolist():\n",
    "#     xho[i] = le.fit_transform(xho[i])\n",
    "\n",
    "# for i in xnho.select_dtypes('object').columns.tolist():\n",
    "#     xnho[i] = le.fit_transform(xnho[i])\n",
    "\n",
    "# # transformasi tipe data numerik\n",
    "# for i in xho.select_dtypes('number').columns.tolist():\n",
    "#     xho[i] = scale.fit_transform(xho[[i]])\n",
    "\n",
    "# for i in xnho.select_dtypes('number').columns.tolist():\n",
    "#     xnho[i] = scale.fit_transform(xnho[[i]])"
   ]
  },
  {
   "cell_type": "code",
   "execution_count": 94,
   "id": "e9d03d2c-eacb-4fb4-b5e9-27337cc946ee",
   "metadata": {},
   "outputs": [],
   "source": [
    "# # buat evaluasi score inertia untuk XHO\n",
    "# score_xho = []\n",
    "# for i in range(2, 10):\n",
    "#     kmeans = KMeans(n_clusters=i)\n",
    "#     model = kmeans.fit(xho)\n",
    "#     score_xho.append(model.inertia_)\n",
    "\n",
    "# plt.title('Score Inertia Data Production Hauling Ore', fontsize=12, pad=15)\n",
    "# plt.plot(range(2, 10), score_xho, marker='o')\n",
    "# plt.tight_layout()\n",
    "# plt.show()\n",
    "\n",
    "# # print\n",
    "# print('Data production Hauling Ore beter using 4 clusters')\n",
    "\n",
    "# # define function using 4 clusters\n",
    "# kmeans = KMeans(n_clusters=2)\n",
    "# xho['c1'] = kmeans.fit_predict(xho)"
   ]
  },
  {
   "cell_type": "code",
   "execution_count": 95,
   "id": "201d8018-41fe-4b05-8ce7-524525dae93a",
   "metadata": {},
   "outputs": [],
   "source": [
    "# # buat evaluasi score inertia untuk XNHO\n",
    "# score_xnho = []\n",
    "# for i in range(2, 10):\n",
    "#     kmeans = KMeans(n_clusters=i)\n",
    "#     model = kmeans.fit(xnho)\n",
    "#     score_xnho.append(model.inertia_)\n",
    "\n",
    "# plt.title('Score Inertia Data Production != Hauling Ore', fontsize=12, pad=15)\n",
    "# plt.plot(range(2, 10), score_xnho, marker='o')\n",
    "# plt.tight_layout()\n",
    "# plt.show()\n",
    "\n",
    "# # print\n",
    "# print('Data production != Hauling Ore beter using 3 clusters')\n",
    "\n",
    "# # define function using 3 clusters\n",
    "# kmeans = KMeans(n_clusters=2)\n",
    "# xnho['c1'] = kmeans.fit_predict(xnho)"
   ]
  },
  {
   "cell_type": "code",
   "execution_count": 96,
   "id": "c753e81a-13d8-4e5b-92da-69289c1d4fdb",
   "metadata": {},
   "outputs": [],
   "source": [
    "# # gabung data\n",
    "# ho = pd.concat([ho, xho[['c1']]], axis=1)\n",
    "# nho = pd.concat([nho, xnho[['c1']]], axis=1)"
   ]
  },
  {
   "cell_type": "code",
   "execution_count": 97,
   "id": "28190953-7b4b-4d51-a7f7-e4ad0900410a",
   "metadata": {},
   "outputs": [],
   "source": [
    "# sns.pairplot(ho[['hm','produksi','retase','konsumsi','c1']], hue='c1')"
   ]
  },
  {
   "cell_type": "code",
   "execution_count": 98,
   "id": "50ac3219-d30f-4044-99fa-ee012985226f",
   "metadata": {},
   "outputs": [],
   "source": [
    "# corr_app = ho[ho.company=='CV. Adil Prima Perkasa'][['hm','retase','produksi','konsumsi']].corr()\n",
    "# plt.figure(figsize=(8, 5))\n",
    "# plt.title('Persentase Keterhubungan Antar Parameter', fontsize=19, pad=15)\n",
    "# sns.heatmap(corr_app, linewidth=2, annot=True)\n",
    "\n",
    "# plt.yticks(rotation=0)\n",
    "\n",
    "# plt.tight_layout()\n",
    "# # plt.savefig('./Images/Korelasi antar parameter app.svg', dpi=1000)"
   ]
  },
  {
   "cell_type": "code",
   "execution_count": 99,
   "id": "634cf3d4-8d2f-47b0-9774-e7e098eb5630",
   "metadata": {},
   "outputs": [],
   "source": [
    "# corr_sa = ho[['hm','retase','produksi','konsumsi']].corr()\n",
    "# plt.figure(figsize=(8, 5))\n",
    "# plt.title('Persentase Keterhubungan Antar Parameter', fontsize=19, pad=15)\n",
    "# sns.heatmap(corr_sa, linewidth=2, annot=True)\n",
    "\n",
    "# plt.yticks(rotation=0)\n",
    "\n",
    "# plt.tight_layout()\n",
    "# # plt.savefig('./Images/Korelasi antar parameter.svg', dpi=1000)"
   ]
  },
  {
   "cell_type": "code",
   "execution_count": 100,
   "id": "256af1a5-205f-4ec7-afe6-15b5ac881b63",
   "metadata": {},
   "outputs": [],
   "source": [
    "# corr_sa = ho[ho.company=='CV. SENTOSA ABADI'][['hm','retase','produksi','konsumsi']].corr()\n",
    "# plt.figure(figsize=(8, 5))\n",
    "# plt.title('Persentase Keterhubungan Antar Parameter', fontsize=19, pad=15)\n",
    "# sns.heatmap(corr_sa, linewidth=2, annot=True)\n",
    "\n",
    "# plt.yticks(rotation=0)\n",
    "\n",
    "# plt.tight_layout()\n",
    "# # plt.savefig('./Images/Korelasi antar parameter sa.svg', dpi=1000)"
   ]
  },
  {
   "cell_type": "code",
   "execution_count": 101,
   "id": "af5fe191-c7d6-4b63-834f-07028010e3dd",
   "metadata": {},
   "outputs": [],
   "source": [
    "# sns.pairplot(ho[['hm','produksi','retase','konsumsi','c1']], hue='c1')\n",
    "# # plt.savefig('./Images/pair plot.svg', dpi=1000)"
   ]
  },
  {
   "cell_type": "code",
   "execution_count": 102,
   "id": "9a23188c-0bad-44d5-a1bd-1e1a52fcc89f",
   "metadata": {},
   "outputs": [],
   "source": [
    "# ho['number'] = 1\n",
    "# nho['number'] = 1"
   ]
  },
  {
   "cell_type": "code",
   "execution_count": 103,
   "id": "813e4535-b8b9-4b8f-ad6a-f8daecd9be8a",
   "metadata": {},
   "outputs": [],
   "source": [
    "# eda1 = ho.groupby(['date','company'])[['produksi','konsumsi']].sum().reset_index()"
   ]
  },
  {
   "cell_type": "code",
   "execution_count": 104,
   "id": "7e55b6e6-579c-4dd6-9fbf-987148a83c03",
   "metadata": {},
   "outputs": [],
   "source": [
    "# plt.figure(figsize=(9, 5))\n",
    "# splot = sns.barplot(eda1.sort_values('company', ascending=False), x='date', y='produksi', hue='company')\n",
    "\n",
    "# # Add annotations using splot\n",
    "# for p in splot.patches:\n",
    "#     try:\n",
    "#         splot.annotate(rupiah(p.get_height()).split()[-1].split(',')[0], \n",
    "#                        (p.get_x() + p.get_width() / 2., p.get_height()), \n",
    "#                        ha = 'center', va = 'center', \n",
    "#                        xytext = (0, 10), \n",
    "#                        textcoords = 'offset points',\n",
    "#                        fontsize=12)\n",
    "#     except:\n",
    "#         splot.annotate(p.get_height(), \n",
    "#                (p.get_x() + p.get_width() / 2., p.get_height()), \n",
    "#                ha = 'center', va = 'center', \n",
    "#                xytext = (0, 10), \n",
    "#                textcoords = 'offset points',\n",
    "#                fontsize=12)\n",
    "# plt.xlabel('')\n",
    "# plt.yticks([])\n",
    "# plt.ylabel('')\n",
    "# plt.ylim(ymin=0, ymax=160000)\n",
    "# plt.legend('')\n",
    "# plt.tight_layout()\n",
    "# plt.savefig('./Images/perbandingan produksi sa dan app.svg', dpi=1000)"
   ]
  },
  {
   "cell_type": "code",
   "execution_count": null,
   "id": "9b6207a0-6e6d-4d45-b83c-0e61cdf21512",
   "metadata": {},
   "outputs": [],
   "source": []
  },
  {
   "cell_type": "code",
   "execution_count": 105,
   "id": "a3d7eb7e-3878-4511-b436-5d4ad0828e1c",
   "metadata": {},
   "outputs": [],
   "source": [
    "# plt.figure(figsize=(9, 5))\n",
    "# splot = sns.barplot(eda1.sort_values('company', ascending=False), x='date', y='konsumsi', hue='company')\n",
    "\n",
    "# # Add annotations using splot\n",
    "# for p in splot.patches:\n",
    "#     try:\n",
    "#         splot.annotate(rupiah(p.get_height()).split()[-1].split(',')[0], \n",
    "#                        (p.get_x() + p.get_width() / 2., p.get_height()), \n",
    "#                        ha = 'center', va = 'center', \n",
    "#                        xytext = (0, 10), \n",
    "#                        textcoords = 'offset points',\n",
    "#                        fontsize=12)\n",
    "#     except:\n",
    "#         splot.annotate(p.get_height(), \n",
    "#                (p.get_x() + p.get_width() / 2., p.get_height()), \n",
    "#                ha = 'center', va = 'center', \n",
    "#                xytext = (0, 10), \n",
    "#                textcoords = 'offset points',\n",
    "#                fontsize=12)\n",
    "\n",
    "# plt.xlabel('')\n",
    "# plt.yticks([])\n",
    "# plt.ylabel('')\n",
    "# plt.ylim(ymin=0, ymax=150000)\n",
    "# plt.legend('')\n",
    "# plt.tight_layout()\n",
    "# plt.savefig('./Images/perbandingan konsumsi sa dan app.svg', dpi=1000)"
   ]
  },
  {
   "cell_type": "code",
   "execution_count": 106,
   "id": "7ceb8bd8-002d-43f8-bf36-19da8279ddb5",
   "metadata": {},
   "outputs": [],
   "source": [
    "# def pct(data):\n",
    "#     _ = []\n",
    "#     for i in range(len(data) - 1):\n",
    "#         values = [data[i], data[i+1]]\n",
    "#         msg = np.round(((np.max(values) - np.min(values)) / np.max(values))*100, 2)\n",
    "#         _.append(msg)\n",
    "#     return _"
   ]
  },
  {
   "cell_type": "code",
   "execution_count": 107,
   "id": "420703b4-43af-4cb3-9d68-f6ed8056124e",
   "metadata": {},
   "outputs": [],
   "source": [
    "# print('1. PCT Produksi SA :',pct(eda1[eda1.company=='CV. SENTOSA ABADI'].produksi.tolist()))\n",
    "# print('2. PCT Konsumsi SA :', pct(eda1[eda1.company=='CV. SENTOSA ABADI'].konsumsi.tolist()))"
   ]
  },
  {
   "cell_type": "code",
   "execution_count": 108,
   "id": "ff4e5b37-17b4-4b5f-9dc5-771c619cf703",
   "metadata": {},
   "outputs": [],
   "source": [
    "# print('1. PCT Produksi APP :',pct(eda1[eda1.company=='CV. Adil Prima Perkasa'].produksi.tolist()))\n",
    "# print('2. PCT Konsumsi APP :', pct(eda1[eda1.company=='CV. Adil Prima Perkasa'].konsumsi.tolist()))"
   ]
  },
  {
   "cell_type": "code",
   "execution_count": 109,
   "id": "31e09048-0c79-4c41-9a1d-a74963f41cdc",
   "metadata": {},
   "outputs": [],
   "source": [
    "# eda1['konsumsi/produksi'] = eda1.konsumsi / eda1.produksi"
   ]
  },
  {
   "cell_type": "code",
   "execution_count": 110,
   "id": "340c107e-0a80-4315-a5e3-2be5e2f08ab4",
   "metadata": {},
   "outputs": [],
   "source": [
    "# eda1.groupby(['company'])[['konsumsi/produksi']].mean()"
   ]
  },
  {
   "cell_type": "code",
   "execution_count": 111,
   "id": "073aa93c-022e-44de-8dfa-bd97d424f9ed",
   "metadata": {},
   "outputs": [],
   "source": [
    "# eda2 = kpi[kpi.company.isin(eda1.company.unique().tolist())]\n",
    "# eda2['number'] = 1\n",
    "# eda2['month'] = pd.to_datetime(eda2.date).dt.strftime('%m/%y')\n",
    "# eda2['kontrak'] = eda2.apply(lambda x: get_kontrak(x['project/name'], x.move_type), axis=1)\n",
    "# eda2 = eda2[eda2.month.isin(['01/24','02/24','03/24'])]\n",
    "# eda2 = eda2[eda2.move_type.isin(['KBM - PABRIK','BLOK 8 - PABRIK'])]"
   ]
  },
  {
   "cell_type": "code",
   "execution_count": 112,
   "id": "666b9486-b581-4863-aa34-fb819c73c2c8",
   "metadata": {},
   "outputs": [],
   "source": [
    "# eda3 = eda2.groupby(['month','company','move_type'])[['produksi','retase','jam_produktivitas','number','total_jarak_tempuh']].sum().fillna(0).reset_index()"
   ]
  },
  {
   "cell_type": "code",
   "execution_count": 113,
   "id": "a710f0c2-3aa1-4c95-9835-fe64540e1db7",
   "metadata": {},
   "outputs": [],
   "source": [
    "# eda4 = eda3[['month','company','total_jarak_tempuh','jam_produktivitas']]\n",
    "# eda4 = eda4.drop(index=2)\n",
    "# eda4['konsumsi'] = [125908, 93036, 92775, 126492, 84757]"
   ]
  },
  {
   "cell_type": "code",
   "execution_count": 114,
   "id": "0fe44a5e-4781-4df3-a092-869071d3e619",
   "metadata": {},
   "outputs": [],
   "source": [
    "# sns.barplot(eda4.sort_values('company', ascending=False), x='month', y='jam_produktivitas', hue='company')"
   ]
  },
  {
   "cell_type": "code",
   "execution_count": 115,
   "id": "3aefcf53-ba24-40f7-89d6-5e1053454b52",
   "metadata": {},
   "outputs": [],
   "source": [
    "# node3 = eda2.groupby(['company','month'])[['produksi']].sum().reset_index().rename(columns={'produksi':'produksi Node3'})\n",
    "# node3 = node3.set_index(['month','company'])\n",
    "\n",
    "# excel = eda1.groupby(['company','date'])[['produksi']].sum().reset_index().rename(columns={'produksi':'produksi MPE'})\n",
    "# excel = excel[excel.date.isin(['02/24','03/24'])]\n",
    "# excel = excel.rename(columns={'date':'month'})\n",
    "# excel = excel.set_index(['month','company'])\n",
    "\n",
    "# dif = pd.concat([node3, excel], axis=1).fillna(0)\n",
    "# dif = dif.reset_index().sort_values('month', ascending=True)\n",
    "# dif['Node3 - MPE'] = dif['produksi Node3'] - dif['produksi MPE']\n",
    "# dif = dif.set_index(['month','company'])\n",
    "# dif "
   ]
  },
  {
   "cell_type": "code",
   "execution_count": 116,
   "id": "5633428e-c810-47c1-bbf6-a2bbc2dfe562",
   "metadata": {},
   "outputs": [],
   "source": [
    "# lts = pd.read_excel('Learning CC bawahtanah.xlsx')\n",
    "# lts = l[['PROCESS DATE',\n",
    "#  'TYPE',\n",
    "#  'MODEL',\n",
    "#  'EQUIP NO',\n",
    "#  'MATERIAL',\n",
    "#  'SUMBER',\n",
    "#  'TUJUAN',\n",
    "#  'PROCESS',\n",
    "#  'ACTIVITY',\n",
    "#  'WHRS',\n",
    "#  'PRODUKSI',\n",
    "#  'CATEGORY',\n",
    "#  'CLASS UNIT']]"
   ]
  },
  {
   "cell_type": "markdown",
   "id": "944f2b57-8b06-4233-b06a-1ab93d810938",
   "metadata": {
    "jp-MarkdownHeadingCollapsed": true
   },
   "source": [
    "## TASK 12 : DASHBOARD\n",
    "\n",
    "buat trend biaya maintenance repair unit"
   ]
  },
  {
   "cell_type": "code",
   "execution_count": 117,
   "id": "95472f09-d6e5-4dad-9c09-c51f999f79c7",
   "metadata": {},
   "outputs": [],
   "source": [
    "# # read data planing hino\n",
    "# plan_hino = pd.read_excel('/Users/dickyaryanto/Documents/PT Sentosa Abadi Mining/Data/estimasi plan biaya maintenance hino.xlsx')\n",
    "# plan_hino['status'] = 'Plan'\n",
    "\n",
    "# # read data detail informasi equipment\n",
    "# url_depresiasi = \"https://docs.google.com/spreadsheets/d/1cjcBMY29etIAeQAwRDzlbpd4wExYkpvxk7s4tgVUD-w/export?format.xlsx\"\n",
    "\n",
    "# try:\n",
    "#     os.remove('detail_depresiasi.xlsx')\n",
    "# except:\n",
    "#     None\n",
    "    \n",
    "# output_filename = 'detail_depresiasi.xlsx'\n",
    "\n",
    "# # get the data from spreadsheet\n",
    "# response = requests.get(url_depresiasi)\n",
    "# if response.status_code == 200:\n",
    "#     with open(output_filename, \"wb\") as f:\n",
    "#         f.write(response.content)\n",
    "        \n",
    "# eq_info = pd.read_excel('detail_depresiasi.xlsx')\n",
    "# eq_info.columns = ['_'.join(i.lower().split()) for i in eq_info.columns]"
   ]
  },
  {
   "cell_type": "markdown",
   "id": "f643a530-5dd6-49ab-a570-d1edeeb53b14",
   "metadata": {
    "jp-MarkdownHeadingCollapsed": true
   },
   "source": [
    "## TASK 13 : ANALISA\n",
    "\n",
    "Analisa kebutuhan meeting bersama **BOD** untuk evaluasi **Semester-1 2024** sebagai pertimbangan kebijakan **Planing Semester-2 2024**."
   ]
  },
  {
   "cell_type": "code",
   "execution_count": 118,
   "id": "1a37327a-13ec-45c2-ad18-03050d6c3473",
   "metadata": {},
   "outputs": [],
   "source": [
    "# data1 = pd.read_excel('./Report/task2.xlsx')\n",
    "# data2 = pd.read_excel('./Report/cc dashboard 2.xlsx')"
   ]
  },
  {
   "cell_type": "code",
   "execution_count": 119,
   "id": "a36b2394-4387-44c4-92b5-5170059989d3",
   "metadata": {},
   "outputs": [],
   "source": [
    "# # reduce parameter in data1\n",
    "# data1 = data1[['date','project/name','production','move_type','category_equipment',\n",
    "#                'equipment_name','name','produksi','retase','total_jarak_tempuh']]\n",
    "\n",
    "# # buat kolom id untuk merge\n",
    "# data1['id'] = data1.apply(lambda x: str(x.date) + '#' + x['name'], axis=1)\n",
    "# data2['id'] = data2.apply(lambda x: str(x.date) + '#' + x['name'], axis=1)"
   ]
  },
  {
   "cell_type": "code",
   "execution_count": 120,
   "id": "d72dc23a-1504-44b9-9aff-bf27a5bbb997",
   "metadata": {},
   "outputs": [],
   "source": [
    "# # merge data\n",
    "# data = data2.drop(columns=['name','date','produksi']).merge(data1[['id','project/name','production','move_type','retase','produksi']], on='id', how='outer')\n",
    "# data['date'] = data['id'].apply(lambda x: str(x).split('#')[0])\n",
    "# data['name'] = data['id'].apply(lambda x: str(x).split('#')[-1])\n",
    "# data.drop(columns='id', inplace=True)\n",
    "\n",
    "# # repoisiton columns dataframe\n",
    "# data = data[['date','project/name','production','move_type','category_equipment','equipment_name','hm',\n",
    "#       'rm','fuel','tyre','depresiasi','insurance','interest','tax','ovh','retase','total_jarak_tempuh','produksi']]\n",
    "\n",
    "# # data cleaning\n",
    "# data['project/name'].fillna('-', inplace=True)\n",
    "# data['production'].fillna('-', inplace=True)\n",
    "# data['move_type'].fillna('-', inplace=True)\n",
    "# data['ovh'].fillna(0, inplace=True)\n",
    "# data['depresiasi'].fillna(0, inplace=True)\n",
    "# data['insurance'].fillna(0, inplace=True)\n",
    "# data['interest'].fillna(0, inplace=True)\n",
    "# data['tax'].fillna(0, inplace=True)\n",
    "# data['retase'].fillna(0, inplace=True)\n",
    "\n",
    "# # data transforming\n",
    "# data['my'] = pd.to_datetime(data.date).dt.strftime('%m/%y')\n",
    "# data['month'] = pd.to_datetime(data.date).dt.month\n",
    "# data['years'] = pd.to_datetime(data.date).dt.year\n",
    "# data['cost_all'] = data.rm + data.fuel + data.tyre + data.depresiasi + data.insurance + data.tax + data.interest + data.ovh"
   ]
  },
  {
   "cell_type": "code",
   "execution_count": 121,
   "id": "640e7176-edac-479f-a504-fee4173bbdbe",
   "metadata": {},
   "outputs": [],
   "source": [
    "# # buat fungsi untuk klasifikasi semester busines\n",
    "# def get_semester(x):\n",
    "#     if x < 7:\n",
    "#         msg = 'Semester-1'\n",
    "#     else:\n",
    "#         msg = 'Semester-2'\n",
    "#     return msg\n",
    "\n",
    "# data['semester'] = data['month'].apply(get_semester)"
   ]
  },
  {
   "cell_type": "code",
   "execution_count": null,
   "id": "bdb569a8-3206-4c61-9450-52723b031dd2",
   "metadata": {},
   "outputs": [],
   "source": []
  },
  {
   "cell_type": "markdown",
   "id": "6e47966e-cc6f-4daa-954b-cb931ddbbaff",
   "metadata": {
    "jp-MarkdownHeadingCollapsed": true
   },
   "source": [
    "### Task 13.1 : Evaluasi trend produksi/cost semester-1 2023 & 2024"
   ]
  },
  {
   "cell_type": "code",
   "execution_count": 122,
   "id": "00b774a0-e1c0-469b-8d10-3e315bee2e52",
   "metadata": {},
   "outputs": [],
   "source": [
    "# t13 = data[(data.semester=='Semester-1') & (data.production=='Hauling Ore')]\n",
    "# t13 = t13.groupby(['semester','years','month','my'])[['rm','fuel','tyre','depresiasi','insurance',\n",
    "#                                                       'interest','tax','ovh','hm','retase','total_jarak_tempuh','produksi','cost_all']].sum().reset_index()\n",
    "# t13['cost/produksi'] = t13.cost_all / t13.produksi"
   ]
  },
  {
   "cell_type": "code",
   "execution_count": 123,
   "id": "b8028694-2e52-4d68-98a0-ec0c39949e62",
   "metadata": {},
   "outputs": [],
   "source": [
    "# m = t13\n",
    "# # m['my'] = pd.to_datetime(m.date).dt.strftime('%m/%y')\n",
    "# # m['years'] = pd.to_datetime(m.date).dt.year\n",
    "# m = m.groupby(['years','my'])[['fuel']].sum().reset_index()\n",
    "# m[m.years == 2024]"
   ]
  },
  {
   "cell_type": "code",
   "execution_count": 124,
   "id": "45f449cb-b62c-4215-a98f-88e072847709",
   "metadata": {},
   "outputs": [],
   "source": [
    "# t13 = data[(data.semester=='Semester-1') & (data.production=='Hauling Ore')]\n",
    "# t13 = t13[t13['project/name'].isin(['Mining KBM','Mining BDM'])].rename(columns={'project/name':'kontrak'})"
   ]
  },
  {
   "cell_type": "code",
   "execution_count": 125,
   "id": "06c568f2-504a-4b7f-87e8-e4ea375aceb2",
   "metadata": {},
   "outputs": [],
   "source": [
    "# t13 = t13.groupby(['semester','years','month','my','kontrak'])[['rm','fuel','tyre','depresiasi','insurance','interest','tax','ovh','hm','retase','total_jarak_tempuh','produksi','cost_all']].sum().reset_index()"
   ]
  },
  {
   "cell_type": "markdown",
   "id": "704b7a26-9620-47f2-b65a-01589e39ca7b",
   "metadata": {
    "jp-MarkdownHeadingCollapsed": true
   },
   "source": [
    "## TASK 14 : DASHBOARD LOGISTIC\n",
    "\n",
    "dashboard untuk monitoring item keluar pada divisi logistik"
   ]
  },
  {
   "cell_type": "code",
   "execution_count": 126,
   "id": "b3ed1258-3014-4049-a4ff-17326b04fe45",
   "metadata": {},
   "outputs": [],
   "source": [
    "t14 = df.copy()\n",
    "t14 = t14[t14.picking_reference!=False]\n",
    "t14['name'] = t14.equipment_code.apply(lambda x: str(x).split('/')[0])\n",
    "t14 = t14.drop(columns=['equipment_code'])\n",
    "t14 = t14[['company','spk','stage','picking_reference','picking_status','schedule','oprator','category_equipment','equipment_name',\n",
    "           'name','requirement_type','type_maintenance','category_maintenance','description','qty','uom']].rename(columns={'schedule':'date'})\n",
    "t14['description'] = t14['description'].apply(lambda x: str(x).split('] ')[-1])\n",
    "t14['date'] = pd.to_datetime(t14['date']).dt.date\n",
    "t14['category_maintenance'] = t14['category_maintenance'].apply(retext_category_maintenance)\n",
    "t14 = t14[t14.qty!=0]"
   ]
  },
  {
   "cell_type": "code",
   "execution_count": 127,
   "id": "a5357a2a-a07e-40a7-80c7-157dfdda1bf2",
   "metadata": {
    "editable": true,
    "slideshow": {
     "slide_type": ""
    },
    "tags": []
   },
   "outputs": [],
   "source": [
    "t14.to_excel('./Report/task14.xlsx', index=False)"
   ]
  },
  {
   "cell_type": "markdown",
   "id": "5fb8ad3d-96d5-482c-91ed-b0f6f1b1cb46",
   "metadata": {
    "jp-MarkdownHeadingCollapsed": true
   },
   "source": [
    "## TASK 15 : ANALISA\n",
    "\n",
    "Klasifikasi alasan kerusakan dan retase tidak tercapai"
   ]
  },
  {
   "cell_type": "code",
   "execution_count": null,
   "id": "6d6770b0-1991-47f5-a60c-be195857e278",
   "metadata": {},
   "outputs": [],
   "source": []
  },
  {
   "cell_type": "markdown",
   "id": "52581956-b036-4bae-af6d-451f34bda7dd",
   "metadata": {
    "jp-MarkdownHeadingCollapsed": true
   },
   "source": [
    "## TASK 16 : DASHBOARD CICO BOD"
   ]
  },
  {
   "cell_type": "code",
   "execution_count": 128,
   "id": "30be5835-3ad1-49dc-bfa5-8dac0c7d35b3",
   "metadata": {},
   "outputs": [],
   "source": [
    "# # buat fungsi untuk klasifikasi jam keluar\n",
    "# def klasifikasi_jam_keluar(x):\n",
    "#     hour = x.hour\n",
    "#     if hour < 7:\n",
    "#         msg = 'Keluar Sebelum 07:00'\n",
    "#     elif hour == 7:\n",
    "#         msg = 'Keluar Tepat 07:00'\n",
    "#     else:\n",
    "#         msg = 'Keluar Setelah 07:00'\n",
    "#     return msg"
   ]
  },
  {
   "cell_type": "code",
   "execution_count": 129,
   "id": "c76213a7-8b61-4dd0-a72b-9c9954c3d925",
   "metadata": {},
   "outputs": [],
   "source": [
    "# # terapkan fungsi\n",
    "# cico['status_keluar'] = cico.jam_keluar.apply(klasifikasi_jam_keluar)\n",
    "\n",
    "# # buat fungsi untuk klasifikasi driver bekerja\n",
    "# def klasifikasi_jam_kerja(x):\n",
    "#     if x >= 10:\n",
    "#         msg = 'Bekerja dalam 10 jam'\n",
    "#     else:\n",
    "#         msg = 'Bekerja dibawah 10 jam'\n",
    "#     return msg\n",
    "\n",
    "# # terapkan fungsi\n",
    "# cico['status_jam_kerja'] = cico.total_jam_kerja.apply(klasifikasi_jam_kerja)\n",
    "# cico['number'] = 1\n",
    "# cico.to_excel('./Report/cico.xlsx', index=False)"
   ]
  },
  {
   "cell_type": "code",
   "execution_count": null,
   "id": "6a653eff-45b8-4def-9427-b701e1f76248",
   "metadata": {},
   "outputs": [],
   "source": []
  },
  {
   "cell_type": "code",
   "execution_count": null,
   "id": "76ff0629-81a0-40ca-959e-69c40ab84b52",
   "metadata": {},
   "outputs": [],
   "source": []
  },
  {
   "cell_type": "markdown",
   "id": "9b2452ee-33ab-4ddb-b83b-d56e30de3260",
   "metadata": {
    "jp-MarkdownHeadingCollapsed": true
   },
   "source": [
    "## TASK 17 : ANALISA\n",
    "\n",
    "Analisa cost repair and maintenance untuk beberapa dt"
   ]
  },
  {
   "cell_type": "code",
   "execution_count": 130,
   "id": "1eaefe32-3302-4ec9-bf61-b8e809b2e621",
   "metadata": {},
   "outputs": [],
   "source": [
    "dt_analisa = pd.read_excel('dt analisa pak alfret.xlsx', names=['name'])\n",
    "dt_analisa['name'] = dt_analisa.name.apply(lambda x: str(x).split()[1])\n",
    "dt_analisa['name'] = dt_analisa['name'].apply(lambda x: '-'.join(str(x).split('-')[1:]))"
   ]
  },
  {
   "cell_type": "code",
   "execution_count": 131,
   "id": "c768352e-1f64-47f9-a1ca-e56b85288ae7",
   "metadata": {},
   "outputs": [],
   "source": [
    "t17 = t1[['broken','done','category_equipment','equipment_name','name','category_maintenance','description','qty','uom','cost']]\n",
    "t17['date'] = pd.to_datetime(t17['done']).dt.date\n",
    "t17['my'] = pd.to_datetime(t17['date']).dt.strftime('%m/%y')\n",
    "t17 = t17[t17.my.isin(['01/24','02/24','03/24','04/24','05/24'])]\n",
    "t17 = t17[['date','my','category_equipment','equipment_name','name','category_maintenance','description','qty','uom','cost']]"
   ]
  },
  {
   "cell_type": "code",
   "execution_count": 132,
   "id": "2341803f-257b-45cf-bf33-d0135649733e",
   "metadata": {},
   "outputs": [],
   "source": [
    "t17 = t17[t17.name.isin(dt_analisa.name.tolist())]"
   ]
  },
  {
   "cell_type": "code",
   "execution_count": 133,
   "id": "0053b926-885c-4063-8710-c296518b4150",
   "metadata": {},
   "outputs": [],
   "source": [
    "t17.to_excel('Analisa Cost Maintenance.xlsx', index=False)"
   ]
  },
  {
   "cell_type": "code",
   "execution_count": null,
   "id": "0527fbf1-7fb3-4c0a-a733-1e6c75d4d0f3",
   "metadata": {},
   "outputs": [],
   "source": []
  },
  {
   "cell_type": "markdown",
   "id": "f9ac89a6-9fb5-4031-998a-2a6c02092e6b",
   "metadata": {
    "jp-MarkdownHeadingCollapsed": true
   },
   "source": [
    "## TASK 18 : ANALISA LAPORAN DRIVER DT"
   ]
  },
  {
   "cell_type": "code",
   "execution_count": 134,
   "id": "325e6fb1-b41f-4b4d-a7f2-e53e1c9e88c9",
   "metadata": {},
   "outputs": [],
   "source": [
    "def try_transform_time(x):\n",
    "    n = pd.DataFrame({'time':[x]})\n",
    "    \n",
    "    try:\n",
    "        msg = pd.to_datetime(n['time']).dt.time\n",
    "        msg = msg[0]\n",
    "    except:\n",
    "        msg = 'SPK Belum Input'\n",
    "\n",
    "    return msg\n",
    "\n",
    "# ambil tanggal hari kemarin\n",
    "date_before = date['date'].tolist()[-2]\n",
    "\n",
    "# filter data absen driver menggunakan tanggal kemarin\n",
    "dt_rusak = absen_driver[absen_driver.date==date_before]\n",
    "dt_rusak = dt_rusak[dt_rusak.keterangan!='TARGET']\n",
    "dt_rusak = dt_rusak[['name','project/name','date','jam_keluar','jam_masuk','total_jam_kerja','retase','keterangan']]\n",
    "dt_rusak['name'] = dt_rusak.name.apply(lambda x: 'DT-' + str(x).split('-')[-1])\n",
    "dt_rusak['date'] = dt_rusak['date'].apply(lambda x: str(x).split()[0])"
   ]
  },
  {
   "cell_type": "code",
   "execution_count": 135,
   "id": "112195df-fb30-4fe8-8421-217ec46c365d",
   "metadata": {},
   "outputs": [],
   "source": [
    "# detail conditional\n",
    "unit_dt_rusak = [\"DT-326\",\"DT-346\",\"DT-352\",\"DT-357\",\"DT-359\",\"DT-360\",\"DT-363\",\"DT-369\",\"DT-370\",\"DT-371\",\"DT-374\"]"
   ]
  },
  {
   "cell_type": "code",
   "execution_count": 136,
   "id": "e282330a-d496-4c1c-935e-8f256ddb5261",
   "metadata": {},
   "outputs": [],
   "source": [
    "dt_rusak = dt_rusak[dt_rusak.name.isin(unit_dt_rusak)]"
   ]
  },
  {
   "cell_type": "code",
   "execution_count": null,
   "id": "73a042f2-2588-48d1-bc1d-1e5450135f92",
   "metadata": {},
   "outputs": [],
   "source": []
  },
  {
   "cell_type": "code",
   "execution_count": null,
   "id": "24490c25-3d5e-4bd7-b4d4-529b7f931372",
   "metadata": {},
   "outputs": [],
   "source": []
  },
  {
   "cell_type": "code",
   "execution_count": null,
   "id": "0f264c4b-f430-42be-b4cb-d3b9ff7e1b8d",
   "metadata": {},
   "outputs": [],
   "source": []
  },
  {
   "cell_type": "code",
   "execution_count": 137,
   "id": "56622430-8ca5-4b15-bfde-54a73e5d0dbc",
   "metadata": {},
   "outputs": [],
   "source": [
    "# filter data WS menggunakan tanggal kemarin\n",
    "bd = df.copy()\n",
    "bd['date'] = bd['broken'].apply(lambda x: str(x).split()[0])\n",
    "bd = bd[bd['date']==date_before]\n",
    "bd = bd.rename(columns={'spk':'spk_workshop'})\n",
    "\n",
    "bd['name'] = bd.equipment_code.apply(lambda x: str(x).split('/')[0])\n",
    "\n",
    "def get_hm_maintenance(broken, done):\n",
    "    try:\n",
    "        value = done - broken\n",
    "    except:\n",
    "        value = 0\n",
    "\n",
    "    msg = timedelta_to_hour(value)\n",
    "    if msg > 0:\n",
    "        msg = msg\n",
    "    else:\n",
    "        msg = 0\n",
    "    return msg\n",
    "bd['hm_maintenance'] = bd.apply(lambda x: get_hm_maintenance(x.broken, x.done), axis=1)\n",
    "bd['hm_maintenance'] = bd.apply(lambda x: 'On Progress' if x.stage != 'DONE' else x.hm_maintenance, axis=1)\n",
    "bd['done'] = bd.apply(lambda x: 'On Progress' if x.stage != 'DONE' else x.done, axis=1)\n",
    "\n",
    "# merge data\n",
    "dt_rusak = dt_rusak.merge(bd[['name','stage','spk_workshop','requirement_type','broken','done','hm_maintenance']], on='name', how='inner').rename(columns={'project/name':'kontrak','total_jam_kerja':'jam_kerja'})\n",
    "\n",
    "# dt_rusak['spk_workshop'].fillna('SPK Belum Input', inplace=True)\n",
    "# dt_rusak['stage'].fillna('SPK Belum Input', inplace=True)\n",
    "# dt_rusak['requirement_type'].fillna('SPK Belum Input', inplace=True)\n",
    "\n",
    "# dt_rusak['broken'].fillna('SPK Belum Input', inplace=True)\n",
    "# dt_rusak['broken'] = dt_rusak['broken'].apply(lambda x: str(x).split(';')[0])\n",
    "\n",
    "# dt_rusak['done'].fillna('SPK Belum Input', inplace=True)\n",
    "# dt_rusak['done'] = dt_rusak['done'].apply(lambda x: str(x).split(';')[-1])\n",
    "\n",
    "dt_rusak['hm_maintenance'].fillna(0, inplace=True)\n",
    "\n",
    "dt_rusak = dt_rusak[dt_rusak.requirement_type.apply(lambda x: 'External' in x.split(';'))!=True]\n",
    "\n",
    "def get_time(list_time, status):\n",
    "    try:\n",
    "        if status == 'Broken':\n",
    "            msg = pd.DataFrame({'time':list_time.split(';')})\n",
    "            msg['time'] = pd.to_datetime(msg.time)\n",
    "            msg = msg.sort_values('time', ascending=True)\n",
    "            msg['time'] = msg['time'].apply(lambda x: str(x))\n",
    "            msg = msg.head(1)['time'].unique().tolist()[0]\n",
    "        else:\n",
    "            msg = pd.DataFrame({'time':list_time.split(';')})\n",
    "            msg['time'] = pd.to_datetime(msg.time)\n",
    "            msg = msg.sort_values('time', ascending=False)\n",
    "            msg['time'] = msg['time'].apply(lambda x: str(x))\n",
    "            msg = msg.head(1)['time'].unique().tolist()[0]\n",
    "    except:\n",
    "        msg = 'SPK Belum Input'\n",
    "    return msg\n",
    "    \n",
    "# dt_rusak = dt_rusak.groupby(['date','kontrak','name','requirement_type','spk_workshop','stage','jam_masuk',\n",
    "#                              'jam_keluar','retase','broken','done','hm_maintenance','keterangan'])[['keterangan']].count()\n",
    "    \n",
    "# dt_rusak['broken'] = dt_rusak.apply(lambda x: get_time(x.broken, \"Broken\"), axis=1)\n",
    "# dt_rusak['done'] = dt_rusak.apply(lambda x: get_time(x.done, \"Done\"), axis=1)\n",
    "# dt_rusak['requirement_type'] = dt_rusak.requirement_type.apply(lambda x: 'Internal' if 'External' not in x.split(';') else 'Gabungan')\n",
    "# dt_rusak  = dt_rusak.set_index(['date','kontrak','name','spk_workshop','requirement_type','stage'])[['jam_keluar','jam_masuk','jam_kerja','retase','broken','done','hm_maintenance','keterangan']]\n",
    "\n",
    "# load data\n",
    "# dt_rusak.to_excel('./Rekap kerusakan DT/Rekap dt ' + date_before + '.xlsx')"
   ]
  },
  {
   "cell_type": "code",
   "execution_count": 138,
   "id": "5f09e147-7db3-48a3-9fc1-da9b9a19e222",
   "metadata": {},
   "outputs": [],
   "source": [
    "_ = []\n",
    "for i in unit_dt_rusak:\n",
    "    con = i in dt_rusak.name.unique().tolist()\n",
    "    if con == False:\n",
    "        _.append(i)"
   ]
  },
  {
   "cell_type": "code",
   "execution_count": 139,
   "id": "3616aab0-4815-4b97-b9e2-b4e54f12a3e2",
   "metadata": {},
   "outputs": [
    {
     "data": {
      "text/plain": [
       "['DT-326',\n",
       " 'DT-346',\n",
       " 'DT-352',\n",
       " 'DT-357',\n",
       " 'DT-359',\n",
       " 'DT-360',\n",
       " 'DT-363',\n",
       " 'DT-369',\n",
       " 'DT-370',\n",
       " 'DT-371',\n",
       " 'DT-374']"
      ]
     },
     "execution_count": 139,
     "metadata": {},
     "output_type": "execute_result"
    }
   ],
   "source": [
    "_"
   ]
  },
  {
   "cell_type": "code",
   "execution_count": null,
   "id": "5600a8dc-7201-43be-9f84-9e6e2cc38f2f",
   "metadata": {},
   "outputs": [],
   "source": []
  },
  {
   "cell_type": "code",
   "execution_count": null,
   "id": "63c5ae80-62b1-4dcd-b663-b464269f43a9",
   "metadata": {},
   "outputs": [],
   "source": []
  },
  {
   "cell_type": "code",
   "execution_count": null,
   "id": "69ea20d0-a331-466c-a390-e2f6ac9ea31f",
   "metadata": {},
   "outputs": [],
   "source": []
  },
  {
   "cell_type": "code",
   "execution_count": null,
   "id": "19c29852-8ac4-4aa4-a193-d115f17036cd",
   "metadata": {},
   "outputs": [],
   "source": []
  },
  {
   "cell_type": "code",
   "execution_count": null,
   "id": "1323f8e7-880b-4404-835c-5e6664410f25",
   "metadata": {},
   "outputs": [],
   "source": []
  },
  {
   "cell_type": "code",
   "execution_count": null,
   "id": "83d3e572-73b7-43c3-b42b-7efee1c10d6a",
   "metadata": {},
   "outputs": [],
   "source": []
  },
  {
   "cell_type": "code",
   "execution_count": 140,
   "id": "0436be0f-722e-4d3e-8e6d-5b89e5a86ac4",
   "metadata": {},
   "outputs": [],
   "source": [
    "c = df.copy()\n",
    "c = c[['company','spk','stage','broken','done','category_maintenance','description','note']]\n",
    "c = c[c.category_maintenance=='TYRE']\n",
    "c = c[c.description!='Service']\n",
    "c = c[pd.to_datetime(c.broken).dt.year==2024]\n",
    "c = c[c.description.apply(lambda x: ' '.join(x.split('] ')[-1].split()[:2]) == 'BAN LUAR')]"
   ]
  },
  {
   "cell_type": "code",
   "execution_count": 141,
   "id": "12bf1841-dbf8-46e3-a98c-2ac6a245c8c5",
   "metadata": {},
   "outputs": [
    {
     "data": {
      "text/html": [
       "<div>\n",
       "<style scoped>\n",
       "    .dataframe tbody tr th:only-of-type {\n",
       "        vertical-align: middle;\n",
       "    }\n",
       "\n",
       "    .dataframe tbody tr th {\n",
       "        vertical-align: top;\n",
       "    }\n",
       "\n",
       "    .dataframe thead th {\n",
       "        text-align: right;\n",
       "    }\n",
       "</style>\n",
       "<table border=\"1\" class=\"dataframe\">\n",
       "  <thead>\n",
       "    <tr style=\"text-align: right;\">\n",
       "      <th></th>\n",
       "      <th>company</th>\n",
       "      <th>spk</th>\n",
       "      <th>stage</th>\n",
       "      <th>broken</th>\n",
       "      <th>done</th>\n",
       "      <th>category_maintenance</th>\n",
       "      <th>description</th>\n",
       "      <th>note</th>\n",
       "    </tr>\n",
       "  </thead>\n",
       "  <tbody>\n",
       "    <tr>\n",
       "      <th>242</th>\n",
       "      <td>CV. SENTOSA ABADI</td>\n",
       "      <td>97071</td>\n",
       "      <td>DONE</td>\n",
       "      <td>2024-08-07 17:13:52</td>\n",
       "      <td>2024-08-07 17:50:00</td>\n",
       "      <td>TYRE</td>\n",
       "      <td>[BLAEOLUS-AGM-120024] BAN LUAR AEOLUS AGM 10 1...</td>\n",
       "      <td>&lt;p&gt;KET :&lt;/p&gt;&lt;p&gt;GANTI BAN BARU AEOLUS NO. 9 DAN...</td>\n",
       "    </tr>\n",
       "    <tr>\n",
       "      <th>244</th>\n",
       "      <td>CV. SENTOSA ABADI</td>\n",
       "      <td>97069</td>\n",
       "      <td>DONE</td>\n",
       "      <td>2024-08-07 15:05:49</td>\n",
       "      <td>2024-08-07 16:15:00</td>\n",
       "      <td>TYRE</td>\n",
       "      <td>[BLAEOLUS-AGM-120024] BAN LUAR AEOLUS AGM 10 1...</td>\n",
       "      <td>&lt;p&gt;KET :&lt;/p&gt;&lt;p&gt;GANTI BAN BARU AEOLUS + VELEG B...</td>\n",
       "    </tr>\n",
       "    <tr>\n",
       "      <th>266</th>\n",
       "      <td>CV. SENTOSA ABADI</td>\n",
       "      <td>97047</td>\n",
       "      <td>DONE</td>\n",
       "      <td>2024-08-07 13:51:25</td>\n",
       "      <td>2024-08-07 16:00:00</td>\n",
       "      <td>TYRE</td>\n",
       "      <td>[BLAEOLUS-AGM-120024] BAN LUAR AEOLUS AGM 10 1...</td>\n",
       "      <td>&lt;p&gt;KET :&lt;/p&gt;&lt;p&gt;GANTI BAN BARU AEOLUS NO. 5.6.7...</td>\n",
       "    </tr>\n",
       "    <tr>\n",
       "      <th>353</th>\n",
       "      <td>CV. SENTOSA ABADI</td>\n",
       "      <td>96962</td>\n",
       "      <td>DONE</td>\n",
       "      <td>2024-08-06 15:12:05</td>\n",
       "      <td>2024-08-06 15:30:00</td>\n",
       "      <td>TYRE</td>\n",
       "      <td>[BLAEOLUS-AGM-120024] BAN LUAR AEOLUS AGM 10 1...</td>\n",
       "      <td>&lt;p&gt;KET :&lt;/p&gt;&lt;p&gt;1. GANTI BAN BARU AEOLUS NO. 1,...</td>\n",
       "    </tr>\n",
       "    <tr>\n",
       "      <th>360</th>\n",
       "      <td>CV. SENTOSA ABADI</td>\n",
       "      <td>96956</td>\n",
       "      <td>DONE</td>\n",
       "      <td>2024-08-06 14:46:04</td>\n",
       "      <td>2024-08-06 15:26:00</td>\n",
       "      <td>TYRE</td>\n",
       "      <td>[BLAEOLUS-AGM-120024] BAN LUAR AEOLUS AGM 10 1...</td>\n",
       "      <td>&lt;p&gt;KET : &lt;/p&gt;&lt;p&gt;1. GANTI BAN SPER DI NO 7&lt;/p&gt;&lt;...</td>\n",
       "    </tr>\n",
       "    <tr>\n",
       "      <th>...</th>\n",
       "      <td>...</td>\n",
       "      <td>...</td>\n",
       "      <td>...</td>\n",
       "      <td>...</td>\n",
       "      <td>...</td>\n",
       "      <td>...</td>\n",
       "      <td>...</td>\n",
       "      <td>...</td>\n",
       "    </tr>\n",
       "    <tr>\n",
       "      <th>61331</th>\n",
       "      <td>CV. SENTOSA ABADI</td>\n",
       "      <td>75540</td>\n",
       "      <td>DONE</td>\n",
       "      <td>2024-01-27 16:11:40</td>\n",
       "      <td>2024-01-27 17:10:00</td>\n",
       "      <td>TYRE</td>\n",
       "      <td>[BLCHA120024R] BAN LUAR CHAOYANG CB972E 1.200 R24</td>\n",
       "      <td>&lt;p&gt;&lt;b&gt;KET :&lt;/b&gt;&lt;/p&gt;&lt;p&gt;&lt;b&gt;1.GANTI BAN SPER 1SET...</td>\n",
       "    </tr>\n",
       "    <tr>\n",
       "      <th>61755</th>\n",
       "      <td>CV. SENTOSA ABADI</td>\n",
       "      <td>74023</td>\n",
       "      <td>DONE</td>\n",
       "      <td>2024-01-14 15:20:26</td>\n",
       "      <td>2024-01-14 15:45:00</td>\n",
       "      <td>TYRE</td>\n",
       "      <td>[BLAEOLUS-AGM-120024] BAN LUAR AEOLUS AGM 10 1...</td>\n",
       "      <td>&lt;p&gt;&lt;br&gt;&lt;/p&gt;</td>\n",
       "    </tr>\n",
       "    <tr>\n",
       "      <th>61872</th>\n",
       "      <td>CV. SENTOSA ABADI</td>\n",
       "      <td>73503</td>\n",
       "      <td>DONE</td>\n",
       "      <td>2024-01-10 08:58:54</td>\n",
       "      <td>2024-01-11 11:00:00</td>\n",
       "      <td>TYRE</td>\n",
       "      <td>[BLAEOLUS-AGM-120024] BAN LUAR AEOLUS AGM 10 1...</td>\n",
       "      <td>&lt;p&gt;1. GANTI BAN DALAM BEKAS 1 PCS&lt;/p&gt;&lt;p&gt;2. VEL...</td>\n",
       "    </tr>\n",
       "    <tr>\n",
       "      <th>62058</th>\n",
       "      <td>CV. SENTOSA ABADI</td>\n",
       "      <td>72840</td>\n",
       "      <td>DONE</td>\n",
       "      <td>2024-01-03 10:12:00</td>\n",
       "      <td>2024-01-03 11:20:00</td>\n",
       "      <td>TYRE</td>\n",
       "      <td>[BLCHA120024R] BAN LUAR CHAOYANG CB972E 1.200 R24</td>\n",
       "      <td>&lt;p&gt;&lt;br&gt;&lt;/p&gt;</td>\n",
       "    </tr>\n",
       "    <tr>\n",
       "      <th>62086</th>\n",
       "      <td>CV. SENTOSA ABADI</td>\n",
       "      <td>72747</td>\n",
       "      <td>DONE</td>\n",
       "      <td>2024-01-02 09:50:58</td>\n",
       "      <td>2024-01-02 10:10:00</td>\n",
       "      <td>TYRE</td>\n",
       "      <td>[BLCHA120024R] BAN LUAR CHAOYANG CB972E 1.200 R24</td>\n",
       "      <td>&lt;p&gt;&lt;br&gt;&lt;/p&gt;</td>\n",
       "    </tr>\n",
       "  </tbody>\n",
       "</table>\n",
       "<p>1228 rows × 8 columns</p>\n",
       "</div>"
      ],
      "text/plain": [
       "                 company    spk stage              broken                done  \\\n",
       "242    CV. SENTOSA ABADI  97071  DONE 2024-08-07 17:13:52 2024-08-07 17:50:00   \n",
       "244    CV. SENTOSA ABADI  97069  DONE 2024-08-07 15:05:49 2024-08-07 16:15:00   \n",
       "266    CV. SENTOSA ABADI  97047  DONE 2024-08-07 13:51:25 2024-08-07 16:00:00   \n",
       "353    CV. SENTOSA ABADI  96962  DONE 2024-08-06 15:12:05 2024-08-06 15:30:00   \n",
       "360    CV. SENTOSA ABADI  96956  DONE 2024-08-06 14:46:04 2024-08-06 15:26:00   \n",
       "...                  ...    ...   ...                 ...                 ...   \n",
       "61331  CV. SENTOSA ABADI  75540  DONE 2024-01-27 16:11:40 2024-01-27 17:10:00   \n",
       "61755  CV. SENTOSA ABADI  74023  DONE 2024-01-14 15:20:26 2024-01-14 15:45:00   \n",
       "61872  CV. SENTOSA ABADI  73503  DONE 2024-01-10 08:58:54 2024-01-11 11:00:00   \n",
       "62058  CV. SENTOSA ABADI  72840  DONE 2024-01-03 10:12:00 2024-01-03 11:20:00   \n",
       "62086  CV. SENTOSA ABADI  72747  DONE 2024-01-02 09:50:58 2024-01-02 10:10:00   \n",
       "\n",
       "      category_maintenance                                        description  \\\n",
       "242                   TYRE  [BLAEOLUS-AGM-120024] BAN LUAR AEOLUS AGM 10 1...   \n",
       "244                   TYRE  [BLAEOLUS-AGM-120024] BAN LUAR AEOLUS AGM 10 1...   \n",
       "266                   TYRE  [BLAEOLUS-AGM-120024] BAN LUAR AEOLUS AGM 10 1...   \n",
       "353                   TYRE  [BLAEOLUS-AGM-120024] BAN LUAR AEOLUS AGM 10 1...   \n",
       "360                   TYRE  [BLAEOLUS-AGM-120024] BAN LUAR AEOLUS AGM 10 1...   \n",
       "...                    ...                                                ...   \n",
       "61331                 TYRE  [BLCHA120024R] BAN LUAR CHAOYANG CB972E 1.200 R24   \n",
       "61755                 TYRE  [BLAEOLUS-AGM-120024] BAN LUAR AEOLUS AGM 10 1...   \n",
       "61872                 TYRE  [BLAEOLUS-AGM-120024] BAN LUAR AEOLUS AGM 10 1...   \n",
       "62058                 TYRE  [BLCHA120024R] BAN LUAR CHAOYANG CB972E 1.200 R24   \n",
       "62086                 TYRE  [BLCHA120024R] BAN LUAR CHAOYANG CB972E 1.200 R24   \n",
       "\n",
       "                                                    note  \n",
       "242    <p>KET :</p><p>GANTI BAN BARU AEOLUS NO. 9 DAN...  \n",
       "244    <p>KET :</p><p>GANTI BAN BARU AEOLUS + VELEG B...  \n",
       "266    <p>KET :</p><p>GANTI BAN BARU AEOLUS NO. 5.6.7...  \n",
       "353    <p>KET :</p><p>1. GANTI BAN BARU AEOLUS NO. 1,...  \n",
       "360    <p>KET : </p><p>1. GANTI BAN SPER DI NO 7</p><...  \n",
       "...                                                  ...  \n",
       "61331  <p><b>KET :</b></p><p><b>1.GANTI BAN SPER 1SET...  \n",
       "61755                                        <p><br></p>  \n",
       "61872  <p>1. GANTI BAN DALAM BEKAS 1 PCS</p><p>2. VEL...  \n",
       "62058                                        <p><br></p>  \n",
       "62086                                        <p><br></p>  \n",
       "\n",
       "[1228 rows x 8 columns]"
      ]
     },
     "execution_count": 141,
     "metadata": {},
     "output_type": "execute_result"
    }
   ],
   "source": [
    "c"
   ]
  },
  {
   "cell_type": "code",
   "execution_count": null,
   "id": "7fdea5da-e44b-459e-a353-273193906725",
   "metadata": {},
   "outputs": [],
   "source": []
  },
  {
   "cell_type": "code",
   "execution_count": null,
   "id": "48bcd81a-6689-484b-a0e3-2c280a9bb4f4",
   "metadata": {},
   "outputs": [],
   "source": []
  },
  {
   "cell_type": "code",
   "execution_count": null,
   "id": "16ac9a6d-40aa-498e-9d9c-fa59e2ea0a88",
   "metadata": {},
   "outputs": [],
   "source": []
  },
  {
   "cell_type": "code",
   "execution_count": null,
   "id": "c5f66963-d559-4cd0-9517-af91c1d19a96",
   "metadata": {},
   "outputs": [],
   "source": []
  },
  {
   "cell_type": "markdown",
   "id": "76aedd25-ef59-4c61-ba6b-8411fff8a0a6",
   "metadata": {},
   "source": [
    "# **CC : Cost Controll**"
   ]
  },
  {
   "cell_type": "markdown",
   "id": "0cf807a1-fdd2-4d10-ac91-fe1a456ac5d8",
   "metadata": {
    "jp-MarkdownHeadingCollapsed": true
   },
   "source": [
    "## CC1 : Summary of Working Hours"
   ]
  },
  {
   "cell_type": "code",
   "execution_count": 142,
   "id": "64fb149b-0b01-4cdc-9691-90ee36949f4a",
   "metadata": {},
   "outputs": [],
   "source": [
    "cc1 = kpi[['date','spk_project','company','project/name','production','move_type','category_equipment',\n",
    "     'equipment_name','name','jam_produktivitas','total_jarak_tempuh','retase','standar_jarak','produksi']]\n",
    "\n",
    "cc1.columns=['date','ts','company','project','production','move_type','category_equipment','equipment_name','name','hm','km','retase','move_type_km','produksi']\n",
    "\n",
    "# # manipulate data agar sesuai kebutuhan\n",
    "# _ = []\n",
    "# for i in tqdm(cc1.date.unique().tolist()):\n",
    "#     n = cc1[cc1.date == i]\n",
    "#     for j in n.name.unique().tolist():\n",
    "#         m = n[n.name==j]\n",
    "#         count_ret = len(m)\n",
    "#         hm = m.head(1).hm_engine_end - m.head(1).hm_engine_start\n",
    "#         msg = m.head(1)\n",
    "#         msg['hm'] = hm\n",
    "#         msg['retase'] = count_ret\n",
    "#         _.append(msg)\n",
    "# cc1 = pd.concat(_)\n",
    "\n",
    "# # isi hari dimana alat tidak dipekerjakan\n",
    "# _ = []\n",
    "# for i in tqdm(cc1.name.unique().tolist()):\n",
    "#     n = cc1[cc1.name==i]\n",
    "#     cat_eq = n.category_equipment.unique().tolist()[0]\n",
    "#     eq_name = n.equipment_name.unique().tolist()[0]\n",
    "#     name = i\n",
    "#     n = date.merge(n, on='date', how='outer')\n",
    "#     n['ts'].fillna('-', inplace=True)\n",
    "#     n['company'].fillna('-', inplace=True)\n",
    "#     n['project'].fillna('-', inplace=True)\n",
    "#     n['production'].fillna('-', inplace=True)\n",
    "#     n['move_type'].fillna('-', inplace=True)\n",
    "#     n['category_equipment'].fillna(cat_eq, inplace=True)\n",
    "#     n['equipment_name'].fillna(eq_name, inplace=True)\n",
    "#     n['name'].fillna(i, inplace=True)\n",
    "#     n['hm_engine_start'].fillna(0, inplace=True)\n",
    "#     n['hm_engine_end'].fillna(0, inplace=True)\n",
    "#     n['hm'].fillna(0, inplace=True)\n",
    "#     n['retase'].fillna(0, inplace=True)\n",
    "#     _.append(n)\n",
    "    \n",
    "# cc1 = pd.concat(_)"
   ]
  },
  {
   "cell_type": "code",
   "execution_count": 143,
   "id": "37364a85-7dd3-4d37-9280-2ab8a22126c3",
   "metadata": {},
   "outputs": [],
   "source": [
    "cc1['plan_hm'] = 0\n",
    "cc1 = cc1.groupby(['date','company','project','production','move_type','category_equipment','equipment_name','name'])[['hm','plan_hm']].sum().reset_index()\n",
    "\n",
    "# # pisahkan actual\n",
    "# cc1_actual = cc1.drop(columns='plan_hm')\n",
    "# cc1_actual['status'] = 'Actual'\n",
    "# cc1_actual = cc1_actual.rename(columns={'hm':'values'})\n",
    "\n",
    "# # pisahkan plan\n",
    "# cc1_plan = cc1.drop(columns='hm')\n",
    "# cc1_plan['status'] = 'Plan'\n",
    "# cc1_plan = cc1_plan.rename(columns={'plan_hm':'values'})\n",
    "\n",
    "# # gabung dengan menambahkkan kolom status\n",
    "# cc1 = pd.concat([cc1_actual, cc1_plan])\n",
    "\n",
    "# save data\n",
    "# cc1.to_excel('./Report/cc dashboard 1.xlsx', index=False)"
   ]
  },
  {
   "cell_type": "code",
   "execution_count": null,
   "id": "a2be1294-c31b-40d9-9030-d1e41a105666",
   "metadata": {},
   "outputs": [],
   "source": []
  },
  {
   "cell_type": "code",
   "execution_count": null,
   "id": "c0cc407a-d80a-4028-a192-afba275dff4e",
   "metadata": {},
   "outputs": [],
   "source": []
  },
  {
   "cell_type": "code",
   "execution_count": null,
   "id": "310882c8-f322-45dd-9d3a-ff101fe922ad",
   "metadata": {},
   "outputs": [],
   "source": []
  },
  {
   "cell_type": "code",
   "execution_count": null,
   "id": "2f5d425b-6d51-4ea2-9370-f014a2236780",
   "metadata": {},
   "outputs": [],
   "source": []
  },
  {
   "cell_type": "code",
   "execution_count": null,
   "id": "deb23032-1bc5-4330-a3f9-ccf20e368c8a",
   "metadata": {},
   "outputs": [],
   "source": []
  },
  {
   "cell_type": "code",
   "execution_count": null,
   "id": "8da81db5-1caa-40f3-9239-0834d4714f41",
   "metadata": {},
   "outputs": [],
   "source": []
  },
  {
   "cell_type": "code",
   "execution_count": null,
   "id": "9ba664a8-4a05-487b-a4cf-61f3a789e128",
   "metadata": {},
   "outputs": [],
   "source": []
  },
  {
   "cell_type": "markdown",
   "id": "085dfa3f-3e3f-4b2e-b3ac-d80e5ec526c6",
   "metadata": {
    "jp-MarkdownHeadingCollapsed": true
   },
   "source": [
    "## CC2 : Owning & Operation Cost (OOC)"
   ]
  },
  {
   "cell_type": "code",
   "execution_count": 144,
   "id": "ea0b5624-5262-4069-b463-f852944e7ec7",
   "metadata": {},
   "outputs": [],
   "source": [
    "# dapatkan tabel equipment \n",
    "tbl_eq = tbl_equipment2[['company','equipment_category','equipment_model','name']]\n",
    "tbl_eq['equipment_model'] = tbl_eq['equipment_model'].apply(lambda x: retext_equipment_name(x))\n",
    "tbl_eq.columns = ['company','category_equipment','equipment_name','name']\n",
    "\n",
    "# dapatkan nilai HM total\\ per unit \n",
    "eq_hm = kpi.copy()\n",
    "eq_hm = eq_hm.rename(columns={'jam_produktivitas':'hm','total_jarak_tempuh':'km'})\n",
    "eq_hm = eq_hm.groupby(['date','project/name','production','move_type','stage','category_equipment','equipment_name','name'])[['hm','km','retase','produksi']].sum().reset_index()\n",
    "eq_hm = eq_hm.merge(tbl_jarak, on='move_type', how='left').fillna(0)"
   ]
  },
  {
   "cell_type": "code",
   "execution_count": null,
   "id": "046b21d9-f783-4980-b117-38172fa72f7e",
   "metadata": {},
   "outputs": [],
   "source": []
  },
  {
   "cell_type": "code",
   "execution_count": 145,
   "id": "7d3fe512-21b3-4bcb-a532-28c2ae904e69",
   "metadata": {},
   "outputs": [],
   "source": [
    "# dapatkan dataset maintenance\n",
    "maintenance = t1.copy()\n",
    "maintenance = maintenance[['company','spk','broken','stage','category_equipment','equipment_name','name',\n",
    "                           'requirement_type','category_maintenance','description_2','cost']]\n",
    "maintenance['date'] = pd.to_datetime(maintenance['broken']).dt.date\n",
    "maintenance['description2'] = maintenance['description_2'].apply(lambda x: str(x).split('] ')[-1])\n",
    "maintenance['description1'] = maintenance.description2.apply(lambda x: ' '.join(str(x).split()[:2]))\n",
    "maintenance.drop(columns=['description_2','broken'], inplace=True)\n",
    "maintenance = maintenance[maintenance.stage=='DONE']\n",
    "\n",
    "# dapatkan nilai tyre dengan mengamnil biaya pemakaian ban\n",
    "tyre = maintenance[maintenance.description1=='BAN LUAR']\n",
    "tyre = tyre[['date','company','stage','category_equipment','equipment_name','name','requirement_type','category_maintenance','description2','cost']]\n",
    "tyre = tyre.groupby(['date','category_equipment','equipment_name','name'])[['cost']].sum().reset_index().rename(columns={'cost':'tyre'})"
   ]
  },
  {
   "cell_type": "code",
   "execution_count": 146,
   "id": "fd7e2c9c-7315-42b1-b793-4b16d8d52b39",
   "metadata": {},
   "outputs": [
    {
     "data": {
      "text/html": [
       "<div>\n",
       "<style scoped>\n",
       "    .dataframe tbody tr th:only-of-type {\n",
       "        vertical-align: middle;\n",
       "    }\n",
       "\n",
       "    .dataframe tbody tr th {\n",
       "        vertical-align: top;\n",
       "    }\n",
       "\n",
       "    .dataframe thead th {\n",
       "        text-align: right;\n",
       "    }\n",
       "</style>\n",
       "<table border=\"1\" class=\"dataframe\">\n",
       "  <thead>\n",
       "    <tr style=\"text-align: right;\">\n",
       "      <th></th>\n",
       "      <th>date</th>\n",
       "      <th>category_equipment</th>\n",
       "      <th>equipment_name</th>\n",
       "      <th>name</th>\n",
       "      <th>tyre</th>\n",
       "    </tr>\n",
       "  </thead>\n",
       "  <tbody>\n",
       "    <tr>\n",
       "      <th>2884</th>\n",
       "      <td>2024-07-01</td>\n",
       "      <td>DUMP TRUCK</td>\n",
       "      <td>HINO ZY</td>\n",
       "      <td>DT-360</td>\n",
       "      <td>11710000.0</td>\n",
       "    </tr>\n",
       "    <tr>\n",
       "      <th>2885</th>\n",
       "      <td>2024-07-01</td>\n",
       "      <td>DUMP TRUCK</td>\n",
       "      <td>HINO ZY</td>\n",
       "      <td>DT-367</td>\n",
       "      <td>11710000.0</td>\n",
       "    </tr>\n",
       "    <tr>\n",
       "      <th>2886</th>\n",
       "      <td>2024-07-01</td>\n",
       "      <td>DUMP TRUCK</td>\n",
       "      <td>HINO ZY</td>\n",
       "      <td>DT-392</td>\n",
       "      <td>11710000.0</td>\n",
       "    </tr>\n",
       "    <tr>\n",
       "      <th>2887</th>\n",
       "      <td>2024-07-02</td>\n",
       "      <td>DUMP TRUCK</td>\n",
       "      <td>HINO ZY</td>\n",
       "      <td>DT-338</td>\n",
       "      <td>11710000.0</td>\n",
       "    </tr>\n",
       "    <tr>\n",
       "      <th>2888</th>\n",
       "      <td>2024-07-02</td>\n",
       "      <td>DUMP TRUCK</td>\n",
       "      <td>HINO ZY</td>\n",
       "      <td>DT-347</td>\n",
       "      <td>11710000.0</td>\n",
       "    </tr>\n",
       "    <tr>\n",
       "      <th>...</th>\n",
       "      <td>...</td>\n",
       "      <td>...</td>\n",
       "      <td>...</td>\n",
       "      <td>...</td>\n",
       "      <td>...</td>\n",
       "    </tr>\n",
       "    <tr>\n",
       "      <th>3074</th>\n",
       "      <td>2024-07-31</td>\n",
       "      <td>DUMP TRUCK</td>\n",
       "      <td>HINO ZY</td>\n",
       "      <td>DT-377</td>\n",
       "      <td>11710000.0</td>\n",
       "    </tr>\n",
       "    <tr>\n",
       "      <th>3075</th>\n",
       "      <td>2024-07-31</td>\n",
       "      <td>DUMP TRUCK</td>\n",
       "      <td>HINO ZY</td>\n",
       "      <td>DT-385</td>\n",
       "      <td>11710000.0</td>\n",
       "    </tr>\n",
       "    <tr>\n",
       "      <th>3076</th>\n",
       "      <td>2024-07-31</td>\n",
       "      <td>DUMP TRUCK</td>\n",
       "      <td>HINO ZY</td>\n",
       "      <td>DT-392</td>\n",
       "      <td>11710000.0</td>\n",
       "    </tr>\n",
       "    <tr>\n",
       "      <th>3077</th>\n",
       "      <td>2024-07-31</td>\n",
       "      <td>DUMP TRUCK</td>\n",
       "      <td>HINO ZY</td>\n",
       "      <td>DT-394</td>\n",
       "      <td>11710000.0</td>\n",
       "    </tr>\n",
       "    <tr>\n",
       "      <th>3078</th>\n",
       "      <td>2024-07-31</td>\n",
       "      <td>DUMP TRUCK</td>\n",
       "      <td>HONGYAN KINKAN430</td>\n",
       "      <td>DT-508</td>\n",
       "      <td>11710000.0</td>\n",
       "    </tr>\n",
       "  </tbody>\n",
       "</table>\n",
       "<p>195 rows × 5 columns</p>\n",
       "</div>"
      ],
      "text/plain": [
       "            date category_equipment     equipment_name    name        tyre\n",
       "2884  2024-07-01         DUMP TRUCK            HINO ZY  DT-360  11710000.0\n",
       "2885  2024-07-01         DUMP TRUCK            HINO ZY  DT-367  11710000.0\n",
       "2886  2024-07-01         DUMP TRUCK            HINO ZY  DT-392  11710000.0\n",
       "2887  2024-07-02         DUMP TRUCK            HINO ZY  DT-338  11710000.0\n",
       "2888  2024-07-02         DUMP TRUCK            HINO ZY  DT-347  11710000.0\n",
       "...          ...                ...                ...     ...         ...\n",
       "3074  2024-07-31         DUMP TRUCK            HINO ZY  DT-377  11710000.0\n",
       "3075  2024-07-31         DUMP TRUCK            HINO ZY  DT-385  11710000.0\n",
       "3076  2024-07-31         DUMP TRUCK            HINO ZY  DT-392  11710000.0\n",
       "3077  2024-07-31         DUMP TRUCK            HINO ZY  DT-394  11710000.0\n",
       "3078  2024-07-31         DUMP TRUCK  HONGYAN KINKAN430  DT-508  11710000.0\n",
       "\n",
       "[195 rows x 5 columns]"
      ]
     },
     "execution_count": 146,
     "metadata": {},
     "output_type": "execute_result"
    }
   ],
   "source": [
    "tyre[pd.to_datetime(tyre.date).dt.strftime('%m/%y')=='07/24']"
   ]
  },
  {
   "cell_type": "code",
   "execution_count": null,
   "id": "1484306b-8b1f-4bb9-b668-f090eef5817c",
   "metadata": {},
   "outputs": [],
   "source": []
  },
  {
   "cell_type": "code",
   "execution_count": null,
   "id": "c4316960-cd9d-4323-b543-a97a24d9698b",
   "metadata": {},
   "outputs": [],
   "source": []
  },
  {
   "cell_type": "code",
   "execution_count": null,
   "id": "1b91dc12-911b-4c82-9efc-62ea314843d9",
   "metadata": {},
   "outputs": [],
   "source": [
    " "
   ]
  },
  {
   "cell_type": "code",
   "execution_count": null,
   "id": "e4b6c978-b73c-438b-a0fb-c2cde2e99be7",
   "metadata": {},
   "outputs": [],
   "source": []
  },
  {
   "cell_type": "code",
   "execution_count": null,
   "id": "f2d93f43-625c-4116-a2ff-cde5300b08fe",
   "metadata": {},
   "outputs": [],
   "source": []
  },
  {
   "cell_type": "code",
   "execution_count": null,
   "id": "d199eec8-0df8-4bac-b7ea-3fe87cc4482e",
   "metadata": {},
   "outputs": [],
   "source": []
  },
  {
   "cell_type": "code",
   "execution_count": null,
   "id": "5e395f53-9548-467e-abca-ab906b63f28c",
   "metadata": {},
   "outputs": [],
   "source": []
  },
  {
   "cell_type": "code",
   "execution_count": null,
   "id": "bbfbe9db-c182-4350-b531-e1c3ec319948",
   "metadata": {},
   "outputs": [],
   "source": []
  },
  {
   "cell_type": "code",
   "execution_count": null,
   "id": "8e35aa88-1501-4adb-bead-97604be000ae",
   "metadata": {},
   "outputs": [],
   "source": []
  },
  {
   "cell_type": "code",
   "execution_count": null,
   "id": "e61881be-e992-4a07-bb77-a3ac6f37f740",
   "metadata": {},
   "outputs": [],
   "source": []
  },
  {
   "cell_type": "code",
   "execution_count": null,
   "id": "184ff6d6-52fe-4eb2-baa0-3e54d67dd285",
   "metadata": {},
   "outputs": [],
   "source": []
  },
  {
   "cell_type": "code",
   "execution_count": null,
   "id": "3960675a-829f-4c61-af4e-c9b5751389f3",
   "metadata": {},
   "outputs": [],
   "source": []
  },
  {
   "cell_type": "code",
   "execution_count": null,
   "id": "a68f47f2-226d-4002-b702-e14d5ae75b26",
   "metadata": {},
   "outputs": [],
   "source": []
  },
  {
   "cell_type": "code",
   "execution_count": null,
   "id": "982c5d53-ca13-4d53-9c40-39c996849861",
   "metadata": {},
   "outputs": [],
   "source": []
  },
  {
   "cell_type": "code",
   "execution_count": null,
   "id": "27e70ec9-8653-41bb-9c99-62277c4d44ee",
   "metadata": {},
   "outputs": [],
   "source": []
  },
  {
   "cell_type": "code",
   "execution_count": null,
   "id": "780a88e7-4957-4ace-8029-8230e7a62e26",
   "metadata": {},
   "outputs": [],
   "source": []
  },
  {
   "cell_type": "code",
   "execution_count": 147,
   "id": "ed6ada91-84c7-452b-af33-7b310f826446",
   "metadata": {},
   "outputs": [],
   "source": [
    "# dapatkan nilai rm dengan memisahkan semua biaya ganti ban\n",
    "rm = maintenance[maintenance.description1!='BAN LUAR']\n",
    "rm = rm[['date','stage','category_equipment','equipment_name','name','requirement_type','category_maintenance','description2','cost']]\n",
    "rm.cost.fillna(0, inplace=True)\n",
    "rm['date'] = rm['date'].apply(lambda x: str(x).split()[0])\n",
    "\n",
    "# persiapkan data biaya maintenance FMC\n",
    "po['description1'] = po.description.apply(lambda x: ' '.join(str(x).split('] ')[-1].split()[:2]))\n",
    "fmc = po[po.description1 == 'MATERIAL FMC']\n",
    "fmc['name'] = fmc.description.apply(lambda x: '-'.join(str(x).split()[1:3]))\n",
    "fmc = fmc.merge(rm[['category_equipment','equipment_name','name']].drop_duplicates(), on='name', how='left')\n",
    "\n",
    "# buat kolom disesuaikan dengan rm\n",
    "fmc['requirement_type'] = 'FMC'\n",
    "fmc['stage'] = 'DONE'\n",
    "fmc['category_maintenance'] = 'FMC'\n",
    "\n",
    "# recolumns fmc\n",
    "fmc = fmc[['date','stage','category_equipment','equipment_name','name','requirement_type','category_maintenance','description','total']]\n",
    "fmc = fmc.rename(columns={'total':'cost', 'description':'description2'})\n",
    "fmc['date'] = fmc['date'].apply(lambda x: str(x).split()[0])\n",
    "\n",
    "# buat kolom my untuk kebutuhan merge\n",
    "fmc['my'] = pd.to_datetime(fmc.date).dt.strftime('%m/%y')\n",
    "rm['my'] = pd.to_datetime(rm.date).dt.strftime('%m/%y')\n",
    "\n",
    "fmc = fmc.merge(date.rename(columns={'month':'my'}), on='my', how='inner').drop(columns='date_x').rename(columns={'date_y':'date'})\n",
    "\n",
    "fmc = fmc.ffill()\n",
    "fmc['cost'] = fmc.cost / fmc.count_day\n",
    "fmc = fmc.drop(columns='count_day')\n",
    "\n",
    "# buat id\n",
    "fmc['id'] = fmc.date + '#' + fmc.name\n",
    "rm['id'] = rm.date + '#' + rm.name\n",
    "\n",
    "# replace data parts dengan data fmc\n",
    "rm = rm[rm['id'].isin(fmc['id'].tolist()) == False]\n",
    "\n",
    "rm = pd.concat([rm, fmc]).drop(columns=['id','my'])\n",
    "rm = rm.groupby(['date','category_equipment','equipment_name','name'])[['cost']].sum().reset_index().rename(columns={'cost':'rm'})"
   ]
  },
  {
   "cell_type": "code",
   "execution_count": null,
   "id": "0fe9817d-109c-4d56-911c-a290df0b3c13",
   "metadata": {},
   "outputs": [],
   "source": []
  },
  {
   "cell_type": "code",
   "execution_count": 148,
   "id": "9f750a3d-7613-45c6-9dfe-d7d8d98bd215",
   "metadata": {},
   "outputs": [],
   "source": [
    "# read data detail informasi equipment\n",
    "url_depresiasi = \"https://docs.google.com/spreadsheets/d/1cjcBMY29etIAeQAwRDzlbpd4wExYkpvxk7s4tgVUD-w/export?format.xlsx\"\n",
    "\n",
    "try:\n",
    "    os.remove('detail_depresiasi.xlsx')\n",
    "except:\n",
    "    None\n",
    "    \n",
    "output_filename = 'detail_depresiasi.xlsx'\n",
    "\n",
    "# get the data from spreadsheet\n",
    "response = requests.get(url_depresiasi)\n",
    "if response.status_code == 200:\n",
    "    with open(output_filename, \"wb\") as f:\n",
    "        f.write(response.content)\n",
    "\n",
    "# read data\n",
    "dep = pd.read_excel(output_filename)\n",
    "dep.columns = ['_'.join(i.lower().split()) for i in dep.columns]\n",
    "dep.fillna(0, inplace=True)\n",
    "dep.columns = ['company','category_equipment','equipment_name','name','date_pay','eq_age','dpp','lama_penyusutan',\n",
    "               'price_aftar_salvage','depresiasi','insurance','interest','tax',]\n",
    "\n",
    "# test saja dulu\n",
    "# dep['depresiasi'] = dep['depresiasi'] * 12 * dep['lama_penyusutan']\n",
    "# dep['insurance'] = dep['insurance'] * 12 * dep.lama_penyusutan\n",
    "# dep['interest'] = dep['interest'] * 12 * dep.lama_penyusutan\n",
    "# dep['tax'] = dep['tax'] * 12 * dep.lama_penyusutan\n",
    "\n",
    "dep['interest'] = dep['dpp'] * dep['interest']\n",
    "dep['tax'] = dep['dpp'] * dep['tax']\n",
    "\n",
    "dep = dep.drop_duplicates()\n",
    "dep = dep.groupby(['category_equipment','equipment_name','name'])[['depresiasi','interest','tax','insurance']].sum().reset_index()"
   ]
  },
  {
   "cell_type": "code",
   "execution_count": null,
   "id": "b21aeb4f-a3f8-432a-a678-fa85c956ad51",
   "metadata": {},
   "outputs": [],
   "source": []
  },
  {
   "cell_type": "code",
   "execution_count": 149,
   "id": "6c6ceb89-bca3-4b4d-b11e-51f348ba1b83",
   "metadata": {},
   "outputs": [],
   "source": [
    "# dapatkan nilai OVH\n",
    "# employee cost\n",
    "url_ovh = \"https://docs.google.com/spreadsheets/d/1Xo6dCsgrSNX6pa9Q1hSnFtKzSYhdhMHNRQ4ppKnwmUk/export?format.xlsx\"\n",
    "try:\n",
    "    os.remove('cost_ovh.xlsx')\n",
    "except:\n",
    "    None\n",
    "    \n",
    "output_filename = 'cost_ovh.xlsx'\n",
    "# get the data from spreadsheet\n",
    "response = requests.get(url_ovh)\n",
    "if response.status_code == 200:\n",
    "    with open(output_filename, \"wb\") as f:\n",
    "        f.write(response.content)\n",
    "\n",
    "\n",
    "ovh = pd.read_excel('cost_ovh.xlsx', sheet_name='Sheet8')\n",
    "ovh.columns = ['name','gaji pokok','m1','m2','m3','m4','m5','m6','m7']\n",
    "ovh.replace('-', 0, inplace=True)\n",
    "\n",
    "ovh['name'] = ovh.name.apply(lambda x: str(x).split('*')[0])\n",
    "ovh['name'] = ovh.name.apply(lambda x: ''.join(x.split()))\n",
    "\n",
    "def rename_eq_detail(x):\n",
    "    con = x.split('-')[0]\n",
    "    if con == 'HINO12R':\n",
    "        msg = 'DT-' + x.split('-')[-1]\n",
    "    else:\n",
    "        msg = x\n",
    "    return msg\n",
    "\n",
    "def rename_eq_detail2(x):\n",
    "    con = x.split('-')[-1]\n",
    "    con = int(con)\n",
    "    if con > 500:\n",
    "        msg = 'DT-' + x.split('-')[-1]\n",
    "    else:\n",
    "        msg = x\n",
    "    return msg\n",
    "\n",
    "ovh = ovh[ovh.name!='nan']\n",
    "ovh['name'] = ovh.name.apply(rename_eq_detail)\n",
    "ovh['name'] = ovh.name.apply(rename_eq_detail2)\n",
    "\n",
    "ovh = ovh.replace('-', 0)\n",
    "\n",
    "# perbaiki nama equipment\n",
    "ovh['name'] = ovh['name'].apply(lambda x: ''.join(str(x).split()))\n",
    "ovh['name'] = ovh['name'].apply(lambda x: str(x).split('*')[0])\n",
    "\n",
    "# rekontruksi data struktur\n",
    "_ = []\n",
    "for i, j in zip(['m1','m2','m3','m4','m5','m6'], ['01/24','02/24','03/24','04/24','05/24','06/24']):\n",
    "    ovh[i] = ovh[i] + ovh['gaji pokok']\n",
    "    n = ovh[['name',i]].rename(columns={i:'emp_cost'})\n",
    "    n['month'] = j\n",
    "    _.append(n)\n",
    "\n",
    "# gabungkan data kembali\n",
    "ovh = pd.concat(_)[['name','month','emp_cost']]\n",
    "ovh = ovh.drop_duplicates()\n",
    "ovh = ovh.groupby(['name','month'])[['emp_cost']].sum().reset_index()\n",
    "\n",
    "# buat data biaya konsumsi oprator dan driver\n",
    "ovh_makanan = kpi[kpi['project/name'].isin(['Mining KBM','Mining BDM'])]\n",
    "ovh_makanan = ovh_makanan[['date','name','jam_produktivitas']]\n",
    "ovh_makanan = ovh_makanan[ovh_makanan.jam_produktivitas!=0]\n",
    "ovh_makanan = ovh_makanan.drop_duplicates(subset=['date','name'])\n",
    "ovh_makanan['cost_makanan'] = 13000 * 3\n",
    "ovh_makanan['month'] = pd.to_datetime(ovh_makanan.date).dt.strftime('%m/%y')\n",
    "ovh_makanan = ovh_makanan.groupby(['name','month'])[['cost_makanan']].sum().reset_index()\n",
    "\n",
    "# buat id untuk merge\n",
    "ovh_makanan['id'] = ovh_makanan.month + '#' + ovh_makanan.name\n",
    "ovh['id'] = ovh.month + '#' + ovh.name\n",
    "\n",
    "# merge data\n",
    "ovh = ovh.merge(ovh_makanan[['id','cost_makanan']], how='left', on='id').fillna(0)\n",
    "ovh['month'] = ovh.id.apply(lambda x: x.split('#')[0])\n",
    "ovh['name'] = ovh.id.apply(lambda x: x.split('#')[-1])\n",
    "ovh = ovh.drop(columns='id')\n",
    "ovh = ovh[['name','month','cost_makanan','emp_cost']].fillna(0)\n",
    "ovh['ovh'] = ovh.cost_makanan + ovh.emp_cost\n",
    "ovh.drop_duplicates(inplace=True)\n",
    "\n",
    "ovh = ovh.groupby(['name','month'])[['cost_makanan','emp_cost','ovh']].sum().reset_index()"
   ]
  },
  {
   "cell_type": "code",
   "execution_count": null,
   "id": "4c6f87a9-4df7-4c16-8263-7bdb4dab6e1e",
   "metadata": {},
   "outputs": [],
   "source": []
  },
  {
   "cell_type": "code",
   "execution_count": 150,
   "id": "dbed2324-34d1-4ee4-bd10-87f8afafd386",
   "metadata": {},
   "outputs": [],
   "source": [
    "# dapatkan nilai subcont\n",
    "\n",
    "subcont = pd.DataFrame({})"
   ]
  },
  {
   "cell_type": "code",
   "execution_count": 151,
   "id": "628b1dd7-ca13-407c-8156-5b3fba4b8117",
   "metadata": {},
   "outputs": [],
   "source": [
    "# buat fungsi untuk membuat id\n",
    "def get_id(date, name):\n",
    "    date = str(date)\n",
    "    name = str(name)\n",
    "    msg = date + '#' + name\n",
    "    return msg\n",
    "\n",
    "eq_hm['id'] = eq_hm.apply(lambda x: get_id(x['date'], x['name']), axis=1)\n",
    "rm['id'] = rm.apply(lambda x: get_id(x['date'], x['name']), axis=1)\n",
    "fuel['id'] = fuel.apply(lambda x: get_id(x['date'], x['name']), axis=1)\n",
    "tyre['id'] = tyre.apply(lambda x: get_id(x['date'], x['name']), axis=1)\n",
    "ovh['id'] = ovh.apply(lambda x: get_id(x['month'], x['name']), axis=1)\n",
    "# subcont['id'] = subcont.apply(lambda x: get_id(x['date'], x['name']), axis=1)"
   ]
  },
  {
   "cell_type": "code",
   "execution_count": null,
   "id": "ae9c840d-5c80-4a6d-9b3c-7bb19709ad84",
   "metadata": {},
   "outputs": [],
   "source": []
  },
  {
   "cell_type": "code",
   "execution_count": 152,
   "id": "f8fe6884-b877-46cb-97e5-d39c4be09fd8",
   "metadata": {},
   "outputs": [
    {
     "name": "stderr",
     "output_type": "stream",
     "text": [
      "100%|███████████████████████████████████████████████████████████████████████████████████████████████████████████████████████████████████████████████████████████████████████████████████████████████████████| 432/432 [00:05<00:00, 84.67it/s]\n",
      "100%|███████████████████████████████████████████████████████████████████████████████████████████████████████████████████████████████████████████████████████████████████████████████████████████████████████| 432/432 [00:04<00:00, 88.08it/s]\n"
     ]
    }
   ],
   "source": [
    "ooc = eq_hm.merge(rm[['id','rm']], on='id', how='outer')\n",
    "ooc = ooc.merge(fuel[['id','fuel_cost']], on='id', how='outer').rename(columns={'fuel_cost':'fuel'})\n",
    "ooc = ooc.merge(tyre[['id','tyre']], on='id', how='outer')\n",
    "\n",
    "ooc = ooc.drop(columns=['date', 'category_equipment','equipment_name','name'])\n",
    "ooc['date'] = ooc['id'].apply(lambda x: str(x).split('#')[0])\n",
    "ooc['name'] = ooc['id'].apply(lambda x: str(x).split('#')[-1])\n",
    "\n",
    "ooc = ooc.merge(tbl_eq, on='name', how='left')\n",
    "ooc['category_equipment'].fillna('Tidak Diketahui', inplace=True)\n",
    "ooc['equipment_name'].fillna('Tidak Diketahui', inplace=True)\n",
    "ooc['name'].fillna('Tidak Diketahui', inplace=True)\n",
    "ooc['production'].fillna('-', inplace=True)\n",
    "ooc['project/name'].fillna('-', inplace=True)\n",
    "ooc['move_type'].fillna('-', inplace=True)\n",
    "ooc['stage'].fillna('-', inplace=True)\n",
    "ooc.fillna(0, inplace=True)\n",
    "\n",
    "ooc = ooc.merge(dep[['name','depresiasi','insurance','interest','tax']], on='name', how='left')\n",
    "ooc = ooc[['date','project/name','production','move_type','stage','category_equipment','equipment_name','name','hm','km','produksi','rm',\n",
    "           'fuel','tyre','depresiasi','insurance','tax','interest']].fillna(0)\n",
    "\n",
    "ooc['month'] = pd.to_datetime(ooc.date).dt.strftime('%m/%y')\n",
    "\n",
    "# buat persentase dt perbulan \n",
    "_ = []\n",
    "for i in tqdm(ooc.name.unique().tolist()):\n",
    "    n = ooc[ooc.name==i]\n",
    "    for j in n.month.unique().tolist():\n",
    "        m = n[n.month==j]\n",
    "        m['p_hm'] = m.hm / m.hm.sum()\n",
    "        _.append(m)\n",
    "ooc = pd.concat(_)\n",
    "ooc.p_hm.fillna(0, inplace=True)\n",
    "\n",
    "# tambahkan tanggal kosong pada DT yang standby\n",
    "_ = []\n",
    "for i in tqdm(ooc.name.unique().tolist()):\n",
    "    n = ooc[ooc.name==i]\n",
    "\n",
    "    cat_eq = n.category_equipment.unique().tolist()[0]\n",
    "    eq_name = n.equipment_name.unique().tolist()[0]\n",
    "    name = n.name.unique().tolist()[0]\n",
    "    \n",
    "    n = n.merge(date.drop(columns='month'), on='date', how='outer')\n",
    "    n['category_equipment'].fillna(cat_eq, inplace=True)\n",
    "    n['equipment_name'].fillna(eq_name, inplace=True)\n",
    "    n['name'].fillna(name, inplace=True)\n",
    "    n['project/name'].fillna('-', inplace=True)\n",
    "    n['production'].fillna('-', inplace=True)\n",
    "    n['move_type'].fillna('-', inplace=True)\n",
    "    n['stage'].fillna('-', inplace=True)\n",
    "    n.fillna(0, inplace=True)\n",
    "    _.append(n)\n",
    "ooc = pd.concat(_)\n",
    "\n",
    "# owning cost methods - 1\n",
    "# scaling owning cost into size of a day per month\n",
    "ooc['month'] = pd.to_datetime(ooc.date).dt.strftime('%m/%y')\n",
    "ooc['depresiasi'] = ooc.depresiasi / ooc.count_day\n",
    "ooc['insurance'] = ooc.insurance / ooc.count_day\n",
    "ooc['tax'] = ooc.tax / ooc.count_day\n",
    "ooc['interest'] = ooc.interest / ooc.count_day\n",
    "ooc = ooc.drop(columns=['count_day'])\n",
    "\n",
    "# owning cost methods - 2\n",
    "# ooc['p_hm2'] = ooc.hm / ooc.hm.sum()\n",
    "# ooc['depresiasi'] = ooc.depresiasi * ooc.p_hm2\n",
    "# ooc['insurance'] = ooc.insurance * ooc.p_hm2\n",
    "# ooc['tax'] = ooc.tax * ooc.p_hm2\n",
    "# ooc['interest'] = ooc.interest * ooc.p_hm2\n",
    "# ooc = ooc.drop(columns=['p_hm2'])\n",
    "\n",
    "# buat fungsi pembuat id untuk pertemuan dengan OVH\n",
    "def get_id_ovh(month, name):\n",
    "    return str(month) + \"#\" + str(name)\n",
    "    \n",
    "# buat id ooc untuk pertemuan dengan OVH\n",
    "ooc['id'] = ooc.apply(lambda x: get_id_ovh(x['month'], x['name']), axis=1) \n",
    "ovh['id'] = ovh.apply(lambda x: get_id_ovh(x['month'], x['name']), axis=1)\n",
    "\n",
    "# fillna ovh\n",
    "ooc = ooc.merge(ovh[['id','ovh']], on='id', how='left').fillna(0)\n",
    "ooc['ovh'] = ooc.ovh * ooc.p_hm\n",
    "ooc = ooc.drop(columns=['p_hm','month'])\n",
    "\n",
    "# load datasets\n",
    "ooc['equipment_name'] = ooc.equipment_name.apply(retext_equipment_name)\n",
    "ooc = ooc.drop_duplicates()\n",
    "\n",
    "# merge stander jarak\n",
    "ooc = ooc.merge(tbl_jarak, on='move_type', how='left')\n",
    "ooc['jarak'].fillna(0, inplace=True)\n",
    "\n",
    "def fuel_condition(kontrak, fuel):\n",
    "    if kontrak == 'Mining BDM':\n",
    "        msg = 0\n",
    "    else:\n",
    "        msg = fuel\n",
    "    return msg\n",
    "\n",
    "ooc['fuel'] = ooc.apply(lambda x: fuel_condition(x['project/name'], x.fuel), axis=1)\n",
    "\n",
    "ooc.to_excel('./Report/Owning & Operating Cost.xlsx', index=False)"
   ]
  },
  {
   "cell_type": "code",
   "execution_count": null,
   "id": "17ad721a-ad96-4017-96bf-caad2a2501f4",
   "metadata": {},
   "outputs": [],
   "source": []
  },
  {
   "cell_type": "code",
   "execution_count": null,
   "id": "f767d3c0-ce46-45f9-aa62-06065e99cc75",
   "metadata": {},
   "outputs": [],
   "source": []
  },
  {
   "cell_type": "code",
   "execution_count": null,
   "id": "77859f6e-c4e1-448d-8de7-96e85eb01c4e",
   "metadata": {},
   "outputs": [],
   "source": []
  },
  {
   "cell_type": "code",
   "execution_count": null,
   "id": "fe10b20c-1bc7-4524-ad57-36b586265797",
   "metadata": {},
   "outputs": [],
   "source": []
  },
  {
   "cell_type": "code",
   "execution_count": null,
   "id": "3929e028-c8c5-4d1f-9cb0-d87d1cd60e2a",
   "metadata": {},
   "outputs": [],
   "source": []
  },
  {
   "cell_type": "code",
   "execution_count": null,
   "id": "ade82f43-dc28-4e1e-82f6-150ffe6b61f7",
   "metadata": {},
   "outputs": [],
   "source": []
  },
  {
   "cell_type": "code",
   "execution_count": 153,
   "id": "23bab448-9cd3-4016-a0c7-65f61bba7570",
   "metadata": {},
   "outputs": [],
   "source": [
    "kpi['date'] = kpi['date'].apply(lambda x: str(x).split()[0])\n",
    "cost = ooc.copy()\n",
    "\n",
    "# buat id pertemuan\n",
    "cost['id'] = cost['date'] + '#' + cost['name']\n",
    "kpi['id'] = kpi['date'] + '#' + kpi['name']\n",
    "\n",
    "# merge data\n",
    "kpi = kpi.merge(cost[['id','rm','fuel','tyre','depresiasi','interest','insurance','tax','ovh']], on='id', how='left')\n",
    "kpi['cost'] = kpi.rm + kpi.fuel + kpi.tyre + kpi.depresiasi + kpi.interest + kpi.insurance + kpi.tax + kpi.ovh\n",
    "# kpi = kpi.drop(columns = ['id','rm','fuel','tyre','depresiasi','interest','insurance','tax'])\n",
    "kpi = kpi.drop(columns = ['id'])\n",
    "\n",
    "kpi['cost / produksi . km'] = kpi.cost / (kpi.produksi * kpi.total_jarak_tempuh)\n",
    "kpi['cost / produksi . km'].replace(np.inf, 0, inplace=True)\n",
    "kpi['cost / produksi . km'].fillna(0, inplace=True)"
   ]
  },
  {
   "cell_type": "code",
   "execution_count": 154,
   "id": "d9012f06-4f98-4730-9a8a-d879fc4ca7f9",
   "metadata": {},
   "outputs": [],
   "source": [
    "kpi.to_excel('./Report/task2.xlsx', index=False)"
   ]
  },
  {
   "cell_type": "markdown",
   "id": "242b20f2-654a-417e-9096-3e8835e77a46",
   "metadata": {
    "jp-MarkdownHeadingCollapsed": true
   },
   "source": [
    "## CC3 : OOC Actual & OOC Full"
   ]
  },
  {
   "cell_type": "code",
   "execution_count": 155,
   "id": "6b96e5e8-c8b8-4f2d-8231-0fda87ead1a8",
   "metadata": {},
   "outputs": [],
   "source": [
    "# ooc_diff = ooc.copy()\n",
    "\n",
    "# # buat kolom ooc\n",
    "# ooc_diff['ooc'] = (ooc_diff.rm + ooc_diff.fuel + ooc_diff.tyre + ooc_diff.depresiasi + ooc_diff.insurance + ooc_diff.ovh)/ooc_diff.hm\n",
    "# ooc_diff['ooc'].fillna(0, inplace=True)\n",
    "# ooc_diff['ooc'].replace(np.inf, 0, inplace=True)\n",
    "\n",
    "# # buat kolom ooc full\n",
    "# ooc_diff['ooc_full'] = (ooc_diff.rm + ooc_diff.fuel + ooc_diff.tyre + ooc_diff.depresiasi + ooc_diff.insurance + ooc_diff.ovh)/ooc_diff.hm_full\n",
    "# ooc_diff['ooc_full'].fillna(0, inplace=True)\n",
    "# ooc_diff['ooc_full'].replace(np.inf, 0, inplace=True)\n",
    "\n",
    "# # grouping\n",
    "# _ = []\n",
    "# ooc_diff = ooc_diff.groupby(['date','category_equipment','equipment_name','name'])[['ooc','ooc_full']].sum().reset_index()\n",
    "# for i in ['ooc','ooc_full']:\n",
    "#     n = ooc_diff[['date','category_equipment','equipment_name','name',i]]\n",
    "#     n['status'] = i\n",
    "#     n = n.rename(columns={i:'values'})\n",
    "#     _.append(n)\n",
    "\n",
    "# ooc_diff = pd.concat(_)\n",
    "# ooc_diff.to_excel('./Report/cc dashboard 3.xlsx', index=False)"
   ]
  },
  {
   "cell_type": "markdown",
   "id": "e1380d05-c353-4e07-b274-7474de3c9660",
   "metadata": {
    "jp-MarkdownHeadingCollapsed": true
   },
   "source": [
    "## CC4 : Production * OOC"
   ]
  },
  {
   "cell_type": "code",
   "execution_count": 156,
   "id": "760a76d6-c9a2-4e67-b2b9-ad417048ea09",
   "metadata": {},
   "outputs": [],
   "source": [
    "# cc41 = cc1[cc1.status=='Actual'].drop(columns='status').rename(columns={'values':'hm'})"
   ]
  },
  {
   "cell_type": "code",
   "execution_count": 157,
   "id": "b5455b3a-43ca-4059-9976-8080d597f13d",
   "metadata": {},
   "outputs": [],
   "source": [
    "# cc42 = ooc.groupby(['name'])[['hm','rm','fuel','tyre','depresiasi','insurance','interest','ovh']].sum().reset_index()\n",
    "# cc42['ooc'] = (cc42.rm + cc42.fuel + cc42.tyre + cc42.depresiasi + cc42.insurance + cc42.interest + cc42.ovh)/cc42.hm\n",
    "# cc42.replace(np.inf, 0, inplace=True)\n",
    "# cc42.fillna(0, inplace=True)"
   ]
  },
  {
   "cell_type": "code",
   "execution_count": 158,
   "id": "ada10d1a-21d1-4c04-b39d-8d498f939c8a",
   "metadata": {},
   "outputs": [],
   "source": [
    "# cc4 = cc41.merge(cc42[['name','ooc']], on='name', how='left')\n",
    "# cc4['actual_cost'] = cc4.hm * cc4.ooc"
   ]
  },
  {
   "cell_type": "code",
   "execution_count": 159,
   "id": "b12604dc-3f60-47fa-bccd-dc2778cb1271",
   "metadata": {},
   "outputs": [],
   "source": [
    "# # save data\n",
    "# cc4.to_excel('./Report/cc dashboard 4.xlsx', index=False)"
   ]
  },
  {
   "cell_type": "markdown",
   "id": "343658d6-ddb5-4bf1-be90-ccd97d31844b",
   "metadata": {},
   "source": [
    "## CC5 : Evaluating & Budgeting"
   ]
  },
  {
   "cell_type": "code",
   "execution_count": 160,
   "id": "161652f7-aab7-4f51-a723-66011e31780b",
   "metadata": {},
   "outputs": [],
   "source": [
    "# siapkan data ooc\n",
    "cc5 = ooc.groupby(['equipment_name'])[['hm','rm','fuel','tyre','depresiasi','insurance','interest','ovh','tax']].sum().reset_index()\n",
    "\n",
    "cc5.replace(np.inf, 0, inplace=True)\n",
    "cc5.fillna(0, inplace=True)\n",
    "\n",
    "cc5['ooc'] = (cc5.rm + cc5.fuel + cc5.tyre + cc5.depresiasi + cc5.insurance + cc5.interest + cc5.ovh)/cc5.hm\n",
    "cc5['operating_cost'] = (cc5.rm  + cc5.fuel + cc5.tyre) / cc5.hm\n",
    "\n",
    "# dapatkan masing-masing parameter cost per hm\n",
    "for i in ['rm','fuel','tyre','depresiasi','insurance','interest','ovh','tax']:\n",
    "    name = i + '/hm'\n",
    "    cc5[name] = cc5[i] / cc5['hm']\n",
    "\n",
    "cc5.fillna(0, inplace=True)\n",
    "cc5.replace(np.inf, 0, inplace=True)\n",
    "cc5.drop(columns='ovh', inplace=True)"
   ]
  },
  {
   "cell_type": "code",
   "execution_count": null,
   "id": "e6ebd7a8-3b42-46d9-a36c-fb4714f95833",
   "metadata": {},
   "outputs": [],
   "source": []
  },
  {
   "cell_type": "code",
   "execution_count": 161,
   "id": "255fc872-fe41-474f-8930-8d7e64d1daf9",
   "metadata": {},
   "outputs": [],
   "source": [
    "# data plan MPE\n",
    "url_standar_ovh = \"https://docs.google.com/spreadsheets/d/1Oj7X0CU6l754u__yfBcOVxlVAlFRvSrsbj4c9hc9f6k/export?format.xlsx\"\n",
    "\n",
    "try:\n",
    "    os.remove('standar_ovh.xlsx')\n",
    "except:\n",
    "    None\n",
    "output_filename = 'standar_ovh.xlsx'\n",
    "\n",
    "# get the data from spreadsheet\n",
    "response = requests.get(url_standar_ovh)\n",
    "if response.status_code == 200:\n",
    "    with open(output_filename, \"wb\") as f:\n",
    "        f.write(response.content)\n",
    "\n",
    "# read rate perusahaan\n",
    "rate_perusahaan = pd.read_excel(output_filename, sheet_name='Perusahaan MPE')\n",
    "rate_perusahaan.columns = ['_'.join(i.lower().split()) for i in rate_perusahaan.columns]\n",
    "\n",
    "# read rate gaji driver dan oprator\n",
    "rate_emp = pd.read_excel(output_filename, sheet_name='Karyawan')\n",
    "rate_emp.columns = ['_'.join(i.lower().split()) for i in rate_emp.columns]\n",
    "rate_emp = rate_emp.groupby(['multiplication_type','equipment_name'])[['rate']].mean().reset_index()\n",
    "\n",
    "# read gaji pokok\n",
    "ovh_pokok = pd.read_excel(output_filename, sheet_name='OVH Pokok')\n",
    "ovh_pokok.columns=['name','gaji_pokok']\n",
    "\n",
    "ovh_pokok['name2'] = ovh_pokok.name.apply(lambda x: str(x).split('*')[0])\n",
    "ovh_pokok['name2'] = ovh_pokok.name2.apply(lambda x: ''.join(x.split()))\n",
    "\n",
    "ovh_pokok = ovh_pokok[ovh_pokok.name2!='nan']\n",
    "ovh_pokok['name2'] = ovh_pokok.name2.apply(rename_eq_detail)\n",
    "ovh_pokok['name2'] = ovh_pokok.name2.apply(rename_eq_detail2)\n",
    "\n",
    "# grouping\n",
    "ovh_pokok = ovh_pokok.groupby(['name2'])[['gaji_pokok']].sum().reset_index()\n",
    "ovh_pokok = ovh_pokok.merge(tbl_eq[['equipment_name','name']].drop_duplicates(), left_on='name2', right_on='name', how='left').drop(columns='name2')[['equipment_name','name','gaji_pokok']]"
   ]
  },
  {
   "cell_type": "code",
   "execution_count": null,
   "id": "98f866c2-6b3f-4762-aab3-73f38a3988f2",
   "metadata": {},
   "outputs": [],
   "source": []
  },
  {
   "cell_type": "code",
   "execution_count": 162,
   "id": "dc1a54e1-bad8-4c4d-8f5c-6b8a57863917",
   "metadata": {},
   "outputs": [],
   "source": [
    "# data plan MPE\n",
    "url_plan_mpe = 'https://docs.google.com/spreadsheets/d/1RZvzn28cvdzdQSPAdNHfVqy3tPoUUhkgjeVFAzGSf8c/export?format.xlsx'\n",
    "\n",
    "try:\n",
    "    os.remove('plan_mpe.xlsx')\n",
    "except:\n",
    "    None\n",
    "output_filename = 'plan_mpe.xlsx'\n",
    "\n",
    "# get the data from spreadsheet\n",
    "response = requests.get(url_plan_mpe)\n",
    "if response.status_code == 200:\n",
    "    with open(output_filename, \"wb\") as f:\n",
    "        f.write(response.content)\n",
    "\n",
    "# read data plan hm\n",
    "plan_hm = pd.read_excel(output_filename, sheet_name=\"plan\")"
   ]
  },
  {
   "cell_type": "code",
   "execution_count": null,
   "id": "d80a080e-4120-4eba-8ead-a2b4c5a5378f",
   "metadata": {},
   "outputs": [],
   "source": []
  },
  {
   "cell_type": "code",
   "execution_count": 163,
   "id": "73c715fb-ba34-4627-ba25-163090567cca",
   "metadata": {},
   "outputs": [],
   "source": [
    "plan_hm.equipment_name.replace('HONGYAN KINKAN430 1', 'HONGYAN KINKAN430', inplace=True)\n",
    "plan_hm.equipment_name.replace('HONGYAN KINKAN430 2', 'HONGYAN KINKAN430', inplace=True)\n",
    "plan_hm.equipment_name.replace('KOMATSU PC300 1', 'KOMATSU PC300', inplace=True)\n",
    "plan_hm.equipment_name.replace('KOMATSU PC300 2', 'KOMATSU PC300', inplace=True)\n",
    "\n",
    "plan_hm_columns = plan_hm.columns.tolist()\n",
    "plan_hm = plan_hm[1:]\n",
    "plan_hm.columns = plan_hm_columns\n",
    "\n",
    "plan_hm = plan_hm[['period','date','company','kontrak','production','category_equipment','equipment_name','% pa','alokasi',\n",
    "         'hm_per_unit','fuel_per_unit','productivity per hour (ton/hour)','plan_hm','plan_fuel','plan_retase','plan_produksi','budget_cost']]\n",
    "\n",
    "plan_hm = plan_hm.rename(columns={'fuel_per_unit':'fuel_per_hour/retase','productivity per hour (ton/hour)':'productivity (ton/hour)','% pa':'pa'})\n",
    "\n",
    "plan_hm.plan_retase.fillna(0, inplace=True)\n",
    "plan_hm = plan_hm.drop_duplicates(subset=['period','date','kontrak','production','category_equipment','equipment_name'])\n",
    "plan_hm['hm_per_unit'] = plan_hm['hm_per_unit'].astype(float)\n",
    "plan_hm['date'] = plan_hm['date'].apply(lambda x: str(x).split()[0])"
   ]
  },
  {
   "cell_type": "code",
   "execution_count": null,
   "id": "b936e269-2103-4e0c-a363-d04460eefadb",
   "metadata": {},
   "outputs": [],
   "source": []
  },
  {
   "cell_type": "code",
   "execution_count": 164,
   "id": "14d44a97-c32f-4bdd-ab36-0fc2f56a99be",
   "metadata": {},
   "outputs": [],
   "source": [
    "# plan_hm_quarry = plan_hm[plan_hm.production=='Overburden']\n",
    "# plan_hm_quarry['production'] = 'Quarry'\n",
    "\n",
    "# for i in plan_hm_quarry.select_dtypes('number'):\n",
    "#     plan_hm_quarry[i] = plan_hm_quarry[i] * 0.1\n",
    "\n",
    "# plan_hm = pd.concat([plan_hm, plan_hm_quarry])\n",
    "\n",
    "# def reduce_plan_ob(prod, x):\n",
    "#     if prod == 'Overburden':\n",
    "#         msg = x - (x * 0.1)\n",
    "#     else:\n",
    "#         msg = x\n",
    "#     return msg\n",
    "\n",
    "# for i in ['hm_per_unit','fuel_per_hour/retase','productivity (ton/hour)','plan_hm','plan_fuel','plan_retase','plan_produksi','budget_cost']:\n",
    "#     plan_hm[i] = plan_hm.apply(lambda x: reduce_plan_ob(x.production, x[i]), axis=1)"
   ]
  },
  {
   "cell_type": "code",
   "execution_count": 165,
   "id": "fadac26f-998c-4c05-b018-faaa3aa65197",
   "metadata": {},
   "outputs": [],
   "source": [
    "plan_hm = plan_hm.merge(cc5[['equipment_name','ooc','operating_cost']], on='equipment_name', how='left').rename(columns={'operating_cost':'operating_per_hm'})\n",
    "\n",
    "plan_hm['budget_ooc'] = plan_hm.plan_hm * plan_hm.ooc\n",
    "plan_hm['budget_operating'] = plan_hm.plan_hm * plan_hm.operating_per_hm\n",
    "plan_hm['plan_fuel'] = plan_hm.plan_fuel * fuel_price.price2.tolist()[-1]\n",
    "plan_hm['budget_cost'] = plan_hm.budget_cost + plan_hm.plan_fuel\n",
    "plan_hm.fillna(0, inplace=True)\n",
    "\n",
    "plan_hm['date'] = plan_hm['date'].apply(lambda x: str(x).split()[0])"
   ]
  },
  {
   "cell_type": "code",
   "execution_count": null,
   "id": "bebc0468-eb34-4ca8-a216-80a62118d583",
   "metadata": {},
   "outputs": [],
   "source": []
  },
  {
   "cell_type": "code",
   "execution_count": 166,
   "id": "99a312f6-d544-4a79-982f-5d2f33ee472b",
   "metadata": {},
   "outputs": [],
   "source": [
    "# read data prodcution\n",
    "plan_production = pd.read_excel(output_filename, sheet_name=\"production\").drop(columns='company')\n",
    "\n",
    "plan_production['plan_produksi'] = plan_production['plan_produksi'].apply(lambda x: ''.join('.'.join(str(x).split('.')).split(',')))\n",
    "plan_production['plan_produksi'] = plan_production['plan_produksi'].astype(float)\n",
    "\n",
    "plan_production['actual_produksi'] = plan_production['actual_produksi'].apply(lambda x: ''.join('.'.join(str(x).split('.')).split(',')))\n",
    "plan_production['actual_produksi'] = plan_production['actual_produksi'].astype(float)\n",
    "\n",
    "plan_production.actual_produksi.fillna(0, inplace=True)\n",
    "plan_production = plan_production.drop_duplicates()"
   ]
  },
  {
   "cell_type": "code",
   "execution_count": null,
   "id": "ae8ba4b8-d43e-4a08-9a56-6c3326bbe131",
   "metadata": {},
   "outputs": [],
   "source": []
  },
  {
   "cell_type": "code",
   "execution_count": 167,
   "id": "1817e3ae-a2ed-4888-82ed-14c1f73819a6",
   "metadata": {},
   "outputs": [],
   "source": [
    "class_date = pd.read_excel(output_filename, sheet_name='tbl klasifikasi minggu')\n",
    "\n",
    "# read data actual mpe\n",
    "actual_mpe = pd.read_excel(output_filename, sheet_name=\"actual\")\n",
    "\n",
    "# transformasi dan cleaning data\n",
    "actual_mpe['hm'] = actual_mpe['hm'].fillna(0)\n",
    "actual_mpe['hm'] = actual_mpe['hm'].apply(lambda x: ''.join(str(x).split(',')))\n",
    "actual_mpe.hm.replace('-', 0, inplace=True)\n",
    "actual_mpe['hm'] = actual_mpe.hm.astype(float)\n",
    "\n",
    "actual_mpe['fuel'] = actual_mpe['fuel'].fillna(0)\n",
    "actual_mpe['fuel'] = actual_mpe['fuel'].apply(lambda x: ''.join(str(x).split(',')))\n",
    "actual_mpe.fuel.replace('-', 0, inplace=True)\n",
    "actual_mpe['fuel'] = actual_mpe.fuel.astype(float)\n",
    "\n",
    "actual_mpe.tonase.fillna(0, inplace=True)\n",
    "actual_mpe['tonase'] = actual_mpe['tonase'].apply(lambda x: ''.join(str(x).split(',')))\n",
    "actual_mpe.tonase.replace('-', 0, inplace=True)\n",
    "actual_mpe['tonase'] = actual_mpe.tonase.astype(float)\n",
    "\n",
    "actual_mpe.retase.fillna(0, inplace=True)\n",
    "actual_mpe['retase'] = actual_mpe['retase'].apply(lambda x: ''.join(str(x).split(',')))\n",
    "actual_mpe.retase.replace('-', 0, inplace=True)\n",
    "actual_mpe['retase'] = actual_mpe.retase.astype(float)\n",
    "\n",
    "# transformasi data harga fuel dan total biaya fuel\n",
    "actual_mpe['price_fuel'] = fuel_price.price2.tolist()[-1]\n",
    "actual_mpe = actual_mpe[actual_mpe.fuel!=0]\n",
    "actual_mpe['fuel'] = actual_mpe.fuel * actual_mpe.price_fuel\n",
    "actual_mpe.drop(columns=['price_fuel','equipment_mpe','company','Unnamed: 3'], inplace=True)\n",
    "\n",
    "# kondisi untuk Mining BDM fuel ditanggung Owner\n",
    "actual_mpe['fuel'] = actual_mpe.apply(lambda x: 0 if x.kontrak == 'Mining BDM' else x.fuel, axis=1)"
   ]
  },
  {
   "cell_type": "code",
   "execution_count": null,
   "id": "9934d9d8-1131-4bcf-9bf1-d2f9f54da1ad",
   "metadata": {},
   "outputs": [],
   "source": []
  },
  {
   "cell_type": "code",
   "execution_count": 168,
   "id": "0e8ae73d-62fc-4d74-930d-b2bf694a09a7",
   "metadata": {},
   "outputs": [],
   "source": [
    "# read data aktual\n",
    "actual = ooc.copy()\n",
    "\n",
    "# filter menggunakan tanggal plan MPE\n",
    "actual = actual[actual.date.isin(plan_hm.date.unique().tolist())]\n",
    "\n",
    "# filter menggunakan Equipment Name yang ada pada MPE\n",
    "actual = actual[actual.name.isin(actual_mpe.name.unique().tolist())]\n",
    "\n",
    "# ambil semua Unit termasuk\n",
    "actual = actual[actual['project/name'].isin(['Mining KBM','Mining BDM'])]\n",
    "\n",
    "# buat kolom actual_cost, operarting_cost dan owning_cost\n",
    "# actual['actual_cost'] = actual.rm + actual.fuel + actual.tyre + actual.depresiasi + actual.insurance + actual.tax + actual.interest + actual.ovh\n",
    "# actual['operating_cost'] = actual.rm + actual.fuel + actual.tyre\n",
    "# actual['owning_cost'] = actual.depresiasi + actual.insurance + actual.tax + actual.interest + actual.ovh\n",
    "\n",
    "actual = actual.drop(columns = ['depresiasi','insurance','tax','interest','ovh'])\n",
    "\n",
    "# grouping data\n",
    "actual = actual.groupby(['date','project/name','production','equipment_name','name'])[['hm','km','jarak','rm','tyre']].sum().reset_index()\n",
    "\n",
    "# rename columns\n",
    "actual = actual.rename(columns={\n",
    "    'produksi':'actual_produksi',\n",
    "    'hm':'actual_hm',\n",
    "    'project/name':'kontrak'\n",
    "})\n",
    "\n",
    "# buat fungsi untuk klasifikasi production antara Aktual terhadap data MPE\n",
    "def transform_production(x):\n",
    "    if x in ['Stripping Overburden']:\n",
    "        msg = 'Overburden'\n",
    "    elif x in ['Hauling Ore','Ore Getting']:\n",
    "        msg = 'Ore Mined'\n",
    "    elif x in ['Quarry Mined']:\n",
    "        msg = 'Quarry'\n",
    "    return msg\n",
    "\n",
    "actual = actual[actual.production.isin(['Stripping Overburden','Hauling Ore','Ore Getting','Quarry Mined'])]\n",
    "actual['production'] = actual.production.apply(transform_production)\n",
    "\n",
    "actual['date'] = actual['date'].apply(lambda x: str(x).split()[0])\n",
    "class_date['date'] = class_date['date'].apply(lambda x: str(x).split()[0])\n",
    "\n",
    "actual = actual.merge(class_date[['date','period']], on='date', how='left')\n",
    "actual = actual.groupby(['period','kontrak','production','equipment_name','name'])[['actual_hm','km','jarak','rm','tyre']].sum().reset_index()\n",
    "\n",
    "# merge\n",
    "actual['id'] = actual.period + '#' + actual.kontrak + '#' + actual.production + '#' + actual.equipment_name + '#' + actual.name\n",
    "actual_mpe['id'] = actual_mpe.period + '#' + actual_mpe.kontrak + '#' + actual_mpe.production + '#' + actual_mpe.equipment_name + '#' + actual_mpe.name\n",
    "\n",
    "actual = actual_mpe[['id','hm','fuel','tonase','retase']].merge(actual[['id','actual_hm','rm','tyre','km','jarak']], on='id', how='left')\n",
    "actual['period'] = actual['id'].apply(lambda x: str(x).split('#')[0])\n",
    "actual['kontrak'] = actual['id'].apply(lambda x: str(x).split('#')[1])\n",
    "actual['production'] = actual['id'].apply(lambda x: str(x).split('#')[2])\n",
    "actual['equipment_name'] = actual['id'].apply(lambda x: str(x).split('#')[3])\n",
    "actual['name'] = actual['id'].apply(lambda x: str(x).split('#')[4])\n",
    "\n",
    "actual.drop(columns=['id'], inplace=True)\n",
    "\n",
    "actual = actual[['period','kontrak','production','equipment_name','name','hm','km','jarak','actual_hm','tonase','retase','rm','fuel','tyre',]]\n",
    "actual['tonase'].fillna(0, inplace=True)\n",
    "actual['retase'].fillna(0, inplace=True)\n",
    "actual['fuel'].fillna(0, inplace=True)\n",
    "\n",
    "# buat fungsi untuk inputkan hm mpe dengan hm node3 jika hm mpe nol\n",
    "def replace_hm_condition(x, y):\n",
    "    if x == 0:\n",
    "        msg = y\n",
    "    else:\n",
    "        msg = x\n",
    "    return msg\n",
    "\n",
    "actual['hm'] = actual.apply(lambda x: replace_hm_condition(x.hm, x.actual_hm), axis=1)\n",
    "actual.drop(columns='actual_hm', inplace=True)\n",
    "\n",
    "actual = actual.merge(cc5[['equipment_name','depresiasi/hm','insurance/hm','interest/hm','ovh/hm','tax/hm']], on='equipment_name', how='left')\n",
    "actual['depresiasi'] = actual.hm * actual['depresiasi/hm']\n",
    "actual['insurance'] = actual.hm * actual['insurance/hm']\n",
    "actual['interest'] = actual.hm * actual['interest/hm']\n",
    "actual['tax'] = actual.hm * actual['tax/hm']\n",
    "actual.drop(columns = ['depresiasi/hm','insurance/hm','interest/hm','ovh/hm','tax/hm'], inplace=True)\n",
    "\n",
    "# buat kolom gaji tambahan\n",
    "actual = actual.merge(rate_emp[['multiplication_type','equipment_name','rate']], on='equipment_name', how='left')\n",
    "actual['gaji_tambahan'] = actual.apply(lambda x: x.tonase * x.rate if x.multiplication_type == 'Tonase' else x.hm * x.rate, axis=1)\n",
    "actual.fillna(0, inplace=True)\n",
    "\n",
    "count_day_per_week = class_date.groupby(['period'])[['date']].count().reset_index().rename(columns={'date':'count_day'})\n",
    "actual = actual.merge(count_day_per_week[['period','count_day']], on='period', how='left')\n",
    "\n",
    "# buat id untuk actual\n",
    "actual['id'] = actual.period + '#' + actual.kontrak\n",
    "\n",
    "# buat id untuk actual\n",
    "actual['id2'] = actual.kontrak + '#' + actual.name\n",
    "\n",
    "_ = []\n",
    "for i in actual.id.unique().tolist():\n",
    "    data = actual[actual.id == i]\n",
    "    data['p_hm'] = data.hm / data.hm.sum()\n",
    "    _.append(data)\n",
    "\n",
    "actual = pd.concat(_)"
   ]
  },
  {
   "cell_type": "code",
   "execution_count": null,
   "id": "82027358-6ac3-4c09-a50a-cc2574bf2313",
   "metadata": {},
   "outputs": [],
   "source": []
  },
  {
   "cell_type": "code",
   "execution_count": 169,
   "id": "9fef7936-ec2b-46fe-935d-96aad3a0bba2",
   "metadata": {},
   "outputs": [],
   "source": [
    "gaji_bulan = actual[['period','kontrak','equipment_name','name']]\n",
    "gaji_bulan['month'] = gaji_bulan.period.apply(lambda x: str(x).split()[-1])\n",
    "gaji_bulan = gaji_bulan[['month','kontrak','equipment_name','name']].drop_duplicates()\n",
    "gaji_bulan = gaji_bulan.merge(ovh_pokok[['name','gaji_pokok']], on='name', how='left')\n",
    "gaji_bulan = gaji_bulan.merge(date[['month','count_day']].drop_duplicates(), on='month', how='left')\n",
    "gaji_bulan['gaji_pokok_harian'] = gaji_bulan.gaji_pokok / gaji_bulan.count_day\n",
    "\n",
    "# buat id\n",
    "gaji_bulan['id2'] = gaji_bulan.kontrak + '#' + gaji_bulan.name\n",
    "\n",
    "# merge dengan data actual\n",
    "gaji_bulan2 = actual[['period','kontrak','name','id2','count_day']].drop_duplicates()\n",
    "gaji_bulan2 = gaji_bulan2.merge(gaji_bulan[['id2','gaji_pokok_harian']].drop_duplicates(), on='id2', how='left')\n",
    "gaji_bulan2['gaji_pokok'] = gaji_bulan2.gaji_pokok_harian * gaji_bulan2.count_day\n",
    "gaji_bulan2 = gaji_bulan2.groupby(['period','kontrak'])[['gaji_pokok']].sum().reset_index()\n",
    "\n",
    "gaji_bulan2['id'] = gaji_bulan2.period + '#' + gaji_bulan2.kontrak"
   ]
  },
  {
   "cell_type": "code",
   "execution_count": null,
   "id": "34673f70-eecb-4440-9505-59dd04e33dac",
   "metadata": {},
   "outputs": [],
   "source": []
  },
  {
   "cell_type": "code",
   "execution_count": 170,
   "id": "1e81a248-62e0-4d44-9e50-b4b82c0f5157",
   "metadata": {},
   "outputs": [],
   "source": [
    "biaya_makan = actual[['period','kontrak','name']].drop_duplicates()\n",
    "biaya_makan = biaya_makan.groupby(['period','kontrak'])[['name']].count().reset_index().rename(columns={'name':'count_unit'})\n",
    "biaya_makan['harga_makanan'] = 12500\n",
    "biaya_makan['jumlah_makan_perhari'] = 3\n",
    "biaya_makan['biaya_makan'] = biaya_makan.count_unit * biaya_makan.harga_makanan * biaya_makan.jumlah_makan_perhari\n",
    "biaya_makan['id'] = biaya_makan.period + '#' + biaya_makan.kontrak"
   ]
  },
  {
   "cell_type": "code",
   "execution_count": null,
   "id": "f38a3f6e-528c-495f-8bbe-669e41df7fa1",
   "metadata": {},
   "outputs": [],
   "source": []
  },
  {
   "cell_type": "code",
   "execution_count": 171,
   "id": "c594955f-8084-48ec-83ff-341ac20a1976",
   "metadata": {},
   "outputs": [],
   "source": [
    "actual = actual.merge(gaji_bulan2[['id','gaji_pokok']].drop_duplicates(), on='id', how='left')\n",
    "actual['gaji_pokok'] = actual['gaji_pokok'] * actual['p_hm']\n",
    "\n",
    "actual = actual.merge(biaya_makan[['id','biaya_makan']].drop_duplicates(), on='id', how='left')\n",
    "actual['biaya_makan'] = actual['biaya_makan'] * actual['p_hm']\n",
    "\n",
    "actual = actual.drop(columns=['id','id2','p_hm','count_day'])"
   ]
  },
  {
   "cell_type": "code",
   "execution_count": null,
   "id": "0f7cedb6-50df-4cbf-81b6-9a59e6820cae",
   "metadata": {},
   "outputs": [],
   "source": []
  },
  {
   "cell_type": "code",
   "execution_count": 172,
   "id": "f2368ba1-a498-4a1e-bfec-3d40ca47fd9f",
   "metadata": {},
   "outputs": [],
   "source": [
    "actual['ovh'] = actual.gaji_tambahan + actual.gaji_pokok + actual.biaya_makan"
   ]
  },
  {
   "cell_type": "code",
   "execution_count": null,
   "id": "b52194c5-a4d4-4d0a-acb1-e7eeba435685",
   "metadata": {},
   "outputs": [],
   "source": []
  },
  {
   "cell_type": "code",
   "execution_count": 173,
   "id": "11527519-703f-4abd-a2bf-3e64bd891386",
   "metadata": {},
   "outputs": [],
   "source": [
    "a = plan_hm.copy()\n",
    "a = a.groupby(['period','kontrak','production','equipment_name'])[['alokasi','plan_produksi','plan_hm','plan_fuel','budget_cost']].sum().reset_index()\n",
    "a['id'] = a.period + '#' + a.equipment_name + '#' + a.production + '#' + a.kontrak\n",
    "\n",
    "b = actual.copy()\n",
    "b = b.groupby(['period','kontrak','production','equipment_name'])[['hm','km','jarak','tonase','retase','rm','fuel','tyre','depresiasi','insurance','tax','interest','ovh']].sum().reset_index()\n",
    "b['id'] = b.period + '#' + b.equipment_name + '#' + b.production + '#' + b.kontrak\n",
    "\n",
    "evaluasi1 = a[['id','plan_produksi','plan_hm','plan_fuel','budget_cost']].merge(b[['id','hm','km','jarak','tonase','retase','rm','fuel',\n",
    "                                                                                  'tyre','depresiasi','insurance','tax','interest','ovh']], on='id', how='outer')\n",
    "\n",
    "evaluasi1.fillna(0, inplace=True)\n",
    "evaluasi1['period'] = evaluasi1.id.apply(lambda x: str(x).split('#')[0])\n",
    "evaluasi1['equipment_name'] = evaluasi1.id.apply(lambda x: str(x).split('#')[1])\n",
    "evaluasi1['production'] = evaluasi1.id.apply(lambda x: str(x).split('#')[2])\n",
    "evaluasi1['kontrak'] = evaluasi1.id.apply(lambda x: str(x).split('#')[-1])\n",
    "evaluasi1.drop(columns='id', inplace=True)\n",
    "\n",
    "# klasifikasi jenis biaya\n",
    "evaluasi1['actual_cost'] = evaluasi1.fuel + evaluasi1.rm + evaluasi1.tyre + evaluasi1.depresiasi + evaluasi1.insurance + evaluasi1.tax + evaluasi1.interest + evaluasi1.ovh\n",
    "evaluasi1['operating_cost'] = evaluasi1.fuel + evaluasi1.rm + evaluasi1.tyre\n",
    "evaluasi1['owning_cost'] = evaluasi1.depresiasi + evaluasi1.insurance + evaluasi1.tax + evaluasi1.interest + evaluasi1.ovh\n",
    "\n",
    "evaluasi1 = evaluasi1[['period','kontrak','production','equipment_name','plan_hm','hm','km','jarak','retase','plan_produksi','tonase','plan_fuel','fuel','rm','tyre','depresiasi','insurance','tax',\n",
    "                       'interest','ovh','actual_cost','budget_cost','operating_cost','owning_cost']]\n",
    "\n",
    "evaluasi1.production.replace('Quarry','Overburden', inplace=True)"
   ]
  },
  {
   "cell_type": "code",
   "execution_count": null,
   "id": "c1a28a09-eebd-4869-9a56-8a09afc5d609",
   "metadata": {},
   "outputs": [],
   "source": []
  },
  {
   "cell_type": "code",
   "execution_count": 174,
   "id": "d132e7ac-7c94-4c26-ac94-ba8eb9f45d32",
   "metadata": {},
   "outputs": [],
   "source": [
    "# siapkan nilai standar ratio menggunakan rata-rata\n",
    "rata_ratio = ooc.copy()\n",
    "rata_ratio['my'] = pd.to_datetime(rata_ratio.date).dt.strftime('%m/%y')\n",
    "# rata_ratio = rata_ratio[rata_ratio.production!='-']\n",
    "\n",
    "# rata_ratio = rata_ratio.groupby(['my','category_equipment','equipment_name'])[['hm','jarak','produksi','rm','fuel','tyre']].sum().reset_index()\n",
    "rata_ratio = rata_ratio.groupby(['equipment_name'])[['hm','jarak','produksi','rm','fuel','tyre']].sum().reset_index()\n",
    "\n",
    "# rata_ratio = rata_ratio[rata_ratio.category_equipment.isin(['DUMP TRUCK','HEAVY EQUIPMENT'])]\n",
    "\n",
    "penyebut = ['hm','jarak','produksi']\n",
    "pembilang = ['rm','fuel','tyre']\n",
    "\n",
    "ratio_cols = []\n",
    "for i in penyebut:\n",
    "    for j in pembilang:\n",
    "        \n",
    "        if i == 'jarak':\n",
    "            name_cols = 'ratio (%s/%s) avg'%(j, 'km')\n",
    "        else:\n",
    "            name_cols = 'ratio (%s/%s) avg'%(j, i)\n",
    "        \n",
    "        rata_ratio[name_cols] = rata_ratio[j] / rata_ratio[i]\n",
    "        ratio_cols.append(name_cols)\n",
    "\n",
    "rata_ratio.fillna(0, inplace=True)\n",
    "rata_ratio.replace(np.inf, 0, inplace=True)\n",
    "rata_ratio = rata_ratio[['equipment_name'] + ratio_cols]"
   ]
  },
  {
   "cell_type": "code",
   "execution_count": null,
   "id": "b320e365-1486-438f-91f7-d407fea710cc",
   "metadata": {},
   "outputs": [],
   "source": []
  },
  {
   "cell_type": "code",
   "execution_count": 175,
   "id": "fdff9f34-8160-4367-ba48-1919f28a5d3e",
   "metadata": {},
   "outputs": [],
   "source": [
    "def get_nilai_tolerant(values):\n",
    "    mean = np.median(values)\n",
    "    std = np.std(values)\n",
    "    msg = mean + (mean * 0.25)\n",
    "    return msg\n",
    "\n",
    "rata_ratio_ = []\n",
    "for i in rata_ratio.equipment_name.unique():\n",
    "    n = rata_ratio[rata_ratio.equipment_name==i][['equipment_name'] + ratio_cols]\n",
    "    m = n.head(1)\n",
    "    \n",
    "    _ = []\n",
    "    for j in ratio_cols:\n",
    "        m[j] = get_nilai_tolerant(n[j])\n",
    "\n",
    "    rata_ratio_.append(m)\n",
    "\n",
    "rata_ratio = pd.concat(rata_ratio_)"
   ]
  },
  {
   "cell_type": "code",
   "execution_count": null,
   "id": "f9cc2510-d786-4290-8955-4bf41cab18d4",
   "metadata": {},
   "outputs": [],
   "source": []
  },
  {
   "cell_type": "code",
   "execution_count": 176,
   "id": "c1ff638c-9d76-41cd-99c8-797966e698bb",
   "metadata": {},
   "outputs": [],
   "source": [
    "# merge data rata-rata ratio dengan evaluasi1\n",
    "evaluasi1 = evaluasi1.merge(rata_ratio, on='equipment_name', how='left')"
   ]
  },
  {
   "cell_type": "code",
   "execution_count": null,
   "id": "a6c80035-90a1-4c4d-80c3-15c3e131031a",
   "metadata": {},
   "outputs": [],
   "source": []
  },
  {
   "cell_type": "code",
   "execution_count": 177,
   "id": "88e26ff4-e674-465b-be35-dc4571167beb",
   "metadata": {},
   "outputs": [],
   "source": [
    "evaluasi2 = evaluasi1.groupby(['period','kontrak','production'])[['plan_hm','hm','budget_cost','actual_cost','operating_cost','owning_cost','rm','plan_fuel','fuel','tyre',\n",
    "                                                                  'depresiasi','insurance','interest','tax','ovh','tonase']].sum().reset_index()\n",
    "evaluasi2['id'] = evaluasi2.period + '#' + evaluasi2.production + '#' + evaluasi2.kontrak\n",
    "\n",
    "a = plan_production.copy()\n",
    "a = a.groupby(['period','kontrak','production'])[['plan_produksi','actual_produksi']].sum().reset_index()\n",
    "a['id'] = a.period + '#' + a.production + '#' + a.kontrak\n",
    "\n",
    "evaluasi2 = a[['id','plan_produksi','actual_produksi']].merge(evaluasi2[['id','plan_hm','hm','budget_cost','actual_cost','operating_cost','owning_cost','rm','plan_fuel','fuel','tyre',\n",
    "                                                       'depresiasi','insurance','interest','tax','ovh']], on='id', how='outer')\n",
    "evaluasi2 = evaluasi2.rename(columns={'plan_produksi':'plan_tonase'})\n",
    "\n",
    "evaluasi2.fillna(0, inplace=True)\n",
    "evaluasi2['period'] = evaluasi2['id'].apply(lambda x: str(x).split('#')[0])\n",
    "evaluasi2['production'] = evaluasi2['id'].apply(lambda x: str(x).split('#')[1])\n",
    "evaluasi2['kontrak'] = evaluasi2['id'].apply(lambda x: str(x).split('#')[2])\n",
    "evaluasi2.drop(columns='id', inplace=True)\n",
    "\n",
    "evaluasi2 = evaluasi2.rename(columns={'actual_produksi':'tonase'})\n",
    "\n",
    "evaluasi2 = evaluasi2[['period','kontrak','production','plan_tonase','tonase','plan_hm','hm','budget_cost','actual_cost','operating_cost',\n",
    "           'owning_cost','plan_fuel','fuel','rm','tyre','depresiasi','insurance','interest','tax','ovh']]\n",
    "\n",
    "evaluasi2['tonase'] = evaluasi2.apply(lambda x: 0 if x.production == 'Quarry' else x.tonase, axis=1)\n",
    "evaluasi2['plan_tonase'] = evaluasi2.apply(lambda x: 0 if x.production == 'Quarry' else x.plan_tonase, axis=1)\n",
    "\n",
    "evaluasi2.production.replace('Quarry','Overburden', inplace=True)"
   ]
  },
  {
   "cell_type": "code",
   "execution_count": null,
   "id": "5d2225f0-62da-4c93-91aa-ec85e73e4c06",
   "metadata": {},
   "outputs": [],
   "source": []
  },
  {
   "cell_type": "code",
   "execution_count": 178,
   "id": "3b5dd4b0-1418-47be-90d3-e84787cae2b7",
   "metadata": {},
   "outputs": [],
   "source": [
    "evaluasi3 = evaluasi1.copy()[['period','kontrak','production','equipment_name','owning_cost','operating_cost']]\n",
    "_ = []\n",
    "for i in ['owning_cost','operating_cost']:\n",
    "    n = evaluasi3.copy()\n",
    "    n = n[['period','kontrak','production','equipment_name',i]].rename(columns={i:'values'})\n",
    "    n['status'] = i\n",
    "    _.append(n)\n",
    "\n",
    "evaluasi3 = pd.concat(_)"
   ]
  },
  {
   "cell_type": "code",
   "execution_count": null,
   "id": "869ccfc6-7039-46fe-9ef6-79478a20c9cb",
   "metadata": {},
   "outputs": [],
   "source": []
  },
  {
   "cell_type": "code",
   "execution_count": 179,
   "id": "0e833ff0-10fd-45f9-8c35-f1f3fc86025d",
   "metadata": {},
   "outputs": [],
   "source": [
    "evaluasi3['profit_margin'] = 0.3"
   ]
  },
  {
   "cell_type": "code",
   "execution_count": null,
   "id": "b19b5bcf-7252-4678-b685-cd50b59de60a",
   "metadata": {},
   "outputs": [],
   "source": []
  },
  {
   "cell_type": "code",
   "execution_count": 180,
   "id": "77408fbd-84b4-4000-a782-eb61234ca0b3",
   "metadata": {},
   "outputs": [],
   "source": [
    "_ = []\n",
    "for i in evaluasi3.kontrak:\n",
    "    for j in evaluasi3.period:\n",
    "        data = evaluasi3[(evaluasi3.kontrak==i)&(evaluasi3.period==j)]\n",
    "        produksi = evaluasi2[(evaluasi2.kontrak==i)&(evaluasi2.period==j)]\n",
    "\n",
    "        plan_ob = produksi[produksi.production=='Overburden']['plan_tonase'].unique().tolist()[0]\n",
    "        plan_ore = produksi[produksi.production=='Ore Mined']['plan_tonase'].unique().tolist()[0]\n",
    "\n",
    "        actual_ob = produksi[produksi.production=='Overburden']['tonase'].unique().tolist()[0]\n",
    "        actual_ore = produksi[produksi.production=='Ore Mined']['tonase'].unique().tolist()[0]\n",
    "\n",
    "        data['plan_ob'] = plan_ob\n",
    "        data['actual_ob'] = actual_ob\n",
    "        data['plan_ore'] = plan_ore\n",
    "        data['actual_ore'] = actual_ore\n",
    "        break"
   ]
  },
  {
   "cell_type": "code",
   "execution_count": null,
   "id": "dd6f7815-8387-4aa2-b431-3e4590044134",
   "metadata": {},
   "outputs": [],
   "source": []
  },
  {
   "cell_type": "code",
   "execution_count": 181,
   "id": "f9a10daa-b7a0-49ff-8174-d5c5e41c94d4",
   "metadata": {},
   "outputs": [],
   "source": [
    "cost = data[data.status=='operating_cost']['values'].sum()\n",
    "\n",
    "act_ore = data['actual_ore'].unique().tolist()[0]\n",
    "pln_ore = data['plan_ore'].unique().tolist()[0]\n",
    "\n",
    "# Parameter Omset\n",
    "pm = data['profit_margin'].unique().tolist()[0]\n",
    "rate = 0.13\n",
    "jarak = 25\n",
    "kurs = 16000\n",
    "\n",
    "# Produksi Tonase agar Profit Margin 30%\n",
    "standar_ore = cost / ((1-pm)*(rate*jarak*kurs))"
   ]
  },
  {
   "cell_type": "code",
   "execution_count": 182,
   "id": "5f68613d-6c35-4eee-b225-08b9da7e5b30",
   "metadata": {},
   "outputs": [
    {
     "name": "stdout",
     "output_type": "stream",
     "text": [
      "1. Plan Ore : 14.876\n",
      "2. Actual Ore : 10.572\n",
      "3. Standar Ore with Profit Margin 30% : 14.258\n"
     ]
    }
   ],
   "source": [
    "print('1. Plan Ore :', rupiah(pln_ore).split(',')[0].split()[-1])\n",
    "print('2. Actual Ore :', rupiah(act_ore).split(',')[0].split()[-1])\n",
    "print('3. Standar Ore with Profit Margin 30% :', rupiah(standar_ore).split(',')[0].split()[-1])"
   ]
  },
  {
   "cell_type": "code",
   "execution_count": null,
   "id": "7df375c0-bf04-4cf2-aa2b-46fd2ed105fc",
   "metadata": {},
   "outputs": [],
   "source": []
  },
  {
   "cell_type": "code",
   "execution_count": 183,
   "id": "b84aee6d-8430-44a3-98bf-d19e7b0ab880",
   "metadata": {},
   "outputs": [],
   "source": [
    "__ = evaluasi1[evaluasi1.equipment_name.isin(['HINO ZY','HONGYAN KINKAN430','KOMATSU HM400'])]\n",
    "_ = []\n",
    "for i in __.period.unique():\n",
    "    for j in __.kontrak.unique():\n",
    "        for k in __.production.unique():\n",
    "            data = __[__.period == i]\n",
    "            data = data[data.kontrak == j]\n",
    "            data = data[data.production == k]\n",
    "            data = data.groupby(['period','kontrak','production','equipment_name'])[['plan_hm','hm','rm','tyre','fuel','depresiasi','insurance','tax','interest',\n",
    "                                                                                     'ovh','budget_cost','operating_cost','owning_cost']].sum().reset_index()\n",
    "            data['p_hm_actual'] = data.hm / data.hm.sum()\n",
    "            data['p_hm_plan'] = data.plan_hm / data.plan_hm.sum()\n",
    "            _.append(data)\n",
    "\n",
    "data = pd.concat(_)\n",
    "data['id'] = data.period + '#' + data.kontrak + '#' + data.production\n",
    "\n",
    "# tarik data merge\n",
    "_ = plan_production\n",
    "_['id'] = _.period + '#' + _.kontrak + '#' + _.production\n",
    "_ = _.groupby(['id'])[['plan_produksi','actual_produksi']].sum().reset_index()\n",
    "\n",
    "# merge data\n",
    "data = data.merge(_, on='id', how='left').fillna(0).drop(columns='id')\n",
    "data['plan_produksi'] = data.p_hm_plan * data.plan_produksi\n",
    "data['tonase'] = data.p_hm_actual * data.actual_produksi\n",
    "data = data.drop(columns=['p_hm_plan','p_hm_actual','actual_produksi'])\n",
    "evaluasi4 = data.copy()"
   ]
  },
  {
   "cell_type": "code",
   "execution_count": null,
   "id": "cbfdaa21-b6cf-4bdf-b86e-5a878cec435a",
   "metadata": {},
   "outputs": [],
   "source": []
  },
  {
   "cell_type": "code",
   "execution_count": 184,
   "id": "527e94b6-b2b9-4158-8fc5-0e5e5f958c07",
   "metadata": {},
   "outputs": [],
   "source": [
    "evaluasi1.to_excel('./Evaluasi Plan/W1 W2 Juli 2024 1.xlsx', index=False)\n",
    "evaluasi2.to_excel('./Evaluasi Plan/W1 W2 Juli 2024 2.xlsx', index=False)\n",
    "evaluasi3.to_excel('./Evaluasi Plan/W1 W2 Juli 2024 3.xlsx', index=False)\n",
    "evaluasi4.to_excel('./Evaluasi Plan/W1 W2 Juli 2024 4.xlsx', index=False)"
   ]
  },
  {
   "cell_type": "code",
   "execution_count": null,
   "id": "457c4ad9-6402-4eb1-9274-811412570b63",
   "metadata": {},
   "outputs": [],
   "source": []
  },
  {
   "cell_type": "code",
   "execution_count": null,
   "id": "f0eece49-bec9-4f00-b4f3-141f79dacd6a",
   "metadata": {},
   "outputs": [],
   "source": []
  },
  {
   "cell_type": "code",
   "execution_count": null,
   "id": "b7b48b38-eb55-48ec-9669-dc8fa142e3f3",
   "metadata": {},
   "outputs": [],
   "source": []
  },
  {
   "cell_type": "markdown",
   "id": "cbc8d6a5-35fb-436d-a9b7-4a49896537a9",
   "metadata": {
    "jp-MarkdownHeadingCollapsed": true
   },
   "source": [
    "# **EDA : Exploratory Data Analyst - 2**"
   ]
  },
  {
   "cell_type": "markdown",
   "id": "44745390-c797-4709-979a-ea683d4f1229",
   "metadata": {
    "jp-MarkdownHeadingCollapsed": true
   },
   "source": [
    "## Task 1 : Menentukan keputusan yang tepat saat penambahan 5 DT ke Kontrak KBM"
   ]
  },
  {
   "cell_type": "code",
   "execution_count": 186,
   "id": "17456ed5-2747-4945-a134-ca37dd55f8f5",
   "metadata": {},
   "outputs": [],
   "source": [
    "# siapkan data OOC untuk kedua Equipment yang akan dialokasikan\n",
    "ooc_t1 = cc5[cc5.equipment_name.isin(['HONGYAN KINKAN430','HINO ZY','HINO ZS'])]"
   ]
  },
  {
   "cell_type": "code",
   "execution_count": 187,
   "id": "9ddfe7a1-bc40-40b3-addd-d2a37ca1c51b",
   "metadata": {},
   "outputs": [],
   "source": [
    "# siapkan data actual pada Mining KBM untuk period bulan Juli 2024\n",
    "t1 = evaluasi1[evaluasi1.kontrak=='Mining KBM']\n",
    "t1 = t1.groupby(['kontrak','production','equipment_name'])[t1.select_dtypes('number').columns.tolist()].sum().reset_index()"
   ]
  },
  {
   "cell_type": "code",
   "execution_count": 188,
   "id": "c1d7967e-fe0a-4944-9866-33322afbb638",
   "metadata": {},
   "outputs": [],
   "source": [
    "# data plan mpe\n",
    "plan_t1 = plan_hm[plan_hm.kontrak=='Mining KBM'].groupby(['equipment_name'])[['plan_hm','plan_fuel','plan_retase','plan_produksi','budget_cost']].sum().reset_index()\n",
    "plan_t1 = plan_t1.merge(plan_hm[plan_hm.kontrak=='Mining KBM'][['equipment_name','alokasi']].drop_duplicates(), on='equipment_name', how='left')\n",
    "\n",
    "# # akumulasikan plan menjadi per unit dalam 1 bulan\n",
    "plan_t1['plan_hm'] = plan_t1.plan_hm / plan_t1.alokasi\n",
    "plan_t1['plan_fuel'] = plan_t1.plan_fuel / plan_t1.alokasi\n",
    "plan_t1['plan_retase'] = plan_t1.plan_retase / plan_t1.alokasi\n",
    "plan_t1['plan_produksi'] = plan_t1.plan_produksi / plan_t1.alokasi\n",
    "plan_t1['budget_cost'] = plan_t1.budget_cost / plan_t1.alokasi\n",
    "\n",
    "# ambil hanya equpment target\n",
    "plan_t1 = plan_t1[plan_t1.equipment_name.isin(['HONGYAN KINKAN430','HINO ZY'])]\n",
    "plan_t1 = plan_t1.drop(columns=['alokasi'])\n",
    "\n",
    "# ambil nilai ooc dari actual data terjadi di bulan juli 2024\n",
    "act_t1 = evaluasi1[(evaluasi1.equipment_name.isin(['HONGYAN KINKAN430','HINO ZY']))].groupby(['equipment_name'])[['hm','operating_cost','owning_cost']].sum().reset_index()\n",
    "act_t1['ooc'] = (act_t1.operating_cost + act_t1.owning_cost)/act_t1.hm\n",
    "\n",
    "# merger data\n",
    "plan_t1 = plan_t1.merge(act_t1[['equipment_name','ooc']], on='equipment_name', how='left')\n",
    "plan_t1['predict_cost'] = plan_t1.plan_hm * plan_t1.ooc"
   ]
  },
  {
   "cell_type": "code",
   "execution_count": null,
   "id": "e399490a-7dc1-4b92-b207-fb80cabfadf1",
   "metadata": {},
   "outputs": [],
   "source": []
  },
  {
   "cell_type": "code",
   "execution_count": 189,
   "id": "a09e3994-3dea-4b32-a9af-227b76914016",
   "metadata": {},
   "outputs": [],
   "source": [
    "# dapatkan nilai plan produksi untuk mining kbm dalam period bulan juli 2024\n",
    "plan_produksi_t1 = evaluasi2[(evaluasi2.kontrak=='Mining KBM') & (evaluasi2.production=='Ore Mined')].groupby(['production'])[['plan_tonase','tonase']].sum().reset_index()"
   ]
  },
  {
   "cell_type": "code",
   "execution_count": null,
   "id": "574d8d0a-33d2-4e42-a798-badb5f73e9ff",
   "metadata": {},
   "outputs": [],
   "source": []
  },
  {
   "cell_type": "code",
   "execution_count": 190,
   "id": "30985cd0-569a-4068-973d-23d56ebb908f",
   "metadata": {},
   "outputs": [],
   "source": [
    "cost = t1.actual_cost.sum()\n",
    "produksi = plan_produksi_t1.tonase.sum()\n",
    "\n",
    "kurs = 14848\n",
    "rate = 10.5\n",
    "\n",
    "income = produksi * kurs * rate\n",
    "profit = income - cost\n",
    "\n",
    "pm  = np.round(profit / income, 3)"
   ]
  },
  {
   "cell_type": "code",
   "execution_count": 191,
   "id": "664bd6a5-bc01-497f-98ab-4b04787a3668",
   "metadata": {},
   "outputs": [
    {
     "name": "stdout",
     "output_type": "stream",
     "text": [
      "1. Actual Cost : Rp 11.962.501.075\n",
      "2. Actual Produksi : 94.399\n",
      "3. Income : Rp 14.717.298.624\n",
      "4. Profit : Rp 2.754.797.548\n",
      "5. Profit Margin : 0.187\n"
     ]
    }
   ],
   "source": [
    "print('1. Actual Cost :', rupiah(cost).split(',')[0])\n",
    "print('2. Actual Produksi :', rupiah(produksi).split(',')[0].split()[-1])\n",
    "print('3. Income :', rupiah(income).split(',')[0])\n",
    "print('4. Profit :', rupiah(profit).split(',')[0])\n",
    "print('5. Profit Margin :', pm)"
   ]
  },
  {
   "cell_type": "code",
   "execution_count": null,
   "id": "5e5e8415-b33c-473e-8a14-d3c2b65840e9",
   "metadata": {},
   "outputs": [],
   "source": []
  },
  {
   "cell_type": "code",
   "execution_count": 192,
   "id": "7d898a79-81e8-4726-bf26-bb648dae735e",
   "metadata": {},
   "outputs": [],
   "source": [
    "plan_t1['plan_hm'] = 157.4676\n",
    "plan_t1['ton/hm'] = [21,28]\n",
    "plan_t1['plan_produksi'] = plan_t1['ton/hm'] * plan_t1.plan_hm"
   ]
  },
  {
   "cell_type": "code",
   "execution_count": null,
   "id": "a5c5cbc5-af52-43b3-849a-180e63fb9412",
   "metadata": {},
   "outputs": [],
   "source": []
  },
  {
   "cell_type": "code",
   "execution_count": 193,
   "id": "6c586f6c-50d6-469f-be75-f888ec519dd0",
   "metadata": {},
   "outputs": [
    {
     "data": {
      "text/html": [
       "<div>\n",
       "<style scoped>\n",
       "    .dataframe tbody tr th:only-of-type {\n",
       "        vertical-align: middle;\n",
       "    }\n",
       "\n",
       "    .dataframe tbody tr th {\n",
       "        vertical-align: top;\n",
       "    }\n",
       "\n",
       "    .dataframe thead th {\n",
       "        text-align: right;\n",
       "    }\n",
       "</style>\n",
       "<table border=\"1\" class=\"dataframe\">\n",
       "  <thead>\n",
       "    <tr style=\"text-align: right;\">\n",
       "      <th></th>\n",
       "      <th>condition</th>\n",
       "      <th>cost</th>\n",
       "      <th>produksi</th>\n",
       "      <th>income</th>\n",
       "      <th>profit</th>\n",
       "      <th>pm</th>\n",
       "    </tr>\n",
       "  </thead>\n",
       "  <tbody>\n",
       "    <tr>\n",
       "      <th>0</th>\n",
       "      <td>5HY + 0ZY</td>\n",
       "      <td>1.254684e+10</td>\n",
       "      <td>116445.2140</td>\n",
       "      <td>1.815427e+10</td>\n",
       "      <td>5.607438e+09</td>\n",
       "      <td>0.308877</td>\n",
       "    </tr>\n",
       "    <tr>\n",
       "      <th>1</th>\n",
       "      <td>4HY + 1ZY</td>\n",
       "      <td>1.249542e+10</td>\n",
       "      <td>115342.9408</td>\n",
       "      <td>1.798243e+10</td>\n",
       "      <td>5.487008e+09</td>\n",
       "      <td>0.305132</td>\n",
       "    </tr>\n",
       "    <tr>\n",
       "      <th>2</th>\n",
       "      <td>3HY + 2ZY</td>\n",
       "      <td>1.244400e+10</td>\n",
       "      <td>114240.6676</td>\n",
       "      <td>1.781058e+10</td>\n",
       "      <td>5.366579e+09</td>\n",
       "      <td>0.301314</td>\n",
       "    </tr>\n",
       "    <tr>\n",
       "      <th>3</th>\n",
       "      <td>2HY + 3ZY</td>\n",
       "      <td>1.239258e+10</td>\n",
       "      <td>113138.3944</td>\n",
       "      <td>1.763873e+10</td>\n",
       "      <td>5.246149e+09</td>\n",
       "      <td>0.297422</td>\n",
       "    </tr>\n",
       "    <tr>\n",
       "      <th>4</th>\n",
       "      <td>1HY + 4ZY</td>\n",
       "      <td>1.234116e+10</td>\n",
       "      <td>112036.1212</td>\n",
       "      <td>1.746688e+10</td>\n",
       "      <td>5.125719e+09</td>\n",
       "      <td>0.293454</td>\n",
       "    </tr>\n",
       "    <tr>\n",
       "      <th>5</th>\n",
       "      <td>0HY + 5ZY</td>\n",
       "      <td>1.228974e+10</td>\n",
       "      <td>110933.8480</td>\n",
       "      <td>1.729503e+10</td>\n",
       "      <td>5.005290e+09</td>\n",
       "      <td>0.289406</td>\n",
       "    </tr>\n",
       "    <tr>\n",
       "      <th>6</th>\n",
       "      <td>0HY + 0ZY</td>\n",
       "      <td>1.182016e+10</td>\n",
       "      <td>94399.7500</td>\n",
       "      <td>1.471730e+10</td>\n",
       "      <td>2.897143e+09</td>\n",
       "      <td>0.196853</td>\n",
       "    </tr>\n",
       "  </tbody>\n",
       "</table>\n",
       "</div>"
      ],
      "text/plain": [
       "   condition          cost     produksi        income        profit        pm\n",
       "0  5HY + 0ZY  1.254684e+10  116445.2140  1.815427e+10  5.607438e+09  0.308877\n",
       "1  4HY + 1ZY  1.249542e+10  115342.9408  1.798243e+10  5.487008e+09  0.305132\n",
       "2  3HY + 2ZY  1.244400e+10  114240.6676  1.781058e+10  5.366579e+09  0.301314\n",
       "3  2HY + 3ZY  1.239258e+10  113138.3944  1.763873e+10  5.246149e+09  0.297422\n",
       "4  1HY + 4ZY  1.234116e+10  112036.1212  1.746688e+10  5.125719e+09  0.293454\n",
       "5  0HY + 5ZY  1.228974e+10  110933.8480  1.729503e+10  5.005290e+09  0.289406\n",
       "6  0HY + 0ZY  1.182016e+10   94399.7500  1.471730e+10  2.897143e+09  0.196853"
      ]
     },
     "execution_count": 193,
     "metadata": {},
     "output_type": "execute_result"
    }
   ],
   "source": [
    "# siapkan data simulasi\n",
    "data_simulasi = pd.DataFrame({\n",
    "    'HONGYAN KINKAN430':[5,4,3,2,1,0,0],\n",
    "    'HINO ZY':[0,1,2,3,4,5,0]\n",
    "})\n",
    "\n",
    "# buat perulangan\n",
    "_ = []\n",
    "for i in range(len(data_simulasi)):\n",
    "    data = data_simulasi[data_simulasi.index==i]\n",
    "\n",
    "    hy = data['HONGYAN KINKAN430'][i]\n",
    "    zy = data['HINO ZY'][i]\n",
    "    name = '%sHY + %sZY'%(hy, zy)\n",
    "\n",
    "    alokasi_n = [zy, hy]\n",
    "\n",
    "    x = plan_t1.copy()\n",
    "    x['alokasi'] = alokasi_n\n",
    "    x['plan_produksi'] = x['plan_produksi'] * x['alokasi']\n",
    "    \n",
    "    # x['budget_cost'] = x['budget_cost'] * x.alokasi\n",
    "    x['predict_cost'] = x['predict_cost'] * x['alokasi']\n",
    "\n",
    "    # definisikan untuk parameter sebelum ada ketambahan alat\n",
    "    cost = 11820155462.507866\n",
    "    produksi = 94399.75\n",
    "    kurs = 14848\n",
    "    rate = 10.5\n",
    "    income = 14717298624.0\n",
    "    profit = 2897143161.492134\n",
    "    pm = 0.197\n",
    "\n",
    "    # olah data ketika terjadi penambahan alat\n",
    "    cost_a = x.predict_cost.sum() + cost\n",
    "    # cost_a = x.budget_cost.sum() + cost\n",
    "    \n",
    "    produksi_a = x.plan_produksi.sum() + produksi\n",
    "    income_a = (produksi_a * kurs * rate)\n",
    "    profit_a = income_a - cost_a\n",
    "    pm_a = profit_a / income_a\n",
    "\n",
    "    msg = pd.DataFrame({\n",
    "        'cost':[cost_a],\n",
    "        'produksi':[produksi_a], \n",
    "        'income':[income_a],\n",
    "        'profit':[profit_a],\n",
    "        'pm':[pm_a]\n",
    "    })\n",
    "\n",
    "    msg['condition'] = name\n",
    "    _.append(msg)\n",
    "\n",
    "report = pd.concat(_)[['condition','cost','produksi','income','profit','pm']]\n",
    "report.sort_values('pm', ascending=False).reset_index(drop=True).to_excel('Kondisi jika menambah DT pada lokasi KBM.xlsx', index=False)\n",
    "report = report.sort_values('pm', ascending=False).reset_index(drop=True)\n",
    "report"
   ]
  },
  {
   "cell_type": "code",
   "execution_count": 194,
   "id": "07a2d9bf-bba4-4bdf-8426-79e6305badc8",
   "metadata": {},
   "outputs": [],
   "source": [
    "a = report[report.index==6]"
   ]
  },
  {
   "cell_type": "code",
   "execution_count": null,
   "id": "34d6b3f7-9af7-4790-a6d8-991d07cd4fe0",
   "metadata": {},
   "outputs": [],
   "source": []
  },
  {
   "cell_type": "code",
   "execution_count": 195,
   "id": "d28aa523-8737-4e1b-9dfb-072e412821f6",
   "metadata": {},
   "outputs": [
    {
     "data": {
      "text/html": [
       "<div>\n",
       "<style scoped>\n",
       "    .dataframe tbody tr th:only-of-type {\n",
       "        vertical-align: middle;\n",
       "    }\n",
       "\n",
       "    .dataframe tbody tr th {\n",
       "        vertical-align: top;\n",
       "    }\n",
       "\n",
       "    .dataframe thead th {\n",
       "        text-align: right;\n",
       "    }\n",
       "</style>\n",
       "<table border=\"1\" class=\"dataframe\">\n",
       "  <thead>\n",
       "    <tr style=\"text-align: right;\">\n",
       "      <th></th>\n",
       "      <th>condition</th>\n",
       "      <th>cost</th>\n",
       "      <th>produksi</th>\n",
       "      <th>income</th>\n",
       "      <th>profit</th>\n",
       "      <th>pm</th>\n",
       "    </tr>\n",
       "  </thead>\n",
       "  <tbody>\n",
       "    <tr>\n",
       "      <th>0</th>\n",
       "      <td>0HY + 5ZY</td>\n",
       "      <td>1.240758e+10</td>\n",
       "      <td>110151.00</td>\n",
       "      <td>1.717298e+10</td>\n",
       "      <td>4.765404e+09</td>\n",
       "      <td>0.277494</td>\n",
       "    </tr>\n",
       "    <tr>\n",
       "      <th>1</th>\n",
       "      <td>1HY + 4ZY</td>\n",
       "      <td>1.245091e+10</td>\n",
       "      <td>110151.00</td>\n",
       "      <td>1.717298e+10</td>\n",
       "      <td>4.722076e+09</td>\n",
       "      <td>0.274971</td>\n",
       "    </tr>\n",
       "    <tr>\n",
       "      <th>2</th>\n",
       "      <td>2HY + 3ZY</td>\n",
       "      <td>1.249423e+10</td>\n",
       "      <td>110151.00</td>\n",
       "      <td>1.717298e+10</td>\n",
       "      <td>4.678748e+09</td>\n",
       "      <td>0.272448</td>\n",
       "    </tr>\n",
       "    <tr>\n",
       "      <th>3</th>\n",
       "      <td>3HY + 2ZY</td>\n",
       "      <td>1.253756e+10</td>\n",
       "      <td>110151.00</td>\n",
       "      <td>1.717298e+10</td>\n",
       "      <td>4.635420e+09</td>\n",
       "      <td>0.269925</td>\n",
       "    </tr>\n",
       "    <tr>\n",
       "      <th>4</th>\n",
       "      <td>4HY + 1ZY</td>\n",
       "      <td>1.258089e+10</td>\n",
       "      <td>110151.00</td>\n",
       "      <td>1.717298e+10</td>\n",
       "      <td>4.592093e+09</td>\n",
       "      <td>0.267402</td>\n",
       "    </tr>\n",
       "    <tr>\n",
       "      <th>5</th>\n",
       "      <td>5HY + 0ZY</td>\n",
       "      <td>1.262422e+10</td>\n",
       "      <td>110151.00</td>\n",
       "      <td>1.717298e+10</td>\n",
       "      <td>4.548765e+09</td>\n",
       "      <td>0.264879</td>\n",
       "    </tr>\n",
       "    <tr>\n",
       "      <th>6</th>\n",
       "      <td>0HY + 0ZY</td>\n",
       "      <td>1.182016e+10</td>\n",
       "      <td>94399.75</td>\n",
       "      <td>1.471730e+10</td>\n",
       "      <td>2.897143e+09</td>\n",
       "      <td>0.196853</td>\n",
       "    </tr>\n",
       "  </tbody>\n",
       "</table>\n",
       "</div>"
      ],
      "text/plain": [
       "   condition          cost   produksi        income        profit        pm\n",
       "0  0HY + 5ZY  1.240758e+10  110151.00  1.717298e+10  4.765404e+09  0.277494\n",
       "1  1HY + 4ZY  1.245091e+10  110151.00  1.717298e+10  4.722076e+09  0.274971\n",
       "2  2HY + 3ZY  1.249423e+10  110151.00  1.717298e+10  4.678748e+09  0.272448\n",
       "3  3HY + 2ZY  1.253756e+10  110151.00  1.717298e+10  4.635420e+09  0.269925\n",
       "4  4HY + 1ZY  1.258089e+10  110151.00  1.717298e+10  4.592093e+09  0.267402\n",
       "5  5HY + 0ZY  1.262422e+10  110151.00  1.717298e+10  4.548765e+09  0.264879\n",
       "6  0HY + 0ZY  1.182016e+10   94399.75  1.471730e+10  2.897143e+09  0.196853"
      ]
     },
     "execution_count": 195,
     "metadata": {},
     "output_type": "execute_result"
    }
   ],
   "source": [
    "# siapkan data simulasi\n",
    "data_simulasi = pd.DataFrame({\n",
    "    'HONGYAN KINKAN430':[5,4,3,2,1,0,0],\n",
    "    'HINO ZY':[0,1,2,3,4,5,0]\n",
    "})\n",
    "\n",
    "# buat perulangan\n",
    "_ = []\n",
    "for i in range(len(data_simulasi)):\n",
    "    data = data_simulasi[data_simulasi.index==i]\n",
    "\n",
    "    hy = data['HONGYAN KINKAN430'][i]\n",
    "    zy = data['HINO ZY'][i]\n",
    "    name = '%sHY + %sZY'%(hy, zy)\n",
    "\n",
    "    alokasi_n = [zy, hy]\n",
    "\n",
    "    x = plan_t1.copy()\n",
    "    x['alokasi'] = alokasi_n\n",
    "    x['plan_produksi'] = x['plan_produksi'] * x['alokasi']\n",
    "    \n",
    "    x['budget_cost'] = x['budget_cost'] * x.alokasi\n",
    "    # x['predict_cost'] = x['predict_cost'] * x['alokasi']\n",
    "\n",
    "    # definisikan untuk parameter sebelum ada ketambahan alat\n",
    "    cost = 11820155462.507866\n",
    "    produksi = 94399.75\n",
    "    kurs = 14848\n",
    "    rate = 10.5\n",
    "    income = 14717298624.0\n",
    "    profit = 2897143161.492134\n",
    "    pm = 0.197\n",
    "\n",
    "    # olah data ketika terjadi penambahan alat\n",
    "    # cost_a = x.predict_cost.sum() + cost\n",
    "    cost_a = x.budget_cost.sum() + cost\n",
    "    \n",
    "    produksi_a = 110151\n",
    "    income_a = (produksi_a * kurs * rate)\n",
    "    profit_a = income_a - cost_a\n",
    "    pm_a = profit_a / income_a\n",
    "\n",
    "    msg = pd.DataFrame({\n",
    "        'cost':[cost_a],\n",
    "        'produksi':[produksi_a], \n",
    "        'income':[income_a],\n",
    "        'profit':[profit_a],\n",
    "        'pm':[pm_a]\n",
    "    })\n",
    "\n",
    "    msg['condition'] = name\n",
    "    _.append(msg)\n",
    "\n",
    "report = pd.concat(_)[['condition','cost','produksi','income','profit','pm']]\n",
    "report = report[report.condition!='0HY + 0ZY']\n",
    "report = pd.concat([report, a])\n",
    "\n",
    "report.sort_values('pm', ascending=False).reset_index(drop=True).to_excel('Kondisi jika menambah DT pada lokasi KBM namun hanya bisa mendapatkan target produksi 110,151 Ton.xlsx', index=False)\n",
    "report  = report.sort_values('pm', ascending=False).reset_index(drop=True)\n",
    "report"
   ]
  },
  {
   "cell_type": "code",
   "execution_count": null,
   "id": "834a5a87-c205-4179-861c-d197366c3b0d",
   "metadata": {},
   "outputs": [],
   "source": []
  },
  {
   "cell_type": "code",
   "execution_count": null,
   "id": "b8a0e892-2ec9-4c96-86aa-33216ef213f2",
   "metadata": {},
   "outputs": [],
   "source": []
  },
  {
   "cell_type": "code",
   "execution_count": null,
   "id": "3bb4f8b2-6662-49cc-a941-6ee7c35e97b5",
   "metadata": {},
   "outputs": [],
   "source": []
  },
  {
   "cell_type": "code",
   "execution_count": null,
   "id": "bc7f4176-4541-46a9-b6c3-763943a18780",
   "metadata": {},
   "outputs": [],
   "source": []
  },
  {
   "cell_type": "code",
   "execution_count": null,
   "id": "0ae34087-9495-4dae-adec-80e6ce6e4618",
   "metadata": {},
   "outputs": [],
   "source": []
  },
  {
   "cell_type": "markdown",
   "id": "9278442c-9e56-4412-bea6-a3aef0e16358",
   "metadata": {
    "jp-MarkdownHeadingCollapsed": true
   },
   "source": [
    "## Task 2 :"
   ]
  },
  {
   "cell_type": "code",
   "execution_count": null,
   "id": "b0228f24-f0be-419d-9d92-9e402becc4f3",
   "metadata": {},
   "outputs": [],
   "source": []
  },
  {
   "cell_type": "markdown",
   "id": "a485e95b-da3b-428a-9dfc-82732df6d5c0",
   "metadata": {
    "jp-MarkdownHeadingCollapsed": true
   },
   "source": [
    "## Task 3 :"
   ]
  },
  {
   "cell_type": "code",
   "execution_count": null,
   "id": "fd48f2d6-8751-43d5-aa76-d6ea0390b09b",
   "metadata": {},
   "outputs": [],
   "source": []
  },
  {
   "cell_type": "markdown",
   "id": "b03c62f8-2650-461e-956f-9a6792223faa",
   "metadata": {
    "jp-MarkdownHeadingCollapsed": true
   },
   "source": [
    "## Task 4 :"
   ]
  },
  {
   "cell_type": "code",
   "execution_count": null,
   "id": "53e651cc-b16a-4638-9926-bdc9c0054578",
   "metadata": {},
   "outputs": [],
   "source": []
  },
  {
   "cell_type": "markdown",
   "id": "2694f837-4758-4fcf-a84e-7499d1fdba9a",
   "metadata": {
    "jp-MarkdownHeadingCollapsed": true
   },
   "source": [
    "## TASK 5 : DASHBOARD COST FUEL EFFICIENCY"
   ]
  },
  {
   "cell_type": "code",
   "execution_count": 196,
   "id": "abd76f33-afb7-4a98-8b26-31b0ec0eaf88",
   "metadata": {},
   "outputs": [],
   "source": [
    "# prepare date kpi\n",
    "task6 = kpi[['date','company','project/name','production','move_type','category_equipment',\n",
    "             'equipment_name','name','jam_produktivitas','retase','total_jarak_tempuh','produksi']].rename(columns={'jam_produktivitas':'hm','total_jarak_tempuh':'km'})\n",
    "task6['id'] = task6['date'] + '#' + task6['name']\n",
    "\n",
    "# prepare data ooc\n",
    "task6_ = ooc.copy()\n",
    "task6_['id'] = task6_['date'] + '#' + task6_['name']\n",
    "\n",
    "# merge data kpi dan ooc\n",
    "task6 = task6.merge(task6_[['id','rm','fuel','tyre']], on='id', how='left')\n",
    "\n",
    "# merge data dengan actual operasional per hm\n",
    "task6 = task6.merge(cc5[['equipment_name','rm/hm','fuel/hm','tyre/hm']], on='equipment_name', how='left')\n",
    "task6['max_rm'] = task6.hm * task6['rm/hm']\n",
    "task6['max_fuel'] = task6.hm * task6['fuel/hm']\n",
    "task6['max_tyre'] = task6.hm * task6['tyre/hm']\n",
    "\n",
    "# re-columns task6\n",
    "task6 = task6[['date','company','project/name','production','move_type','category_equipment','equipment_name','name','hm','rm','fuel','tyre','retase','km','produksi','max_rm','max_fuel','max_tyre']]\n",
    "task6 = task6.drop_duplicates(subset=['date','project/name','production','move_type','name'])\n",
    "task6.to_excel('./Report/fuel efficiency.xlsx', index=False)"
   ]
  },
  {
   "cell_type": "code",
   "execution_count": 197,
   "id": "3d82d63d-6edb-46d5-a9db-5af9a23f1d4b",
   "metadata": {},
   "outputs": [],
   "source": [
    "task6_1 = task6.groupby(['date','project/name'])[['max_fuel','fuel']].sum().reset_index()\n",
    "task6_1 = task6_1[task6_1['project/name'].isin(['Mining BDM','Mining KBM','Rental BDM'])]\n",
    "\n",
    "def in_out_control(max_fuel, fuel):\n",
    "    if (max_fuel - fuel) > 0:\n",
    "        msg = 'in Control'\n",
    "    else:\n",
    "        msg = 'out Control'\n",
    "    return msg\n",
    "\n",
    "task6_1['status'] = task6_1.apply(lambda x: in_out_control(x.max_fuel, x.fuel), axis=1)\n",
    "task6_1.to_excel('./Report/fuel efficiency 2.xlsx', index=False)"
   ]
  },
  {
   "cell_type": "markdown",
   "id": "1e400990-286d-4474-8e72-4191b7ed2c7a",
   "metadata": {
    "jp-MarkdownHeadingCollapsed": true
   },
   "source": [
    "## TASK 6 :"
   ]
  },
  {
   "cell_type": "code",
   "execution_count": null,
   "id": "841120bf-8846-4d95-aa96-568197e1488e",
   "metadata": {},
   "outputs": [],
   "source": []
  },
  {
   "cell_type": "code",
   "execution_count": null,
   "id": "41ad9e87-507e-4318-bb35-96c634a565f3",
   "metadata": {},
   "outputs": [],
   "source": []
  },
  {
   "cell_type": "code",
   "execution_count": null,
   "id": "390b33cc-ea28-4053-aec8-e1d96bcf6887",
   "metadata": {},
   "outputs": [],
   "source": []
  },
  {
   "cell_type": "markdown",
   "id": "8257311f-c119-4cb6-9d82-cd67140b458d",
   "metadata": {
    "jp-MarkdownHeadingCollapsed": true
   },
   "source": [
    "## TASK 7 : CLEANING AND TRANSFORMING DATA TASK 2 : BEP SA & APP"
   ]
  },
  {
   "cell_type": "code",
   "execution_count": 198,
   "id": "4b912800-7d70-4093-a555-eaddd3ee342d",
   "metadata": {},
   "outputs": [],
   "source": [
    "c = pd.read_excel('Rekap Ban , Oli dan Grease SA APP 2019-2023.xlsx', sheet_name='REKAP GLOBAL')\n",
    "c = c[2:]\n",
    "c = c[['TAHUN ','Unnamed: 1','Unnamed: 2','Unnamed: 3','Unnamed: 4','Unnamed: 5','Unnamed: 6','Unnamed: 7','Unnamed: 8','Unnamed: 9','Unnamed: 10','Unnamed: 11','Unnamed: 12',\n",
    "       'Unnamed: 13','Unnamed: 14','Unnamed: 15','Unnamed: 16','Unnamed: 17','Unnamed: 18','Unnamed: 19','Unnamed: 20','Unnamed: 21','Unnamed: 22','Unnamed: 23','Unnamed: 24',\n",
    "       'Unnamed: 25','Unnamed: 26','Unnamed: 27','Unnamed: 28','Unnamed: 29','Unnamed: 30','Unnamed: 31','Unnamed: 32','Unnamed: 33','Unnamed: 34','Unnamed: 35','Unnamed: 36']] \n",
    "\n",
    "# create column names\n",
    "cols = ['no','name','company','tyre_22','tyre_21','tyre_20','tyre_19','oil_23','grase_23','priceoil_23','pricegrease_23','totaloil_23','totalgrease_23'\n",
    "        ,'oil_22','grease_22','priceoil_22','pricegrease_22','totaloil_22','totalgrease_22',\n",
    "        'oil_21','grease_21','priceoil_21','pricegrease_21','totaloil_21','totalgrease_21',\n",
    "        'oil_20','grease_20','priceoil_20','pricegrease_20','totaloil_20','totalgrease_20',\n",
    "        'oil_19','grease_19','priceoil_19','pricegrease_19','totaloil_19','totalgrease_19']\n",
    "\n",
    "c.columns = cols\n",
    "drop_cols = ['tyre_22','tyre_21','tyre_20','tyre_19']\n",
    "c = c.drop(columns=drop_cols)\n",
    "c = c[c.name!='Total']\n",
    "\n",
    "# data transforming\n",
    "_ = []\n",
    "for i in ['oil','grease']:\n",
    "    if i == 'oil':\n",
    "        catMain = 'OLI'\n",
    "    else:\n",
    "        catMain = 'GREASE'\n",
    "\n",
    "    for j in np.arange(19, 22):\n",
    "        price = 'price' + i + '_' + str(j)\n",
    "        qty = i + '_' + str(j)\n",
    "        total = 'total' + i + '_' + str(j)\n",
    "        year = str(j)\n",
    "\n",
    "        data = c[['name','company',qty,price,total]]\n",
    "        data['year'] = int(year)\n",
    "        data['category_maintenance'] = catMain\n",
    "        data['year'] = int('20' + str(j))\n",
    "        data.columns = ['name','company','qty','price','cost','year','category_maintenance']\n",
    "        _.append(data)\n",
    "data1 = pd.concat(_)[['year','company','name','category_maintenance','qty','price','cost']]\n",
    "data1['name'] = data1.name.apply(lambda x: '-'.join(str(x).split()))\n",
    "\n",
    "# read data tyre\n",
    "b = pd.read_excel('Rekap Ban , Oli dan Grease SA APP 2019-2023.xlsx', sheet_name='REKAP GLOBAL BAN')\n",
    "b = b[2:]\n",
    "b = b[:-1]\n",
    "b.columns = ['name','company','qty_19','price_19','cost_19','qty_20','price_20','cost_20','qty_21','price_21','cost_21','qty_22','price_22','cost_22','qty_23','price_23','cost_23']\n",
    "\n",
    "# transformasi data tyre\n",
    "_ = []\n",
    "for i in np.arange(19, 23):\n",
    "    price = 'price_' + str(i)\n",
    "    qty = 'qty_' + str(i)\n",
    "    cost = 'cost_' + str(i)\n",
    "\n",
    "    data = b[['name','company',qty,price,cost]]\n",
    "    data['category_maintenance'] = 'TYRE'\n",
    "    data['year'] = int('20' + str(i))\n",
    "    data.columns = ['name','company','qty','price','cost','category_maintenance','year']\n",
    "    data = data[['year','company','name','category_maintenance','qty','price','cost']]\n",
    "    _.append(data)\n",
    "    \n",
    "data2 = pd.concat(_)\n",
    "data2['name'] = data2['name'].apply(lambda x: '-'.join(str(x).split()))\n",
    "\n",
    "# gabung data1 dan data2\n",
    "data = pd.concat([data1, data2])\n",
    "data.fillna(0, inplace=True)\n",
    "data = data[data.year <= 2023]"
   ]
  },
  {
   "cell_type": "code",
   "execution_count": 199,
   "id": "dc7af358-2ffe-41c4-a239-7be7e625b2c4",
   "metadata": {},
   "outputs": [
    {
     "data": {
      "text/plain": [
       "'Rp 55.623.282.923'"
      ]
     },
     "execution_count": 199,
     "metadata": {},
     "output_type": "execute_result"
    }
   ],
   "source": [
    "rupiah(data.groupby(['name','category_maintenance'])[['cost']].sum().sum()['cost']).split(',')[0]"
   ]
  },
  {
   "cell_type": "code",
   "execution_count": 200,
   "id": "5fdcca9f-d712-4e1b-bdd8-8ab29796cc6c",
   "metadata": {},
   "outputs": [
    {
     "data": {
      "text/html": [
       "<div>\n",
       "<style scoped>\n",
       "    .dataframe tbody tr th:only-of-type {\n",
       "        vertical-align: middle;\n",
       "    }\n",
       "\n",
       "    .dataframe tbody tr th {\n",
       "        vertical-align: top;\n",
       "    }\n",
       "\n",
       "    .dataframe thead th {\n",
       "        text-align: right;\n",
       "    }\n",
       "</style>\n",
       "<table border=\"1\" class=\"dataframe\">\n",
       "  <thead>\n",
       "    <tr style=\"text-align: right;\">\n",
       "      <th></th>\n",
       "      <th>cost</th>\n",
       "    </tr>\n",
       "    <tr>\n",
       "      <th>category_maintenance</th>\n",
       "      <th></th>\n",
       "    </tr>\n",
       "  </thead>\n",
       "  <tbody>\n",
       "    <tr>\n",
       "      <th>GREASE</th>\n",
       "      <td>Rp 308.504.100</td>\n",
       "    </tr>\n",
       "    <tr>\n",
       "      <th>OLI</th>\n",
       "      <td>Rp 107.956.041</td>\n",
       "    </tr>\n",
       "    <tr>\n",
       "      <th>TYRE</th>\n",
       "      <td>Rp 55.206.822.782</td>\n",
       "    </tr>\n",
       "  </tbody>\n",
       "</table>\n",
       "</div>"
      ],
      "text/plain": [
       "                                   cost\n",
       "category_maintenance                   \n",
       "GREASE                   Rp 308.504.100\n",
       "OLI                      Rp 107.956.041\n",
       "TYRE                  Rp 55.206.822.782"
      ]
     },
     "execution_count": 200,
     "metadata": {},
     "output_type": "execute_result"
    }
   ],
   "source": [
    "n = data.groupby(['category_maintenance'])[['cost']].sum()\n",
    "n['cost'] = n['cost'].apply(lambda x: str(rupiah(x)).split(',')[0])\n",
    "n"
   ]
  },
  {
   "cell_type": "code",
   "execution_count": null,
   "id": "d060c004-7223-449e-89fa-d8544dd82644",
   "metadata": {},
   "outputs": [],
   "source": []
  },
  {
   "cell_type": "code",
   "execution_count": null,
   "id": "521fdf48-bad4-4962-8421-92487b955d46",
   "metadata": {},
   "outputs": [],
   "source": []
  },
  {
   "cell_type": "code",
   "execution_count": null,
   "id": "acb376b5-bc37-4d95-beb3-cefd09ddfa3a",
   "metadata": {},
   "outputs": [],
   "source": []
  }
 ],
 "metadata": {
  "kernelspec": {
   "display_name": "Python 3 (ipykernel)",
   "language": "python",
   "name": "python3"
  },
  "language_info": {
   "codemirror_mode": {
    "name": "ipython",
    "version": 3
   },
   "file_extension": ".py",
   "mimetype": "text/x-python",
   "name": "python",
   "nbconvert_exporter": "python",
   "pygments_lexer": "ipython3",
   "version": "3.11.0"
  }
 },
 "nbformat": 4,
 "nbformat_minor": 5
}
